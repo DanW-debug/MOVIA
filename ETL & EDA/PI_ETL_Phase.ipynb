{
  "cells": [
    {
      "attachments": {},
      "cell_type": "markdown",
      "metadata": {},
      "source": [
        "# ETL PHASE"
      ]
    },
    {
      "cell_type": "code",
      "execution_count": 1,
      "metadata": {
        "id": "2DUwKkKA9kTM"
      },
      "outputs": [
        {
          "name": "stderr",
          "output_type": "stream",
          "text": [
            "C:\\Users\\edmun\\AppData\\Local\\Temp\\ipykernel_10524\\3107245314.py:10: TqdmDeprecationWarning: This function will be removed in tqdm==5.0.0\n",
            "Please use `tqdm.notebook.tqdm` instead of `tqdm.tqdm_notebook`\n",
            "  tqdm_notebook().pandas()\n"
          ]
        },
        {
          "data": {
            "application/vnd.jupyter.widget-view+json": {
              "model_id": "7cefb10a770842879a1388d88a56553a",
              "version_major": 2,
              "version_minor": 0
            },
            "text/plain": [
              "0it [00:00, ?it/s]"
            ]
          },
          "metadata": {},
          "output_type": "display_data"
        }
      ],
      "source": [
        "# Importing libraries\n",
        "import numpy as np\n",
        "import pandas as pd\n",
        "import seaborn as sns\n",
        "import matplotlib.pyplot as plt\n",
        "import json \n",
        "from pandas import json_normalize\n",
        "import ast\n",
        "from tqdm import tqdm, tqdm_notebook\n",
        "tqdm_notebook().pandas()\n",
        "\n",
        "# Configuration setups\n",
        "pd.set_option('display.max_columns', None)\n",
        "#pd.set_option('display.max_rows', None)\n",
        "#pd.set_option('display.max_colwidth', None)"
      ]
    },
    {
      "cell_type": "code",
      "execution_count": 2,
      "metadata": {},
      "outputs": [],
      "source": [
        "# Loading raw dataset\n",
        "df_raw = pd.read_csv('../Repositorio_de_datos/movies_dataset.csv', low_memory=False, encoding='latin-1', sep=',')\n",
        "\n",
        "# Cloning raw dataset\n",
        "df_movies = df_raw"
      ]
    },
    {
      "cell_type": "code",
      "execution_count": 3,
      "metadata": {
        "colab": {
          "base_uri": "https://localhost:8080/",
          "height": 751
        },
        "id": "lneVTHg7-v8z",
        "outputId": "9e181587-cbbc-4f2c-ca8a-5316bd34f865"
      },
      "outputs": [
        {
          "data": {
            "text/html": [
              "<div>\n",
              "<style scoped>\n",
              "    .dataframe tbody tr th:only-of-type {\n",
              "        vertical-align: middle;\n",
              "    }\n",
              "\n",
              "    .dataframe tbody tr th {\n",
              "        vertical-align: top;\n",
              "    }\n",
              "\n",
              "    .dataframe thead th {\n",
              "        text-align: right;\n",
              "    }\n",
              "</style>\n",
              "<table border=\"1\" class=\"dataframe\">\n",
              "  <thead>\n",
              "    <tr style=\"text-align: right;\">\n",
              "      <th></th>\n",
              "      <th>adult</th>\n",
              "      <th>belongs_to_collection</th>\n",
              "      <th>budget</th>\n",
              "      <th>genres</th>\n",
              "      <th>homepage</th>\n",
              "      <th>id</th>\n",
              "      <th>imdb_id</th>\n",
              "      <th>original_language</th>\n",
              "      <th>original_title</th>\n",
              "      <th>overview</th>\n",
              "      <th>popularity</th>\n",
              "      <th>poster_path</th>\n",
              "      <th>production_companies</th>\n",
              "      <th>production_countries</th>\n",
              "      <th>release_date</th>\n",
              "      <th>revenue</th>\n",
              "      <th>runtime</th>\n",
              "      <th>spoken_languages</th>\n",
              "      <th>status</th>\n",
              "      <th>tagline</th>\n",
              "      <th>title</th>\n",
              "      <th>video</th>\n",
              "      <th>vote_average</th>\n",
              "      <th>vote_count</th>\n",
              "    </tr>\n",
              "  </thead>\n",
              "  <tbody>\n",
              "    <tr>\n",
              "      <th>0</th>\n",
              "      <td>False</td>\n",
              "      <td>{'id': 10194, 'name': 'Toy Story Collection', ...</td>\n",
              "      <td>30000000</td>\n",
              "      <td>[{'id': 16, 'name': 'Animation'}, {'id': 35, '...</td>\n",
              "      <td>http://toystory.disney.com/toy-story</td>\n",
              "      <td>862</td>\n",
              "      <td>tt0114709</td>\n",
              "      <td>en</td>\n",
              "      <td>Toy Story</td>\n",
              "      <td>Led by Woody, Andy's toys live happily in his ...</td>\n",
              "      <td>21.946943</td>\n",
              "      <td>/rhIRbceoE9lR4veEXuwCC2wARtG.jpg</td>\n",
              "      <td>[{'name': 'Pixar Animation Studios', 'id': 3}]</td>\n",
              "      <td>[{'iso_3166_1': 'US', 'name': 'United States o...</td>\n",
              "      <td>1995-10-30</td>\n",
              "      <td>373554033.0</td>\n",
              "      <td>81.0</td>\n",
              "      <td>[{'iso_639_1': 'en', 'name': 'English'}]</td>\n",
              "      <td>Released</td>\n",
              "      <td>NaN</td>\n",
              "      <td>Toy Story</td>\n",
              "      <td>False</td>\n",
              "      <td>7.7</td>\n",
              "      <td>5415.0</td>\n",
              "    </tr>\n",
              "    <tr>\n",
              "      <th>1</th>\n",
              "      <td>False</td>\n",
              "      <td>NaN</td>\n",
              "      <td>65000000</td>\n",
              "      <td>[{'id': 12, 'name': 'Adventure'}, {'id': 14, '...</td>\n",
              "      <td>NaN</td>\n",
              "      <td>8844</td>\n",
              "      <td>tt0113497</td>\n",
              "      <td>en</td>\n",
              "      <td>Jumanji</td>\n",
              "      <td>When siblings Judy and Peter discover an encha...</td>\n",
              "      <td>17.015539</td>\n",
              "      <td>/vzmL6fP7aPKNKPRTFnZmiUfciyV.jpg</td>\n",
              "      <td>[{'name': 'TriStar Pictures', 'id': 559}, {'na...</td>\n",
              "      <td>[{'iso_3166_1': 'US', 'name': 'United States o...</td>\n",
              "      <td>1995-12-15</td>\n",
              "      <td>262797249.0</td>\n",
              "      <td>104.0</td>\n",
              "      <td>[{'iso_639_1': 'en', 'name': 'English'}, {'iso...</td>\n",
              "      <td>Released</td>\n",
              "      <td>Roll the dice and unleash the excitement!</td>\n",
              "      <td>Jumanji</td>\n",
              "      <td>False</td>\n",
              "      <td>6.9</td>\n",
              "      <td>2413.0</td>\n",
              "    </tr>\n",
              "    <tr>\n",
              "      <th>2</th>\n",
              "      <td>False</td>\n",
              "      <td>{'id': 119050, 'name': 'Grumpy Old Men Collect...</td>\n",
              "      <td>0</td>\n",
              "      <td>[{'id': 10749, 'name': 'Romance'}, {'id': 35, ...</td>\n",
              "      <td>NaN</td>\n",
              "      <td>15602</td>\n",
              "      <td>tt0113228</td>\n",
              "      <td>en</td>\n",
              "      <td>Grumpier Old Men</td>\n",
              "      <td>A family wedding reignites the ancient feud be...</td>\n",
              "      <td>11.7129</td>\n",
              "      <td>/6ksm1sjKMFLbO7UY2i6G1ju9SML.jpg</td>\n",
              "      <td>[{'name': 'Warner Bros.', 'id': 6194}, {'name'...</td>\n",
              "      <td>[{'iso_3166_1': 'US', 'name': 'United States o...</td>\n",
              "      <td>1995-12-22</td>\n",
              "      <td>0.0</td>\n",
              "      <td>101.0</td>\n",
              "      <td>[{'iso_639_1': 'en', 'name': 'English'}]</td>\n",
              "      <td>Released</td>\n",
              "      <td>Still Yelling. Still Fighting. Still Ready for...</td>\n",
              "      <td>Grumpier Old Men</td>\n",
              "      <td>False</td>\n",
              "      <td>6.5</td>\n",
              "      <td>92.0</td>\n",
              "    </tr>\n",
              "    <tr>\n",
              "      <th>3</th>\n",
              "      <td>False</td>\n",
              "      <td>NaN</td>\n",
              "      <td>16000000</td>\n",
              "      <td>[{'id': 35, 'name': 'Comedy'}, {'id': 18, 'nam...</td>\n",
              "      <td>NaN</td>\n",
              "      <td>31357</td>\n",
              "      <td>tt0114885</td>\n",
              "      <td>en</td>\n",
              "      <td>Waiting to Exhale</td>\n",
              "      <td>Cheated on, mistreated and stepped on, the wom...</td>\n",
              "      <td>3.859495</td>\n",
              "      <td>/16XOMpEaLWkrcPqSQqhTmeJuqQl.jpg</td>\n",
              "      <td>[{'name': 'Twentieth Century Fox Film Corporat...</td>\n",
              "      <td>[{'iso_3166_1': 'US', 'name': 'United States o...</td>\n",
              "      <td>1995-12-22</td>\n",
              "      <td>81452156.0</td>\n",
              "      <td>127.0</td>\n",
              "      <td>[{'iso_639_1': 'en', 'name': 'English'}]</td>\n",
              "      <td>Released</td>\n",
              "      <td>Friends are the people who let you be yourself...</td>\n",
              "      <td>Waiting to Exhale</td>\n",
              "      <td>False</td>\n",
              "      <td>6.1</td>\n",
              "      <td>34.0</td>\n",
              "    </tr>\n",
              "    <tr>\n",
              "      <th>4</th>\n",
              "      <td>False</td>\n",
              "      <td>{'id': 96871, 'name': 'Father of the Bride Col...</td>\n",
              "      <td>0</td>\n",
              "      <td>[{'id': 35, 'name': 'Comedy'}]</td>\n",
              "      <td>NaN</td>\n",
              "      <td>11862</td>\n",
              "      <td>tt0113041</td>\n",
              "      <td>en</td>\n",
              "      <td>Father of the Bride Part II</td>\n",
              "      <td>Just when George Banks has recovered from his ...</td>\n",
              "      <td>8.387519</td>\n",
              "      <td>/e64sOI48hQXyru7naBFyssKFxVd.jpg</td>\n",
              "      <td>[{'name': 'Sandollar Productions', 'id': 5842}...</td>\n",
              "      <td>[{'iso_3166_1': 'US', 'name': 'United States o...</td>\n",
              "      <td>1995-02-10</td>\n",
              "      <td>76578911.0</td>\n",
              "      <td>106.0</td>\n",
              "      <td>[{'iso_639_1': 'en', 'name': 'English'}]</td>\n",
              "      <td>Released</td>\n",
              "      <td>Just When His World Is Back To Normal... He's ...</td>\n",
              "      <td>Father of the Bride Part II</td>\n",
              "      <td>False</td>\n",
              "      <td>5.7</td>\n",
              "      <td>173.0</td>\n",
              "    </tr>\n",
              "  </tbody>\n",
              "</table>\n",
              "</div>"
            ],
            "text/plain": [
              "   adult                              belongs_to_collection    budget  \\\n",
              "0  False  {'id': 10194, 'name': 'Toy Story Collection', ...  30000000   \n",
              "1  False                                                NaN  65000000   \n",
              "2  False  {'id': 119050, 'name': 'Grumpy Old Men Collect...         0   \n",
              "3  False                                                NaN  16000000   \n",
              "4  False  {'id': 96871, 'name': 'Father of the Bride Col...         0   \n",
              "\n",
              "                                              genres  \\\n",
              "0  [{'id': 16, 'name': 'Animation'}, {'id': 35, '...   \n",
              "1  [{'id': 12, 'name': 'Adventure'}, {'id': 14, '...   \n",
              "2  [{'id': 10749, 'name': 'Romance'}, {'id': 35, ...   \n",
              "3  [{'id': 35, 'name': 'Comedy'}, {'id': 18, 'nam...   \n",
              "4                     [{'id': 35, 'name': 'Comedy'}]   \n",
              "\n",
              "                               homepage     id    imdb_id original_language  \\\n",
              "0  http://toystory.disney.com/toy-story    862  tt0114709                en   \n",
              "1                                   NaN   8844  tt0113497                en   \n",
              "2                                   NaN  15602  tt0113228                en   \n",
              "3                                   NaN  31357  tt0114885                en   \n",
              "4                                   NaN  11862  tt0113041                en   \n",
              "\n",
              "                original_title  \\\n",
              "0                    Toy Story   \n",
              "1                      Jumanji   \n",
              "2             Grumpier Old Men   \n",
              "3            Waiting to Exhale   \n",
              "4  Father of the Bride Part II   \n",
              "\n",
              "                                            overview popularity  \\\n",
              "0  Led by Woody, Andy's toys live happily in his ...  21.946943   \n",
              "1  When siblings Judy and Peter discover an encha...  17.015539   \n",
              "2  A family wedding reignites the ancient feud be...    11.7129   \n",
              "3  Cheated on, mistreated and stepped on, the wom...   3.859495   \n",
              "4  Just when George Banks has recovered from his ...   8.387519   \n",
              "\n",
              "                        poster_path  \\\n",
              "0  /rhIRbceoE9lR4veEXuwCC2wARtG.jpg   \n",
              "1  /vzmL6fP7aPKNKPRTFnZmiUfciyV.jpg   \n",
              "2  /6ksm1sjKMFLbO7UY2i6G1ju9SML.jpg   \n",
              "3  /16XOMpEaLWkrcPqSQqhTmeJuqQl.jpg   \n",
              "4  /e64sOI48hQXyru7naBFyssKFxVd.jpg   \n",
              "\n",
              "                                production_companies  \\\n",
              "0     [{'name': 'Pixar Animation Studios', 'id': 3}]   \n",
              "1  [{'name': 'TriStar Pictures', 'id': 559}, {'na...   \n",
              "2  [{'name': 'Warner Bros.', 'id': 6194}, {'name'...   \n",
              "3  [{'name': 'Twentieth Century Fox Film Corporat...   \n",
              "4  [{'name': 'Sandollar Productions', 'id': 5842}...   \n",
              "\n",
              "                                production_countries release_date  \\\n",
              "0  [{'iso_3166_1': 'US', 'name': 'United States o...   1995-10-30   \n",
              "1  [{'iso_3166_1': 'US', 'name': 'United States o...   1995-12-15   \n",
              "2  [{'iso_3166_1': 'US', 'name': 'United States o...   1995-12-22   \n",
              "3  [{'iso_3166_1': 'US', 'name': 'United States o...   1995-12-22   \n",
              "4  [{'iso_3166_1': 'US', 'name': 'United States o...   1995-02-10   \n",
              "\n",
              "       revenue  runtime                                   spoken_languages  \\\n",
              "0  373554033.0     81.0           [{'iso_639_1': 'en', 'name': 'English'}]   \n",
              "1  262797249.0    104.0  [{'iso_639_1': 'en', 'name': 'English'}, {'iso...   \n",
              "2          0.0    101.0           [{'iso_639_1': 'en', 'name': 'English'}]   \n",
              "3   81452156.0    127.0           [{'iso_639_1': 'en', 'name': 'English'}]   \n",
              "4   76578911.0    106.0           [{'iso_639_1': 'en', 'name': 'English'}]   \n",
              "\n",
              "     status                                            tagline  \\\n",
              "0  Released                                                NaN   \n",
              "1  Released          Roll the dice and unleash the excitement!   \n",
              "2  Released  Still Yelling. Still Fighting. Still Ready for...   \n",
              "3  Released  Friends are the people who let you be yourself...   \n",
              "4  Released  Just When His World Is Back To Normal... He's ...   \n",
              "\n",
              "                         title  video  vote_average  vote_count  \n",
              "0                    Toy Story  False           7.7      5415.0  \n",
              "1                      Jumanji  False           6.9      2413.0  \n",
              "2             Grumpier Old Men  False           6.5        92.0  \n",
              "3            Waiting to Exhale  False           6.1        34.0  \n",
              "4  Father of the Bride Part II  False           5.7       173.0  "
            ]
          },
          "execution_count": 3,
          "metadata": {},
          "output_type": "execute_result"
        }
      ],
      "source": [
        "# The dataset at first glance\n",
        "df_movies.head()"
      ]
    },
    {
      "attachments": {},
      "cell_type": "markdown",
      "metadata": {
        "id": "2WWuFdvWBIKB"
      },
      "source": [
        "# Data Cleaning"
      ]
    },
    {
      "cell_type": "code",
      "execution_count": 4,
      "metadata": {
        "colab": {
          "base_uri": "https://localhost:8080/"
        },
        "id": "tHZowKzgBQ2b",
        "outputId": "b289f07e-bb70-4d85-dc0f-26a2f5c0b746"
      },
      "outputs": [
        {
          "name": "stdout",
          "output_type": "stream",
          "text": [
            "<class 'pandas.core.frame.DataFrame'>\n",
            "RangeIndex: 45466 entries, 0 to 45465\n",
            "Data columns (total 24 columns):\n",
            " #   Column                 Non-Null Count  Dtype  \n",
            "---  ------                 --------------  -----  \n",
            " 0   adult                  45466 non-null  object \n",
            " 1   belongs_to_collection  4494 non-null   object \n",
            " 2   budget                 45466 non-null  object \n",
            " 3   genres                 45466 non-null  object \n",
            " 4   homepage               7782 non-null   object \n",
            " 5   id                     45466 non-null  object \n",
            " 6   imdb_id                45449 non-null  object \n",
            " 7   original_language      45455 non-null  object \n",
            " 8   original_title         45466 non-null  object \n",
            " 9   overview               44512 non-null  object \n",
            " 10  popularity             45461 non-null  object \n",
            " 11  poster_path            45080 non-null  object \n",
            " 12  production_companies   45463 non-null  object \n",
            " 13  production_countries   45463 non-null  object \n",
            " 14  release_date           45379 non-null  object \n",
            " 15  revenue                45460 non-null  float64\n",
            " 16  runtime                45203 non-null  float64\n",
            " 17  spoken_languages       45460 non-null  object \n",
            " 18  status                 45379 non-null  object \n",
            " 19  tagline                20412 non-null  object \n",
            " 20  title                  45460 non-null  object \n",
            " 21  video                  45460 non-null  object \n",
            " 22  vote_average           45460 non-null  float64\n",
            " 23  vote_count             45460 non-null  float64\n",
            "dtypes: float64(4), object(20)\n",
            "memory usage: 8.3+ MB\n"
          ]
        }
      ],
      "source": [
        "# Exploring features characteristics and dataset dimensions\n",
        "df_movies.info() "
      ]
    },
    {
      "cell_type": "code",
      "execution_count": 5,
      "metadata": {
        "colab": {
          "base_uri": "https://localhost:8080/"
        },
        "id": "lXG4tS-LCS4a",
        "outputId": "9e60fe92-bce3-4a97-c24c-ab0e6448cbdf"
      },
      "outputs": [
        {
          "data": {
            "text/plain": [
              "adult                        0\n",
              "belongs_to_collection    40972\n",
              "budget                       0\n",
              "genres                       0\n",
              "homepage                 37684\n",
              "id                           0\n",
              "imdb_id                     17\n",
              "original_language           11\n",
              "original_title               0\n",
              "overview                   954\n",
              "popularity                   5\n",
              "poster_path                386\n",
              "production_companies         3\n",
              "production_countries         3\n",
              "release_date                87\n",
              "revenue                      6\n",
              "runtime                    263\n",
              "spoken_languages             6\n",
              "status                      87\n",
              "tagline                  25054\n",
              "title                        6\n",
              "video                        6\n",
              "vote_average                 6\n",
              "vote_count                   6\n",
              "dtype: int64"
            ]
          },
          "execution_count": 5,
          "metadata": {},
          "output_type": "execute_result"
        }
      ],
      "source": [
        "# Counting the null data \n",
        "df_movies.isnull().sum()"
      ]
    },
    {
      "attachments": {},
      "cell_type": "markdown",
      "metadata": {},
      "source": [
        "# Requirement #1\n",
        "\n",
        "Some fields from 'belongs_to_collection', 'production_companies' and other columns/features (see data dictionary) are nested. This means that each row contains a dictionary or a dictionary list. These fields must be unnested and joined again to the dataset in order to manage the API querys. Another strategy could be exploring the ways to access these data without unnesting. "
      ]
    },
    {
      "cell_type": "code",
      "execution_count": 6,
      "metadata": {},
      "outputs": [],
      "source": [
        "# MANAGING NULL DATA \n",
        "# The chosen strategy here is replace each ocurrence with void data dictionaries as depicted below:\n",
        "\n",
        "# Void data dictionaries definition (N/A states for 'Not applicable')\n",
        "nulldict = \"{'id':0,'name':'N/A','poster_path':'N/A', 'backdrop_path':'N/A'}\"\n",
        "nuldict_genres = \"[{'id':0,'name':'N/A'}]\"\n",
        "nuldict_prodcompanies = \"[{'name':'N/A','id':0}]\"\n",
        "nuldict_prodcountries = \"[{'iso_3166_1':'N/A','name':'N/A'}]\"\n",
        "nuldict_spokenlanguages = \"[{'iso_639_1':'N/A','name':'N/A'}]\"\n",
        "\n",
        "# Replacing null data with void data dictionaries \n",
        "df_movies['belongs_to_collection'].fillna(value= nulldict, inplace = True)\n",
        "df_movies['genres'].fillna(value= nuldict_genres, inplace = True)\n",
        "df_movies['production_companies'].fillna(value= nuldict_prodcompanies, inplace = True)\n",
        "df_movies['production_countries'].fillna(value= nuldict_prodcountries, inplace = True)\n",
        "df_movies['spoken_languages'].fillna(value= nuldict_spokenlanguages, inplace = True)\n",
        "\n"
      ]
    },
    {
      "cell_type": "code",
      "execution_count": 7,
      "metadata": {},
      "outputs": [
        {
          "data": {
            "application/vnd.jupyter.widget-view+json": {
              "model_id": "097c33162f0e45c5839518587313c078",
              "version_major": 2,
              "version_minor": 0
            },
            "text/plain": [
              "  0%|          | 0/45466 [00:00<?, ?it/s]"
            ]
          },
          "metadata": {},
          "output_type": "display_data"
        },
        {
          "data": {
            "application/vnd.jupyter.widget-view+json": {
              "model_id": "6193ead9841140599e5e3ea560b089d1",
              "version_major": 2,
              "version_minor": 0
            },
            "text/plain": [
              "  0%|          | 0/45466 [00:00<?, ?it/s]"
            ]
          },
          "metadata": {},
          "output_type": "display_data"
        },
        {
          "data": {
            "application/vnd.jupyter.widget-view+json": {
              "model_id": "e868292a4a52463683dd1953bd9dbe3c",
              "version_major": 2,
              "version_minor": 0
            },
            "text/plain": [
              "  0%|          | 0/45466 [00:00<?, ?it/s]"
            ]
          },
          "metadata": {},
          "output_type": "display_data"
        },
        {
          "data": {
            "application/vnd.jupyter.widget-view+json": {
              "model_id": "e01594bccab34eec8c0433a1da42b236",
              "version_major": 2,
              "version_minor": 0
            },
            "text/plain": [
              "  0%|          | 0/45466 [00:00<?, ?it/s]"
            ]
          },
          "metadata": {},
          "output_type": "display_data"
        },
        {
          "data": {
            "application/vnd.jupyter.widget-view+json": {
              "model_id": "0a9c57fbd4b744358f32eef1170b7380",
              "version_major": 2,
              "version_minor": 0
            },
            "text/plain": [
              "  0%|          | 0/45466 [00:00<?, ?it/s]"
            ]
          },
          "metadata": {},
          "output_type": "display_data"
        },
        {
          "name": "stdout",
          "output_type": "stream",
          "text": [
            "0 0 0 0 0\n",
            "INDEX1:  []\n",
            "INDEX2:  []\n",
            "INDEX3:  []\n",
            "INDEX4:  []\n",
            "INDEX5:  []\n"
          ]
        }
      ],
      "source": [
        "# After replacing null data, we proceed to verify if the data type of each field in every nested column is string\n",
        "\n",
        "# Checking if every field in each column has string data type and storing True or False binary states in is_str? variables\n",
        "is_str1 = df_movies['belongs_to_collection'].progress_apply(lambda x: isinstance(x, str))\n",
        "is_str2 = df_movies['genres'].progress_apply(lambda x: isinstance(x, str))\n",
        "is_str3 = df_movies['production_countries'].progress_apply(lambda x: isinstance(x, str))\n",
        "is_str4 = df_movies['production_companies'].progress_apply(lambda x: isinstance(x, str))\n",
        "is_str5 = df_movies['spoken_languages'].progress_apply(lambda x: isinstance(x, str))\n",
        "\n",
        "# Setting up wrong data type ocurrence counters\n",
        "count1 = 0\n",
        "count2 = 0\n",
        "count3 = 0\n",
        "count4 = 0\n",
        "count5 = 0\n",
        "#Setting up record indexes list where a wrong data type ocurrence has ocurred\n",
        "index1 = []\n",
        "index2 = []\n",
        "index3 = []\n",
        "index4 = []\n",
        "index5 = []\n",
        "\n",
        "#Looping into is_str? variables and filling the count and index variables according its state\n",
        "for n in range(len(df_movies)):\n",
        "    if (is_str1[n] == False):\n",
        "       count1 +=1\n",
        "       index1.append(n)\n",
        "    if (is_str2[n] == False):\n",
        "        count2 +=1\n",
        "        index2.append(n)\n",
        "    if (is_str3[n] == False):\n",
        "        count3 +=1\n",
        "        index3.append(n)\n",
        "    if(is_str4[n] == False):\n",
        "        count4 +=1\n",
        "        index4.append(n)\n",
        "    if(is_str5[n] == False):\n",
        "        count5 +=1\n",
        "        index5.append(n)\n",
        "\n",
        "#Displaying the results for exploration purposes\n",
        "print(count1, count2, count3, count4, count5)\n",
        "print(\"INDEX1: \", index1)\n",
        "print(\"INDEX2: \", index2)\n",
        "print(\"INDEX3: \", index3)\n",
        "print(\"INDEX4: \", index4)\n",
        "print(\"INDEX5: \", index5)\n"
      ]
    },
    {
      "cell_type": "code",
      "execution_count": 8,
      "metadata": {},
      "outputs": [
        {
          "data": {
            "application/vnd.jupyter.widget-view+json": {
              "model_id": "d0d9140438f14c3c97a89cb3d7497f9a",
              "version_major": 2,
              "version_minor": 0
            },
            "text/plain": [
              "  0%|          | 0/45466 [00:00<?, ?it/s]"
            ]
          },
          "metadata": {},
          "output_type": "display_data"
        },
        {
          "data": {
            "application/vnd.jupyter.widget-view+json": {
              "model_id": "d6023d45383c4a3d898827ed7da700f1",
              "version_major": 2,
              "version_minor": 0
            },
            "text/plain": [
              "  0%|          | 0/45466 [00:00<?, ?it/s]"
            ]
          },
          "metadata": {},
          "output_type": "display_data"
        },
        {
          "data": {
            "application/vnd.jupyter.widget-view+json": {
              "model_id": "cf4ea9fbb63641eb85d4846799ce37a5",
              "version_major": 2,
              "version_minor": 0
            },
            "text/plain": [
              "  0%|          | 0/45466 [00:00<?, ?it/s]"
            ]
          },
          "metadata": {},
          "output_type": "display_data"
        },
        {
          "data": {
            "application/vnd.jupyter.widget-view+json": {
              "model_id": "2b80d315696a4bba8c56bb75b85caff7",
              "version_major": 2,
              "version_minor": 0
            },
            "text/plain": [
              "  0%|          | 0/45466 [00:00<?, ?it/s]"
            ]
          },
          "metadata": {},
          "output_type": "display_data"
        },
        {
          "data": {
            "application/vnd.jupyter.widget-view+json": {
              "model_id": "26c84141b8054eac8a30cdd8466efd34",
              "version_major": 2,
              "version_minor": 0
            },
            "text/plain": [
              "  0%|          | 0/45466 [00:00<?, ?it/s]"
            ]
          },
          "metadata": {},
          "output_type": "display_data"
        },
        {
          "data": {
            "application/vnd.jupyter.widget-view+json": {
              "model_id": "ce43deb691d94650a73aad367a6256bc",
              "version_major": 2,
              "version_minor": 0
            },
            "text/plain": [
              "  0%|          | 0/45466 [00:00<?, ?it/s]"
            ]
          },
          "metadata": {},
          "output_type": "display_data"
        }
      ],
      "source": [
        "# Converting strings to dictionaries\n",
        "df_movies['belongs_to_collection'] = df_movies['belongs_to_collection'].progress_apply(lambda x: eval(x))\n",
        "df_movies['genres'] = df_movies['genres'].progress_apply(lambda x: eval(x))\n",
        "df_movies['production_companies'] = df_movies['production_companies'].progress_apply(lambda x: eval(x))\n",
        "df_movies['production_countries'] = df_movies['production_countries'].progress_apply(lambda x: eval(x))\n",
        "df_movies['spoken_languages'] = df_movies['spoken_languages'].progress_apply(lambda x: eval(x))\n",
        "#Convertir a lista\n",
        "df_movies['belongs_to_collection'] = df_movies['belongs_to_collection'].progress_apply(lambda x: [x])"
      ]
    },
    {
      "cell_type": "code",
      "execution_count": 9,
      "metadata": {},
      "outputs": [
        {
          "data": {
            "application/vnd.jupyter.widget-view+json": {
              "model_id": "645f9d5a58cb4727b37b2a080f2e1b8a",
              "version_major": 2,
              "version_minor": 0
            },
            "text/plain": [
              "  0%|          | 0/45466 [00:00<?, ?it/s]"
            ]
          },
          "metadata": {},
          "output_type": "display_data"
        },
        {
          "data": {
            "application/vnd.jupyter.widget-view+json": {
              "model_id": "c24defae2131417393dc39226d9f7f30",
              "version_major": 2,
              "version_minor": 0
            },
            "text/plain": [
              "  0%|          | 0/45466 [00:00<?, ?it/s]"
            ]
          },
          "metadata": {},
          "output_type": "display_data"
        },
        {
          "data": {
            "application/vnd.jupyter.widget-view+json": {
              "model_id": "02111377774547229908938e83dec16e",
              "version_major": 2,
              "version_minor": 0
            },
            "text/plain": [
              "  0%|          | 0/45466 [00:00<?, ?it/s]"
            ]
          },
          "metadata": {},
          "output_type": "display_data"
        },
        {
          "data": {
            "application/vnd.jupyter.widget-view+json": {
              "model_id": "9a9510eefc624f84bf26170e3d2b9b01",
              "version_major": 2,
              "version_minor": 0
            },
            "text/plain": [
              "  0%|          | 0/45466 [00:00<?, ?it/s]"
            ]
          },
          "metadata": {},
          "output_type": "display_data"
        },
        {
          "data": {
            "application/vnd.jupyter.widget-view+json": {
              "model_id": "eca6a781800b49478fe66526bd26b5ac",
              "version_major": 2,
              "version_minor": 0
            },
            "text/plain": [
              "  0%|          | 0/45466 [00:00<?, ?it/s]"
            ]
          },
          "metadata": {},
          "output_type": "display_data"
        },
        {
          "name": "stdout",
          "output_type": "stream",
          "text": [
            "3 2442 6285 11878 3829\n",
            "INDEX1:  [19730, 29503, 35587]\n",
            "INDEX2:  [55, 83, 126, 137, 390, 398, 401, 554, 595, 614, 620, 648, 661, 671, 685, 711, 734, 740, 752, 756, 771, 772, 773, 790, 792, 820, 821, 832, 833, 839, 857, 862, 955, 973, 1055, 1102, 1108, 1119, 1120, 1262, 1263, 1272, 1405, 1461, 1473, 1483, 1489, 1625, 1626, 1632, 1657, 1734, 1768, 1792, 2047, 2104, 2123, 2140, 2194, 2213, 2302, 2371, 2376, 2463, 2478, 2487, 2505, 2629, 2645, 2705, 2709, 2710, 2818, 3006, 3014, 3110, 3257, 3263, 3264, 3291, 3299, 3353, 3461, 3628, 3729, 3742, 3766, 3783, 3870, 3931, 3945, 4044, 4046, 4047, 4103, 4126, 4187, 4236, 4329, 4518, 4597, 4601, 4609, 4630, 4754, 4774, 5126, 5136, 5402, 5574, 5601, 5619, 5667, 5676, 5733, 5767, 6008, 6051, 6057, 6068, 6083, 6323, 6342, 6345, 6440, 6451, 6525, 6609, 6617, 6790, 6813, 6986, 6992, 7037, 7143, 7205, 7274, 7276, 7418, 7480, 7585, 7619, 7879, 7895, 7980, 8037, 8213, 8227, 8302, 8380, 8558, 8810, 8852, 8987, 9027, 9066, 9171, 9192, 9227, 9253, 9530, 9662, 9722, 9765, 9783, 9814, 9974, 10011, 10353, 10559, 10666, 10690, 10865, 11035, 11150, 11297, 11382, 11968, 12128, 12162, 12247, 12262, 12376, 12512, 12533, 12767, 12986, 13032, 13043, 13074, 13104, 13171, 13183, 13201, 13304, 13332, 13359, 13363, 13400, 13418, 13505, 13562, 13565, 13569, 13572, 13611, 13623, 13655, 13674, 13686, 13759, 13805, 13839, 13900, 13913, 13920, 14004, 14005, 14067, 14091, 14118, 14184, 14239, 14285, 14338, 14348, 14380, 14413, 14454, 14463, 14469, 14471, 14477, 14504, 14532, 14534, 14536, 14539, 14545, 14601, 14602, 14605, 14641, 14664, 14691, 14708, 14733, 14755, 14801, 14829, 14868, 14887, 14890, 14933, 15045, 15118, 15119, 15135, 15136, 15179, 15187, 15204, 15245, 15249, 15358, 15384, 15456, 15475, 15584, 15654, 15717, 15733, 15772, 15791, 15854, 15866, 15877, 15942, 15943, 15960, 15963, 15990, 15991, 16006, 16021, 16030, 16095, 16103, 16110, 16111, 16164, 16169, 16215, 16247, 16287, 16398, 16413, 16497, 16627, 16631, 16646, 16661, 16662, 16687, 16690, 16691, 16748, 16831, 16836, 16837, 16854, 16855, 16901, 16918, 16923, 16926, 16928, 16940, 16953, 16969, 16986, 17003, 17016, 17021, 17059, 17060, 17079, 17096, 17154, 17182, 17254, 17256, 17271, 17274, 17284, 17317, 17325, 17326, 17345, 17348, 17390, 17415, 17422, 17426, 17462, 17499, 17537, 17602, 17618, 17684, 17767, 17805, 17817, 17827, 17837, 17862, 17870, 17871, 17876, 17879, 17942, 17951, 17952, 17957, 17958, 18018, 18038, 18040, 18047, 18087, 18098, 18099, 18114, 18128, 18171, 18186, 18200, 18231, 18245, 18266, 18345, 18347, 18362, 18379, 18414, 18419, 18474, 18489, 18496, 18503, 18507, 18543, 18558, 18564, 18565, 18568, 18573, 18578, 18604, 18611, 18613, 18618, 18619, 18652, 18664, 18672, 18700, 18711, 18720, 18728, 18764, 18781, 18822, 18837, 18867, 18873, 18883, 18914, 18922, 18932, 18944, 18966, 18974, 18976, 19006, 19012, 19087, 19103, 19118, 19126, 19130, 19171, 19183, 19184, 19189, 19195, 19288, 19320, 19322, 19350, 19361, 19366, 19383, 19391, 19422, 19431, 19501, 19517, 19519, 19539, 19540, 19542, 19548, 19549, 19554, 19576, 19598, 19600, 19615, 19625, 19645, 19671, 19702, 19703, 19725, 19747, 19805, 19808, 19840, 19878, 19942, 19955, 19998, 19999, 20025, 20046, 20103, 20134, 20159, 20166, 20182, 20194, 20227, 20257, 20266, 20272, 20287, 20301, 20319, 20332, 20370, 20371, 20396, 20440, 20453, 20472, 20483, 20487, 20499, 20507, 20509, 20513, 20562, 20563, 20569, 20589, 20594, 20602, 20604, 20606, 20612, 20621, 20627, 20638, 20639, 20640, 20650, 20651, 20684, 20686, 20690, 20711, 20740, 20756, 20760, 20766, 20778, 20826, 20881, 20914, 20920, 20928, 20963, 20986, 21003, 21047, 21078, 21085, 21086, 21093, 21098, 21121, 21147, 21150, 21158, 21172, 21184, 21227, 21242, 21250, 21271, 21274, 21278, 21358, 21366, 21374, 21391, 21392, 21448, 21500, 21510, 21518, 21569, 21579, 21612, 21643, 21708, 21752, 21776, 21814, 21818, 21836, 21853, 21879, 21924, 21933, 21936, 21957, 21960, 21976, 21996, 22010, 22019, 22052, 22069, 22070, 22081, 22116, 22136, 22175, 22182, 22188, 22202, 22234, 22249, 22263, 22269, 22290, 22296, 22313, 22317, 22337, 22366, 22378, 22387, 22397, 22401, 22402, 22424, 22430, 22436, 22442, 22481, 22497, 22504, 22509, 22513, 22567, 22571, 22591, 22598, 22632, 22645, 22651, 22688, 22690, 22702, 22713, 22733, 22734, 22739, 22741, 22749, 22750, 22760, 22774, 22797, 22798, 22801, 22807, 22808, 22852, 22860, 22867, 22875, 22886, 22896, 22926, 22934, 22947, 22951, 22978, 22987, 22988, 22991, 23001, 23004, 23032, 23095, 23107, 23124, 23184, 23214, 23226, 23250, 23304, 23329, 23403, 23408, 23413, 23420, 23429, 23481, 23535, 23551, 23586, 23610, 23611, 23634, 23662, 23663, 23677, 23687, 23713, 23736, 23801, 23829, 23869, 23881, 23912, 23915, 23922, 23927, 23967, 23975, 23980, 23987, 23998, 24025, 24029, 24072, 24076, 24133, 24147, 24150, 24155, 24157, 24160, 24235, 24264, 24285, 24294, 24300, 24301, 24313, 24318, 24322, 24323, 24324, 24325, 24328, 24399, 24412, 24414, 24420, 24436, 24451, 24486, 24490, 24518, 24528, 24570, 24619, 24621, 24623, 24701, 24722, 24734, 24740, 24780, 24877, 24882, 24912, 24913, 24914, 24925, 24928, 24930, 24931, 24933, 24934, 24977, 24978, 24979, 24981, 24985, 25074, 25081, 25117, 25169, 25181, 25182, 25187, 25191, 25198, 25231, 25258, 25271, 25283, 25307, 25309, 25323, 25336, 25346, 25348, 25359, 25361, 25372, 25380, 25415, 25444, 25450, 25478, 25480, 25483, 25486, 25491, 25494, 25500, 25508, 25510, 25511, 25513, 25519, 25525, 25526, 25544, 25561, 25596, 25614, 25617, 25630, 25683, 25685, 25712, 25715, 25728, 25753, 25757, 25762, 25807, 25825, 25826, 25858, 25876, 25887, 25910, 25911, 25912, 25913, 25914, 25918, 25929, 25941, 26060, 26095, 26099, 26134, 26150, 26151, 26161, 26174, 26203, 26206, 26209, 26219, 26244, 26246, 26249, 26289, 26291, 26292, 26591, 26671, 26679, 26700, 26701, 26727, 26735, 26736, 26785, 26791, 26795, 26822, 26837, 26851, 26880, 26884, 26892, 26896, 26921, 26945, 26949, 27001, 27024, 27110, 27138, 27181, 27220, 27247, 27297, 27387, 27405, 27408, 27410, 27412, 27423, 27427, 27432, 27439, 27466, 27475, 27484, 27487, 27491, 27498, 27499, 27510, 27512, 27520, 27530, 27531, 27533, 27540, 27545, 27549, 27550, 27557, 27567, 27599, 27601, 27606, 27616, 27618, 27623, 27682, 27718, 27746, 27750, 27758, 27763, 27765, 27768, 27783, 27786, 27797, 27849, 27880, 27883, 27909, 27949, 27950, 27952, 27954, 27964, 27984, 27985, 28002, 28005, 28006, 28045, 28097, 28124, 28125, 28138, 28143, 28144, 28147, 28172, 28206, 28235, 28242, 28252, 28273, 28279, 28282, 28284, 28299, 28305, 28319, 28326, 28331, 28337, 28350, 28357, 28375, 28382, 28387, 28388, 28390, 28399, 28431, 28442, 28459, 28471, 28473, 28483, 28484, 28492, 28495, 28516, 28519, 28529, 28536, 28550, 28564, 28591, 28597, 28600, 28602, 28605, 28620, 28621, 28638, 28706, 28721, 28727, 28751, 28766, 28772, 28786, 28840, 28843, 28854, 28874, 28876, 28881, 28890, 28898, 28918, 28921, 28944, 28949, 28964, 29008, 29047, 29110, 29118, 29124, 29137, 29150, 29156, 29165, 29172, 29193, 29196, 29200, 29201, 29202, 29206, 29211, 29224, 29238, 29245, 29264, 29287, 29295, 29309, 29357, 29382, 29388, 29408, 29416, 29420, 29427, 29443, 29472, 29480, 29513, 29567, 29568, 29570, 29595, 29599, 29620, 29621, 29630, 29633, 29654, 29657, 29706, 29708, 29731, 29756, 29790, 29795, 29812, 29816, 29817, 29855, 29877, 29880, 29893, 29905, 29946, 29982, 29993, 29997, 30005, 30010, 30019, 30035, 30040, 30108, 30112, 30116, 30121, 30124, 30129, 30151, 30153, 30169, 30191, 30202, 30232, 30275, 30309, 30317, 30320, 30330, 30340, 30341, 30356, 30358, 30362, 30365, 30378, 30381, 30382, 30394, 30428, 30467, 30492, 30520, 30554, 30560, 30564, 30578, 30600, 30601, 30603, 30609, 30627, 30629, 30646, 30647, 30652, 30670, 30713, 30720, 30830, 30832, 30840, 30867, 30872, 30896, 30924, 30941, 30944, 30974, 31008, 31010, 31021, 31034, 31056, 31060, 31062, 31077, 31078, 31079, 31080, 31083, 31124, 31133, 31134, 31139, 31152, 31175, 31195, 31199, 31200, 31222, 31231, 31234, 31243, 31254, 31295, 31313, 31314, 31315, 31317, 31318, 31319, 31321, 31329, 31344, 31362, 31396, 31397, 31415, 31421, 31427, 31456, 31462, 31466, 31475, 31493, 31507, 31508, 31515, 31516, 31517, 31520, 31521, 31525, 31529, 31532, 31534, 31536, 31549, 31555, 31580, 31582, 31586, 31589, 31596, 31604, 31699, 31747, 31750, 31761, 31762, 31775, 31779, 31784, 31802, 31803, 31807, 31808, 31833, 31840, 31869, 31872, 31923, 31941, 31947, 31983, 31984, 32027, 32029, 32030, 32042, 32066, 32069, 32077, 32079, 32083, 32084, 32089, 32095, 32140, 32145, 32155, 32157, 32225, 32233, 32237, 32243, 32256, 32276, 32282, 32286, 32297, 32308, 32317, 32329, 32341, 32379, 32389, 32395, 32473, 32482, 32491, 32498, 32513, 32516, 32539, 32541, 32556, 32561, 32575, 32576, 32578, 32580, 32592, 32607, 32611, 32612, 32636, 32637, 32644, 32649, 32694, 32699, 32708, 32719, 32756, 32763, 32804, 32807, 32838, 32877, 32915, 32948, 33030, 33044, 33054, 33068, 33072, 33095, 33151, 33166, 33172, 33208, 33227, 33236, 33241, 33254, 33280, 33287, 33290, 33297, 33302, 33337, 33342, 33344, 33351, 33357, 33376, 33382, 33389, 33399, 33402, 33413, 33414, 33424, 33431, 33432, 33481, 33489, 33491, 33496, 33501, 33503, 33505, 33521, 33523, 33531, 33566, 33575, 33603, 33610, 33620, 33624, 33626, 33627, 33632, 33639, 33753, 33787, 33836, 33860, 33880, 33887, 33888, 33914, 33922, 33923, 33925, 33932, 33947, 33963, 33979, 33995, 34016, 34017, 34021, 34027, 34105, 34106, 34153, 34158, 34189, 34192, 34194, 34198, 34199, 34201, 34204, 34214, 34229, 34230, 34245, 34260, 34261, 34268, 34270, 34272, 34274, 34275, 34279, 34282, 34285, 34286, 34288, 34289, 34290, 34291, 34297, 34319, 34327, 34329, 34332, 34333, 34335, 34340, 34341, 34347, 34348, 34349, 34350, 34352, 34353, 34357, 34359, 34362, 34363, 34375, 34377, 34408, 34409, 34412, 34415, 34418, 34421, 34422, 34424, 34426, 34427, 34429, 34430, 34432, 34440, 34441, 34445, 34450, 34458, 34475, 34489, 34491, 34498, 34517, 34518, 34538, 34544, 34549, 34550, 34557, 34560, 34561, 34570, 34577, 34590, 34596, 34598, 34599, 34600, 34602, 34604, 34606, 34616, 34622, 34652, 34660, 34662, 34663, 34665, 34677, 34678, 34698, 34700, 34729, 34730, 34750, 34751, 34752, 34754, 34774, 34775, 34801, 34807, 34811, 34835, 34844, 34886, 34905, 34906, 34915, 34919, 34936, 34948, 34958, 34970, 34979, 34981, 35040, 35060, 35073, 35076, 35100, 35140, 35147, 35152, 35159, 35163, 35166, 35190, 35208, 35215, 35234, 35239, 35250, 35251, 35273, 35285, 35303, 35306, 35313, 35314, 35322, 35326, 35336, 35397, 35401, 35414, 35416, 35421, 35450, 35493, 35501, 35514, 35520, 35553, 35554, 35575, 35576, 35595, 35612, 35622, 35623, 35630, 35652, 35654, 35658, 35669, 35679, 35687, 35738, 35740, 35757, 35760, 35762, 35768, 35773, 35810, 35827, 35829, 35830, 35837, 35849, 35859, 35861, 35866, 35874, 35880, 35882, 35886, 35895, 35899, 35903, 35929, 35935, 35945, 35947, 35951, 35980, 35981, 35989, 36012, 36023, 36027, 36029, 36030, 36044, 36045, 36060, 36062, 36097, 36101, 36105, 36116, 36120, 36124, 36155, 36164, 36194, 36199, 36203, 36207, 36208, 36250, 36283, 36324, 36325, 36348, 36351, 36353, 36356, 36358, 36364, 36366, 36367, 36388, 36400, 36421, 36423, 36435, 36464, 36465, 36467, 36469, 36470, 36472, 36479, 36484, 36496, 36502, 36512, 36524, 36525, 36529, 36530, 36532, 36540, 36546, 36550, 36561, 36562, 36569, 36572, 36573, 36575, 36577, 36579, 36583, 36585, 36586, 36594, 36613, 36615, 36618, 36619, 36621, 36632, 36634, 36641, 36644, 36660, 36662, 36669, 36670, 36678, 36689, 36704, 36705, 36714, 36715, 36718, 36719, 36735, 36737, 36741, 36743, 36749, 36750, 36757, 36767, 36772, 36774, 36780, 36788, 36810, 36812, 36820, 36824, 36833, 36839, 36840, 36841, 36847, 36883, 36886, 36894, 36897, 36898, 36907, 36909, 36920, 36921, 36924, 36937, 36941, 36944, 36948, 36952, 36955, 36959, 36992, 36996, 37004, 37008, 37011, 37013, 37019, 37025, 37028, 37040, 37042, 37052, 37063, 37070, 37071, 37074, 37076, 37078, 37090, 37122, 37127, 37138, 37149, 37151, 37165, 37179, 37191, 37192, 37201, 37202, 37209, 37211, 37214, 37239, 37240, 37241, 37261, 37269, 37285, 37289, 37297, 37310, 37311, 37316, 37319, 37335, 37344, 37345, 37347, 37349, 37350, 37352, 37353, 37355, 37372, 37375, 37379, 37382, 37394, 37395, 37397, 37398, 37399, 37412, 37413, 37418, 37424, 37426, 37427, 37429, 37433, 37434, 37435, 37437, 37439, 37440, 37444, 37454, 37456, 37465, 37466, 37467, 37473, 37475, 37486, 37490, 37519, 37536, 37543, 37554, 37601, 37602, 37634, 37640, 37643, 37655, 37657, 37661, 37664, 37704, 37705, 37711, 37713, 37716, 37718, 37747, 37754, 37757, 37758, 37767, 37769, 37789, 37797, 37801, 37813, 37814, 37859, 37871, 37873, 37910, 37914, 37915, 37929, 37934, 37947, 37948, 37958, 37963, 37965, 37977, 37979, 38012, 38020, 38026, 38027, 38030, 38052, 38053, 38055, 38056, 38057, 38066, 38067, 38077, 38086, 38126, 38137, 38156, 38161, 38168, 38175, 38178, 38179, 38181, 38185, 38187, 38192, 38204, 38216, 38249, 38251, 38273, 38315, 38316, 38329, 38331, 38337, 38338, 38339, 38340, 38341, 38353, 38362, 38367, 38369, 38392, 38394, 38398, 38411, 38415, 38417, 38423, 38436, 38448, 38463, 38464, 38467, 38470, 38475, 38483, 38497, 38499, 38513, 38518, 38533, 38559, 38562, 38569, 38587, 38593, 38606, 38618, 38620, 38672, 38681, 38717, 38720, 38724, 38737, 38745, 38748, 38749, 38811, 38829, 38840, 38858, 38860, 38862, 38865, 38866, 38867, 38868, 38874, 38875, 38876, 38927, 38933, 38934, 38971, 38989, 38990, 39031, 39123, 39129, 39136, 39141, 39143, 39146, 39156, 39167, 39169, 39186, 39189, 39206, 39219, 39223, 39227, 39258, 39267, 39273, 39274, 39301, 39305, 39320, 39339, 39344, 39351, 39352, 39420, 39443, 39467, 39468, 39469, 39470, 39471, 39472, 39482, 39497, 39514, 39540, 39569, 39604, 39611, 39642, 39654, 39671, 39677, 39692, 39693, 39702, 39711, 39722, 39732, 39733, 39737, 39739, 39740, 39741, 39840, 39851, 39858, 39865, 39866, 39878, 39904, 39912, 39928, 39934, 39944, 39954, 39955, 39957, 39975, 39993, 40011, 40013, 40016, 40046, 40064, 40065, 40066, 40071, 40072, 40080, 40082, 40094, 40105, 40106, 40118, 40124, 40130, 40150, 40151, 40154, 40170, 40181, 40203, 40205, 40209, 40217, 40218, 40220, 40238, 40260, 40262, 40271, 40297, 40298, 40301, 40319, 40324, 40327, 40329, 40333, 40338, 40353, 40360, 40363, 40378, 40395, 40400, 40401, 40405, 40413, 40421, 40425, 40430, 40515, 40533, 40549, 40552, 40562, 40576, 40593, 40618, 40631, 40689, 40710, 40711, 40713, 40723, 40732, 40740, 40741, 40742, 40748, 40767, 40769, 40806, 40837, 40842, 40864, 40873, 40884, 40889, 40913, 40936, 40948, 40956, 40980, 40996, 41014, 41020, 41037, 41039, 41042, 41069, 41112, 41113, 41114, 41115, 41132, 41146, 41161, 41175, 41193, 41194, 41202, 41291, 41308, 41310, 41343, 41351, 41372, 41388, 41391, 41399, 41401, 41425, 41429, 41444, 41449, 41476, 41480, 41498, 41525, 41528, 41535, 41542, 41543, 41544, 41552, 41560, 41561, 41572, 41590, 41607, 41634, 41644, 41645, 41667, 41682, 41685, 41716, 41718, 41719, 41722, 41725, 41731, 41760, 41770, 41771, 41792, 41796, 41800, 41816, 41837, 41845, 41846, 41849, 41851, 41864, 41868, 41869, 41874, 41875, 41878, 41879, 41881, 41883, 41895, 41900, 41923, 41980, 41986, 42029, 42091, 42098, 42100, 42103, 42135, 42141, 42145, 42148, 42161, 42163, 42190, 42195, 42197, 42198, 42212, 42213, 42221, 42229, 42278, 42280, 42281, 42286, 42297, 42299, 42307, 42350, 42357, 42363, 42370, 42371, 42374, 42390, 42398, 42418, 42429, 42437, 42438, 42440, 42459, 42478, 42497, 42530, 42550, 42567, 42568, 42569, 42571, 42573, 42672, 42673, 42690, 42714, 42715, 42758, 42780, 42788, 42844, 42883, 42884, 42896, 42898, 42899, 42911, 42916, 42931, 42932, 42934, 42935, 42941, 42960, 42961, 43014, 43019, 43021, 43022, 43025, 43035, 43045, 43078, 43083, 43117, 43120, 43134, 43141, 43151, 43152, 43159, 43174, 43176, 43195, 43196, 43272, 43305, 43310, 43341, 43421, 43426, 43427, 43467, 43475, 43479, 43481, 43482, 43483, 43485, 43486, 43489, 43503, 43523, 43533, 43540, 43549, 43681, 43750, 43765, 43770, 43789, 43801, 43817, 43831, 43842, 43865, 43881, 43885, 43893, 43906, 43946, 43949, 43958, 43962, 43965, 43969, 43984, 43985, 43995, 44013, 44014, 44030, 44040, 44046, 44048, 44049, 44060, 44067, 44098, 44116, 44123, 44152, 44175, 44202, 44203, 44213, 44255, 44290, 44307, 44331, 44333, 44339, 44358, 44360, 44377, 44378, 44381, 44384, 44404, 44413, 44458, 44470, 44526, 44530, 44534, 44548, 44576, 44583, 44607, 44636, 44637, 44638, 44646, 44649, 44652, 44654, 44659, 44665, 44668, 44669, 44688, 44690, 44692, 44697, 44699, 44701, 44702, 44703, 44704, 44706, 44707, 44708, 44724, 44728, 44737, 44751, 44758, 44759, 44803, 44831, 44833, 44859, 44861, 44865, 44866, 44886, 44906, 44918, 44933, 44937, 44961, 44978, 44979, 44996, 45027, 45045, 45054, 45055, 45070, 45076, 45086, 45090, 45096, 45097, 45103, 45115, 45131, 45137, 45140, 45148, 45157, 45159, 45162, 45166, 45185, 45187, 45212, 45218, 45220, 45275, 45310, 45311, 45317, 45327, 45333, 45338, 45345, 45359, 45361, 45362, 45374, 45379, 45385, 45387, 45396, 45397, 45434, 45442, 45447, 45448, 45455, 45464, 45465]\n",
            "INDEX3:  [50, 55, 83, 106, 107, 126, 127, 137, 152, 164, 189, 202, 207, 240, 244, 254, 270, 283, 390, 396, 398, 399, 401, 465, 540, 554, 565, 566, 570, 573, 595, 606, 612, 614, 620, 621, 648, 661, 665, 666, 670, 671, 674, 679, 681, 685, 692, 711, 734, 740, 745, 752, 756, 767, 772, 793, 796, 798, 803, 819, 820, 832, 833, 845, 849, 852, 857, 862, 863, 868, 955, 957, 972, 973, 1010, 1021, 1022, 1055, 1081, 1088, 1102, 1104, 1106, 1107, 1108, 1119, 1120, 1126, 1140, 1262, 1272, 1312, 1348, 1362, 1370, 1377, 1380, 1393, 1403, 1405, 1426, 1430, 1438, 1441, 1445, 1454, 1457, 1464, 1473, 1483, 1485, 1487, 1489, 1530, 1540, 1554, 1570, 1574, 1579, 1582, 1607, 1625, 1626, 1628, 1629, 1632, 1634, 1657, 1673, 1674, 1685, 1687, 1691, 1692, 1715, 1718, 1731, 1744, 1765, 1766, 1768, 1770, 1787, 1792, 1806, 1928, 1930, 1935, 1946, 1953, 1982, 2047, 2081, 2089, 2114, 2116, 2119, 2123, 2133, 2135, 2140, 2143, 2164, 2182, 2192, 2194, 2204, 2213, 2232, 2284, 2302, 2321, 2340, 2371, 2376, 2386, 2395, 2425, 2432, 2434, 2443, 2451, 2463, 2465, 2478, 2487, 2490, 2494, 2505, 2513, 2565, 2567, 2570, 2588, 2610, 2629, 2645, 2651, 2698, 2703, 2705, 2709, 2710, 2716, 2735, 2753, 2778, 2793, 2812, 2814, 2838, 2844, 2849, 2926, 2948, 3007, 3014, 3032, 3047, 3065, 3070, 3071, 3074, 3075, 3108, 3110, 3113, 3118, 3119, 3122, 3159, 3160, 3163, 3175, 3179, 3203, 3227, 3235, 3238, 3262, 3264, 3291, 3299, 3335, 3343, 3364, 3379, 3393, 3448, 3460, 3474, 3487, 3503, 3552, 3596, 3600, 3628, 3705, 3729, 3735, 3756, 3757, 3761, 3763, 3779, 3783, 3789, 3800, 3819, 3826, 3846, 3888, 3931, 3945, 3950, 3961, 3986, 3987, 3989, 3990, 4019, 4037, 4044, 4045, 4046, 4055, 4081, 4103, 4122, 4126, 4130, 4132, 4140, 4167, 4187, 4188, 4218, 4237, 4248, 4251, 4256, 4317, 4328, 4329, 4333, 4353, 4385, 4402, 4423, 4427, 4478, 4493, 4518, 4531, 4565, 4569, 4582, 4597, 4601, 4609, 4612, 4630, 4643, 4647, 4648, 4649, 4690, 4694, 4708, 4713, 4730, 4761, 4762, 4822, 4830, 4855, 4900, 4908, 4939, 4999, 5006, 5027, 5077, 5081, 5100, 5104, 5122, 5126, 5136, 5137, 5140, 5150, 5181, 5184, 5186, 5196, 5204, 5216, 5274, 5313, 5333, 5376, 5386, 5402, 5413, 5431, 5436, 5440, 5448, 5479, 5482, 5486, 5489, 5510, 5511, 5519, 5527, 5539, 5544, 5548, 5551, 5566, 5576, 5581, 5582, 5602, 5612, 5630, 5636, 5637, 5660, 5667, 5669, 5673, 5681, 5685, 5708, 5726, 5727, 5730, 5732, 5756, 5767, 5776, 5838, 5864, 5879, 5908, 5912, 5958, 5972, 5978, 5986, 5987, 5991, 6003, 6016, 6022, 6026, 6051, 6052, 6053, 6057, 6067, 6068, 6083, 6095, 6115, 6131, 6174, 6190, 6196, 6204, 6225, 6230, 6236, 6323, 6326, 6330, 6340, 6345, 6356, 6370, 6382, 6402, 6431, 6440, 6441, 6443, 6457, 6474, 6477, 6485, 6512, 6518, 6525, 6532, 6543, 6552, 6563, 6570, 6609, 6612, 6617, 6626, 6635, 6684, 6704, 6712, 6715, 6716, 6752, 6756, 6773, 6780, 6787, 6790, 6794, 6810, 6811, 6813, 6973, 6977, 6992, 6993, 7012, 7018, 7034, 7037, 7047, 7050, 7089, 7118, 7125, 7129, 7134, 7143, 7161, 7184, 7190, 7198, 7205, 7217, 7238, 7240, 7248, 7265, 7273, 7274, 7276, 7279, 7280, 7318, 7356, 7358, 7369, 7376, 7394, 7407, 7418, 7435, 7442, 7455, 7457, 7458, 7461, 7469, 7480, 7555, 7585, 7604, 7608, 7691, 7700, 7722, 7732, 7747, 7748, 7755, 7761, 7763, 7767, 7801, 7854, 7860, 7879, 7903, 7910, 7928, 7936, 7946, 7950, 7972, 7976, 7979, 7980, 7981, 8015, 8026, 8035, 8037, 8110, 8126, 8161, 8168, 8204, 8213, 8216, 8227, 8233, 8248, 8260, 8282, 8288, 8291, 8292, 8302, 8363, 8380, 8456, 8557, 8558, 8680, 8695, 8701, 8736, 8778, 8786, 8804, 8810, 8815, 8821, 8823, 8852, 8858, 8863, 8889, 8896, 8931, 8987, 8995, 9027, 9066, 9092, 9093, 9113, 9124, 9145, 9167, 9168, 9171, 9174, 9203, 9214, 9215, 9218, 9220, 9226, 9236, 9243, 9249, 9255, 9261, 9285, 9287, 9293, 9294, 9295, 9298, 9301, 9325, 9358, 9381, 9401, 9423, 9436, 9464, 9472, 9476, 9480, 9487, 9502, 9506, 9516, 9530, 9537, 9562, 9568, 9573, 9575, 9586, 9608, 9616, 9662, 9679, 9722, 9725, 9762, 9765, 9781, 9783, 9785, 9798, 9803, 9814, 9826, 9830, 9831, 9833, 9857, 9870, 9880, 9886, 9891, 9894, 9909, 9974, 10038, 10046, 10051, 10060, 10082, 10087, 10094, 10119, 10138, 10152, 10165, 10184, 10200, 10204, 10206, 10243, 10260, 10269, 10290, 10291, 10311, 10341, 10347, 10353, 10399, 10401, 10433, 10451, 10457, 10461, 10466, 10475, 10485, 10486, 10559, 10563, 10572, 10593, 10666, 10670, 10671, 10686, 10690, 10691, 10758, 10764, 10773, 10799, 10800, 10805, 10862, 10865, 10886, 10916, 10935, 10993, 11035, 11037, 11075, 11080, 11092, 11097, 11101, 11116, 11144, 11200, 11226, 11228, 11260, 11269, 11284, 11288, 11307, 11334, 11367, 11391, 11400, 11413, 11442, 11589, 11621, 11628, 11638, 11684, 11738, 11796, 11824, 11843, 11868, 11881, 11894, 11895, 11898, 11908, 11919, 11945, 11952, 12028, 12037, 12040, 12054, 12069, 12073, 12118, 12119, 12120, 12152, 12195, 12197, 12223, 12233, 12239, 12240, 12245, 12248, 12252, 12253, 12255, 12317, 12338, 12339, 12376, 12378, 12380, 12413, 12484, 12487, 12492, 12512, 12527, 12550, 12558, 12575, 12585, 12630, 12634, 12636, 12710, 12716, 12724, 12736, 12761, 12804, 12813, 12819, 12820, 12832, 12871, 12897, 12901, 12915, 12922, 12946, 12954, 12959, 12969, 12988, 13005, 13027, 13043, 13050, 13051, 13055, 13074, 13102, 13104, 13125, 13169, 13170, 13176, 13197, 13201, 13209, 13210, 13223, 13226, 13230, 13243, 13247, 13266, 13269, 13272, 13294, 13305, 13307, 13309, 13321, 13328, 13351, 13353, 13357, 13359, 13363, 13370, 13373, 13407, 13412, 13415, 13418, 13435, 13456, 13461, 13468, 13471, 13479, 13485, 13488, 13496, 13505, 13562, 13565, 13569, 13572, 13573, 13576, 13592, 13599, 13603, 13611, 13612, 13617, 13623, 13625, 13632, 13642, 13649, 13655, 13660, 13671, 13674, 13675, 13695, 13711, 13757, 13778, 13805, 13812, 13815, 13816, 13836, 13839, 13844, 13852, 13855, 13857, 13859, 13862, 13866, 13881, 13899, 13900, 13909, 13913, 13920, 13921, 13939, 13945, 13955, 13986, 13999, 14013, 14021, 14033, 14034, 14056, 14067, 14070, 14091, 14096, 14100, 14122, 14127, 14130, 14151, 14159, 14186, 14195, 14196, 14224, 14239, 14255, 14260, 14275, 14277, 14292, 14335, 14350, 14373, 14380, 14383, 14391, 14398, 14402, 14409, 14413, 14454, 14456, 14459, 14463, 14471, 14477, 14486, 14487, 14504, 14506, 14524, 14534, 14536, 14538, 14545, 14561, 14577, 14583, 14605, 14608, 14609, 14622, 14626, 14628, 14657, 14659, 14662, 14664, 14669, 14691, 14695, 14705, 14721, 14725, 14728, 14731, 14733, 14751, 14755, 14756, 14769, 14779, 14794, 14797, 14798, 14800, 14801, 14826, 14829, 14836, 14840, 14851, 14854, 14862, 14868, 14887, 14890, 14929, 14933, 14969, 14970, 14976, 15007, 15015, 15024, 15037, 15045, 15050, 15055, 15066, 15071, 15082, 15091, 15100, 15103, 15117, 15141, 15142, 15178, 15180, 15211, 15215, 15217, 15219, 15243, 15244, 15249, 15258, 15263, 15275, 15285, 15287, 15316, 15323, 15326, 15337, 15339, 15358, 15369, 15373, 15374, 15376, 15380, 15390, 15406, 15412, 15417, 15433, 15436, 15437, 15442, 15444, 15456, 15462, 15477, 15507, 15528, 15529, 15538, 15539, 15541, 15548, 15572, 15584, 15593, 15601, 15602, 15605, 15612, 15614, 15619, 15620, 15641, 15645, 15654, 15663, 15668, 15676, 15680, 15685, 15687, 15712, 15728, 15731, 15732, 15733, 15739, 15743, 15751, 15752, 15774, 15791, 15820, 15825, 15854, 15865, 15877, 15880, 15900, 15911, 15917, 15918, 15921, 15940, 15942, 15943, 15945, 15951, 15952, 15960, 15970, 15988, 15990, 15991, 15992, 16006, 16021, 16024, 16034, 16039, 16070, 16072, 16074, 16095, 16102, 16143, 16158, 16164, 16167, 16169, 16173, 16195, 16212, 16215, 16224, 16227, 16228, 16230, 16236, 16265, 16276, 16300, 16303, 16341, 16349, 16350, 16369, 16373, 16385, 16413, 16416, 16417, 16427, 16429, 16434, 16436, 16440, 16446, 16452, 16497, 16501, 16524, 16531, 16536, 16554, 16573, 16577, 16588, 16593, 16594, 16605, 16608, 16617, 16627, 16646, 16647, 16655, 16662, 16680, 16690, 16698, 16702, 16704, 16723, 16730, 16743, 16753, 16754, 16777, 16778, 16787, 16805, 16815, 16817, 16831, 16836, 16837, 16845, 16854, 16872, 16874, 16876, 16901, 16904, 16915, 16923, 16953, 16977, 16986, 17007, 17013, 17018, 17019, 17036, 17059, 17060, 17088, 17096, 17098, 17104, 17109, 17110, 17134, 17142, 17153, 17167, 17172, 17198, 17202, 17203, 17208, 17226, 17228, 17233, 17245, 17247, 17253, 17254, 17255, 17256, 17270, 17271, 17274, 17280, 17281, 17309, 17314, 17316, 17317, 17320, 17325, 17326, 17331, 17339, 17354, 17363, 17367, 17375, 17377, 17382, 17397, 17402, 17415, 17422, 17423, 17424, 17426, 17429, 17433, 17455, 17458, 17462, 17470, 17495, 17499, 17502, 17506, 17510, 17516, 17517, 17519, 17525, 17530, 17537, 17544, 17573, 17574, 17581, 17602, 17626, 17644, 17660, 17662, 17670, 17683, 17694, 17695, 17712, 17736, 17738, 17767, 17779, 17785, 17787, 17798, 17806, 17810, 17833, 17837, 17851, 17853, 17863, 17875, 17876, 17886, 17894, 17907, 17929, 17941, 17942, 17951, 17952, 17959, 17961, 17962, 17967, 18000, 18001, 18015, 18017, 18018, 18020, 18023, 18030, 18036, 18038, 18040, 18044, 18047, 18051, 18059, 18073, 18074, 18082, 18085, 18091, 18099, 18104, 18107, 18125, 18135, 18137, 18139, 18153, 18162, 18163, 18172, 18181, 18186, 18200, 18211, 18229, 18231, 18257, 18262, 18264, 18273, 18279, 18290, 18318, 18327, 18337, 18343, 18345, 18351, 18362, 18366, 18368, 18370, 18379, 18387, 18398, 18419, 18431, 18440, 18461, 18464, 18470, 18471, 18483, 18486, 18488, 18495, 18496, 18503, 18507, 18513, 18515, 18543, 18546, 18547, 18552, 18555, 18556, 18558, 18563, 18564, 18568, 18572, 18573, 18579, 18580, 18587, 18594, 18596, 18599, 18604, 18611, 18613, 18619, 18633, 18652, 18664, 18672, 18681, 18682, 18686, 18687, 18690, 18700, 18720, 18727, 18728, 18738, 18744, 18746, 18748, 18757, 18761, 18764, 18781, 18787, 18794, 18799, 18805, 18816, 18822, 18842, 18846, 18851, 18868, 18869, 18870, 18871, 18873, 18874, 18875, 18879, 18891, 18892, 18904, 18922, 18928, 18939, 18940, 18954, 18961, 18974, 18976, 18988, 18997, 19006, 19008, 19017, 19025, 19029, 19033, 19075, 19085, 19087, 19107, 19110, 19113, 19118, 19123, 19130, 19150, 19161, 19166, 19171, 19183, 19184, 19190, 19192, 19193, 19195, 19206, 19213, 19227, 19230, 19233, 19237, 19274, 19280, 19302, 19312, 19313, 19320, 19322, 19337, 19351, 19352, 19358, 19363, 19366, 19367, 19368, 19371, 19373, 19383, 19389, 19393, 19413, 19415, 19417, 19431, 19442, 19444, 19449, 19458, 19459, 19472, 19475, 19501, 19507, 19517, 19538, 19539, 19540, 19542, 19545, 19558, 19560, 19563, 19576, 19578, 19581, 19583, 19588, 19598, 19600, 19603, 19608, 19612, 19616, 19633, 19644, 19645, 19670, 19671, 19674, 19675, 19678, 19679, 19691, 19692, 19702, 19704, 19709, 19718, 19723, 19725, 19728, 19730, 19738, 19747, 19764, 19765, 19767, 19770, 19773, 19797, 19805, 19808, 19810, 19815, 19831, 19840, 19851, 19856, 19868, 19878, 19879, 19885, 19890, 19910, 19911, 19923, 19934, 19941, 19955, 19960, 19965, 19997, 19998, 19999, 20007, 20010, 20023, 20025, 20038, 20079, 20094, 20101, 20103, 20106, 20117, 20122, 20125, 20128, 20130, 20131, 20134, 20136, 20138, 20139, 20152, 20154, 20157, 20159, 20164, 20166, 20171, 20176, 20182, 20186, 20191, 20198, 20209, 20210, 20215, 20218, 20225, 20230, 20231, 20240, 20272, 20287, 20290, 20293, 20299, 20301, 20309, 20319, 20328, 20332, 20337, 20341, 20342, 20345, 20348, 20349, 20353, 20361, 20362, 20367, 20379, 20387, 20396, 20398, 20401, 20404, 20409, 20414, 20423, 20427, 20433, 20437, 20456, 20461, 20466, 20476, 20482, 20483, 20484, 20485, 20492, 20493, 20504, 20507, 20509, 20523, 20530, 20548, 20551, 20556, 20557, 20562, 20567, 20569, 20575, 20587, 20589, 20605, 20606, 20607, 20611, 20614, 20615, 20621, 20623, 20627, 20631, 20635, 20639, 20640, 20641, 20642, 20650, 20652, 20653, 20654, 20667, 20669, 20674, 20685, 20691, 20700, 20705, 20711, 20718, 20734, 20740, 20742, 20743, 20744, 20746, 20747, 20749, 20753, 20756, 20757, 20760, 20763, 20765, 20772, 20774, 20778, 20785, 20792, 20826, 20855, 20879, 20880, 20883, 20889, 20920, 20931, 20936, 20938, 20948, 20954, 20955, 20963, 20977, 20986, 21003, 21007, 21024, 21028, 21037, 21038, 21046, 21047, 21051, 21057, 21067, 21071, 21072, 21077, 21085, 21087, 21093, 21096, 21098, 21102, 21104, 21109, 21111, 21121, 21141, 21145, 21147, 21150, 21158, 21159, 21165, 21167, 21170, 21180, 21182, 21184, 21186, 21188, 21193, 21198, 21200, 21206, 21207, 21216, 21222, 21227, 21239, 21240, 21241, 21242, 21245, 21246, 21253, 21254, 21271, 21272, 21274, 21283, 21291, 21299, 21300, 21302, 21304, 21307, 21319, 21324, 21327, 21334, 21340, 21341, 21358, 21366, 21370, 21374, 21391, 21392, 21416, 21423, 21431, 21434, 21437, 21439, 21443, 21448, 21451, 21452, 21463, 21470, 21493, 21510, 21514, 21517, 21518, 21520, 21523, 21524, 21527, 21542, 21543, 21553, 21569, 21570, 21579, 21582, 21595, 21607, 21610, 21612, 21615, 21628, 21629, 21632, 21633, 21636, 21642, 21643, 21650, 21660, 21663, 21664, 21668, 21670, 21678, 21680, 21681, 21683, 21690, 21699, 21708, 21722, 21735, 21736, 21744, 21746, 21770, 21776, 21786, 21797, 21798, 21801, 21803, 21804, 21808, 21811, 21813, 21814, 21816, 21818, 21827, 21836, 21853, 21870, 21879, 21886, 21889, 21894, 21895, 21902, 21916, 21919, 21924, 21933, 21934, 21946, 21952, 21957, 21967, 21974, 21981, 21982, 21985, 21995, 21996, 22001, 22008, 22009, 22012, 22019, 22020, 22028, 22030, 22034, 22037, 22038, 22052, 22066, 22068, 22070, 22086, 22087, 22088, 22091, 22092, 22095, 22102, 22126, 22127, 22136, 22138, 22140, 22175, 22178, 22182, 22186, 22188, 22193, 22198, 22202, 22208, 22213, 22227, 22237, 22241, 22250, 22255, 22267, 22269, 22271, 22282, 22286, 22288, 22290, 22295, 22296, 22299, 22317, 22318, 22325, 22342, 22345, 22346, 22353, 22359, 22366, 22372, 22376, 22377, 22378, 22388, 22389, 22396, 22399, 22401, 22402, 22404, 22414, 22424, 22430, 22435, 22436, 22439, 22442, 22446, 22452, 22454, 22464, 22476, 22481, 22488, 22491, 22494, 22495, 22497, 22502, 22504, 22505, 22509, 22514, 22517, 22518, 22522, 22523, 22558, 22559, 22567, 22571, 22586, 22590, 22610, 22620, 22621, 22628, 22632, 22634, 22636, 22645, 22651, 22656, 22660, 22676, 22685, 22688, 22690, 22697, 22702, 22724, 22733, 22734, 22735, 22739, 22748, 22749, 22750, 22758, 22760, 22763, 22770, 22772, 22793, 22795, 22797, 22798, 22801, 22807, 22808, 22813, 22826, 22827, 22831, 22838, 22839, 22845, 22846, 22867, 22884, 22886, 22888, 22889, 22901, 22902, 22909, 22910, 22911, 22915, 22928, 22946, 22947, 22951, 22958, 22967, 22978, 22988, 22991, 22997, 22998, 23009, 23024, 23025, 23032, 23050, 23052, 23058, 23060, 23069, 23089, 23095, 23097, 23107, 23109, 23116, 23124, 23130, 23135, 23145, 23147, 23164, 23183, 23184, 23191, 23196, 23206, 23210, 23214, 23220, 23226, 23243, 23251, 23252, 23271, 23278, 23279, 23287, 23295, 23297, 23298, 23304, 23315, 23321, 23322, 23343, 23376, 23378, 23380, 23383, 23389, 23403, 23404, 23408, 23413, 23419, 23420, 23429, 23431, 23435, 23444, 23445, 23464, 23469, 23481, 23498, 23501, 23502, 23519, 23548, 23563, 23567, 23568, 23574, 23575, 23586, 23609, 23610, 23611, 23621, 23624, 23634, 23640, 23642, 23648, 23650, 23658, 23662, 23663, 23667, 23670, 23674, 23676, 23677, 23681, 23682, 23698, 23702, 23704, 23713, 23718, 23720, 23723, 23731, 23732, 23736, 23742, 23789, 23791, 23801, 23807, 23812, 23827, 23835, 23842, 23844, 23848, 23851, 23855, 23866, 23869, 23870, 23879, 23881, 23884, 23887, 23912, 23922, 23925, 23927, 23937, 23950, 23963, 23967, 23970, 23980, 23987, 23995, 23998, 24002, 24008, 24016, 24025, 24029, 24030, 24031, 24039, 24044, 24046, 24048, 24050, 24053, 24063, 24065, 24070, 24076, 24077, 24094, 24095, 24098, 24100, 24118, 24124, 24127, 24133, 24150, 24151, 24155, 24157, 24165, 24167, 24174, 24200, 24212, 24224, 24233, 24234, 24280, 24285, 24287, 24294, 24300, 24307, 24313, 24318, 24322, 24324, 24325, 24327, 24328, 24335, 24337, 24342, 24369, 24375, 24384, 24385, 24401, 24412, 24422, 24424, 24435, 24448, 24451, 24453, 24477, 24485, 24490, 24504, 24505, 24524, 24527, 24528, 24539, 24552, 24556, 24598, 24603, 24608, 24612, 24618, 24623, 24670, 24677, 24678, 24680, 24684, 24701, 24705, 24713, 24734, 24738, 24740, 24756, 24758, 24780, 24795, 24810, 24824, 24838, 24842, 24847, 24849, 24882, 24884, 24912, 24913, 24914, 24925, 24926, 24928, 24934, 24935, 24938, 24953, 24971, 24976, 24978, 24979, 24981, 24984, 24985, 24999, 25000, 25060, 25062, 25063, 25067, 25068, 25072, 25074, 25079, 25082, 25087, 25095, 25098, 25115, 25117, 25128, 25129, 25132, 25134, 25163, 25167, 25185, 25187, 25190, 25191, 25195, 25198, 25216, 25221, 25231, 25236, 25242, 25249, 25254, 25257, 25258, 25259, 25263, 25271, 25274, 25275, 25282, 25283, 25299, 25306, 25321, 25323, 25326, 25334, 25340, 25349, 25350, 25357, 25365, 25368, 25370, 25371, 25372, 25374, 25381, 25388, 25415, 25429, 25430, 25436, 25437, 25442, 25445, 25475, 25480, 25482, 25484, 25486, 25489, 25493, 25494, 25500, 25502, 25504, 25514, 25519, 25521, 25524, 25525, 25538, 25541, 25542, 25544, 25556, 25561, 25568, 25571, 25579, 25585, 25596, 25600, 25602, 25610, 25614, 25617, 25630, 25632, 25638, 25640, 25646, 25660, 25673, 25677, 25680, 25683, 25684, 25689, 25692, 25697, 25712, 25715, 25717, 25723, 25724, 25725, 25728, 25747, 25751, 25753, 25762, 25775, 25786, 25804, 25807, 25809, 25813, 25817, 25822, 25825, 25826, 25829, 25832, 25833, 25834, 25847, 25848, 25849, 25852, 25855, 25858, 25859, 25875, 25876, 25877, 25887, 25892, 25895, 25899, 25926, 25929, 25939, 25944, 25957, 25983, 25992, 25994, 25996, 26000, 26006, 26014, 26030, 26060, 26075, 26095, 26099, 26100, 26109, 26113, 26134, 26140, 26150, 26157, 26163, 26175, 26184, 26191, 26197, 26199, 26205, 26206, 26209, 26212, 26236, 26265, 26274, 26289, 26290, 26296, 26306, 26327, 26370, 26379, 26389, 26398, 26399, 26408, 26455, 26459, 26479, 26480, 26482, 26489, 26505, 26515, 26530, 26536, 26537, 26545, 26584, 26591, 26594, 26605, 26607, 26617, 26618, 26627, 26630, 26638, 26641, 26645, 26650, 26651, 26666, 26674, 26679, 26680, 26699, 26700, 26717, 26720, 26727, 26730, 26735, 26767, 26768, 26773, 26784, 26785, 26790, 26791, 26792, 26793, 26795, 26796, 26797, 26822, 26827, 26834, 26841, 26843, 26850, 26851, 26854, 26856, 26863, 26866, 26881, 26884, 26892, 26895, 26896, 26911, 26916, 26920, 26923, 26945, 26948, 26949, 26955, 26974, 26975, 26977, 26979, 26982, 26997, 27001, 27008, 27014, 27034, 27041, 27043, 27047, 27050, 27063, 27071, 27076, 27079, 27080, 27082, 27095, 27097, 27100, 27103, 27110, 27118, 27123, 27134, 27165, 27172, 27181, 27188, 27210, 27220, 27222, 27245, 27247, 27271, 27286, 27294, 27296, 27297, 27298, 27299, 27305, 27306, 27308, 27311, 27313, 27319, 27320, 27328, 27340, 27342, 27346, 27365, 27375, 27378, 27387, 27405, 27407, 27410, 27421, 27432, 27445, 27447, 27457, 27466, 27472, 27475, 27483, 27484, 27487, 27490, 27491, 27497, 27498, 27499, 27501, 27504, 27506, 27510, 27515, 27526, 27531, 27533, 27545, 27546, 27550, 27553, 27557, 27565, 27568, 27578, 27581, 27594, 27597, 27599, 27602, 27604, 27606, 27608, 27611, 27613, 27618, 27623, 27630, 27631, 27632, 27637, 27640, 27652, 27657, 27667, 27672, 27679, 27688, 27693, 27695, 27712, 27718, 27721, 27726, 27741, 27746, 27749, 27752, 27754, 27755, 27763, 27765, 27768, 27769, 27783, 27786, 27797, 27800, 27802, 27803, 27807, 27808, 27820, 27828, 27834, 27836, 27845, 27846, 27848, 27849, 27851, 27852, 27853, 27870, 27872, 27886, 27900, 27909, 27931, 27933, 27939, 27940, 27950, 27951, 27954, 27964, 27967, 27984, 27986, 27999, 28005, 28006, 28010, 28020, 28039, 28040, 28060, 28062, 28087, 28095, 28099, 28120, 28124, 28125, 28128, 28133, 28135, 28137, 28138, 28140, 28143, 28146, 28147, 28148, 28154, 28160, 28172, 28178, 28196, 28206, 28209, 28226, 28241, 28247, 28251, 28252, 28254, 28263, 28269, 28273, 28279, 28281, 28282, 28283, 28284, 28285, 28291, 28296, 28299, 28300, 28311, 28318, 28319, 28322, 28326, 28331, 28336, 28350, 28358, 28365, 28369, 28375, 28377, 28379, 28382, 28387, 28388, 28398, 28403, 28406, 28409, 28415, 28417, 28423, 28431, 28432, 28438, 28442, 28458, 28471, 28472, 28473, 28482, 28483, 28486, 28488, 28494, 28495, 28507, 28510, 28511, 28516, 28517, 28520, 28524, 28529, 28531, 28532, 28536, 28540, 28568, 28579, 28588, 28591, 28597, 28602, 28605, 28617, 28621, 28628, 28631, 28632, 28638, 28648, 28666, 28670, 28684, 28686, 28696, 28700, 28706, 28721, 28729, 28740, 28742, 28749, 28751, 28766, 28768, 28774, 28785, 28786, 28796, 28801, 28804, 28839, 28840, 28843, 28859, 28860, 28864, 28873, 28874, 28876, 28881, 28890, 28891, 28893, 28894, 28901, 28903, 28904, 28917, 28927, 28932, 28944, 28945, 28949, 28959, 28964, 28966, 28972, 28975, 28985, 29007, 29008, 29021, 29025, 29047, 29054, 29059, 29091, 29098, 29099, 29104, 29105, 29109, 29110, 29113, 29118, 29124, 29131, 29137, 29138, 29140, 29144, 29145, 29147, 29149, 29150, 29154, 29161, 29165, 29171, 29175, 29176, 29182, 29187, 29191, 29193, 29196, 29199, 29200, 29201, 29202, 29203, 29207, 29212, 29222, 29228, 29232, 29233, 29236, 29238, 29241, 29243, 29250, 29251, 29258, 29259, 29261, 29263, 29264, 29268, 29273, 29276, 29281, 29286, 29287, 29292, 29295, 29299, 29304, 29305, 29307, 29309, 29313, 29314, 29319, 29330, 29346, 29351, 29355, 29367, 29368, 29370, 29377, 29388, 29408, 29415, 29416, 29417, 29420, 29436, 29443, 29446, 29451, 29461, 29465, 29468, 29469, 29474, 29492, 29493, 29494, 29503, 29504, 29505, 29507, 29508, 29510, 29513, 29515, 29516, 29527, 29542, 29546, 29548, 29551, 29557, 29569, 29571, 29572, 29599, 29600, 29620, 29621, 29624, 29630, 29638, 29657, 29664, 29665, 29667, 29694, 29704, 29706, 29708, 29723, 29727, 29730, 29731, 29733, 29739, 29747, 29751, 29752, 29753, 29754, 29756, 29757, 29758, 29761, 29765, 29773, 29780, 29795, 29804, 29816, 29817, 29819, 29829, 29835, 29836, 29838, 29851, 29864, 29868, 29874, 29876, 29877, 29878, 29880, 29897, 29902, 29906, 29910, 29924, 29933, 29937, 29941, 29944, 29945, 29946, 29964, 29969, 29971, 29989, 29995, 30005, 30009, 30010, 30038, 30039, 30044, 30052, 30060, 30063, 30070, 30071, 30072, 30073, 30086, 30089, 30099, 30104, 30108, 30112, 30116, 30119, 30121, 30124, 30125, 30129, 30138, 30153, 30159, 30166, 30169, 30178, 30184, 30190, 30209, 30235, 30256, 30275, 30287, 30296, 30299, 30307, 30309, 30311, 30320, 30323, 30324, 30330, 30335, 30340, 30341, 30342, 30343, 30344, 30345, 30348, 30356, 30358, 30362, 30363, 30364, 30365, 30367, 30369, 30371, 30374, 30375, 30376, 30377, 30378, 30380, 30381, 30382, 30385, 30387, 30388, 30407, 30410, 30416, 30418, 30419, 30424, 30428, 30431, 30436, 30441, 30442, 30449, 30453, 30457, 30458, 30459, 30461, 30462, 30467, 30470, 30476, 30477, 30478, 30488, 30489, 30492, 30493, 30498, 30508, 30509, 30510, 30511, 30517, 30519, 30547, 30548, 30554, 30555, 30559, 30560, 30564, 30568, 30569, 30573, 30583, 30591, 30598, 30601, 30602, 30603, 30611, 30616, 30617, 30618, 30620, 30624, 30629, 30647, 30648, 30655, 30657, 30661, 30662, 30665, 30670, 30678, 30682, 30687, 30695, 30709, 30713, 30718, 30720, 30727, 30729, 30744, 30745, 30748, 30753, 30755, 30758, 30765, 30777, 30782, 30790, 30819, 30821, 30822, 30829, 30830, 30832, 30834, 30836, 30845, 30848, 30850, 30855, 30856, 30857, 30860, 30863, 30864, 30872, 30875, 30879, 30891, 30892, 30895, 30896, 30905, 30908, 30911, 30922, 30923, 30924, 30925, 30928, 30933, 30934, 30935, 30936, 30937, 30941, 30944, 30946, 30954, 30973, 30974, 30979, 31000, 31006, 31007, 31008, 31010, 31014, 31015, 31023, 31025, 31028, 31032, 31037, 31043, 31044, 31049, 31050, 31053, 31056, 31074, 31075, 31076, 31078, 31079, 31080, 31091, 31122, 31124, 31131, 31133, 31136, 31139, 31140, 31153, 31155, 31162, 31163, 31164, 31169, 31171, 31175, 31185, 31194, 31199, 31200, 31204, 31206, 31209, 31211, 31212, 31226, 31227, 31229, 31234, 31236, 31243, 31250, 31257, 31266, 31267, 31269, 31274, 31277, 31278, 31283, 31294, 31313, 31314, 31315, 31316, 31317, 31318, 31319, 31320, 31324, 31328, 31336, 31344, 31345, 31346, 31349, 31353, 31359, 31360, 31361, 31362, 31363, 31365, 31367, 31368, 31369, 31375, 31379, 31380, 31387, 31396, 31400, 31414, 31415, 31421, 31427, 31429, 31432, 31433, 31434, 31437, 31439, 31441, 31451, 31457, 31459, 31462, 31464, 31466, 31467, 31470, 31472, 31473, 31475, 31478, 31479, 31489, 31490, 31492, 31504, 31505, 31520, 31525, 31532, 31534, 31536, 31543, 31548, 31549, 31555, 31558, 31566, 31572, 31580, 31581, 31585, 31586, 31588, 31589, 31606, 31616, 31623, 31624, 31646, 31654, 31656, 31665, 31667, 31674, 31676, 31677, 31683, 31699, 31701, 31716, 31717, 31718, 31720, 31727, 31728, 31731, 31733, 31741, 31761, 31762, 31767, 31768, 31769, 31771, 31772, 31774, 31775, 31776, 31777, 31779, 31780, 31781, 31784, 31791, 31795, 31798, 31807, 31808, 31814, 31815, 31822, 31825, 31828, 31833, 31840, 31842, 31847, 31851, 31852, 31860, 31861, 31867, 31887, 31892, 31914, 31915, 31918, 31921, 31923, 31933, 31937, 31941, 31947, 31957, 31958, 31960, 31963, 31965, 31966, 31968, 31982, 31983, 31984, 31987, 31997, 31998, 32000, 32001, 32003, 32008, 32012, 32027, 32030, 32039, 32041, 32042, 32043, 32066, 32068, 32070, 32071, 32072, 32073, 32075, 32076, 32083, 32086, 32104, 32108, 32118, 32122, 32123, 32137, 32140, 32145, 32147, 32152, 32154, 32155, 32157, 32165, 32167, 32168, 32178, 32193, 32214, 32218, 32220, 32222, 32225, 32226, 32230, 32233, 32241, 32252, 32256, 32257, 32259, 32265, 32272, 32274, 32276, 32277, 32278, 32281, 32282, 32284, 32285, 32286, 32287, 32288, 32296, 32297, 32306, 32310, 32317, 32328, 32329, 32341, 32346, 32348, 32352, 32354, 32355, 32360, 32361, 32367, 32373, 32379, 32385, 32387, 32394, 32395, 32402, 32404, 32425, 32438, 32453, 32457, 32460, 32464, 32468, 32473, 32481, 32482, 32488, 32489, 32492, 32496, 32497, 32498, 32499, 32507, 32513, 32515, 32521, 32528, 32536, 32541, 32548, 32556, 32575, 32576, 32578, 32580, 32585, 32601, 32603, 32606, 32607, 32620, 32623, 32637, 32640, 32644, 32648, 32649, 32652, 32657, 32662, 32665, 32670, 32678, 32685, 32686, 32694, 32698, 32702, 32709, 32715, 32717, 32718, 32726, 32738, 32751, 32763, 32790, 32804, 32807, 32808, 32813, 32814, 32815, 32830, 32831, 32838, 32839, 32853, 32877, 32881, 32884, 32892, 32915, 32917, 32921, 32923, 32926, 32945, 32948, 32961, 32977, 32980, 32983, 32992, 33016, 33029, 33030, 33044, 33045, 33046, 33051, 33054, 33055, 33061, 33075, 33080, 33081, 33082, 33086, 33095, 33099, 33100, 33101, 33111, 33120, 33126, 33143, 33151, 33154, 33161, 33166, 33172, 33174, 33176, 33181, 33190, 33191, 33195, 33218, 33225, 33241, 33262, 33279, 33280, 33281, 33287, 33308, 33319, 33325, 33327, 33328, 33332, 33337, 33344, 33347, 33351, 33353, 33357, 33367, 33370, 33383, 33384, 33391, 33397, 33402, 33403, 33411, 33413, 33414, 33424, 33431, 33432, 33437, 33444, 33447, 33450, 33453, 33458, 33465, 33476, 33478, 33481, 33486, 33488, 33489, 33496, 33501, 33502, 33503, 33505, 33507, 33512, 33521, 33523, 33528, 33530, 33531, 33532, 33534, 33555, 33557, 33570, 33571, 33575, 33582, 33592, 33603, 33606, 33608, 33613, 33616, 33620, 33622, 33624, 33630, 33632, 33639, 33642, 33643, 33644, 33647, 33649, 33651, 33656, 33661, 33687, 33726, 33744, 33753, 33821, 33824, 33831, 33834, 33836, 33855, 33859, 33870, 33873, 33880, 33887, 33888, 33898, 33908, 33915, 33916, 33923, 33925, 33942, 33948, 33962, 33963, 33970, 33973, 33979, 33987, 34000, 34002, 34005, 34007, 34012, 34013, 34015, 34016, 34019, 34024, 34027, 34101, 34105, 34106, 34117, 34119, 34120, 34123, 34133, 34134, 34148, 34158, 34161, 34162, 34165, 34171, 34172, 34177, 34180, 34181, 34184, 34187, 34192, 34194, 34198, 34199, 34204, 34205, 34207, 34214, 34218, 34229, 34230, 34234, 34244, 34245, 34256, 34260, 34261, 34270, 34272, 34274, 34275, 34276, 34279, 34280, 34282, 34285, 34286, 34288, 34289, 34290, 34291, 34293, 34308, 34313, 34314, 34319, 34324, 34326, 34327, 34329, 34332, 34333, 34335, 34340, 34341, 34349, 34350, 34351, 34352, 34353, 34358, 34359, 34362, 34363, 34367, 34369, 34375, 34377, 34382, 34393, 34398, 34408, 34409, 34412, 34413, 34415, 34416, 34417, 34418, 34421, 34422, 34424, 34426, 34427, 34428, 34429, 34430, 34432, 34433, 34437, 34440, 34446, 34450, 34451, 34457, 34462, 34466, 34472, 34473, 34475, 34479, 34480, 34481, 34483, 34491, 34493, 34503, 34513, 34515, 34518, 34540, 34543, 34544, 34545, 34547, 34549, 34550, 34557, 34561, 34562, 34569, 34570, 34590, 34596, 34597, 34598, 34599, 34602, 34604, 34606, 34614, 34616, 34622, 34623, 34634, 34652, 34655, 34656, 34659, 34662, 34665, 34666, 34668, 34675, 34678, 34698, 34699, 34700, 34702, 34730, 34731, 34736, 34737, 34742, 34746, 34750, 34751, 34772, 34774, 34775, 34779, 34785, 34800, 34809, 34810, 34813, 34816, 34818, 34819, 34822, 34823, 34829, 34844, 34846, 34858, 34868, 34871, 34874, 34882, 34883, 34884, 34886, 34887, 34888, 34893, 34895, 34903, 34913, 34915, 34941, 34960, 34963, 34964, 34965, 34980, 34985, 35002, 35003, 35004, 35061, 35062, 35069, 35073, 35076, 35115, 35119, 35121, 35126, 35132, 35133, 35137, 35140, 35146, 35152, 35154, 35162, 35171, 35174, 35177, 35178, 35197, 35200, 35205, 35208, 35224, 35225, 35229, 35230, 35231, 35232, 35234, 35236, 35237, 35250, 35254, 35258, 35263, 35264, 35266, 35277, 35278, 35282, 35283, 35285, 35288, 35298, 35306, 35313, 35315, 35316, 35317, 35319, 35322, 35326, 35332, 35339, 35341, 35342, 35344, 35345, 35346, 35347, 35348, 35359, 35366, 35369, 35370, 35374, 35376, 35379, 35380, 35393, 35395, 35400, 35401, 35408, 35411, 35420, 35449, 35450, 35451, 35452, 35453, 35466, 35467, 35468, 35469, 35473, 35479, 35480, 35481, 35484, 35487, 35493, 35500, 35501, 35503, 35513, 35514, 35536, 35537, 35554, 35557, 35559, 35574, 35575, 35576, 35583, 35587, 35589, 35595, 35617, 35630, 35632, 35639, 35640, 35643, 35646, 35652, 35653, 35654, 35655, 35658, 35665, 35669, 35679, 35686, 35689, 35690, 35715, 35716, 35728, 35732, 35742, 35757, 35762, 35768, 35773, 35776, 35782, 35783, 35787, 35793, 35794, 35819, 35820, 35822, 35827, 35828, 35829, 35837, 35839, 35849, 35851, 35852, 35861, 35866, 35874, 35879, 35880, 35882, 35897, 35900, 35901, 35903, 35905, 35907, 35908, 35915, 35927, 35935, 35946, 35948, 35951, 35954, 35956, 35958, 35962, 35972, 35979, 35981, 35985, 35988, 35989, 35993, 35994, 35996, 36012, 36017, 36020, 36021, 36023, 36024, 36030, 36034, 36036, 36041, 36044, 36058, 36060, 36062, 36068, 36069, 36073, 36074, 36080, 36081, 36085, 36093, 36095, 36097, 36099, 36101, 36103, 36105, 36106, 36107, 36117, 36120, 36123, 36124, 36126, 36127, 36142, 36150, 36155, 36160, 36162, 36165, 36176, 36177, 36183, 36185, 36188, 36193, 36195, 36199, 36203, 36207, 36208, 36213, 36215, 36221, 36222, 36238, 36250, 36272, 36282, 36283, 36287, 36289, 36294, 36295, 36298, 36314, 36320, 36321, 36324, 36328, 36338, 36339, 36343, 36353, 36357, 36358, 36359, 36360, 36364, 36367, 36374, 36379, 36388, 36391, 36399, 36400, 36402, 36404, 36407, 36408, 36413, 36421, 36430, 36433, 36435, 36447, 36453, 36457, 36462, 36464, 36465, 36467, 36469, 36470, 36472, 36475, 36478, 36479, 36487, 36488, 36493, 36496, 36498, 36500, 36502, 36504, 36505, 36512, 36513, 36516, 36523, 36524, 36525, 36529, 36530, 36531, 36532, 36533, 36534, 36538, 36540, 36546, 36550, 36552, 36556, 36557, 36558, 36561, 36562, 36565, 36566, 36567, 36568, 36569, 36570, 36572, 36573, 36575, 36577, 36579, 36583, 36584, 36585, 36586, 36592, 36594, 36595, 36596, 36608, 36612, 36613, 36615, 36616, 36618, 36619, 36620, 36621, 36625, 36627, 36629, 36632, 36633, 36634, 36641, 36644, 36654, 36657, 36658, 36660, 36661, 36662, 36664, 36669, 36677, 36680, 36684, 36699, 36705, 36718, 36723, 36725, 36727, 36729, 36732, 36737, 36750, 36753, 36754, 36757, 36759, 36763, 36770, 36776, 36777, 36782, 36785, 36792, 36793, 36801, 36810, 36811, 36812, 36815, 36817, 36820, 36822, 36824, 36826, 36831, 36832, 36833, 36834, 36838, 36839, 36840, 36841, 36843, 36847, 36860, 36868, 36870, 36871, 36873, 36879, 36883, 36886, 36890, 36896, 36897, 36898, 36900, 36905, 36907, 36909, 36911, 36918, 36920, 36921, 36928, 36937, 36941, 36943, 36944, 36948, 36949, 36950, 36952, 36955, 36962, 36963, 36971, 36972, 36988, 36992, 36993, 36997, 37001, 37005, 37008, 37009, 37012, 37013, 37015, 37028, 37032, 37035, 37038, 37039, 37040, 37041, 37042, 37046, 37050, 37063, 37064, 37071, 37079, 37086, 37087, 37090, 37094, 37098, 37099, 37112, 37118, 37121, 37126, 37127, 37134, 37138, 37139, 37140, 37143, 37151, 37159, 37164, 37165, 37170, 37174, 37185, 37191, 37192, 37201, 37209, 37212, 37214, 37223, 37227, 37235, 37239, 37241, 37247, 37251, 37260, 37261, 37264, 37269, 37271, 37273, 37275, 37289, 37297, 37302, 37311, 37316, 37319, 37321, 37325, 37327, 37335, 37338, 37344, 37345, 37347, 37349, 37350, 37352, 37354, 37355, 37359, 37360, 37361, 37375, 37379, 37382, 37384, 37388, 37389, 37394, 37395, 37397, 37398, 37404, 37412, 37413, 37416, 37418, 37419, 37426, 37427, 37428, 37430, 37439, 37444, 37450, 37455, 37456, 37458, 37465, 37466, 37468, 37469, 37471, 37473, 37475, 37477, 37486, 37490, 37492, 37520, 37529, 37537, 37539, 37543, 37552, 37554, 37558, 37579, 37601, 37602, 37603, 37605, 37615, 37617, 37631, 37634, 37636, 37640, 37643, 37645, 37648, 37657, 37661, 37664, 37665, 37678, 37688, 37694, 37705, 37706, 37707, 37709, 37713, 37716, 37718, 37725, 37739, 37740, 37743, 37744, 37747, 37748, 37754, 37757, 37758, 37761, 37776, 37781, 37783, 37785, 37789, 37794, 37797, 37798, 37799, 37804, 37809, 37812, 37818, 37826, 37829, 37859, 37865, 37867, 37871, 37873, 37894, 37896, 37901, 37904, 37906, 37910, 37911, 37914, 37915, 37917, 37928, 37929, 37934, 37943, 37944, 37947, 37948, 37958, 37959, 37965, 37970, 37977, 37985, 37986, 37988, 37990, 37992, 37999, 38000, 38004, 38010, 38011, 38012, 38017, 38018, 38026, 38031, 38032, 38042, 38046, 38047, 38052, 38053, 38055, 38056, 38057, 38066, 38067, 38069, 38070, 38074, 38077, 38080, 38081, 38085, 38086, 38090, 38091, 38099, 38102, 38106, 38112, 38114, 38115, 38117, 38147, 38153, 38156, 38161, 38165, 38168, 38175, 38178, 38180, 38181, 38183, 38185, 38201, 38203, 38218, 38225, 38235, 38240, 38248, 38250, 38266, 38267, 38277, 38278, 38282, 38290, 38291, 38299, 38308, 38315, 38316, 38324, 38325, 38329, 38331, 38340, 38347, 38349, 38353, 38356, 38359, 38362, 38364, 38366, 38370, 38372, 38377, 38390, 38393, 38396, 38398, 38399, 38400, 38403, 38404, 38411, 38412, 38414, 38415, 38416, 38421, 38426, 38427, 38428, 38436, 38437, 38438, 38445, 38448, 38454, 38455, 38456, 38457, 38463, 38465, 38467, 38468, 38470, 38483, 38484, 38489, 38494, 38498, 38499, 38513, 38518, 38534, 38535, 38536, 38541, 38542, 38544, 38546, 38559, 38560, 38569, 38570, 38571, 38576, 38586, 38587, 38593, 38602, 38606, 38618, 38620, 38641, 38660, 38663, 38666, 38671, 38672, 38673, 38677, 38680, 38681, 38682, 38684, 38687, 38690, 38696, 38701, 38702, 38705, 38707, 38709, 38713, 38719, 38726, 38728, 38729, 38730, 38733, 38734, 38742, 38743, 38744, 38745, 38747, 38748, 38749, 38750, 38752, 38755, 38758, 38759, 38761, 38762, 38764, 38770, 38771, 38777, 38779, 38785, 38786, 38791, 38792, 38811, 38815, 38823, 38825, 38826, 38828, 38829, 38837, 38840, 38848, 38851, 38857, 38860, 38865, 38866, 38867, 38868, 38871, 38872, 38874, 38875, 38876, 38893, 38895, 38905, 38906, 38910, 38927, 38928, 38933, 38936, 38943, 38947, 38959, 38960, 38967, 38978, 38989, 38990, 38991, 38995, 38997, 39010, 39015, 39019, 39025, 39028, 39031, 39034, 39036, 39037, 39048, 39065, 39066, 39080, 39081, 39086, 39095, 39123, 39136, 39138, 39143, 39150, 39151, 39156, 39165, 39169, 39172, 39173, 39186, 39193, 39198, 39214, 39221, 39225, 39230, 39239, 39240, 39243, 39244, 39258, 39262, 39265, 39269, 39274, 39281, 39283, 39290, 39293, 39301, 39303, 39311, 39314, 39320, 39339, 39344, 39351, 39352, 39354, 39363, 39370, 39375, 39391, 39392, 39414, 39422, 39433, 39441, 39443, 39462, 39465, 39468, 39469, 39470, 39471, 39472, 39482, 39483, 39489, 39499, 39503, 39506, 39514, 39516, 39520, 39525, 39526, 39529, 39538, 39540, 39541, 39542, 39543, 39544, 39546, 39551, 39555, 39561, 39572, 39592, 39596, 39604, 39606, 39607, 39608, 39611, 39615, 39616, 39619, 39622, 39627, 39642, 39643, 39653, 39655, 39674, 39677, 39683, 39691, 39692, 39693, 39698, 39700, 39702, 39707, 39711, 39720, 39725, 39726, 39728, 39731, 39732, 39733, 39736, 39737, 39739, 39740, 39741, 39745, 39747, 39748, 39749, 39754, 39763, 39767, 39769, 39770, 39774, 39776, 39781, 39786, 39809, 39818, 39839, 39840, 39841, 39858, 39864, 39865, 39866, 39870, 39872, 39894, 39896, 39904, 39909, 39918, 39919, 39928, 39934, 39936, 39939, 39940, 39945, 39950, 39957, 39958, 39961, 39965, 39969, 39979, 39980, 39981, 39992, 39993, 40011, 40013, 40016, 40019, 40031, 40048, 40054, 40063, 40064, 40065, 40066, 40071, 40072, 40073, 40080, 40082, 40092, 40098, 40099, 40100, 40101, 40103, 40105, 40106, 40118, 40119, 40127, 40130, 40131, 40141, 40142, 40147, 40149, 40151, 40152, 40156, 40160, 40162, 40163, 40170, 40173, 40180, 40181, 40197, 40203, 40204, 40205, 40209, 40211, 40213, 40216, 40218, 40220, 40225, 40238, 40243, 40245, 40249, 40255, 40262, 40266, 40269, 40271, 40273, 40289, 40295, 40298, 40301, 40320, 40324, 40327, 40329, 40334, 40338, 40343, 40350, 40353, 40360, 40362, 40367, 40368, 40376, 40383, 40394, 40396, 40400, 40402, 40405, 40413, 40417, 40421, 40430, 40451, 40466, 40467, 40469, 40490, 40493, 40494, 40502, 40505, 40512, 40513, 40515, 40521, 40524, 40533, 40546, 40547, 40549, 40554, 40558, 40569, 40576, 40584, 40594, 40597, 40599, 40602, 40604, 40621, 40637, 40644, 40654, 40659, 40663, 40673, 40684, 40689, 40703, 40704, 40706, 40713, 40715, 40719, 40723, 40740, 40742, 40744, 40754, 40755, 40769, 40770, 40777, 40778, 40781, 40784, 40786, 40787, 40788, 40789, 40790, 40791, 40800, 40801, 40806, 40811, 40813, 40821, 40824, 40827, 40828, 40829, 40832, 40837, 40842, 40848, 40849, 40852, 40857, 40859, 40864, 40865, 40883, 40884, 40913, 40919, 40921, 40930, 40931, 40936, 40938, 40939, 40942, 40954, 40959, 40965, 40966, 40968, 40971, 40975, 40977, 40978, 40980, 40982, 40988, 40989, 41009, 41014, 41019, 41021, 41027, 41028, 41030, 41034, 41036, 41039, 41040, 41042, 41047, 41048, 41064, 41067, 41069, 41071, 41073, 41076, 41096, 41098, 41101, 41104, 41107, 41110, 41114, 41126, 41132, 41137, 41146, 41153, 41157, 41171, 41182, 41184, 41185, 41187, 41188, 41189, 41193, 41194, 41203, 41204, 41205, 41208, 41214, 41225, 41228, 41232, 41244, 41246, 41250, 41256, 41260, 41265, 41273, 41274, 41291, 41292, 41294, 41299, 41307, 41316, 41323, 41337, 41340, 41343, 41351, 41357, 41358, 41359, 41369, 41370, 41372, 41375, 41378, 41399, 41406, 41411, 41425, 41427, 41428, 41429, 41438, 41442, 41444, 41446, 41473, 41480, 41484, 41498, 41499, 41505, 41506, 41533, 41541, 41542, 41544, 41550, 41552, 41553, 41559, 41560, 41561, 41563, 41574, 41577, 41578, 41590, 41594, 41600, 41605, 41608, 41612, 41618, 41619, 41620, 41622, 41623, 41624, 41625, 41626, 41627, 41628, 41629, 41632, 41634, 41635, 41645, 41650, 41656, 41658, 41660, 41682, 41683, 41685, 41686, 41687, 41694, 41695, 41696, 41699, 41710, 41718, 41719, 41721, 41723, 41724, 41731, 41736, 41738, 41751, 41757, 41760, 41770, 41785, 41786, 41789, 41792, 41794, 41796, 41797, 41801, 41804, 41813, 41816, 41817, 41823, 41826, 41836, 41837, 41846, 41849, 41853, 41856, 41858, 41861, 41868, 41869, 41874, 41879, 41881, 41883, 41895, 41896, 41899, 41900, 41905, 41921, 41923, 41932, 41939, 41942, 41944, 41948, 41949, 41974, 41979, 41980, 41986, 41993, 42002, 42004, 42014, 42029, 42035, 42037, 42041, 42043, 42044, 42045, 42046, 42047, 42049, 42058, 42062, 42067, 42073, 42078, 42080, 42081, 42092, 42093, 42099, 42103, 42126, 42132, 42141, 42145, 42148, 42150, 42178, 42190, 42191, 42192, 42194, 42198, 42212, 42213, 42221, 42225, 42229, 42232, 42239, 42241, 42263, 42264, 42266, 42268, 42276, 42278, 42279, 42280, 42281, 42289, 42290, 42292, 42302, 42307, 42324, 42326, 42336, 42338, 42349, 42362, 42363, 42364, 42366, 42370, 42371, 42372, 42390, 42398, 42401, 42407, 42410, 42413, 42415, 42418, 42419, 42420, 42429, 42430, 42437, 42448, 42452, 42459, 42461, 42463, 42489, 42490, 42492, 42497, 42506, 42507, 42509, 42551, 42566, 42568, 42569, 42573, 42587, 42597, 42598, 42601, 42606, 42614, 42636, 42637, 42647, 42648, 42652, 42656, 42660, 42661, 42665, 42680, 42682, 42699, 42707, 42728, 42731, 42748, 42751, 42758, 42760, 42767, 42780, 42783, 42788, 42790, 42799, 42800, 42817, 42819, 42828, 42830, 42831, 42833, 42851, 42854, 42859, 42867, 42871, 42873, 42883, 42884, 42885, 42899, 42900, 42915, 42918, 42920, 42924, 42925, 42932, 42934, 42936, 42941, 42950, 42960, 42961, 42968, 42969, 42989, 43008, 43014, 43020, 43021, 43022, 43023, 43025, 43029, 43031, 43035, 43038, 43056, 43068, 43069, 43077, 43078, 43083, 43086, 43097, 43102, 43117, 43120, 43121, 43133, 43139, 43143, 43149, 43155, 43158, 43167, 43169, 43174, 43188, 43194, 43195, 43196, 43209, 43211, 43236, 43244, 43246, 43254, 43259, 43266, 43271, 43299, 43304, 43305, 43310, 43314, 43326, 43330, 43333, 43334, 43341, 43356, 43360, 43367, 43370, 43392, 43398, 43414, 43420, 43421, 43426, 43427, 43429, 43431, 43432, 43438, 43439, 43447, 43467, 43469, 43474, 43478, 43481, 43485, 43486, 43488, 43489, 43492, 43500, 43503, 43523, 43534, 43535, 43538, 43542, 43549, 43557, 43561, 43565, 43578, 43582, 43583, 43587, 43605, 43606, 43612, 43621, 43622, 43631, 43640, 43643, 43659, 43681, 43685, 43693, 43700, 43701, 43704, 43705, 43706, 43716, 43721, 43733, 43736, 43737, 43739, 43746, 43748, 43749, 43750, 43757, 43763, 43765, 43770, 43776, 43778, 43781, 43782, 43789, 43799, 43806, 43815, 43817, 43820, 43831, 43835, 43837, 43838, 43841, 43842, 43844, 43845, 43847, 43855, 43856, 43860, 43864, 43865, 43869, 43877, 43878, 43880, 43881, 43884, 43888, 43895, 43897, 43900, 43913, 43921, 43923, 43927, 43929, 43941, 43946, 43949, 43950, 43958, 43962, 43964, 43965, 43969, 43972, 43974, 43976, 43982, 43984, 43985, 43995, 44013, 44014, 44030, 44039, 44048, 44049, 44051, 44052, 44055, 44060, 44063, 44072, 44089, 44097, 44098, 44107, 44111, 44123, 44151, 44161, 44162, 44164, 44167, 44168, 44176, 44188, 44190, 44197, 44202, 44213, 44216, 44234, 44257, 44275, 44281, 44286, 44290, 44296, 44304, 44305, 44307, 44310, 44318, 44326, 44331, 44333, 44336, 44339, 44341, 44342, 44343, 44344, 44348, 44349, 44360, 44362, 44363, 44377, 44380, 44381, 44388, 44402, 44404, 44408, 44409, 44410, 44413, 44416, 44430, 44450, 44457, 44458, 44461, 44468, 44474, 44475, 44493, 44494, 44495, 44513, 44514, 44517, 44528, 44530, 44534, 44543, 44550, 44556, 44558, 44581, 44592, 44593, 44595, 44607, 44616, 44619, 44623, 44634, 44636, 44637, 44638, 44643, 44649, 44652, 44654, 44659, 44671, 44673, 44677, 44684, 44685, 44688, 44690, 44692, 44701, 44702, 44703, 44704, 44705, 44706, 44707, 44708, 44724, 44728, 44732, 44735, 44736, 44737, 44743, 44751, 44752, 44753, 44754, 44758, 44759, 44780, 44781, 44783, 44784, 44785, 44796, 44803, 44808, 44809, 44813, 44816, 44817, 44831, 44833, 44861, 44862, 44865, 44866, 44873, 44880, 44899, 44906, 44918, 44919, 44921, 44928, 44937, 44940, 44944, 44945, 44954, 44961, 44968, 44971, 44973, 44975, 44978, 44979, 44980, 44989, 44990, 44996, 45004, 45005, 45007, 45009, 45012, 45015, 45027, 45044, 45045, 45052, 45053, 45054, 45055, 45065, 45066, 45067, 45069, 45070, 45072, 45073, 45076, 45084, 45086, 45091, 45097, 45114, 45115, 45120, 45132, 45135, 45137, 45140, 45148, 45154, 45156, 45157, 45160, 45163, 45166, 45172, 45176, 45182, 45189, 45195, 45198, 45203, 45208, 45212, 45215, 45218, 45220, 45226, 45239, 45260, 45261, 45266, 45267, 45270, 45272, 45274, 45275, 45282, 45294, 45308, 45310, 45311, 45319, 45323, 45327, 45329, 45333, 45338, 45351, 45359, 45360, 45361, 45372, 45379, 45380, 45382, 45385, 45387, 45391, 45396, 45408, 45409, 45423, 45431, 45432, 45434, 45438, 45455, 45457]\n",
            "INDEX4:  [50, 52, 57, 58, 83, 104, 106, 107, 114, 119, 126, 127, 128, 132, 135, 137, 140, 189, 203, 239, 240, 305, 306, 326, 357, 384, 386, 390, 396, 398, 399, 401, 438, 444, 465, 540, 551, 554, 556, 565, 566, 567, 570, 572, 575, 595, 606, 607, 612, 614, 615, 620, 621, 627, 636, 644, 645, 648, 661, 665, 666, 670, 671, 674, 679, 681, 685, 691, 703, 707, 711, 712, 734, 740, 741, 745, 752, 756, 767, 771, 772, 775, 792, 793, 796, 798, 800, 802, 803, 805, 819, 820, 821, 822, 832, 833, 839, 845, 849, 851, 852, 857, 862, 863, 868, 955, 957, 972, 973, 1010, 1021, 1022, 1041, 1055, 1076, 1081, 1088, 1102, 1104, 1106, 1108, 1118, 1119, 1120, 1126, 1129, 1130, 1131, 1134, 1151, 1262, 1263, 1269, 1272, 1312, 1313, 1319, 1348, 1362, 1368, 1370, 1377, 1380, 1384, 1388, 1389, 1393, 1395, 1405, 1410, 1412, 1424, 1426, 1431, 1438, 1441, 1445, 1448, 1454, 1457, 1461, 1464, 1473, 1483, 1485, 1487, 1489, 1492, 1499, 1540, 1554, 1571, 1574, 1579, 1582, 1586, 1607, 1613, 1625, 1626, 1628, 1632, 1633, 1634, 1642, 1646, 1657, 1668, 1673, 1674, 1675, 1681, 1685, 1691, 1692, 1715, 1719, 1734, 1739, 1742, 1744, 1753, 1765, 1766, 1768, 1770, 1776, 1781, 1787, 1792, 1794, 1796, 1806, 1807, 1899, 1921, 1922, 1923, 1930, 1934, 1935, 1946, 1952, 1954, 1982, 2020, 2047, 2048, 2049, 2055, 2062, 2063, 2089, 2090, 2114, 2123, 2133, 2135, 2140, 2143, 2145, 2191, 2192, 2204, 2213, 2217, 2230, 2232, 2275, 2284, 2302, 2321, 2360, 2367, 2371, 2374, 2376, 2386, 2390, 2395, 2425, 2434, 2443, 2451, 2462, 2463, 2465, 2477, 2487, 2489, 2490, 2493, 2505, 2507, 2513, 2562, 2564, 2565, 2567, 2570, 2574, 2578, 2582, 2588, 2610, 2629, 2636, 2645, 2650, 2651, 2653, 2661, 2685, 2694, 2698, 2703, 2705, 2709, 2710, 2716, 2717, 2723, 2735, 2753, 2768, 2771, 2778, 2779, 2793, 2812, 2814, 2818, 2838, 2839, 2844, 2876, 2878, 2893, 2926, 2929, 2931, 2932, 2933, 2940, 2948, 2960, 2973, 2995, 3006, 3007, 3014, 3032, 3041, 3047, 3065, 3070, 3071, 3074, 3075, 3097, 3108, 3110, 3113, 3118, 3119, 3122, 3159, 3160, 3163, 3164, 3170, 3175, 3185, 3194, 3201, 3203, 3204, 3218, 3227, 3234, 3235, 3238, 3239, 3257, 3262, 3264, 3291, 3299, 3323, 3335, 3339, 3343, 3353, 3364, 3393, 3399, 3409, 3410, 3418, 3445, 3446, 3448, 3452, 3458, 3460, 3464, 3473, 3487, 3503, 3506, 3525, 3550, 3552, 3558, 3578, 3596, 3600, 3626, 3628, 3652, 3655, 3668, 3672, 3673, 3678, 3705, 3727, 3729, 3730, 3735, 3752, 3756, 3761, 3763, 3772, 3779, 3780, 3783, 3788, 3789, 3790, 3800, 3801, 3814, 3815, 3819, 3826, 3832, 3846, 3851, 3864, 3888, 3925, 3929, 3931, 3932, 3944, 3945, 3948, 3950, 3961, 3963, 3986, 3987, 3989, 3990, 4008, 4013, 4014, 4019, 4030, 4031, 4037, 4044, 4045, 4046, 4047, 4049, 4070, 4081, 4100, 4103, 4109, 4118, 4122, 4126, 4130, 4132, 4133, 4150, 4156, 4161, 4167, 4173, 4176, 4179, 4181, 4183, 4185, 4187, 4218, 4237, 4245, 4246, 4248, 4251, 4256, 4265, 4280, 4289, 4297, 4317, 4327, 4328, 4329, 4333, 4340, 4363, 4387, 4399, 4402, 4414, 4424, 4459, 4467, 4469, 4490, 4517, 4518, 4519, 4524, 4531, 4535, 4538, 4565, 4582, 4588, 4597, 4601, 4609, 4612, 4613, 4628, 4630, 4631, 4634, 4635, 4639, 4643, 4647, 4648, 4649, 4664, 4680, 4690, 4694, 4708, 4713, 4728, 4729, 4734, 4752, 4753, 4754, 4761, 4762, 4774, 4792, 4796, 4822, 4830, 4831, 4900, 4912, 4920, 4939, 4944, 4958, 4970, 4998, 4999, 5000, 5001, 5006, 5007, 5017, 5027, 5055, 5077, 5089, 5100, 5104, 5105, 5109, 5118, 5122, 5123, 5124, 5126, 5134, 5136, 5137, 5140, 5144, 5146, 5150, 5151, 5152, 5154, 5183, 5184, 5186, 5194, 5196, 5197, 5198, 5204, 5206, 5211, 5216, 5217, 5236, 5257, 5274, 5288, 5296, 5313, 5316, 5317, 5333, 5350, 5352, 5359, 5369, 5375, 5376, 5377, 5379, 5385, 5386, 5391, 5400, 5401, 5402, 5405, 5413, 5425, 5431, 5436, 5440, 5456, 5482, 5485, 5486, 5489, 5497, 5510, 5511, 5519, 5525, 5527, 5533, 5535, 5539, 5544, 5548, 5551, 5563, 5566, 5572, 5576, 5581, 5582, 5587, 5601, 5602, 5619, 5630, 5636, 5637, 5644, 5645, 5651, 5660, 5667, 5669, 5673, 5675, 5682, 5685, 5690, 5691, 5693, 5699, 5707, 5708, 5711, 5727, 5728, 5730, 5732, 5733, 5748, 5756, 5758, 5766, 5767, 5773, 5776, 5786, 5792, 5802, 5838, 5849, 5858, 5864, 5871, 5873, 5879, 5900, 5905, 5908, 5912, 5918, 5929, 5935, 5938, 5945, 5948, 5950, 5953, 5958, 5959, 5972, 5975, 5979, 5987, 5991, 5992, 6003, 6006, 6008, 6009, 6016, 6022, 6023, 6025, 6026, 6027, 6031, 6051, 6052, 6053, 6056, 6057, 6060, 6061, 6067, 6068, 6069, 6079, 6083, 6084, 6105, 6115, 6129, 6130, 6131, 6134, 6150, 6154, 6168, 6169, 6179, 6187, 6188, 6189, 6190, 6191, 6192, 6196, 6198, 6202, 6208, 6213, 6225, 6230, 6231, 6235, 6236, 6237, 6243, 6251, 6259, 6296, 6298, 6314, 6323, 6330, 6339, 6341, 6342, 6345, 6347, 6356, 6365, 6380, 6382, 6394, 6398, 6402, 6406, 6407, 6408, 6439, 6440, 6441, 6443, 6456, 6457, 6463, 6471, 6473, 6474, 6485, 6512, 6518, 6523, 6525, 6531, 6532, 6544, 6545, 6548, 6552, 6557, 6566, 6568, 6584, 6588, 6593, 6596, 6609, 6611, 6612, 6617, 6626, 6630, 6682, 6684, 6704, 6706, 6712, 6715, 6716, 6726, 6727, 6729, 6745, 6752, 6756, 6773, 6779, 6780, 6787, 6789, 6790, 6794, 6804, 6810, 6811, 6813, 6826, 6885, 6961, 6968, 6970, 6977, 6982, 6986, 6989, 6992, 6993, 7017, 7018, 7023, 7034, 7037, 7044, 7046, 7047, 7050, 7089, 7091, 7098, 7106, 7111, 7125, 7129, 7133, 7134, 7142, 7143, 7145, 7161, 7169, 7184, 7186, 7190, 7191, 7198, 7205, 7210, 7212, 7217, 7238, 7248, 7265, 7273, 7274, 7279, 7280, 7285, 7288, 7294, 7299, 7304, 7309, 7318, 7322, 7327, 7353, 7356, 7358, 7369, 7376, 7391, 7394, 7405, 7407, 7409, 7418, 7432, 7456, 7457, 7458, 7469, 7480, 7482, 7505, 7555, 7557, 7568, 7581, 7584, 7585, 7593, 7598, 7604, 7608, 7611, 7615, 7617, 7619, 7629, 7677, 7691, 7692, 7693, 7695, 7700, 7703, 7722, 7723, 7731, 7732, 7736, 7747, 7748, 7755, 7761, 7763, 7765, 7767, 7777, 7779, 7801, 7806, 7814, 7821, 7838, 7854, 7856, 7861, 7867, 7879, 7897, 7898, 7900, 7903, 7910, 7915, 7921, 7936, 7941, 7944, 7947, 7950, 7959, 7970, 7972, 7976, 7979, 7980, 7981, 7982, 8015, 8020, 8026, 8030, 8035, 8036, 8037, 8050, 8052, 8064, 8070, 8074, 8082, 8100, 8102, 8110, 8114, 8115, 8126, 8128, 8149, 8161, 8168, 8170, 8182, 8188, 8192, 8203, 8204, 8211, 8213, 8217, 8218, 8227, 8228, 8229, 8233, 8235, 8248, 8255, 8260, 8282, 8288, 8291, 8292, 8297, 8302, 8357, 8363, 8380, 8456, 8488, 8506, 8557, 8558, 8621, 8638, 8680, 8682, 8695, 8701, 8705, 8718, 8726, 8736, 8751, 8766, 8772, 8778, 8784, 8786, 8792, 8804, 8806, 8807, 8810, 8815, 8821, 8823, 8829, 8842, 8845, 8852, 8853, 8858, 8863, 8865, 8889, 8891, 8892, 8913, 8915, 8928, 8931, 8945, 8959, 8963, 8987, 8991, 8995, 9010, 9015, 9019, 9027, 9028, 9032, 9033, 9064, 9065, 9066, 9072, 9076, 9090, 9092, 9093, 9095, 9096, 9097, 9106, 9110, 9111, 9124, 9127, 9131, 9141, 9143, 9145, 9149, 9154, 9156, 9164, 9167, 9168, 9171, 9172, 9173, 9174, 9178, 9181, 9184, 9191, 9192, 9194, 9196, 9198, 9199, 9200, 9203, 9206, 9214, 9215, 9216, 9218, 9220, 9224, 9226, 9229, 9231, 9235, 9236, 9240, 9242, 9243, 9246, 9249, 9250, 9253, 9255, 9257, 9261, 9262, 9263, 9270, 9272, 9275, 9277, 9279, 9283, 9285, 9287, 9293, 9294, 9295, 9298, 9299, 9301, 9310, 9313, 9315, 9316, 9317, 9323, 9325, 9328, 9329, 9340, 9345, 9354, 9355, 9358, 9363, 9368, 9376, 9381, 9386, 9391, 9394, 9396, 9397, 9401, 9409, 9420, 9421, 9436, 9437, 9455, 9464, 9470, 9472, 9476, 9480, 9481, 9482, 9486, 9487, 9494, 9496, 9499, 9501, 9502, 9505, 9506, 9511, 9512, 9514, 9515, 9516, 9517, 9525, 9527, 9530, 9537, 9551, 9557, 9562, 9568, 9573, 9575, 9586, 9588, 9592, 9601, 9602, 9605, 9614, 9615, 9616, 9635, 9662, 9666, 9679, 9686, 9702, 9703, 9706, 9707, 9708, 9717, 9721, 9722, 9725, 9735, 9753, 9761, 9764, 9765, 9773, 9781, 9783, 9785, 9786, 9788, 9803, 9808, 9814, 9818, 9826, 9830, 9831, 9833, 9838, 9842, 9854, 9857, 9865, 9867, 9870, 9872, 9877, 9878, 9880, 9886, 9890, 9891, 9894, 9901, 9909, 9912, 9919, 9924, 9928, 9931, 9942, 9943, 9960, 9961, 9970, 9973, 9974, 9990, 9999, 10002, 10004, 10006, 10008, 10011, 10019, 10038, 10045, 10046, 10049, 10051, 10058, 10059, 10060, 10062, 10077, 10082, 10087, 10092, 10093, 10094, 10097, 10108, 10110, 10111, 10119, 10123, 10127, 10130, 10137, 10138, 10145, 10152, 10154, 10157, 10165, 10166, 10171, 10184, 10185, 10200, 10201, 10204, 10206, 10210, 10212, 10220, 10232, 10238, 10241, 10242, 10247, 10254, 10260, 10269, 10273, 10280, 10291, 10292, 10299, 10302, 10310, 10311, 10317, 10333, 10341, 10342, 10347, 10349, 10352, 10353, 10361, 10373, 10380, 10397, 10399, 10401, 10404, 10405, 10414, 10421, 10423, 10433, 10441, 10451, 10461, 10462, 10465, 10466, 10468, 10475, 10478, 10484, 10485, 10501, 10505, 10508, 10519, 10522, 10534, 10536, 10541, 10542, 10552, 10559, 10566, 10567, 10570, 10572, 10578, 10580, 10583, 10591, 10593, 10596, 10601, 10604, 10605, 10609, 10614, 10623, 10649, 10653, 10655, 10658, 10666, 10667, 10668, 10669, 10670, 10671, 10675, 10686, 10690, 10691, 10708, 10723, 10727, 10755, 10756, 10757, 10758, 10764, 10773, 10783, 10799, 10800, 10805, 10812, 10818, 10819, 10823, 10856, 10862, 10865, 10870, 10876, 10886, 10896, 10897, 10907, 10916, 10917, 10930, 10935, 10939, 10945, 10949, 10961, 10965, 10978, 10989, 10992, 10993, 10999, 11029, 11030, 11031, 11035, 11037, 11041, 11042, 11058, 11063, 11066, 11075, 11079, 11080, 11083, 11092, 11093, 11095, 11097, 11098, 11101, 11103, 11116, 11118, 11131, 11142, 11143, 11144, 11146, 11149, 11151, 11158, 11180, 11194, 11195, 11200, 11224, 11225, 11226, 11228, 11232, 11241, 11256, 11258, 11269, 11284, 11288, 11290, 11291, 11297, 11304, 11307, 11313, 11334, 11352, 11358, 11363, 11367, 11382, 11391, 11395, 11400, 11402, 11413, 11442, 11453, 11470, 11489, 11504, 11509, 11511, 11518, 11528, 11531, 11546, 11548, 11550, 11551, 11568, 11584, 11589, 11601, 11602, 11616, 11621, 11628, 11637, 11638, 11645, 11651, 11663, 11677, 11700, 11703, 11708, 11709, 11723, 11738, 11741, 11755, 11764, 11767, 11769, 11775, 11784, 11787, 11795, 11796, 11804, 11809, 11810, 11819, 11822, 11824, 11832, 11836, 11843, 11856, 11867, 11868, 11875, 11878, 11881, 11886, 11892, 11894, 11895, 11898, 11899, 11900, 11908, 11909, 11913, 11935, 11941, 11945, 11958, 11968, 11971, 11973, 11977, 11994, 11998, 12000, 12005, 12012, 12016, 12026, 12028, 12030, 12037, 12040, 12045, 12050, 12054, 12055, 12069, 12103, 12104, 12116, 12118, 12119, 12120, 12126, 12127, 12128, 12136, 12152, 12161, 12162, 12163, 12173, 12174, 12176, 12193, 12197, 12199, 12200, 12207, 12208, 12220, 12233, 12239, 12240, 12243, 12245, 12247, 12248, 12249, 12250, 12252, 12253, 12255, 12260, 12262, 12264, 12273, 12274, 12291, 12294, 12303, 12305, 12306, 12317, 12319, 12335, 12338, 12339, 12362, 12364, 12366, 12367, 12376, 12378, 12380, 12381, 12393, 12399, 12402, 12413, 12429, 12431, 12433, 12436, 12439, 12448, 12452, 12456, 12466, 12470, 12477, 12479, 12484, 12485, 12492, 12504, 12512, 12513, 12519, 12524, 12527, 12538, 12539, 12550, 12567, 12574, 12577, 12589, 12594, 12596, 12607, 12609, 12613, 12620, 12621, 12622, 12624, 12630, 12634, 12636, 12672, 12681, 12692, 12710, 12716, 12724, 12726, 12729, 12733, 12735, 12738, 12740, 12743, 12745, 12759, 12763, 12775, 12803, 12804, 12813, 12816, 12819, 12820, 12822, 12823, 12829, 12831, 12836, 12839, 12843, 12871, 12872, 12873, 12877, 12892, 12897, 12901, 12903, 12915, 12922, 12930, 12931, 12933, 12935, 12954, 12955, 12959, 12962, 12969, 12977, 12988, 12996, 13002, 13005, 13007, 13024, 13026, 13032, 13035, 13041, 13043, 13048, 13051, 13055, 13062, 13074, 13078, 13085, 13088, 13095, 13102, 13103, 13104, 13108, 13114, 13125, 13143, 13147, 13155, 13156, 13159, 13169, 13170, 13176, 13183, 13194, 13197, 13201, 13209, 13210, 13211, 13214, 13220, 13223, 13226, 13230, 13235, 13240, 13243, 13247, 13249, 13263, 13266, 13269, 13272, 13277, 13278, 13288, 13292, 13294, 13305, 13307, 13308, 13309, 13315, 13321, 13322, 13323, 13328, 13330, 13351, 13353, 13357, 13359, 13363, 13368, 13370, 13373, 13376, 13384, 13399, 13400, 13403, 13405, 13407, 13412, 13415, 13416, 13418, 13419, 13427, 13432, 13433, 13435, 13438, 13456, 13461, 13463, 13465, 13468, 13469, 13471, 13472, 13474, 13479, 13480, 13481, 13483, 13485, 13488, 13496, 13504, 13505, 13516, 13517, 13536, 13537, 13539, 13542, 13561, 13562, 13563, 13564, 13567, 13569, 13572, 13573, 13576, 13577, 13592, 13599, 13611, 13612, 13615, 13617, 13620, 13623, 13625, 13629, 13632, 13639, 13642, 13655, 13660, 13671, 13674, 13675, 13678, 13680, 13686, 13689, 13695, 13698, 13708, 13709, 13711, 13714, 13715, 13752, 13757, 13759, 13763, 13772, 13778, 13792, 13794, 13805, 13813, 13815, 13816, 13821, 13823, 13827, 13831, 13832, 13836, 13839, 13844, 13849, 13852, 13855, 13856, 13857, 13859, 13862, 13866, 13867, 13871, 13876, 13881, 13899, 13900, 13909, 13913, 13917, 13919, 13920, 13921, 13922, 13924, 13926, 13930, 13939, 13945, 13953, 13955, 13956, 13960, 13961, 13981, 13998, 13999, 14000, 14005, 14009, 14013, 14020, 14021, 14026, 14027, 14033, 14034, 14037, 14041, 14054, 14056, 14067, 14070, 14071, 14078, 14087, 14090, 14091, 14096, 14099, 14100, 14101, 14107, 14118, 14122, 14127, 14130, 14135, 14143, 14148, 14151, 14159, 14174, 14184, 14186, 14194, 14195, 14202, 14238, 14239, 14241, 14254, 14255, 14260, 14261, 14265, 14275, 14277, 14285, 14292, 14295, 14298, 14313, 14335, 14338, 14343, 14350, 14355, 14356, 14363, 14369, 14377, 14380, 14382, 14384, 14385, 14391, 14396, 14398, 14402, 14409, 14413, 14432, 14445, 14449, 14454, 14456, 14459, 14463, 14464, 14467, 14468, 14470, 14471, 14472, 14477, 14483, 14486, 14487, 14504, 14506, 14511, 14518, 14519, 14522, 14524, 14528, 14530, 14532, 14534, 14535, 14536, 14538, 14539, 14545, 14547, 14553, 14561, 14563, 14566, 14570, 14577, 14581, 14583, 14598, 14602, 14604, 14605, 14606, 14608, 14609, 14610, 14612, 14614, 14615, 14622, 14624, 14626, 14628, 14635, 14641, 14644, 14645, 14647, 14656, 14657, 14662, 14664, 14669, 14675, 14678, 14691, 14695, 14701, 14708, 14712, 14721, 14725, 14726, 14728, 14731, 14733, 14734, 14751, 14752, 14755, 14756, 14767, 14769, 14775, 14781, 14785, 14794, 14795, 14797, 14798, 14800, 14801, 14812, 14820, 14826, 14829, 14836, 14840, 14851, 14854, 14862, 14864, 14867, 14868, 14870, 14876, 14880, 14883, 14887, 14890, 14917, 14919, 14929, 14933, 14956, 14969, 14970, 14971, 14976, 14979, 14992, 14998, 15007, 15015, 15024, 15035, 15036, 15037, 15045, 15046, 15050, 15056, 15061, 15062, 15066, 15067, 15071, 15072, 15082, 15090, 15091, 15097, 15102, 15103, 15107, 15114, 15115, 15117, 15121, 15122, 15127, 15135, 15136, 15142, 15172, 15173, 15176, 15178, 15180, 15194, 15196, 15201, 15204, 15205, 15207, 15210, 15211, 15215, 15216, 15217, 15218, 15219, 15220, 15221, 15227, 15228, 15243, 15249, 15250, 15256, 15258, 15259, 15262, 15263, 15275, 15276, 15277, 15285, 15287, 15316, 15318, 15323, 15326, 15330, 15335, 15337, 15339, 15340, 15346, 15355, 15356, 15358, 15359, 15366, 15369, 15371, 15373, 15374, 15376, 15380, 15382, 15384, 15386, 15389, 15390, 15395, 15403, 15405, 15406, 15410, 15411, 15412, 15417, 15420, 15433, 15436, 15437, 15442, 15443, 15444, 15446, 15448, 15450, 15454, 15456, 15458, 15461, 15462, 15475, 15482, 15484, 15501, 15502, 15507, 15509, 15513, 15518, 15529, 15533, 15536, 15539, 15541, 15547, 15548, 15551, 15552, 15554, 15564, 15567, 15570, 15572, 15575, 15584, 15591, 15592, 15593, 15601, 15602, 15605, 15606, 15612, 15614, 15615, 15617, 15619, 15620, 15626, 15639, 15641, 15642, 15643, 15645, 15650, 15654, 15661, 15668, 15674, 15676, 15685, 15686, 15687, 15698, 15709, 15719, 15728, 15729, 15731, 15732, 15733, 15738, 15739, 15743, 15751, 15752, 15774, 15777, 15791, 15796, 15800, 15810, 15817, 15818, 15819, 15820, 15825, 15842, 15849, 15854, 15855, 15857, 15860, 15865, 15871, 15874, 15877, 15880, 15885, 15888, 15901, 15912, 15917, 15918, 15921, 15928, 15940, 15942, 15943, 15945, 15950, 15951, 15952, 15959, 15960, 15963, 15967, 15970, 15976, 15988, 15990, 15991, 15992, 16001, 16006, 16011, 16012, 16013, 16015, 16018, 16021, 16022, 16030, 16034, 16037, 16039, 16045, 16059, 16070, 16071, 16072, 16073, 16074, 16088, 16092, 16095, 16100, 16102, 16103, 16104, 16106, 16109, 16111, 16113, 16120, 16135, 16139, 16140, 16143, 16148, 16152, 16153, 16158, 16163, 16164, 16167, 16169, 16173, 16183, 16184, 16191, 16195, 16205, 16208, 16212, 16215, 16224, 16227, 16228, 16229, 16230, 16233, 16236, 16238, 16248, 16251, 16254, 16260, 16264, 16265, 16276, 16287, 16300, 16302, 16303, 16319, 16323, 16326, 16338, 16339, 16341, 16343, 16348, 16349, 16350, 16352, 16364, 16368, 16369, 16371, 16373, 16380, 16385, 16386, 16392, 16402, 16405, 16406, 16407, 16413, 16414, 16415, 16416, 16417, 16427, 16429, 16434, 16436, 16440, 16446, 16450, 16452, 16460, 16461, 16467, 16468, 16476, 16480, 16482, 16488, 16489, 16491, 16494, 16495, 16497, 16501, 16502, 16505, 16510, 16511, 16512, 16516, 16524, 16525, 16530, 16531, 16536, 16545, 16547, 16549, 16551, 16554, 16570, 16573, 16577, 16588, 16589, 16593, 16594, 16605, 16608, 16613, 16615, 16617, 16627, 16631, 16642, 16646, 16647, 16650, 16655, 16658, 16659, 16661, 16662, 16673, 16680, 16681, 16690, 16697, 16698, 16702, 16704, 16714, 16715, 16718, 16722, 16723, 16724, 16730, 16748, 16753, 16754, 16759, 16767, 16777, 16778, 16787, 16792, 16794, 16805, 16806, 16814, 16815, 16817, 16825, 16831, 16836, 16837, 16845, 16847, 16852, 16854, 16861, 16865, 16868, 16872, 16874, 16876, 16883, 16901, 16904, 16908, 16915, 16916, 16918, 16920, 16921, 16922, 16923, 16925, 16927, 16928, 16933, 16940, 16953, 16957, 16959, 16961, 16973, 16976, 16977, 16978, 16986, 16997, 16999, 17001, 17007, 17008, 17012, 17013, 17014, 17015, 17018, 17019, 17022, 17026, 17036, 17040, 17045, 17053, 17058, 17059, 17060, 17067, 17076, 17080, 17086, 17088, 17096, 17098, 17104, 17105, 17106, 17109, 17110, 17116, 17134, 17142, 17144, 17147, 17153, 17154, 17167, 17172, 17176, 17181, 17182, 17192, 17195, 17198, 17202, 17203, 17208, 17209, 17216, 17221, 17226, 17228, 17229, 17233, 17241, 17243, 17245, 17247, 17252, 17253, 17254, 17255, 17256, 17260, 17261, 17263, 17270, 17271, 17274, 17279, 17280, 17281, 17307, 17314, 17316, 17317, 17318, 17320, 17325, 17326, 17328, 17331, 17334, 17339, 17345, 17349, 17350, 17352, 17353, 17354, 17363, 17367, 17370, 17375, 17377, 17381, 17382, 17383, 17385, 17390, 17394, 17395, 17397, 17402, 17403, 17405, 17408, 17411, 17415, 17418, 17422, 17423, 17424, 17426, 17429, 17433, 17438, 17455, 17458, 17462, 17467, 17468, 17470, 17478, 17489, 17490, 17495, 17499, 17502, 17506, 17510, 17517, 17519, 17521, 17525, 17526, 17537, 17543, 17554, 17559, 17562, 17570, 17573, 17574, 17577, 17581, 17583, 17594, 17600, 17602, 17618, 17621, 17622, 17626, 17630, 17644, 17650, 17659, 17660, 17662, 17670, 17680, 17683, 17684, 17685, 17694, 17695, 17699, 17701, 17706, 17708, 17711, 17712, 17730, 17731, 17736, 17738, 17739, 17741, 17756, 17763, 17767, 17768, 17778, 17779, 17780, 17781, 17784, 17785, 17796, 17797, 17798, 17805, 17806, 17808, 17810, 17811, 17827, 17833, 17837, 17843, 17844, 17846, 17851, 17853, 17859, 17863, 17866, 17868, 17871, 17872, 17876, 17886, 17887, 17890, 17893, 17894, 17900, 17904, 17905, 17906, 17907, 17918, 17922, 17925, 17926, 17928, 17929, 17942, 17948, 17949, 17952, 17953, 17959, 17961, 17962, 17967, 17974, 17975, 17976, 17978, 18000, 18001, 18002, 18004, 18005, 18008, 18014, 18015, 18017, 18018, 18019, 18020, 18023, 18024, 18027, 18030, 18036, 18038, 18040, 18042, 18044, 18047, 18055, 18057, 18059, 18065, 18067, 18073, 18074, 18078, 18079, 18082, 18085, 18090, 18091, 18093, 18098, 18099, 18103, 18104, 18105, 18108, 18114, 18119, 18125, 18135, 18136, 18137, 18139, 18153, 18160, 18162, 18163, 18169, 18171, 18172, 18181, 18186, 18194, 18197, 18200, 18211, 18215, 18228, 18231, 18241, 18251, 18257, 18262, 18264, 18266, 18273, 18278, 18279, 18290, 18295, 18314, 18316, 18317, 18318, 18320, 18322, 18327, 18332, 18333, 18337, 18345, 18347, 18350, 18351, 18360, 18362, 18366, 18368, 18370, 18373, 18379, 18386, 18387, 18393, 18394, 18398, 18412, 18414, 18418, 18419, 18421, 18428, 18429, 18430, 18431, 18438, 18440, 18450, 18453, 18454, 18460, 18461, 18470, 18471, 18483, 18486, 18487, 18488, 18495, 18496, 18497, 18507, 18510, 18515, 18517, 18518, 18520, 18521, 18522, 18523, 18533, 18542, 18543, 18546, 18547, 18550, 18552, 18555, 18556, 18558, 18561, 18563, 18564, 18568, 18569, 18572, 18573, 18579, 18580, 18581, 18587, 18594, 18596, 18599, 18601, 18602, 18604, 18611, 18612, 18613, 18619, 18626, 18630, 18631, 18632, 18633, 18640, 18652, 18655, 18664, 18666, 18672, 18676, 18677, 18681, 18682, 18687, 18689, 18690, 18700, 18702, 18706, 18711, 18717, 18720, 18722, 18727, 18728, 18734, 18737, 18738, 18744, 18746, 18748, 18756, 18757, 18760, 18761, 18763, 18764, 18767, 18769, 18771, 18781, 18783, 18787, 18794, 18799, 18800, 18802, 18805, 18806, 18811, 18812, 18814, 18816, 18822, 18825, 18826, 18827, 18837, 18842, 18843, 18846, 18847, 18851, 18852, 18855, 18856, 18868, 18869, 18870, 18871, 18873, 18874, 18882, 18883, 18885, 18891, 18892, 18900, 18903, 18904, 18910, 18921, 18922, 18928, 18932, 18939, 18940, 18943, 18950, 18951, 18954, 18955, 18958, 18961, 18963, 18969, 18974, 18976, 18987, 18988, 18997, 19005, 19006, 19008, 19017, 19019, 19025, 19029, 19033, 19034, 19037, 19043, 19055, 19056, 19065, 19074, 19075, 19084, 19087, 19090, 19093, 19098, 19103, 19107, 19110, 19113, 19118, 19123, 19126, 19130, 19149, 19153, 19160, 19161, 19163, 19166, 19170, 19171, 19174, 19175, 19176, 19177, 19182, 19183, 19184, 19187, 19190, 19192, 19193, 19195, 19203, 19206, 19213, 19219, 19227, 19230, 19237, 19240, 19253, 19260, 19262, 19269, 19272, 19274, 19276, 19277, 19280, 19286, 19287, 19288, 19292, 19298, 19302, 19309, 19312, 19313, 19314, 19318, 19320, 19322, 19329, 19333, 19337, 19347, 19351, 19352, 19358, 19363, 19366, 19367, 19368, 19371, 19373, 19375, 19383, 19389, 19391, 19402, 19403, 19406, 19411, 19413, 19415, 19431, 19437, 19438, 19442, 19444, 19448, 19449, 19452, 19458, 19464, 19465, 19469, 19472, 19475, 19476, 19479, 19482, 19485, 19492, 19494, 19495, 19498, 19500, 19501, 19507, 19515, 19517, 19525, 19526, 19538, 19539, 19540, 19541, 19542, 19544, 19545, 19548, 19549, 19552, 19554, 19558, 19560, 19562, 19563, 19571, 19575, 19576, 19578, 19583, 19588, 19592, 19598, 19600, 19601, 19603, 19607, 19610, 19611, 19612, 19615, 19616, 19623, 19625, 19626, 19630, 19634, 19638, 19644, 19645, 19650, 19659, 19662, 19663, 19666, 19670, 19671, 19672, 19674, 19675, 19678, 19679, 19682, 19683, 19684, 19687, 19691, 19692, 19697, 19699, 19702, 19703, 19704, 19709, 19711, 19712, 19713, 19718, 19725, 19728, 19730, 19738, 19740, 19741, 19747, 19751, 19753, 19754, 19763, 19764, 19765, 19767, 19770, 19773, 19778, 19781, 19788, 19795, 19797, 19805, 19808, 19810, 19812, 19815, 19824, 19830, 19831, 19840, 19849, 19850, 19851, 19856, 19860, 19867, 19868, 19869, 19874, 19875, 19876, 19877, 19878, 19881, 19885, 19889, 19890, 19892, 19910, 19911, 19912, 19913, 19915, 19919, 19923, 19930, 19932, 19933, 19934, 19941, 19942, 19951, 19955, 19957, 19958, 19959, 19960, 19965, 19967, 19972, 19973, 19974, 19975, 19983, 19984, 19986, 19993, 19997, 19998, 19999, 20001, 20007, 20010, 20014, 20019, 20023, 20025, 20038, 20039, 20041, 20045, 20046, 20064, 20077, 20079, 20088, 20091, 20094, 20099, 20102, 20103, 20106, 20109, 20113, 20114, 20115, 20116, 20117, 20122, 20125, 20128, 20130, 20131, 20134, 20135, 20137, 20138, 20139, 20147, 20152, 20154, 20155, 20159, 20160, 20161, 20164, 20166, 20167, 20171, 20173, 20176, 20182, 20186, 20190, 20191, 20194, 20198, 20199, 20202, 20204, 20207, 20209, 20210, 20213, 20215, 20218, 20219, 20222, 20225, 20230, 20231, 20237, 20240, 20242, 20245, 20254, 20256, 20257, 20266, 20272, 20274, 20278, 20279, 20280, 20287, 20288, 20290, 20291, 20293, 20294, 20295, 20296, 20297, 20299, 20301, 20309, 20319, 20323, 20325, 20327, 20328, 20330, 20331, 20332, 20336, 20337, 20341, 20342, 20345, 20348, 20349, 20350, 20353, 20354, 20355, 20362, 20365, 20367, 20371, 20374, 20379, 20387, 20388, 20394, 20395, 20396, 20398, 20401, 20404, 20406, 20409, 20414, 20415, 20418, 20421, 20423, 20433, 20437, 20440, 20443, 20453, 20454, 20456, 20459, 20461, 20466, 20467, 20472, 20474, 20476, 20482, 20483, 20484, 20485, 20492, 20494, 20499, 20501, 20504, 20506, 20507, 20508, 20509, 20513, 20514, 20515, 20518, 20519, 20520, 20521, 20522, 20523, 20528, 20541, 20545, 20547, 20548, 20551, 20555, 20556, 20560, 20562, 20563, 20564, 20567, 20569, 20575, 20579, 20580, 20583, 20587, 20589, 20599, 20600, 20602, 20604, 20605, 20606, 20607, 20611, 20612, 20614, 20615, 20616, 20617, 20618, 20621, 20623, 20624, 20627, 20630, 20631, 20632, 20633, 20635, 20636, 20638, 20639, 20640, 20641, 20642, 20644, 20650, 20653, 20654, 20660, 20667, 20669, 20672, 20674, 20675, 20676, 20679, 20684, 20685, 20686, 20690, 20691, 20692, 20693, 20700, 20705, 20711, 20712, 20716, 20718, 20724, 20734, 20741, 20742, 20743, 20744, 20745, 20746, 20747, 20748, 20749, 20753, 20756, 20757, 20760, 20762, 20763, 20764, 20765, 20772, 20774, 20775, 20778, 20780, 20783, 20785, 20792, 20797, 20801, 20802, 20810, 20816, 20825, 20826, 20827, 20833, 20838, 20844, 20848, 20851, 20854, 20855, 20857, 20859, 20860, 20862, 20864, 20871, 20872, 20873, 20876, 20879, 20880, 20882, 20883, 20887, 20888, 20889, 20893, 20896, 20897, 20900, 20909, 20914, 20915, 20920, 20921, 20928, 20931, 20936, 20938, 20948, 20949, 20954, 20955, 20961, 20963, 20965, 20977, 20981, 20983, 20986, 20991, 20996, 20999, 21002, 21003, 21004, 21006, 21007, 21011, 21012, 21013, 21015, 21017, 21021, 21022, 21024, 21028, 21030, 21037, 21038, 21045, 21046, 21047, 21051, 21057, 21063, 21067, 21071, 21072, 21077, 21078, 21085, 21086, 21087, 21091, 21092, 21093, 21094, 21096, 21097, 21098, 21100, 21102, 21104, 21105, 21106, 21109, 21110, 21111, 21116, 21121, 21126, 21133, 21141, 21145, 21146, 21147, 21150, 21158, 21159, 21164, 21165, 21167, 21170, 21172, 21177, 21179, 21180, 21182, 21183, 21184, 21186, 21188, 21193, 21196, 21198, 21200, 21207, 21212, 21216, 21222, 21227, 21228, 21239, 21240, 21241, 21242, 21245, 21246, 21250, 21253, 21254, 21259, 21270, 21271, 21274, 21277, 21283, 21291, 21292, 21299, 21300, 21302, 21303, 21304, 21307, 21312, 21324, 21327, 21332, 21334, 21338, 21340, 21341, 21354, 21358, 21366, 21374, 21375, 21391, 21392, 21411, 21416, 21423, 21431, 21436, 21440, 21443, 21448, 21449, 21451, 21452, 21454, 21456, 21457, 21458, 21463, 21466, 21470, 21473, 21476, 21479, 21485, 21486, 21493, 21500, 21503, 21505, 21510, 21514, 21517, 21518, 21520, 21521, 21523, 21524, 21542, 21543, 21555, 21557, 21561, 21563, 21564, 21565, 21569, 21579, 21582, 21585, 21586, 21587, 21593, 21595, 21596, 21599, 21603, 21606, 21607, 21610, 21612, 21613, 21615, 21616, 21617, 21618, 21624, 21628, 21629, 21632, 21633, 21634, 21636, 21638, 21640, 21641, 21642, 21643, 21650, 21660, 21663, 21664, 21665, 21668, 21673, 21678, 21680, 21681, 21683, 21690, 21693, 21699, 21702, 21703, 21706, 21708, 21714, 21717, 21722, 21731, 21733, 21735, 21736, 21737, 21738, 21744, 21746, 21752, 21757, 21762, 21768, 21770, 21776, 21777, 21782, 21786, 21788, 21791, 21794, 21796, 21797, 21798, 21801, 21803, 21804, 21805, 21806, 21808, 21809, 21811, 21814, 21816, 21818, 21820, 21827, 21828, 21836, 21838, 21839, 21844, 21853, 21864, 21867, 21870, 21879, 21886, 21888, 21889, 21890, 21891, 21894, 21895, 21896, 21897, 21902, 21905, 21915, 21916, 21918, 21919, 21920, 21924, 21933, 21934, 21936, 21939, 21946, 21952, 21957, 21961, 21966, 21967, 21974, 21976, 21978, 21979, 21980, 21981, 21983, 21985, 21988, 21995, 21996, 21998, 22000, 22006, 22008, 22009, 22010, 22012, 22016, 22017, 22019, 22020, 22030, 22034, 22035, 22037, 22038, 22039, 22040, 22051, 22052, 22055, 22057, 22065, 22066, 22068, 22069, 22070, 22071, 22080, 22081, 22082, 22083, 22087, 22088, 22091, 22092, 22095, 22098, 22102, 22116, 22121, 22122, 22126, 22127, 22136, 22138, 22139, 22140, 22151, 22162, 22163, 22171, 22176, 22178, 22182, 22186, 22187, 22188, 22193, 22198, 22199, 22200, 22201, 22202, 22203, 22205, 22208, 22213, 22219, 22225, 22227, 22233, 22234, 22241, 22242, 22250, 22251, 22255, 22258, 22263, 22267, 22269, 22271, 22278, 22282, 22286, 22288, 22290, 22294, 22296, 22299, 22305, 22313, 22317, 22318, 22325, 22337, 22340, 22342, 22345, 22346, 22347, 22350, 22353, 22354, 22357, 22359, 22363, 22366, 22369, 22372, 22376, 22377, 22378, 22383, 22388, 22389, 22390, 22395, 22396, 22397, 22399, 22400, 22401, 22402, 22404, 22405, 22407, 22409, 22413, 22414, 22419, 22420, 22423, 22424, 22428, 22429, 22430, 22435, 22436, 22442, 22443, 22445, 22447, 22452, 22454, 22464, 22476, 22481, 22485, 22488, 22491, 22493, 22494, 22495, 22497, 22502, 22503, 22504, 22505, 22509, 22511, 22513, 22514, 22517, 22518, 22522, 22523, 22530, 22543, 22549, 22558, 22559, 22567, 22568, 22570, 22571, 22574, 22576, 22578, 22580, 22586, 22587, 22590, 22591, 22592, 22601, 22604, 22605, 22610, 22620, 22621, 22622, 22628, 22632, 22634, 22636, 22637, 22641, 22645, 22651, 22654, 22656, 22660, 22670, 22679, 22682, 22685, 22688, 22690, 22697, 22700, 22702, 22704, 22724, 22727, 22733, 22734, 22735, 22738, 22739, 22741, 22745, 22747, 22748, 22749, 22750, 22756, 22760, 22763, 22770, 22771, 22772, 22788, 22793, 22795, 22797, 22798, 22801, 22804, 22805, 22806, 22807, 22808, 22810, 22813, 22817, 22824, 22826, 22827, 22829, 22831, 22838, 22839, 22843, 22844, 22845, 22846, 22848, 22849, 22852, 22856, 22858, 22860, 22865, 22867, 22874, 22875, 22883, 22884, 22886, 22889, 22896, 22901, 22906, 22908, 22909, 22910, 22911, 22915, 22923, 22928, 22946, 22947, 22951, 22955, 22958, 22967, 22972, 22978, 22983, 22986, 22987, 22988, 22991, 22992, 22996, 22997, 23001, 23009, 23022, 23024, 23027, 23032, 23044, 23047, 23050, 23052, 23058, 23069, 23077, 23081, 23089, 23095, 23097, 23100, 23101, 23107, 23109, 23114, 23115, 23116, 23124, 23130, 23131, 23138, 23145, 23147, 23161, 23164, 23166, 23168, 23172, 23174, 23179, 23183, 23184, 23185, 23186, 23188, 23191, 23196, 23199, 23206, 23210, 23214, 23218, 23222, 23223, 23226, 23242, 23243, 23250, 23251, 23252, 23254, 23278, 23279, 23282, 23287, 23292, 23295, 23297, 23298, 23301, 23304, 23306, 23315, 23316, 23320, 23321, 23322, 23323, 23326, 23332, 23343, 23346, 23376, 23378, 23380, 23381, 23383, 23389, 23401, 23403, 23404, 23408, 23410, 23413, 23418, 23419, 23420, 23429, 23431, 23435, 23444, 23445, 23452, 23463, 23464, 23478, 23481, 23492, 23498, 23501, 23502, 23507, 23514, 23519, 23525, 23527, 23535, 23543, 23548, 23549, 23556, 23563, 23567, 23568, 23574, 23575, 23576, 23586, 23587, 23588, 23604, 23609, 23610, 23611, 23621, 23624, 23625, 23629, 23634, 23640, 23642, 23648, 23650, 23651, 23657, 23658, 23660, 23662, 23663, 23667, 23670, 23674, 23676, 23677, 23681, 23682, 23687, 23693, 23694, 23702, 23704, 23707, 23710, 23713, 23718, 23720, 23723, 23725, 23727, 23729, 23731, 23732, 23734, 23736, 23742, 23745, 23747, 23755, 23759, 23768, 23779, 23789, 23791, 23792, 23794, 23796, 23801, 23802, 23807, 23812, 23813, 23815, 23820, 23827, 23829, 23835, 23842, 23844, 23847, 23848, 23855, 23859, 23863, 23864, 23865, 23866, 23867, 23869, 23870, 23874, 23879, 23881, 23887, 23894, 23900, 23901, 23904, 23907, 23910, 23912, 23913, 23914, 23915, 23920, 23921, 23922, 23924, 23927, 23934, 23937, 23941, 23950, 23960, 23963, 23964, 23967, 23970, 23971, 23980, 23982, 23984, 23986, 23987, 23992, 23993, 23995, 23996, 23998, 24002, 24007, 24008, 24012, 24014, 24016, 24017, 24018, 24023, 24025, 24029, 24030, 24031, 24035, 24039, 24044, 24046, 24048, 24050, 24051, 24053, 24062, 24063, 24064, 24065, 24069, 24070, 24076, 24077, 24093, 24094, 24095, 24098, 24099, 24100, 24105, 24106, 24109, 24115, 24117, 24118, 24124, 24127, 24133, 24144, 24147, 24150, 24151, 24154, 24155, 24157, 24159, 24160, 24161, 24165, 24166, 24167, 24174, 24175, 24177, 24181, 24186, 24188, 24197, 24200, 24205, 24210, 24224, 24227, 24228, 24234, 24244, 24249, 24263, 24264, 24266, 24280, 24285, 24287, 24294, 24300, 24301, 24302, 24307, 24313, 24318, 24322, 24323, 24324, 24325, 24327, 24328, 24333, 24335, 24337, 24340, 24341, 24342, 24346, 24348, 24355, 24361, 24363, 24365, 24369, 24375, 24384, 24385, 24386, 24399, 24401, 24412, 24414, 24415, 24419, 24420, 24422, 24424, 24425, 24427, 24434, 24436, 24437, 24441, 24446, 24448, 24450, 24451, 24453, 24457, 24472, 24474, 24478, 24490, 24494, 24498, 24504, 24505, 24510, 24518, 24524, 24525, 24527, 24528, 24529, 24530, 24533, 24535, 24539, 24544, 24547, 24552, 24556, 24557, 24567, 24569, 24570, 24571, 24586, 24590, 24596, 24598, 24600, 24601, 24603, 24607, 24608, 24612, 24614, 24615, 24618, 24621, 24623, 24625, 24626, 24636, 24645, 24654, 24670, 24671, 24677, 24678, 24680, 24682, 24684, 24685, 24689, 24691, 24696, 24701, 24705, 24713, 24715, 24716, 24722, 24734, 24738, 24739, 24740, 24741, 24743, 24755, 24756, 24758, 24764, 24766, 24768, 24770, 24780, 24795, 24797, 24802, 24803, 24806, 24810, 24813, 24838, 24842, 24847, 24849, 24856, 24882, 24890, 24898, 24901, 24909, 24912, 24913, 24914, 24918, 24922, 24925, 24926, 24927, 24928, 24930, 24931, 24933, 24934, 24935, 24937, 24938, 24947, 24949, 24953, 24955, 24968, 24970, 24971, 24976, 24977, 24978, 24979, 24981, 24984, 24985, 24986, 24990, 25000, 25003, 25016, 25017, 25018, 25023, 25029, 25030, 25033, 25036, 25038, 25047, 25060, 25062, 25063, 25067, 25068, 25072, 25074, 25081, 25082, 25083, 25087, 25095, 25097, 25098, 25117, 25127, 25128, 25129, 25132, 25134, 25136, 25146, 25148, 25153, 25155, 25160, 25163, 25165, 25167, 25169, 25178, 25179, 25181, 25182, 25183, 25185, 25187, 25190, 25191, 25195, 25198, 25204, 25214, 25216, 25218, 25220, 25221, 25224, 25231, 25235, 25236, 25238, 25242, 25249, 25254, 25257, 25258, 25259, 25261, 25271, 25274, 25275, 25277, 25279, 25282, 25285, 25286, 25287, 25292, 25296, 25297, 25298, 25299, 25306, 25309, 25310, 25312, 25315, 25321, 25323, 25326, 25328, 25334, 25336, 25340, 25346, 25348, 25349, 25350, 25357, 25359, 25361, 25363, 25364, 25365, 25368, 25370, 25372, 25373, 25374, 25380, 25381, 25388, 25409, 25413, 25415, 25420, 25421, 25429, 25432, 25433, 25434, 25436, 25437, 25438, 25439, 25442, 25444, 25445, 25450, 25453, 25460, 25461, 25462, 25463, 25471, 25474, 25475, 25478, 25480, 25482, 25484, 25486, 25494, 25500, 25502, 25504, 25506, 25507, 25508, 25510, 25513, 25514, 25517, 25519, 25521, 25524, 25525, 25528, 25529, 25538, 25541, 25542, 25544, 25550, 25554, 25556, 25558, 25561, 25566, 25568, 25571, 25579, 25582, 25585, 25594, 25596, 25599, 25602, 25607, 25610, 25614, 25623, 25628, 25630, 25632, 25633, 25640, 25641, 25650, 25659, 25660, 25663, 25673, 25677, 25678, 25680, 25681, 25683, 25684, 25689, 25694, 25697, 25712, 25715, 25717, 25723, 25724, 25725, 25728, 25729, 25735, 25740, 25747, 25748, 25751, 25753, 25757, 25762, 25764, 25771, 25775, 25783, 25789, 25804, 25807, 25809, 25813, 25817, 25822, 25825, 25826, 25827, 25829, 25831, 25832, 25833, 25834, 25837, 25847, 25848, 25849, 25852, 25855, 25858, 25859, 25863, 25864, 25870, 25872, 25874, 25875, 25876, 25877, 25879, 25882, 25883, 25884, 25885, 25887, 25892, 25893, 25895, 25896, 25897, 25898, 25899, 25906, 25909, 25910, 25911, 25912, 25913, 25914, 25916, 25918, 25919, 25922, 25925, 25926, 25929, 25931, 25934, 25935, 25936, 25939, 25944, 25945, 25953, 25954, 25957, 25962, 25963, 25964, 25966, 25974, 25983, 25988, 25992, 25994, 25996, 26000, 26011, 26012, 26014, 26018, 26020, 26030, 26059, 26060, 26063, 26066, 26075, 26082, 26088, 26091, 26092, 26095, 26099, 26100, 26103, 26109, 26113, 26115, 26122, 26126, 26132, 26133, 26134, 26140, 26144, 26145, 26147, 26150, 26151, 26157, 26163, 26174, 26175, 26184, 26189, 26191, 26197, 26199, 26203, 26205, 26209, 26212, 26219, 26220, 26231, 26236, 26240, 26243, 26244, 26246, 26247, 26249, 26250, 26256, 26260, 26262, 26265, 26269, 26272, 26274, 26280, 26284, 26296, 26306, 26309, 26316, 26321, 26325, 26327, 26333, 26338, 26339, 26341, 26345, 26356, 26357, 26360, 26361, 26364, 26366, 26370, 26379, 26383, 26384, 26389, 26390, 26398, 26399, 26406, 26408, 26410, 26415, 26419, 26423, 26425, 26437, 26438, 26450, 26455, 26459, 26460, 26462, 26480, 26482, 26486, 26488, 26493, 26497, 26501, 26505, 26506, 26507, 26513, 26516, 26530, 26532, 26537, 26544, 26545, 26575, 26584, 26590, 26591, 26593, 26594, 26603, 26605, 26607, 26614, 26617, 26620, 26621, 26623, 26627, 26630, 26638, 26641, 26645, 26650, 26651, 26666, 26674, 26679, 26680, 26695, 26698, 26699, 26700, 26717, 26720, 26722, 26724, 26727, 26730, 26735, 26740, 26742, 26744, 26747, 26750, 26762, 26766, 26767, 26768, 26772, 26773, 26778, 26784, 26785, 26786, 26790, 26791, 26792, 26793, 26795, 26796, 26797, 26801, 26808, 26809, 26811, 26812, 26820, 26821, 26822, 26826, 26834, 26841, 26843, 26848, 26850, 26851, 26854, 26862, 26863, 26866, 26873, 26878, 26881, 26884, 26889, 26892, 26895, 26896, 26911, 26913, 26915, 26920, 26921, 26923, 26929, 26930, 26945, 26948, 26949, 26955, 26967, 26974, 26977, 26979, 26982, 26984, 26985, 26987, 26995, 26997, 27001, 27007, 27008, 27014, 27017, 27021, 27022, 27023, 27024, 27028, 27031, 27033, 27034, 27041, 27043, 27047, 27050, 27051, 27055, 27060, 27061, 27063, 27068, 27071, 27073, 27076, 27079, 27080, 27082, 27092, 27095, 27100, 27103, 27107, 27110, 27113, 27118, 27128, 27134, 27135, 27165, 27169, 27181, 27182, 27186, 27187, 27189, 27200, 27220, 27222, 27229, 27238, 27245, 27247, 27251, 27253, 27261, 27262, 27267, 27271, 27286, 27289, 27290, 27294, 27296, 27297, 27298, 27299, 27305, 27306, 27307, 27308, 27310, 27311, 27312, 27313, 27315, 27318, 27319, 27320, 27322, 27328, 27340, 27342, 27346, 27348, 27357, 27362, 27365, 27370, 27371, 27375, 27384, 27387, 27390, 27394, 27398, 27405, 27407, 27408, 27410, 27421, 27424, 27427, 27432, 27438, 27439, 27443, 27445, 27447, 27454, 27457, 27460, 27466, 27471, 27472, 27475, 27479, 27481, 27483, 27484, 27485, 27487, 27488, 27490, 27491, 27496, 27497, 27498, 27499, 27500, 27501, 27504, 27510, 27513, 27515, 27524, 27526, 27528, 27530, 27531, 27532, 27533, 27534, 27542, 27545, 27546, 27549, 27550, 27551, 27553, 27556, 27557, 27558, 27559, 27561, 27565, 27566, 27567, 27568, 27571, 27578, 27579, 27581, 27583, 27589, 27592, 27594, 27596, 27597, 27598, 27599, 27602, 27603, 27604, 27605, 27606, 27607, 27611, 27613, 27615, 27618, 27623, 27630, 27631, 27635, 27636, 27640, 27642, 27643, 27645, 27646, 27652, 27655, 27657, 27660, 27667, 27672, 27679, 27682, 27688, 27692, 27693, 27695, 27705, 27711, 27712, 27715, 27718, 27721, 27723, 27726, 27732, 27738, 27741, 27746, 27747, 27748, 27749, 27752, 27754, 27755, 27756, 27757, 27761, 27763, 27765, 27768, 27769, 27782, 27783, 27786, 27791, 27792, 27797, 27800, 27802, 27803, 27804, 27807, 27808, 27812, 27813, 27814, 27828, 27834, 27836, 27842, 27845, 27846, 27848, 27849, 27850, 27851, 27852, 27853, 27855, 27859, 27870, 27872, 27873, 27883, 27886, 27894, 27897, 27900, 27902, 27903, 27907, 27909, 27910, 27923, 27931, 27937, 27939, 27940, 27944, 27946, 27949, 27950, 27951, 27952, 27953, 27954, 27960, 27964, 27965, 27967, 27970, 27975, 27976, 27984, 27986, 27987, 28000, 28002, 28005, 28006, 28010, 28013, 28014, 28016, 28020, 28027, 28028, 28029, 28030, 28035, 28039, 28040, 28042, 28050, 28051, 28053, 28060, 28062, 28066, 28067, 28069, 28077, 28079, 28087, 28095, 28097, 28099, 28106, 28109, 28112, 28118, 28120, 28122, 28124, 28125, 28127, 28128, 28129, 28132, 28133, 28136, 28137, 28138, 28140, 28143, 28144, 28146, 28147, 28148, 28153, 28154, 28155, 28160, 28163, 28172, 28176, 28178, 28185, 28193, 28196, 28206, 28208, 28209, 28225, 28226, 28233, 28235, 28238, 28239, 28245, 28247, 28251, 28252, 28254, 28255, 28258, 28262, 28263, 28264, 28266, 28267, 28269, 28271, 28273, 28279, 28280, 28281, 28282, 28283, 28284, 28285, 28286, 28293, 28294, 28296, 28299, 28300, 28305, 28306, 28311, 28318, 28319, 28322, 28323, 28326, 28327, 28329, 28331, 28332, 28336, 28342, 28343, 28346, 28350, 28351, 28357, 28358, 28360, 28361, 28365, 28367, 28368, 28369, 28375, 28376, 28377, 28379, 28380, 28382, 28387, 28388, 28389, 28390, 28394, 28395, 28398, 28399, 28402, 28403, 28404, 28406, 28408, 28409, 28415, 28417, 28423, 28425, 28431, 28432, 28440, 28442, 28444, 28457, 28459, 28462, 28463, 28471, 28472, 28473, 28481, 28482, 28483, 28484, 28486, 28488, 28491, 28492, 28493, 28494, 28495, 28507, 28510, 28514, 28515, 28516, 28517, 28520, 28522, 28524, 28529, 28532, 28534, 28540, 28544, 28548, 28549, 28550, 28553, 28556, 28560, 28562, 28564, 28567, 28568, 28575, 28577, 28587, 28588, 28591, 28597, 28602, 28605, 28610, 28617, 28620, 28621, 28623, 28625, 28628, 28631, 28632, 28638, 28658, 28666, 28676, 28684, 28686, 28689, 28693, 28694, 28700, 28706, 28720, 28721, 28723, 28727, 28730, 28737, 28740, 28749, 28751, 28762, 28766, 28768, 28772, 28774, 28785, 28786, 28796, 28804, 28807, 28820, 28839, 28840, 28843, 28845, 28852, 28853, 28854, 28858, 28859, 28862, 28864, 28866, 28867, 28868, 28869, 28873, 28874, 28875, 28876, 28881, 28890, 28891, 28893, 28894, 28898, 28901, 28903, 28904, 28913, 28917, 28920, 28926, 28927, 28930, 28932, 28941, 28942, 28944, 28949, 28952, 28956, 28959, 28963, 28964, 28966, 28970, 28972, 28975, 28979, 28980, 28984, 28985, 28987, 28988, 29002, 29005, 29007, 29008, 29011, 29012, 29018, 29021, 29024, 29025, 29033, 29038, 29047, 29048, 29049, 29053, 29054, 29055, 29057, 29059, 29061, 29063, 29068, 29078, 29081, 29088, 29091, 29094, 29095, 29099, 29102, 29103, 29104, 29105, 29109, 29110, 29113, 29118, 29119, 29123, 29124, 29130, 29131, 29137, 29138, 29140, 29141, 29144, 29145, 29147, 29149, 29150, 29151, 29152, 29153, 29154, 29155, 29156, 29161, 29165, 29168, 29171, 29175, 29176, 29181, 29182, 29187, 29189, 29193, 29195, 29196, 29199, 29200, 29201, 29202, 29203, 29205, 29206, 29207, 29211, 29212, 29213, 29214, 29222, 29228, 29229, 29232, 29233, 29236, 29238, 29241, 29243, 29247, 29250, 29251, 29258, 29259, 29261, 29263, 29268, 29272, 29273, 29276, 29277, 29281, 29285, 29286, 29287, 29292, 29295, 29299, 29301, 29304, 29305, 29307, 29308, 29309, 29311, 29313, 29314, 29317, 29318, 29319, 29322, 29329, 29330, 29339, 29346, 29351, 29353, 29355, 29362, 29367, 29368, 29376, 29377, 29379, 29382, 29386, 29388, 29394, 29395, 29397, 29402, 29405, 29408, 29412, 29415, 29416, 29417, 29420, 29428, 29430, 29436, 29442, 29443, 29446, 29451, 29452, 29456, 29461, 29465, 29468, 29469, 29477, 29478, 29480, 29485, 29487, 29491, 29492, 29493, 29494, 29496, 29503, 29504, 29505, 29507, 29508, 29510, 29511, 29513, 29515, 29516, 29517, 29527, 29531, 29533, 29539, 29542, 29544, 29546, 29548, 29550, 29551, 29557, 29564, 29568, 29569, 29570, 29571, 29572, 29573, 29592, 29593, 29594, 29595, 29599, 29600, 29601, 29603, 29615, 29620, 29621, 29622, 29624, 29628, 29630, 29633, 29638, 29644, 29655, 29657, 29665, 29667, 29668, 29673, 29674, 29677, 29678, 29681, 29684, 29685, 29694, 29697, 29698, 29704, 29706, 29708, 29709, 29716, 29721, 29723, 29724, 29725, 29727, 29729, 29730, 29731, 29733, 29739, 29741, 29744, 29746, 29747, 29748, 29749, 29751, 29752, 29753, 29754, 29755, 29756, 29757, 29758, 29764, 29765, 29771, 29773, 29780, 29794, 29795, 29796, 29797, 29800, 29804, 29805, 29812, 29816, 29817, 29819, 29821, 29823, 29828, 29829, 29830, 29835, 29836, 29838, 29839, 29845, 29846, 29849, 29851, 29855, 29859, 29864, 29867, 29868, 29874, 29876, 29877, 29878, 29880, 29884, 29886, 29887, 29891, 29893, 29897, 29900, 29901, 29902, 29904, 29905, 29906, 29909, 29910, 29911, 29924, 29933, 29937, 29938, 29940, 29944, 29945, 29946, 29949, 29951, 29953, 29959, 29960, 29962, 29964, 29965, 29969, 29971, 29984, 29989, 29997, 30000, 30004, 30005, 30009, 30010, 30011, 30012, 30013, 30017, 30021, 30023, 30034, 30036, 30038, 30039, 30040, 30042, 30044, 30050, 30052, 30059, 30060, 30062, 30063, 30070, 30072, 30073, 30084, 30085, 30086, 30089, 30099, 30102, 30104, 30108, 30112, 30118, 30119, 30121, 30123, 30124, 30125, 30129, 30133, 30138, 30141, 30144, 30153, 30156, 30158, 30159, 30160, 30161, 30165, 30166, 30167, 30169, 30170, 30177, 30178, 30184, 30186, 30187, 30190, 30191, 30196, 30197, 30202, 30207, 30209, 30212, 30215, 30216, 30232, 30235, 30241, 30248, 30256, 30260, 30262, 30263, 30275, 30287, 30292, 30296, 30298, 30299, 30300, 30303, 30305, 30307, 30308, 30309, 30310, 30311, 30320, 30321, 30323, 30324, 30330, 30333, 30334, 30335, 30340, 30341, 30342, 30343, 30344, 30345, 30348, 30352, 30355, 30356, 30357, 30358, 30362, 30363, 30364, 30365, 30367, 30369, 30371, 30374, 30375, 30376, 30377, 30378, 30380, 30381, 30382, 30383, 30384, 30385, 30387, 30388, 30390, 30391, 30392, 30394, 30406, 30407, 30408, 30410, 30415, 30416, 30419, 30422, 30424, 30425, 30427, 30428, 30431, 30432, 30436, 30438, 30442, 30443, 30444, 30449, 30453, 30456, 30457, 30458, 30459, 30461, 30462, 30467, 30470, 30472, 30476, 30477, 30478, 30483, 30488, 30489, 30491, 30492, 30493, 30496, 30497, 30498, 30501, 30508, 30509, 30510, 30511, 30517, 30519, 30521, 30523, 30532, 30533, 30537, 30545, 30548, 30554, 30555, 30558, 30559, 30560, 30563, 30564, 30566, 30568, 30569, 30573, 30576, 30577, 30578, 30580, 30583, 30588, 30591, 30593, 30598, 30600, 30601, 30602, 30603, 30605, 30606, 30608, 30609, 30616, 30617, 30618, 30619, 30620, 30623, 30624, 30625, 30627, 30629, 30633, 30641, 30647, 30648, 30651, 30652, 30655, 30657, 30661, 30663, 30665, 30670, 30674, 30676, 30677, 30678, 30680, 30681, 30682, 30685, 30687, 30688, 30692, 30695, 30696, 30707, 30709, 30713, 30718, 30720, 30721, 30727, 30737, 30740, 30742, 30744, 30745, 30748, 30751, 30753, 30755, 30758, 30762, 30764, 30765, 30767, 30772, 30777, 30778, 30780, 30782, 30783, 30785, 30786, 30788, 30789, 30790, 30795, 30797, 30802, 30806, 30818, 30819, 30821, 30822, 30824, 30827, 30829, 30830, 30832, 30834, 30835, 30841, 30845, 30847, 30848, 30850, 30851, 30852, 30853, 30856, 30860, 30867, 30872, 30875, 30877, 30879, 30881, 30884, 30892, 30894, 30895, 30896, 30899, 30901, 30905, 30908, 30911, 30915, 30918, 30919, 30922, 30923, 30924, 30925, 30928, 30933, 30934, 30935, 30936, 30938, 30941, 30944, 30946, 30952, 30954, 30955, 30961, 30964, 30970, 30973, 30974, 30979, 31000, 31006, 31007, 31008, 31009, 31010, 31011, 31014, 31015, 31016, 31020, 31023, 31024, 31025, 31027, 31028, 31029, 31030, 31031, 31032, 31033, 31037, 31043, 31049, 31050, 31051, 31053, 31056, 31060, 31062, 31068, 31074, 31075, 31076, 31077, 31078, 31079, 31080, 31081, 31083, 31084, 31088, 31089, 31091, 31101, 31113, 31114, 31115, 31122, 31124, 31127, 31128, 31130, 31133, 31134, 31136, 31138, 31139, 31140, 31142, 31147, 31148, 31149, 31150, 31152, 31153, 31155, 31162, 31163, 31164, 31169, 31171, 31175, 31180, 31183, 31185, 31187, 31188, 31189, 31193, 31194, 31198, 31199, 31200, 31204, 31206, 31209, 31211, 31212, 31217, 31219, 31221, 31222, 31225, 31226, 31227, 31228, 31229, 31230, 31231, 31233, 31234, 31236, 31237, 31238, 31240, 31243, 31245, 31246, 31249, 31250, 31254, 31257, 31266, 31267, 31268, 31269, 31272, 31274, 31275, 31276, 31277, 31278, 31282, 31283, 31288, 31289, 31294, 31295, 31306, 31308, 31309, 31313, 31314, 31315, 31316, 31317, 31318, 31319, 31320, 31321, 31324, 31326, 31328, 31329, 31336, 31338, 31344, 31345, 31346, 31348, 31349, 31353, 31359, 31360, 31361, 31362, 31363, 31365, 31367, 31369, 31370, 31374, 31375, 31378, 31379, 31380, 31387, 31396, 31397, 31400, 31403, 31414, 31415, 31416, 31418, 31421, 31423, 31427, 31429, 31431, 31432, 31433, 31434, 31436, 31437, 31439, 31441, 31443, 31445, 31448, 31449, 31451, 31452, 31456, 31457, 31460, 31462, 31464, 31466, 31467, 31469, 31470, 31473, 31475, 31478, 31479, 31488, 31489, 31490, 31492, 31493, 31505, 31507, 31509, 31514, 31516, 31517, 31520, 31521, 31524, 31525, 31528, 31529, 31532, 31534, 31536, 31543, 31546, 31548, 31549, 31552, 31554, 31555, 31556, 31558, 31566, 31569, 31572, 31573, 31574, 31575, 31577, 31579, 31580, 31582, 31584, 31585, 31586, 31588, 31589, 31593, 31594, 31595, 31596, 31604, 31613, 31614, 31615, 31616, 31617, 31620, 31623, 31629, 31638, 31645, 31646, 31647, 31648, 31649, 31654, 31662, 31665, 31667, 31669, 31674, 31675, 31676, 31677, 31683, 31685, 31694, 31699, 31701, 31706, 31708, 31710, 31716, 31717, 31718, 31720, 31726, 31727, 31728, 31730, 31731, 31732, 31733, 31734, 31735, 31736, 31741, 31742, 31747, 31749, 31750, 31757, 31761, 31762, 31767, 31768, 31769, 31771, 31772, 31774, 31775, 31776, 31777, 31778, 31779, 31780, 31781, 31784, 31791, 31794, 31795, 31798, 31800, 31802, 31803, 31805, 31807, 31808, 31810, 31814, 31815, 31816, 31820, 31822, 31824, 31825, 31827, 31829, 31831, 31833, 31837, 31838, 31839, 31840, 31841, 31842, 31847, 31849, 31851, 31852, 31859, 31860, 31861, 31867, 31869, 31871, 31873, 31875, 31887, 31889, 31890, 31892, 31898, 31903, 31910, 31913, 31914, 31915, 31918, 31919, 31921, 31922, 31923, 31926, 31929, 31933, 31934, 31935, 31937, 31939, 31941, 31942, 31946, 31947, 31949, 31958, 31960, 31961, 31963, 31969, 31982, 31983, 31984, 31997, 31998, 32000, 32001, 32003, 32010, 32012, 32021, 32024, 32026, 32027, 32029, 32030, 32037, 32039, 32041, 32042, 32043, 32052, 32057, 32063, 32064, 32066, 32068, 32069, 32070, 32071, 32072, 32073, 32075, 32076, 32081, 32082, 32083, 32084, 32086, 32088, 32089, 32090, 32091, 32092, 32094, 32095, 32104, 32108, 32118, 32126, 32133, 32134, 32135, 32137, 32140, 32145, 32146, 32147, 32152, 32154, 32155, 32157, 32161, 32165, 32166, 32168, 32176, 32178, 32180, 32197, 32198, 32199, 32204, 32207, 32210, 32211, 32219, 32220, 32225, 32226, 32230, 32233, 32237, 32241, 32243, 32253, 32256, 32257, 32259, 32266, 32270, 32272, 32274, 32276, 32277, 32278, 32281, 32282, 32284, 32285, 32286, 32287, 32288, 32289, 32297, 32302, 32303, 32306, 32310, 32312, 32314, 32317, 32328, 32329, 32330, 32339, 32341, 32345, 32346, 32349, 32352, 32353, 32354, 32355, 32360, 32361, 32366, 32367, 32373, 32374, 32379, 32384, 32388, 32392, 32394, 32395, 32396, 32400, 32402, 32404, 32406, 32408, 32412, 32413, 32418, 32425, 32426, 32434, 32435, 32438, 32448, 32453, 32457, 32458, 32460, 32464, 32468, 32473, 32474, 32482, 32485, 32488, 32489, 32491, 32492, 32496, 32497, 32498, 32499, 32502, 32505, 32507, 32513, 32515, 32516, 32521, 32526, 32530, 32534, 32536, 32538, 32539, 32541, 32542, 32543, 32548, 32554, 32556, 32557, 32558, 32562, 32563, 32573, 32576, 32578, 32585, 32587, 32589, 32591, 32592, 32600, 32601, 32602, 32603, 32605, 32606, 32607, 32612, 32613, 32620, 32631, 32636, 32637, 32640, 32644, 32645, 32646, 32648, 32649, 32654, 32657, 32662, 32665, 32666, 32669, 32670, 32671, 32673, 32678, 32685, 32686, 32694, 32696, 32697, 32698, 32710, 32715, 32716, 32717, 32719, 32720, 32726, 32727, 32728, 32738, 32739, 32751, 32756, 32758, 32760, 32763, 32790, 32793, 32797, 32804, 32806, 32808, 32809, 32812, 32813, 32815, 32817, 32822, 32826, 32830, 32831, 32837, 32838, 32839, 32840, 32845, 32850, 32853, 32855, 32859, 32870, 32873, 32875, 32877, 32878, 32879, 32881, 32884, 32888, 32892, 32915, 32917, 32919, 32922, 32928, 32930, 32935, 32937, 32943, 32945, 32948, 32949, 32956, 32957, 32961, 32962, 32968, 32974, 32977, 32980, 32982, 32983, 32992, 33003, 33015, 33016, 33028, 33029, 33030, 33032, 33040, 33044, 33045, 33046, 33051, 33054, 33055, 33056, 33059, 33072, 33075, 33076, 33079, 33080, 33082, 33086, 33088, 33095, 33099, 33100, 33101, 33103, 33104, 33105, 33110, 33111, 33124, 33126, 33130, 33132, 33135, 33142, 33143, 33149, 33151, 33154, 33155, 33161, 33162, 33166, 33168, 33172, 33173, 33174, 33176, 33180, 33181, 33190, 33191, 33195, 33218, 33224, 33227, 33229, 33237, 33241, 33254, 33256, 33259, 33262, 33264, 33266, 33268, 33279, 33280, 33285, 33287, 33289, 33290, 33297, 33300, 33307, 33308, 33314, 33316, 33317, 33319, 33323, 33325, 33327, 33328, 33332, 33334, 33337, 33342, 33344, 33347, 33351, 33353, 33357, 33368, 33370, 33371, 33376, 33379, 33380, 33382, 33383, 33386, 33389, 33391, 33393, 33396, 33397, 33400, 33401, 33402, 33403, 33405, 33406, 33411, 33413, 33414, 33417, 33418, 33424, 33428, 33431, 33432, 33433, 33436, 33437, 33444, 33449, 33450, 33458, 33465, 33470, 33476, 33477, 33478, 33481, 33486, 33488, 33489, 33491, 33496, 33501, 33502, 33503, 33504, 33505, 33507, 33510, 33512, 33519, 33521, 33523, 33524, 33526, 33528, 33530, 33531, 33532, 33534, 33540, 33541, 33553, 33555, 33557, 33566, 33567, 33570, 33571, 33575, 33577, 33579, 33580, 33581, 33582, 33592, 33595, 33596, 33603, 33606, 33608, 33612, 33613, 33616, 33617, 33620, 33622, 33624, 33627, 33630, 33632, 33639, 33641, 33642, 33643, 33644, 33647, 33648, 33649, 33651, 33654, 33659, 33661, 33663, 33682, 33687, 33689, 33691, 33692, 33693, 33694, 33695, 33699, 33701, 33702, 33709, 33710, 33711, 33713, 33714, 33719, 33721, 33722, 33726, 33727, 33728, 33735, 33744, 33747, 33751, 33752, 33753, 33755, 33757, 33758, 33768, 33771, 33773, 33775, 33776, 33784, 33786, 33787, 33790, 33796, 33799, 33801, 33804, 33806, 33808, 33809, 33810, 33811, 33814, 33815, 33816, 33820, 33821, 33822, 33823, 33824, 33825, 33831, 33834, 33836, 33840, 33844, 33850, 33853, 33855, 33859, 33860, 33870, 33873, 33879, 33880, 33887, 33888, 33889, 33891, 33898, 33899, 33913, 33916, 33918, 33923, 33925, 33932, 33934, 33935, 33940, 33942, 33943, 33946, 33947, 33949, 33957, 33962, 33963, 33970, 33973, 33979, 33980, 33982, 33987, 33990, 33993, 34000, 34002, 34005, 34007, 34011, 34012, 34013, 34016, 34017, 34018, 34019, 34021, 34024, 34027, 34028, 34029, 34054, 34055, 34058, 34059, 34060, 34063, 34077, 34082, 34087, 34101, 34105, 34106, 34107, 34116, 34118, 34119, 34120, 34122, 34126, 34129, 34130, 34133, 34134, 34145, 34148, 34150, 34157, 34158, 34160, 34161, 34162, 34165, 34167, 34169, 34171, 34172, 34177, 34178, 34180, 34183, 34184, 34189, 34192, 34195, 34198, 34199, 34201, 34204, 34205, 34207, 34212, 34213, 34214, 34218, 34225, 34229, 34230, 34234, 34239, 34242, 34243, 34244, 34245, 34253, 34256, 34260, 34261, 34266, 34267, 34268, 34270, 34272, 34273, 34274, 34275, 34276, 34279, 34280, 34281, 34282, 34285, 34286, 34287, 34288, 34289, 34290, 34291, 34292, 34293, 34299, 34308, 34311, 34312, 34313, 34314, 34318, 34319, 34320, 34322, 34324, 34326, 34327, 34329, 34330, 34332, 34333, 34335, 34337, 34338, 34339, 34340, 34341, 34347, 34348, 34349, 34350, 34351, 34352, 34353, 34354, 34355, 34357, 34358, 34359, 34362, 34363, 34367, 34368, 34369, 34370, 34375, 34377, 34378, 34379, 34382, 34386, 34393, 34398, 34400, 34401, 34406, 34407, 34408, 34409, 34412, 34413, 34415, 34416, 34417, 34418, 34419, 34421, 34422, 34423, 34424, 34425, 34426, 34427, 34428, 34429, 34430, 34432, 34433, 34436, 34440, 34444, 34446, 34448, 34449, 34450, 34451, 34457, 34462, 34465, 34466, 34468, 34470, 34473, 34474, 34475, 34478, 34479, 34480, 34481, 34482, 34483, 34485, 34486, 34487, 34490, 34491, 34495, 34496, 34498, 34503, 34507, 34510, 34512, 34513, 34517, 34518, 34519, 34523, 34524, 34525, 34526, 34534, 34535, 34536, 34540, 34544, 34545, 34546, 34547, 34548, 34549, 34550, 34555, 34557, 34560, 34561, 34566, 34569, 34570, 34579, 34588, 34590, 34595, 34596, 34597, 34598, 34599, 34600, 34601, 34602, 34604, 34606, 34607, 34614, 34616, 34620, 34622, 34623, 34625, 34631, 34632, 34634, 34642, 34646, 34647, 34655, 34656, 34657, 34659, 34660, 34662, 34663, 34665, 34666, 34668, 34672, 34673, 34675, 34678, 34683, 34685, 34690, 34693, 34694, 34698, 34699, 34700, 34701, 34702, 34730, 34731, 34732, 34736, 34737, 34738, 34742, 34744, 34745, 34746, 34750, 34751, 34754, 34759, 34762, 34763, 34770, 34771, 34772, 34774, 34775, 34779, 34782, 34783, 34785, 34788, 34792, 34797, 34799, 34800, 34801, 34802, 34809, 34810, 34811, 34813, 34818, 34822, 34823, 34824, 34829, 34832, 34833, 34835, 34844, 34853, 34857, 34863, 34864, 34866, 34871, 34881, 34882, 34883, 34884, 34885, 34886, 34887, 34888, 34892, 34894, 34895, 34896, 34897, 34903, 34905, 34906, 34908, 34912, 34913, 34915, 34919, 34924, 34926, 34927, 34930, 34933, 34939, 34940, 34941, 34943, 34953, 34957, 34960, 34963, 34964, 34972, 34973, 34980, 34985, 34994, 35002, 35003, 35004, 35009, 35010, 35011, 35014, 35023, 35033, 35038, 35040, 35041, 35048, 35052, 35054, 35059, 35060, 35061, 35062, 35063, 35065, 35070, 35071, 35073, 35074, 35076, 35090, 35093, 35100, 35113, 35115, 35119, 35120, 35121, 35123, 35126, 35133, 35137, 35138, 35140, 35146, 35151, 35152, 35154, 35158, 35162, 35163, 35165, 35166, 35167, 35168, 35171, 35172, 35173, 35174, 35176, 35177, 35178, 35179, 35184, 35185, 35190, 35192, 35197, 35198, 35200, 35201, 35202, 35204, 35208, 35209, 35219, 35224, 35229, 35230, 35231, 35232, 35234, 35236, 35239, 35241, 35245, 35250, 35254, 35258, 35260, 35263, 35264, 35266, 35273, 35274, 35275, 35276, 35278, 35279, 35282, 35283, 35285, 35287, 35288, 35291, 35295, 35298, 35306, 35312, 35313, 35315, 35316, 35317, 35318, 35319, 35322, 35325, 35326, 35327, 35332, 35339, 35341, 35342, 35344, 35345, 35346, 35347, 35348, 35355, 35356, 35359, 35364, 35366, 35369, 35370, 35372, 35374, 35376, 35377, 35379, 35380, 35384, 35393, 35395, 35398, 35399, 35400, 35401, 35405, 35407, 35408, 35410, 35411, 35412, 35413, 35414, 35415, 35418, 35420, 35423, 35424, 35428, 35430, 35436, 35440, 35444, 35448, 35449, 35450, 35451, 35457, 35461, 35462, 35467, 35468, 35469, 35473, 35477, 35478, 35480, 35481, 35484, 35487, 35490, 35493, 35501, 35503, 35505, 35506, 35509, 35513, 35514, 35516, 35521, 35525, 35532, 35536, 35537, 35539, 35540, 35546, 35548, 35549, 35550, 35551, 35553, 35554, 35556, 35557, 35558, 35559, 35560, 35561, 35562, 35567, 35573, 35574, 35575, 35576, 35580, 35583, 35587, 35589, 35593, 35595, 35605, 35612, 35617, 35620, 35622, 35623, 35629, 35630, 35631, 35632, 35633, 35635, 35636, 35640, 35641, 35642, 35643, 35644, 35645, 35646, 35649, 35651, 35652, 35653, 35654, 35655, 35657, 35658, 35660, 35662, 35663, 35665, 35666, 35668, 35669, 35670, 35674, 35679, 35680, 35684, 35686, 35687, 35690, 35691, 35692, 35700, 35709, 35710, 35714, 35715, 35716, 35718, 35732, 35740, 35742, 35753, 35757, 35759, 35762, 35768, 35773, 35774, 35776, 35782, 35783, 35786, 35787, 35793, 35794, 35798, 35807, 35809, 35810, 35813, 35815, 35818, 35819, 35822, 35823, 35824, 35827, 35828, 35829, 35830, 35837, 35838, 35839, 35846, 35849, 35851, 35852, 35853, 35861, 35862, 35866, 35869, 35873, 35874, 35879, 35880, 35882, 35883, 35884, 35886, 35888, 35889, 35895, 35897, 35899, 35900, 35901, 35903, 35905, 35907, 35908, 35912, 35915, 35927, 35932, 35935, 35936, 35939, 35942, 35945, 35946, 35947, 35948, 35951, 35954, 35956, 35958, 35962, 35968, 35969, 35972, 35979, 35980, 35981, 35985, 35988, 35989, 35990, 35993, 35994, 35996, 36007, 36012, 36017, 36019, 36020, 36021, 36023, 36024, 36025, 36026, 36028, 36030, 36031, 36034, 36036, 36041, 36042, 36044, 36045, 36047, 36058, 36060, 36062, 36063, 36068, 36069, 36070, 36073, 36074, 36077, 36079, 36080, 36081, 36093, 36095, 36096, 36097, 36099, 36101, 36102, 36103, 36105, 36106, 36107, 36111, 36116, 36117, 36120, 36123, 36124, 36125, 36126, 36127, 36128, 36130, 36134, 36142, 36144, 36150, 36151, 36155, 36159, 36160, 36161, 36162, 36164, 36165, 36171, 36176, 36177, 36179, 36180, 36183, 36185, 36186, 36193, 36194, 36195, 36199, 36201, 36203, 36204, 36205, 36207, 36208, 36209, 36210, 36211, 36212, 36213, 36214, 36215, 36221, 36222, 36234, 36238, 36250, 36272, 36273, 36275, 36276, 36278, 36280, 36281, 36282, 36283, 36285, 36288, 36289, 36294, 36296, 36298, 36303, 36307, 36313, 36320, 36321, 36324, 36325, 36328, 36338, 36339, 36342, 36344, 36346, 36348, 36349, 36351, 36352, 36353, 36357, 36358, 36359, 36360, 36363, 36364, 36365, 36366, 36367, 36369, 36374, 36379, 36388, 36391, 36392, 36393, 36395, 36399, 36400, 36402, 36403, 36404, 36406, 36407, 36408, 36411, 36412, 36413, 36417, 36421, 36428, 36430, 36433, 36435, 36447, 36451, 36453, 36454, 36455, 36457, 36459, 36462, 36464, 36465, 36467, 36468, 36469, 36472, 36473, 36475, 36477, 36478, 36479, 36485, 36486, 36487, 36488, 36490, 36493, 36496, 36498, 36500, 36502, 36504, 36505, 36512, 36513, 36514, 36516, 36523, 36524, 36525, 36526, 36528, 36529, 36530, 36531, 36532, 36533, 36534, 36535, 36536, 36537, 36538, 36540, 36541, 36544, 36546, 36549, 36550, 36552, 36554, 36556, 36557, 36558, 36559, 36560, 36561, 36562, 36563, 36565, 36566, 36567, 36568, 36569, 36570, 36571, 36572, 36573, 36575, 36577, 36579, 36583, 36584, 36585, 36586, 36589, 36592, 36594, 36595, 36596, 36604, 36605, 36606, 36608, 36609, 36612, 36613, 36614, 36615, 36616, 36618, 36619, 36620, 36621, 36623, 36625, 36627, 36629, 36630, 36631, 36632, 36633, 36634, 36635, 36636, 36640, 36641, 36644, 36648, 36651, 36654, 36657, 36658, 36659, 36660, 36661, 36662, 36665, 36669, 36670, 36674, 36677, 36678, 36680, 36684, 36685, 36687, 36688, 36689, 36696, 36699, 36704, 36705, 36706, 36707, 36708, 36714, 36718, 36723, 36725, 36727, 36729, 36732, 36735, 36736, 36737, 36738, 36740, 36741, 36743, 36749, 36750, 36751, 36753, 36754, 36757, 36758, 36759, 36760, 36762, 36763, 36770, 36771, 36772, 36775, 36776, 36777, 36780, 36781, 36782, 36785, 36786, 36787, 36788, 36790, 36793, 36795, 36798, 36801, 36804, 36806, 36807, 36809, 36810, 36811, 36812, 36815, 36817, 36820, 36822, 36824, 36826, 36830, 36831, 36832, 36833, 36834, 36837, 36838, 36839, 36840, 36841, 36842, 36843, 36846, 36847, 36848, 36849, 36850, 36851, 36853, 36854, 36860, 36862, 36865, 36868, 36869, 36870, 36871, 36873, 36878, 36879, 36880, 36881, 36883, 36886, 36888, 36889, 36891, 36896, 36897, 36898, 36899, 36900, 36905, 36907, 36909, 36910, 36911, 36918, 36920, 36921, 36924, 36928, 36932, 36936, 36937, 36938, 36939, 36941, 36943, 36944, 36945, 36947, 36948, 36949, 36950, 36952, 36953, 36954, 36955, 36956, 36959, 36961, 36962, 36963, 36969, 36970, 36971, 36972, 36974, 36976, 36983, 36985, 36986, 36988, 36992, 36993, 36994, 36997, 36998, 37001, 37003, 37004, 37005, 37006, 37008, 37009, 37011, 37012, 37013, 37015, 37020, 37024, 37026, 37028, 37032, 37035, 37037, 37038, 37039, 37040, 37041, 37042, 37043, 37044, 37046, 37047, 37048, 37050, 37051, 37052, 37060, 37063, 37068, 37070, 37071, 37072, 37073, 37074, 37078, 37079, 37084, 37086, 37087, 37090, 37091, 37094, 37098, 37099, 37100, 37101, 37105, 37107, 37109, 37112, 37113, 37114, 37115, 37118, 37119, 37121, 37122, 37126, 37127, 37133, 37134, 37136, 37138, 37139, 37140, 37143, 37146, 37148, 37149, 37151, 37155, 37156, 37159, 37163, 37164, 37165, 37167, 37170, 37171, 37175, 37178, 37179, 37183, 37184, 37185, 37187, 37188, 37189, 37191, 37192, 37194, 37200, 37201, 37204, 37205, 37206, 37208, 37209, 37212, 37214, 37216, 37218, 37223, 37227, 37230, 37231, 37235, 37239, 37240, 37241, 37242, 37243, 37247, 37251, 37253, 37254, 37259, 37260, 37261, 37264, 37265, 37269, 37270, 37271, 37272, 37273, 37274, 37275, 37276, 37285, 37289, 37294, 37295, 37297, 37302, 37303, 37305, 37307, 37309, 37311, 37316, 37319, 37323, 37325, 37327, 37332, 37335, 37338, 37341, 37342, 37344, 37345, 37347, 37349, 37350, 37352, 37354, 37355, 37358, 37359, 37360, 37361, 37363, 37375, 37379, 37380, 37382, 37383, 37384, 37387, 37388, 37389, 37393, 37394, 37395, 37396, 37397, 37398, 37399, 37400, 37401, 37403, 37404, 37408, 37410, 37412, 37413, 37416, 37418, 37419, 37425, 37426, 37427, 37428, 37429, 37430, 37432, 37433, 37435, 37437, 37439, 37440, 37441, 37443, 37444, 37449, 37450, 37454, 37455, 37456, 37458, 37465, 37466, 37467, 37468, 37469, 37471, 37473, 37475, 37476, 37477, 37486, 37487, 37490, 37492, 37494, 37496, 37502, 37514, 37518, 37519, 37520, 37525, 37529, 37532, 37534, 37536, 37537, 37539, 37543, 37549, 37550, 37552, 37554, 37555, 37558, 37564, 37565, 37566, 37567, 37579, 37582, 37583, 37588, 37589, 37590, 37596, 37601, 37602, 37603, 37612, 37613, 37615, 37617, 37625, 37627, 37628, 37630, 37631, 37634, 37636, 37640, 37642, 37643, 37645, 37648, 37651, 37655, 37657, 37661, 37663, 37664, 37665, 37671, 37672, 37674, 37680, 37681, 37688, 37689, 37692, 37694, 37698, 37705, 37706, 37707, 37709, 37711, 37713, 37718, 37720, 37724, 37725, 37732, 37738, 37739, 37740, 37743, 37744, 37745, 37746, 37747, 37748, 37749, 37751, 37754, 37757, 37758, 37762, 37776, 37783, 37785, 37786, 37789, 37790, 37793, 37794, 37797, 37798, 37799, 37800, 37801, 37804, 37805, 37807, 37810, 37812, 37818, 37821, 37824, 37826, 37829, 37831, 37832, 37833, 37859, 37862, 37865, 37867, 37868, 37870, 37871, 37872, 37873, 37875, 37883, 37884, 37894, 37896, 37898, 37901, 37902, 37904, 37905, 37906, 37908, 37909, 37910, 37911, 37912, 37913, 37914, 37915, 37916, 37917, 37918, 37924, 37928, 37929, 37934, 37940, 37944, 37948, 37958, 37959, 37963, 37965, 37970, 37977, 37979, 37980, 37983, 37985, 37986, 37987, 37988, 37989, 37990, 37991, 37992, 37995, 37999, 38000, 38004, 38006, 38007, 38008, 38009, 38010, 38011, 38012, 38017, 38018, 38020, 38026, 38027, 38030, 38032, 38042, 38045, 38046, 38047, 38050, 38051, 38052, 38053, 38055, 38056, 38057, 38067, 38069, 38074, 38077, 38080, 38081, 38085, 38086, 38090, 38091, 38094, 38096, 38098, 38099, 38100, 38102, 38105, 38106, 38112, 38114, 38115, 38117, 38122, 38126, 38131, 38132, 38135, 38136, 38137, 38147, 38154, 38155, 38156, 38160, 38161, 38162, 38168, 38175, 38177, 38178, 38179, 38180, 38181, 38183, 38185, 38187, 38191, 38201, 38203, 38204, 38205, 38209, 38218, 38219, 38220, 38225, 38226, 38228, 38235, 38236, 38240, 38242, 38247, 38248, 38249, 38250, 38265, 38266, 38267, 38269, 38273, 38274, 38275, 38277, 38278, 38281, 38282, 38283, 38285, 38286, 38288, 38291, 38299, 38301, 38312, 38315, 38316, 38321, 38323, 38324, 38325, 38328, 38329, 38331, 38340, 38347, 38349, 38353, 38354, 38356, 38359, 38361, 38362, 38364, 38366, 38367, 38368, 38370, 38372, 38373, 38377, 38381, 38385, 38390, 38391, 38392, 38393, 38394, 38396, 38398, 38399, 38400, 38401, 38403, 38404, 38409, 38411, 38412, 38415, 38416, 38417, 38421, 38423, 38425, 38426, 38427, 38428, 38432, 38433, 38434, 38436, 38437, 38438, 38441, 38442, 38445, 38448, 38449, 38453, 38454, 38455, 38456, 38457, 38463, 38464, 38465, 38467, 38468, 38469, 38470, 38474, 38476, 38483, 38484, 38485, 38488, 38494, 38496, 38497, 38498, 38499, 38506, 38508, 38511, 38513, 38514, 38515, 38517, 38518, 38526, 38532, 38533, 38534, 38535, 38536, 38541, 38543, 38544, 38545, 38546, 38547, 38548, 38549, 38555, 38559, 38563, 38565, 38569, 38571, 38572, 38576, 38580, 38583, 38586, 38587, 38593, 38602, 38606, 38609, 38610, 38615, 38618, 38619, 38620, 38627, 38638, 38641, 38660, 38661, 38663, 38666, 38667, 38671, 38672, 38673, 38677, 38680, 38681, 38682, 38683, 38684, 38685, 38687, 38690, 38696, 38698, 38699, 38701, 38702, 38703, 38704, 38705, 38706, 38707, 38708, 38709, 38712, 38713, 38715, 38716, 38717, 38719, 38724, 38725, 38726, 38728, 38729, 38730, 38733, 38737, 38742, 38743, 38744, 38745, 38748, 38749, 38750, 38752, 38755, 38759, 38761, 38762, 38764, 38772, 38774, 38777, 38779, 38783, 38785, 38786, 38792, 38795, 38811, 38812, 38814, 38816, 38823, 38825, 38826, 38828, 38829, 38832, 38833, 38837, 38840, 38842, 38843, 38845, 38847, 38848, 38851, 38855, 38856, 38857, 38860, 38861, 38862, 38864, 38865, 38866, 38867, 38868, 38871, 38872, 38873, 38874, 38875, 38876, 38877, 38879, 38887, 38888, 38893, 38895, 38896, 38900, 38901, 38905, 38906, 38910, 38912, 38914, 38920, 38923, 38926, 38927, 38928, 38933, 38936, 38937, 38941, 38942, 38943, 38947, 38959, 38960, 38964, 38967, 38970, 38971, 38972, 38975, 38976, 38978, 38986, 38989, 38990, 38991, 38995, 38997, 38998, 39007, 39009, 39010, 39013, 39015, 39019, 39022, 39025, 39026, 39028, 39031, 39032, 39034, 39035, 39036, 39037, 39052, 39060, 39065, 39066, 39068, 39074, 39078, 39079, 39080, 39081, 39095, 39099, 39104, 39123, 39124, 39128, 39129, 39136, 39138, 39140, 39143, 39147, 39150, 39151, 39154, 39156, 39164, 39165, 39167, 39168, 39169, 39172, 39173, 39186, 39193, 39194, 39205, 39206, 39214, 39217, 39219, 39221, 39222, 39225, 39227, 39229, 39230, 39239, 39240, 39243, 39244, 39248, 39258, 39262, 39265, 39269, 39270, 39272, 39273, 39274, 39277, 39281, 39283, 39285, 39288, 39290, 39291, 39293, 39294, 39296, 39300, 39301, 39303, 39305, 39311, 39317, 39318, 39320, 39323, 39324, 39339, 39343, 39344, 39346, 39351, 39352, 39354, 39359, 39361, 39362, 39363, 39366, 39369, 39370, 39373, 39374, 39375, 39377, 39387, 39388, 39391, 39403, 39414, 39419, 39420, 39422, 39429, 39430, 39433, 39437, 39441, 39442, 39443, 39448, 39451, 39452, 39462, 39465, 39466, 39467, 39468, 39469, 39470, 39471, 39472, 39482, 39483, 39485, 39486, 39489, 39493, 39499, 39500, 39502, 39503, 39506, 39507, 39510, 39514, 39516, 39520, 39523, 39524, 39525, 39526, 39529, 39532, 39534, 39538, 39540, 39541, 39542, 39543, 39544, 39545, 39551, 39554, 39555, 39561, 39574, 39580, 39589, 39590, 39592, 39596, 39602, 39603, 39604, 39606, 39607, 39608, 39611, 39615, 39616, 39619, 39621, 39622, 39624, 39627, 39629, 39634, 39635, 39642, 39643, 39650, 39653, 39655, 39658, 39671, 39673, 39674, 39677, 39683, 39685, 39686, 39687, 39689, 39691, 39692, 39693, 39698, 39700, 39702, 39703, 39704, 39706, 39707, 39710, 39711, 39715, 39716, 39720, 39722, 39725, 39726, 39728, 39731, 39732, 39733, 39736, 39737, 39739, 39740, 39741, 39745, 39748, 39749, 39754, 39755, 39761, 39763, 39767, 39769, 39770, 39774, 39776, 39777, 39782, 39786, 39792, 39794, 39798, 39799, 39804, 39806, 39809, 39811, 39817, 39818, 39829, 39837, 39839, 39840, 39841, 39847, 39851, 39858, 39864, 39865, 39866, 39869, 39870, 39871, 39872, 39874, 39876, 39877, 39878, 39880, 39883, 39888, 39892, 39894, 39902, 39904, 39912, 39916, 39917, 39918, 39919, 39921, 39922, 39923, 39926, 39927, 39928, 39934, 39936, 39937, 39939, 39940, 39944, 39945, 39946, 39948, 39949, 39950, 39951, 39952, 39956, 39957, 39958, 39961, 39965, 39969, 39970, 39971, 39977, 39978, 39979, 39981, 39990, 39991, 39992, 39993, 40007, 40011, 40013, 40014, 40016, 40019, 40031, 40032, 40048, 40053, 40054, 40063, 40064, 40065, 40066, 40071, 40072, 40073, 40078, 40080, 40082, 40087, 40091, 40092, 40098, 40099, 40100, 40101, 40103, 40105, 40106, 40107, 40110, 40111, 40112, 40118, 40119, 40124, 40126, 40127, 40128, 40130, 40131, 40132, 40137, 40141, 40142, 40146, 40147, 40149, 40151, 40152, 40153, 40154, 40156, 40160, 40162, 40163, 40170, 40173, 40175, 40180, 40181, 40184, 40185, 40187, 40188, 40195, 40197, 40199, 40203, 40204, 40205, 40209, 40213, 40215, 40216, 40218, 40220, 40222, 40225, 40238, 40243, 40245, 40247, 40249, 40252, 40255, 40256, 40258, 40262, 40266, 40269, 40270, 40271, 40272, 40273, 40281, 40289, 40290, 40295, 40298, 40301, 40306, 40319, 40320, 40322, 40324, 40325, 40327, 40328, 40329, 40330, 40333, 40334, 40338, 40341, 40343, 40345, 40346, 40347, 40350, 40353, 40355, 40358, 40360, 40362, 40363, 40367, 40368, 40375, 40376, 40383, 40385, 40389, 40394, 40395, 40396, 40398, 40400, 40401, 40402, 40403, 40404, 40405, 40408, 40412, 40413, 40415, 40417, 40419, 40421, 40424, 40425, 40426, 40430, 40431, 40438, 40440, 40442, 40448, 40451, 40454, 40461, 40466, 40467, 40469, 40470, 40473, 40488, 40490, 40493, 40494, 40502, 40505, 40509, 40510, 40512, 40513, 40515, 40521, 40523, 40524, 40531, 40533, 40536, 40544, 40545, 40546, 40547, 40549, 40553, 40554, 40555, 40556, 40557, 40558, 40562, 40563, 40564, 40569, 40571, 40576, 40577, 40584, 40591, 40593, 40594, 40597, 40599, 40602, 40604, 40607, 40617, 40618, 40621, 40622, 40623, 40626, 40627, 40631, 40637, 40639, 40642, 40644, 40649, 40654, 40658, 40659, 40663, 40667, 40673, 40682, 40684, 40688, 40689, 40698, 40700, 40701, 40703, 40706, 40710, 40711, 40713, 40715, 40719, 40723, 40725, 40728, 40734, 40740, 40742, 40744, 40747, 40748, 40754, 40755, 40766, 40767, 40769, 40770, 40771, 40778, 40781, 40784, 40786, 40787, 40788, 40789, 40790, 40791, 40793, 40794, 40796, 40800, 40806, 40810, 40814, 40815, 40816, 40821, 40824, 40827, 40828, 40832, 40837, 40842, 40848, 40849, 40852, 40853, 40857, 40858, 40859, 40864, 40865, 40869, 40873, 40883, 40884, 40889, 40896, 40906, 40913, 40917, 40919, 40921, 40923, 40924, 40930, 40931, 40936, 40938, 40939, 40942, 40944, 40948, 40954, 40956, 40959, 40965, 40966, 40968, 40971, 40975, 40977, 40978, 40980, 40982, 40988, 40989, 40996, 41009, 41010, 41014, 41019, 41020, 41021, 41022, 41026, 41028, 41030, 41031, 41034, 41036, 41039, 41040, 41042, 41043, 41047, 41048, 41052, 41064, 41067, 41068, 41069, 41071, 41073, 41075, 41076, 41080, 41081, 41092, 41094, 41096, 41097, 41101, 41104, 41106, 41107, 41110, 41112, 41113, 41114, 41116, 41123, 41126, 41132, 41133, 41137, 41142, 41146, 41147, 41151, 41153, 41157, 41160, 41161, 41166, 41171, 41175, 41180, 41181, 41182, 41184, 41185, 41186, 41187, 41188, 41189, 41191, 41193, 41194, 41195, 41196, 41197, 41203, 41204, 41205, 41208, 41211, 41214, 41218, 41228, 41229, 41240, 41243, 41244, 41246, 41250, 41251, 41252, 41256, 41257, 41260, 41265, 41273, 41274, 41275, 41279, 41285, 41291, 41292, 41294, 41299, 41307, 41310, 41313, 41323, 41334, 41337, 41340, 41342, 41343, 41351, 41356, 41357, 41358, 41359, 41363, 41369, 41370, 41372, 41373, 41375, 41378, 41379, 41385, 41388, 41390, 41392, 41393, 41399, 41401, 41403, 41404, 41406, 41408, 41425, 41427, 41428, 41429, 41430, 41435, 41438, 41442, 41444, 41446, 41447, 41448, 41449, 41456, 41459, 41470, 41473, 41474, 41476, 41480, 41481, 41484, 41493, 41498, 41499, 41506, 41529, 41530, 41533, 41535, 41537, 41539, 41541, 41542, 41543, 41544, 41548, 41550, 41552, 41553, 41554, 41559, 41560, 41561, 41563, 41565, 41572, 41574, 41577, 41578, 41586, 41590, 41592, 41594, 41600, 41602, 41605, 41607, 41608, 41618, 41619, 41620, 41622, 41623, 41624, 41626, 41628, 41629, 41630, 41632, 41633, 41634, 41635, 41636, 41637, 41644, 41645, 41656, 41658, 41660, 41663, 41664, 41665, 41666, 41667, 41676, 41679, 41681, 41682, 41683, 41685, 41686, 41687, 41694, 41695, 41696, 41699, 41706, 41710, 41718, 41719, 41720, 41721, 41722, 41723, 41724, 41730, 41731, 41736, 41738, 41745, 41749, 41751, 41755, 41757, 41760, 41765, 41770, 41771, 41781, 41785, 41786, 41789, 41792, 41794, 41796, 41797, 41800, 41801, 41804, 41816, 41817, 41818, 41823, 41824, 41826, 41836, 41837, 41839, 41843, 41844, 41845, 41846, 41849, 41851, 41853, 41854, 41856, 41858, 41861, 41864, 41868, 41869, 41874, 41879, 41881, 41883, 41891, 41895, 41896, 41897, 41899, 41900, 41907, 41910, 41915, 41921, 41922, 41923, 41932, 41933, 41936, 41937, 41938, 41939, 41942, 41944, 41945, 41948, 41949, 41953, 41958, 41960, 41963, 41970, 41971, 41974, 41979, 41980, 41986, 41987, 41988, 41993, 42000, 42002, 42004, 42014, 42029, 42031, 42035, 42036, 42037, 42038, 42040, 42041, 42043, 42044, 42045, 42046, 42047, 42049, 42055, 42058, 42062, 42063, 42066, 42067, 42074, 42076, 42077, 42078, 42080, 42081, 42085, 42091, 42092, 42093, 42099, 42100, 42103, 42104, 42111, 42116, 42119, 42126, 42131, 42132, 42141, 42145, 42148, 42150, 42152, 42161, 42162, 42163, 42166, 42172, 42177, 42178, 42190, 42191, 42192, 42194, 42198, 42200, 42203, 42208, 42212, 42213, 42221, 42225, 42227, 42229, 42230, 42232, 42239, 42240, 42241, 42242, 42245, 42249, 42250, 42258, 42259, 42260, 42263, 42264, 42268, 42272, 42276, 42278, 42279, 42280, 42281, 42283, 42285, 42286, 42289, 42290, 42292, 42295, 42299, 42300, 42302, 42307, 42317, 42324, 42326, 42333, 42338, 42344, 42349, 42352, 42357, 42363, 42364, 42366, 42370, 42371, 42372, 42373, 42374, 42376, 42390, 42392, 42398, 42401, 42407, 42408, 42409, 42410, 42413, 42415, 42418, 42419, 42424, 42428, 42429, 42430, 42437, 42438, 42440, 42443, 42445, 42446, 42447, 42448, 42450, 42452, 42453, 42456, 42458, 42459, 42461, 42463, 42472, 42481, 42482, 42484, 42489, 42492, 42494, 42496, 42497, 42499, 42504, 42506, 42507, 42509, 42520, 42524, 42526, 42529, 42531, 42548, 42551, 42553, 42555, 42563, 42565, 42567, 42568, 42569, 42570, 42572, 42573, 42576, 42580, 42582, 42586, 42587, 42588, 42592, 42594, 42596, 42597, 42598, 42601, 42603, 42606, 42609, 42614, 42616, 42617, 42620, 42622, 42625, 42627, 42636, 42637, 42639, 42645, 42647, 42656, 42660, 42661, 42665, 42666, 42668, 42673, 42674, 42676, 42678, 42679, 42680, 42682, 42688, 42690, 42695, 42696, 42699, 42713, 42715, 42716, 42725, 42726, 42728, 42738, 42740, 42751, 42755, 42758, 42760, 42765, 42767, 42768, 42769, 42780, 42783, 42785, 42787, 42788, 42789, 42790, 42791, 42795, 42796, 42799, 42800, 42810, 42811, 42814, 42815, 42817, 42828, 42830, 42831, 42833, 42834, 42836, 42837, 42838, 42840, 42847, 42849, 42851, 42854, 42859, 42867, 42870, 42871, 42873, 42875, 42876, 42878, 42883, 42884, 42885, 42892, 42896, 42899, 42900, 42911, 42915, 42918, 42920, 42924, 42925, 42928, 42929, 42932, 42933, 42934, 42935, 42936, 42941, 42946, 42953, 42957, 42959, 42960, 42968, 42969, 42977, 42986, 42989, 42991, 42995, 43008, 43014, 43019, 43020, 43021, 43022, 43025, 43026, 43027, 43029, 43031, 43035, 43038, 43046, 43047, 43053, 43056, 43063, 43068, 43069, 43075, 43076, 43077, 43078, 43079, 43083, 43085, 43086, 43087, 43088, 43093, 43097, 43098, 43102, 43103, 43104, 43108, 43109, 43113, 43115, 43117, 43120, 43121, 43122, 43123, 43126, 43133, 43134, 43137, 43139, 43141, 43143, 43147, 43149, 43151, 43152, 43154, 43155, 43158, 43159, 43166, 43167, 43168, 43169, 43171, 43174, 43175, 43176, 43177, 43180, 43183, 43188, 43193, 43194, 43195, 43196, 43205, 43209, 43211, 43224, 43235, 43236, 43237, 43240, 43244, 43246, 43247, 43254, 43259, 43266, 43271, 43273, 43277, 43281, 43282, 43283, 43284, 43285, 43293, 43295, 43299, 43304, 43305, 43309, 43310, 43313, 43314, 43319, 43326, 43327, 43329, 43330, 43333, 43334, 43336, 43341, 43348, 43356, 43358, 43360, 43361, 43362, 43367, 43368, 43370, 43375, 43377, 43381, 43384, 43386, 43392, 43399, 43404, 43409, 43414, 43420, 43421, 43422, 43425, 43426, 43427, 43429, 43430, 43431, 43432, 43433, 43434, 43437, 43438, 43439, 43447, 43448, 43457, 43458, 43460, 43466, 43467, 43468, 43469, 43470, 43472, 43474, 43475, 43478, 43479, 43480, 43481, 43483, 43485, 43486, 43487, 43488, 43489, 43491, 43492, 43496, 43498, 43500, 43503, 43506, 43512, 43514, 43522, 43523, 43533, 43534, 43535, 43536, 43537, 43538, 43540, 43541, 43542, 43543, 43544, 43547, 43549, 43556, 43557, 43558, 43559, 43561, 43562, 43565, 43568, 43578, 43582, 43583, 43584, 43585, 43586, 43587, 43588, 43589, 43591, 43594, 43595, 43597, 43598, 43602, 43603, 43604, 43605, 43606, 43607, 43609, 43611, 43612, 43618, 43620, 43621, 43622, 43626, 43629, 43631, 43634, 43640, 43643, 43655, 43659, 43666, 43671, 43672, 43675, 43681, 43685, 43689, 43693, 43701, 43704, 43705, 43706, 43712, 43716, 43719, 43721, 43733, 43736, 43737, 43739, 43746, 43748, 43749, 43750, 43751, 43752, 43755, 43757, 43763, 43769, 43770, 43776, 43778, 43780, 43781, 43782, 43785, 43789, 43799, 43800, 43801, 43805, 43806, 43813, 43815, 43817, 43820, 43829, 43831, 43835, 43836, 43837, 43838, 43841, 43842, 43844, 43845, 43847, 43848, 43850, 43851, 43853, 43855, 43856, 43860, 43861, 43863, 43864, 43865, 43870, 43874, 43875, 43877, 43878, 43880, 43881, 43884, 43888, 43895, 43897, 43898, 43900, 43905, 43913, 43916, 43919, 43920, 43921, 43923, 43927, 43928, 43929, 43932, 43936, 43937, 43938, 43941, 43946, 43949, 43950, 43955, 43958, 43962, 43963, 43964, 43965, 43967, 43969, 43971, 43972, 43974, 43975, 43976, 43978, 43984, 43985, 43993, 43995, 43999, 44001, 44005, 44007, 44013, 44014, 44016, 44028, 44029, 44030, 44031, 44032, 44036, 44039, 44040, 44048, 44049, 44051, 44052, 44054, 44055, 44057, 44059, 44060, 44061, 44063, 44065, 44066, 44067, 44072, 44084, 44086, 44088, 44089, 44094, 44097, 44098, 44099, 44105, 44107, 44111, 44112, 44116, 44119, 44123, 44125, 44138, 44151, 44152, 44153, 44157, 44159, 44165, 44175, 44176, 44183, 44188, 44190, 44193, 44195, 44197, 44200, 44202, 44203, 44206, 44212, 44213, 44216, 44234, 44235, 44251, 44255, 44266, 44268, 44273, 44275, 44278, 44279, 44286, 44288, 44290, 44295, 44296, 44297, 44299, 44304, 44307, 44308, 44309, 44310, 44314, 44315, 44318, 44319, 44323, 44324, 44326, 44329, 44331, 44333, 44334, 44336, 44339, 44341, 44342, 44343, 44344, 44349, 44350, 44355, 44356, 44358, 44360, 44362, 44363, 44370, 44372, 44376, 44377, 44380, 44381, 44382, 44384, 44388, 44394, 44402, 44404, 44408, 44409, 44410, 44413, 44416, 44428, 44430, 44432, 44437, 44443, 44444, 44446, 44447, 44448, 44449, 44450, 44456, 44457, 44458, 44461, 44462, 44463, 44465, 44468, 44470, 44474, 44475, 44476, 44477, 44493, 44494, 44495, 44514, 44517, 44521, 44522, 44528, 44529, 44530, 44534, 44535, 44543, 44544, 44548, 44550, 44556, 44558, 44559, 44560, 44567, 44573, 44575, 44576, 44581, 44583, 44585, 44588, 44592, 44593, 44595, 44596, 44605, 44607, 44610, 44613, 44615, 44616, 44619, 44623, 44628, 44634, 44636, 44637, 44638, 44642, 44643, 44649, 44659, 44662, 44671, 44673, 44677, 44684, 44685, 44688, 44690, 44692, 44701, 44702, 44703, 44704, 44706, 44707, 44708, 44724, 44728, 44732, 44735, 44736, 44737, 44743, 44751, 44752, 44753, 44754, 44758, 44759, 44762, 44765, 44766, 44774, 44776, 44780, 44781, 44782, 44783, 44784, 44785, 44787, 44794, 44796, 44798, 44803, 44808, 44809, 44810, 44811, 44813, 44816, 44817, 44822, 44824, 44826, 44831, 44833, 44834, 44835, 44846, 44850, 44855, 44858, 44859, 44860, 44861, 44862, 44865, 44866, 44870, 44873, 44880, 44885, 44886, 44899, 44901, 44906, 44911, 44913, 44918, 44919, 44921, 44928, 44936, 44937, 44940, 44944, 44945, 44948, 44951, 44954, 44961, 44962, 44967, 44968, 44971, 44973, 44974, 44975, 44978, 44979, 44981, 44986, 44989, 44990, 44996, 45000, 45005, 45007, 45009, 45012, 45023, 45027, 45028, 45034, 45042, 45044, 45045, 45047, 45050, 45051, 45052, 45053, 45054, 45055, 45056, 45057, 45058, 45065, 45066, 45067, 45069, 45070, 45072, 45073, 45075, 45076, 45078, 45084, 45085, 45086, 45087, 45090, 45091, 45092, 45096, 45097, 45102, 45103, 45114, 45115, 45118, 45120, 45121, 45122, 45123, 45128, 45131, 45132, 45135, 45137, 45140, 45144, 45145, 45147, 45148, 45149, 45150, 45151, 45154, 45156, 45157, 45159, 45160, 45161, 45162, 45163, 45165, 45166, 45172, 45176, 45179, 45187, 45189, 45195, 45197, 45198, 45201, 45203, 45207, 45208, 45212, 45215, 45218, 45220, 45221, 45222, 45223, 45226, 45227, 45234, 45239, 45240, 45244, 45246, 45249, 45253, 45260, 45261, 45264, 45266, 45267, 45269, 45271, 45272, 45273, 45274, 45275, 45280, 45282, 45288, 45292, 45294, 45295, 45296, 45303, 45308, 45309, 45310, 45311, 45312, 45313, 45317, 45319, 45320, 45323, 45327, 45329, 45333, 45336, 45337, 45338, 45345, 45351, 45359, 45360, 45361, 45365, 45372, 45378, 45379, 45380, 45385, 45386, 45387, 45388, 45389, 45391, 45396, 45400, 45403, 45404, 45407, 45408, 45409, 45410, 45418, 45422, 45426, 45429, 45431, 45432, 45434, 45438, 45440, 45442, 45452, 45455, 45457, 45461, 45465]\n",
            "INDEX5:  [50, 83, 107, 126, 137, 189, 390, 393, 398, 399, 401, 554, 570, 577, 595, 601, 606, 634, 648, 665, 666, 671, 685, 706, 711, 734, 740, 752, 756, 767, 772, 796, 802, 819, 833, 849, 852, 857, 863, 951, 955, 957, 972, 973, 1033, 1081, 1088, 1102, 1104, 1106, 1108, 1119, 1120, 1124, 1126, 1269, 1272, 1300, 1319, 1370, 1377, 1380, 1388, 1393, 1405, 1413, 1442, 1473, 1483, 1487, 1489, 1607, 1626, 1628, 1629, 1632, 1634, 1657, 1673, 1687, 1691, 1715, 1768, 1792, 1935, 2028, 2082, 2111, 2117, 2123, 2140, 2192, 2213, 2371, 2376, 2386, 2425, 2432, 2451, 2465, 2487, 2490, 2513, 2570, 2588, 2629, 2645, 2662, 2696, 2698, 2705, 2706, 2709, 2735, 2753, 2793, 2948, 2967, 3015, 3047, 3053, 3070, 3074, 3077, 3108, 3110, 3113, 3118, 3119, 3173, 3175, 3179, 3203, 3238, 3264, 3291, 3343, 3379, 3448, 3460, 3466, 3487, 3503, 3596, 3628, 3705, 3729, 3736, 3756, 3759, 3763, 3779, 3789, 3826, 3870, 3888, 3945, 3950, 3961, 4019, 4044, 4081, 4103, 4122, 4130, 4187, 4256, 4329, 4333, 4421, 4423, 4432, 4518, 4582, 4597, 4601, 4609, 4630, 4638, 4649, 4690, 4754, 4761, 4807, 4900, 4939, 4969, 5136, 5137, 5184, 5186, 5216, 5386, 5402, 5413, 5431, 5482, 5489, 5519, 5527, 5612, 5660, 5667, 5669, 5681, 5685, 5690, 5723, 5732, 5756, 5767, 5838, 5879, 5912, 5954, 5987, 6051, 6057, 6108, 6115, 6131, 6345, 6440, 6441, 6457, 6512, 6518, 6525, 6543, 6563, 6588, 6617, 6626, 6673, 6704, 6712, 6728, 6782, 6787, 6790, 6794, 6810, 6811, 6813, 6922, 6925, 6973, 6977, 6992, 6993, 7037, 7114, 7143, 7184, 7198, 7205, 7217, 7276, 7358, 7394, 7407, 7418, 7541, 7555, 7585, 7588, 7610, 7748, 7761, 7903, 7910, 7936, 7941, 7980, 7981, 8026, 8033, 8161, 8227, 8233, 8248, 8292, 8293, 8296, 8297, 8302, 8303, 8304, 8305, 8308, 8309, 8314, 8320, 8321, 8322, 8323, 8456, 8557, 8558, 8680, 8804, 8810, 8852, 8995, 9066, 9093, 9096, 9113, 9174, 9203, 9215, 9220, 9226, 9285, 9287, 9294, 9301, 9325, 9358, 9381, 9409, 9472, 9487, 9502, 9569, 9662, 9679, 9725, 9765, 9775, 9783, 9785, 9803, 9814, 9830, 9831, 9857, 9880, 9881, 9935, 9974, 9988, 10038, 10051, 10082, 10087, 10138, 10224, 10269, 10311, 10353, 10401, 10593, 10596, 10607, 10686, 10690, 10758, 10764, 10790, 10865, 10886, 11006, 11035, 11041, 11044, 11066, 11116, 11188, 11226, 11284, 11288, 11449, 11589, 11738, 11822, 11867, 11895, 11902, 11945, 12028, 12037, 12050, 12069, 12120, 12136, 12152, 12233, 12239, 12240, 12245, 12253, 12255, 12338, 12344, 12346, 12362, 12367, 12410, 12450, 12484, 12487, 12493, 12527, 12550, 12630, 12634, 12654, 12685, 12715, 12719, 12724, 12731, 12732, 12740, 12804, 12813, 12819, 12820, 12845, 12922, 12954, 12969, 12988, 13043, 13055, 13065, 13081, 13104, 13111, 13125, 13169, 13171, 13186, 13207, 13210, 13213, 13222, 13223, 13226, 13230, 13234, 13257, 13265, 13266, 13279, 13292, 13304, 13309, 13320, 13355, 13373, 13407, 13415, 13418, 13435, 13485, 13488, 13505, 13562, 13572, 13573, 13599, 13603, 13611, 13612, 13615, 13617, 13618, 13623, 13632, 13642, 13655, 13674, 13713, 13757, 13766, 13778, 13802, 13805, 13852, 13855, 13857, 13862, 13878, 13899, 13909, 13913, 13916, 13931, 13945, 13951, 13953, 13955, 13999, 14021, 14056, 14067, 14070, 14072, 14096, 14151, 14239, 14255, 14260, 14270, 14275, 14277, 14292, 14341, 14373, 14380, 14386, 14398, 14401, 14402, 14413, 14435, 14454, 14455, 14456, 14459, 14463, 14464, 14467, 14468, 14470, 14471, 14477, 14514, 14532, 14534, 14536, 14539, 14545, 14549, 14565, 14581, 14591, 14594, 14609, 14610, 14628, 14657, 14664, 14691, 14695, 14713, 14721, 14725, 14729, 14756, 14779, 14800, 14801, 14804, 14812, 14829, 14854, 14868, 14887, 14890, 14970, 14982, 15007, 15024, 15037, 15045, 15046, 15050, 15065, 15066, 15067, 15071, 15082, 15103, 15117, 15142, 15178, 15180, 15219, 15249, 15263, 15277, 15316, 15355, 15358, 15374, 15376, 15380, 15388, 15394, 15412, 15417, 15436, 15437, 15456, 15465, 15469, 15515, 15521, 15529, 15538, 15548, 15572, 15602, 15612, 15619, 15645, 15651, 15676, 15710, 15728, 15731, 15733, 15743, 15748, 15774, 15791, 15825, 15831, 15832, 15854, 15858, 15877, 15879, 15917, 15921, 15942, 15952, 15960, 15970, 15988, 15990, 15991, 16001, 16006, 16024, 16039, 16095, 16102, 16119, 16137, 16162, 16173, 16215, 16227, 16265, 16269, 16303, 16341, 16385, 16417, 16441, 16444, 16446, 16452, 16497, 16499, 16517, 16527, 16531, 16549, 16593, 16608, 16617, 16662, 16687, 16690, 16730, 16743, 16767, 16778, 16780, 16791, 16823, 16831, 16836, 16837, 16845, 16854, 16858, 16874, 16875, 16876, 16901, 16902, 16904, 16923, 16953, 16977, 17001, 17007, 17019, 17027, 17036, 17053, 17059, 17086, 17088, 17096, 17104, 17110, 17118, 17134, 17142, 17149, 17167, 17172, 17225, 17226, 17228, 17231, 17245, 17247, 17253, 17256, 17270, 17271, 17274, 17281, 17284, 17286, 17314, 17316, 17317, 17320, 17325, 17331, 17332, 17333, 17334, 17336, 17338, 17354, 17363, 17372, 17375, 17382, 17397, 17415, 17422, 17423, 17429, 17462, 17495, 17499, 17502, 17506, 17510, 17525, 17574, 17602, 17640, 17644, 17670, 17685, 17694, 17695, 17712, 17767, 17785, 17806, 17810, 17833, 17837, 17844, 17851, 17875, 17876, 17894, 17907, 17949, 17950, 17951, 17952, 17961, 17967, 18001, 18030, 18036, 18038, 18040, 18044, 18047, 18059, 18074, 18085, 18099, 18104, 18121, 18128, 18153, 18161, 18162, 18163, 18181, 18200, 18211, 18231, 18243, 18264, 18318, 18337, 18344, 18345, 18362, 18379, 18387, 18405, 18412, 18421, 18423, 18429, 18431, 18434, 18440, 18461, 18470, 18481, 18488, 18495, 18496, 18507, 18515, 18531, 18546, 18547, 18551, 18558, 18564, 18568, 18572, 18579, 18587, 18592, 18604, 18611, 18619, 18633, 18664, 18671, 18672, 18681, 18682, 18683, 18687, 18690, 18694, 18700, 18720, 18728, 18737, 18738, 18746, 18748, 18750, 18757, 18781, 18787, 18794, 18799, 18812, 18816, 18822, 18826, 18846, 18851, 18854, 18868, 18873, 18874, 18875, 18879, 18891, 18916, 18928, 18939, 18940, 18974, 18976, 18989, 18997, 19010, 19025, 19037, 19118, 19123, 19130, 19141, 19150, 19171, 19183, 19184, 19190, 19193, 19206, 19224, 19227, 19230, 19253, 19302, 19312, 19320, 19351, 19352, 19363, 19366, 19371, 19373, 19383, 19393, 19415, 19430, 19431, 19442, 19444, 19449, 19459, 19472, 19475, 19501, 19503, 19517, 19519, 19531, 19538, 19539, 19540, 19542, 19563, 19576, 19583, 19588, 19598, 19600, 19603, 19608, 19616, 19645, 19670, 19671, 19675, 19683, 19692, 19694, 19702, 19718, 19721, 19723, 19725, 19738, 19764, 19779, 19804, 19805, 19808, 19815, 19816, 19840, 19846, 19851, 19874, 19878, 19879, 19883, 19890, 19914, 19941, 19955, 19965, 19998, 19999, 20010, 20023, 20025, 20094, 20103, 20130, 20138, 20139, 20157, 20159, 20166, 20171, 20176, 20180, 20187, 20191, 20209, 20210, 20218, 20225, 20230, 20240, 20272, 20299, 20301, 20303, 20308, 20319, 20327, 20342, 20353, 20414, 20433, 20456, 20482, 20483, 20492, 20504, 20509, 20523, 20548, 20567, 20575, 20587, 20589, 20605, 20606, 20611, 20612, 20614, 20615, 20622, 20627, 20631, 20639, 20642, 20649, 20652, 20654, 20674, 20685, 20700, 20711, 20740, 20742, 20743, 20744, 20747, 20749, 20756, 20759, 20760, 20765, 20774, 20778, 20792, 20807, 20821, 20826, 20855, 20858, 20879, 20889, 20890, 20892, 20920, 20928, 20936, 20948, 20963, 20982, 20986, 21002, 21003, 21020, 21024, 21030, 21047, 21051, 21057, 21067, 21069, 21071, 21072, 21085, 21093, 21096, 21111, 21112, 21159, 21165, 21167, 21184, 21185, 21207, 21222, 21227, 21239, 21240, 21259, 21274, 21299, 21300, 21317, 21324, 21327, 21334, 21341, 21354, 21358, 21366, 21389, 21391, 21392, 21423, 21431, 21448, 21470, 21484, 21510, 21520, 21524, 21542, 21543, 21555, 21570, 21579, 21612, 21633, 21642, 21643, 21649, 21650, 21660, 21668, 21669, 21683, 21690, 21708, 21714, 21744, 21770, 21776, 21797, 21798, 21808, 21811, 21818, 21836, 21853, 21856, 21886, 21888, 21889, 21891, 21894, 21895, 21913, 21916, 21932, 21933, 21934, 21946, 21952, 21968, 21970, 21974, 21985, 21995, 21996, 22009, 22019, 22020, 22028, 22030, 22038, 22052, 22055, 22068, 22070, 22088, 22092, 22095, 22102, 22136, 22138, 22140, 22175, 22180, 22182, 22188, 22193, 22198, 22213, 22218, 22255, 22262, 22269, 22277, 22317, 22325, 22341, 22342, 22346, 22354, 22372, 22404, 22414, 22424, 22432, 22436, 22439, 22442, 22476, 22481, 22488, 22494, 22495, 22504, 22509, 22514, 22518, 22554, 22567, 22572, 22586, 22590, 22610, 22628, 22632, 22634, 22636, 22645, 22651, 22656, 22678, 22685, 22688, 22690, 22691, 22697, 22702, 22733, 22734, 22739, 22749, 22750, 22758, 22760, 22769, 22770, 22772, 22779, 22793, 22797, 22798, 22801, 22807, 22813, 22818, 22827, 22839, 22845, 22867, 22876, 22884, 22886, 22889, 22896, 22908, 22911, 22947, 22966, 22988, 22997, 22998, 23024, 23032, 23038, 23043, 23048, 23058, 23069, 23081, 23089, 23090, 23095, 23109, 23116, 23124, 23145, 23147, 23184, 23210, 23214, 23226, 23321, 23343, 23347, 23378, 23389, 23403, 23404, 23413, 23419, 23420, 23433, 23435, 23464, 23481, 23501, 23504, 23519, 23548, 23550, 23563, 23586, 23611, 23634, 23640, 23642, 23663, 23674, 23676, 23677, 23681, 23698, 23713, 23720, 23723, 23731, 23732, 23759, 23785, 23788, 23805, 23820, 23835, 23851, 23855, 23864, 23870, 23881, 23892, 23912, 23924, 23925, 23937, 23947, 23967, 23980, 23987, 23993, 23995, 23998, 24025, 24030, 24031, 24039, 24041, 24050, 24063, 24065, 24076, 24077, 24098, 24099, 24124, 24126, 24129, 24137, 24145, 24150, 24155, 24157, 24161, 24167, 24178, 24216, 24224, 24233, 24234, 24264, 24280, 24287, 24302, 24318, 24322, 24324, 24327, 24328, 24330, 24341, 24342, 24384, 24386, 24410, 24436, 24451, 24453, 24497, 24505, 24508, 24524, 24527, 24539, 24568, 24590, 24603, 24612, 24616, 24618, 24619, 24623, 24624, 24677, 24701, 24705, 24729, 24734, 24738, 24740, 24752, 24756, 24758, 24759, 24766, 24780, 24795, 24833, 24850, 24882, 24912, 24913, 24914, 24925, 24928, 24933, 24934, 24935, 24971, 24976, 24978, 24979, 24981, 24985, 25064, 25074, 25082, 25095, 25122, 25129, 25155, 25185, 25187, 25190, 25191, 25195, 25216, 25231, 25258, 25271, 25286, 25287, 25306, 25309, 25334, 25365, 25370, 25371, 25372, 25374, 25378, 25382, 25388, 25413, 25415, 25428, 25429, 25436, 25439, 25442, 25471, 25480, 25483, 25484, 25489, 25490, 25493, 25504, 25521, 25524, 25525, 25544, 25556, 25561, 25579, 25581, 25614, 25619, 25630, 25638, 25639, 25652, 25673, 25680, 25683, 25689, 25694, 25704, 25717, 25723, 25728, 25741, 25747, 25753, 25804, 25807, 25822, 25825, 25826, 25847, 25849, 25858, 25859, 25867, 25875, 25876, 25877, 25887, 25892, 25893, 25901, 25905, 25911, 25912, 25918, 25929, 25939, 25957, 25983, 25994, 26075, 26095, 26098, 26099, 26102, 26109, 26134, 26140, 26145, 26147, 26154, 26157, 26160, 26161, 26163, 26177, 26206, 26212, 26247, 26265, 26272, 26370, 26379, 26380, 26389, 26432, 26455, 26459, 26476, 26479, 26506, 26515, 26584, 26591, 26594, 26597, 26605, 26618, 26638, 26645, 26651, 26670, 26679, 26715, 26717, 26758, 26767, 26772, 26775, 26783, 26785, 26791, 26792, 26793, 26795, 26796, 26826, 26834, 26837, 26840, 26850, 26863, 26880, 26881, 26884, 26896, 26916, 26920, 26938, 26974, 26977, 26979, 27001, 27008, 27029, 27034, 27039, 27050, 27080, 27083, 27095, 27110, 27118, 27122, 27194, 27220, 27222, 27242, 27245, 27271, 27294, 27297, 27298, 27305, 27306, 27308, 27311, 27319, 27340, 27342, 27358, 27387, 27405, 27410, 27427, 27436, 27443, 27447, 27475, 27481, 27483, 27484, 27487, 27490, 27498, 27499, 27501, 27508, 27510, 27514, 27515, 27517, 27518, 27524, 27525, 27526, 27531, 27533, 27545, 27546, 27548, 27549, 27550, 27554, 27557, 27565, 27566, 27568, 27570, 27581, 27597, 27599, 27602, 27606, 27623, 27630, 27631, 27652, 27667, 27677, 27679, 27712, 27746, 27747, 27748, 27752, 27754, 27755, 27757, 27758, 27763, 27764, 27765, 27767, 27783, 27786, 27797, 27800, 27817, 27828, 27836, 27845, 27846, 27848, 27849, 27852, 27853, 27881, 27900, 27909, 27931, 27936, 27950, 27951, 27952, 27954, 27964, 27967, 27973, 27984, 27985, 27986, 27999, 28005, 28006, 28008, 28010, 28013, 28020, 28060, 28095, 28119, 28124, 28140, 28143, 28206, 28226, 28247, 28252, 28256, 28263, 28264, 28281, 28282, 28283, 28284, 28291, 28297, 28299, 28300, 28302, 28318, 28319, 28326, 28331, 28336, 28344, 28350, 28375, 28377, 28387, 28388, 28406, 28417, 28419, 28442, 28471, 28510, 28511, 28516, 28522, 28536, 28540, 28559, 28568, 28588, 28591, 28600, 28605, 28617, 28635, 28666, 28667, 28672, 28683, 28703, 28721, 28749, 28751, 28766, 28774, 28796, 28799, 28804, 28806, 28825, 28839, 28840, 28850, 28859, 28860, 28874, 28881, 28890, 28891, 28893, 28903, 28904, 28918, 28921, 28932, 28944, 28964, 28966, 28973, 28985, 29008, 29025, 29047, 29059, 29066, 29090, 29099, 29109, 29123, 29129, 29131, 29139, 29140, 29150, 29161, 29165, 29182, 29187, 29191, 29193, 29200, 29201, 29202, 29203, 29205, 29228, 29232, 29233, 29250, 29251, 29258, 29264, 29268, 29276, 29287, 29295, 29299, 29301, 29309, 29310, 29325, 29346, 29356, 29357, 29367, 29368, 29377, 29388, 29402, 29408, 29420, 29433, 29446, 29468, 29474, 29492, 29493, 29505, 29508, 29548, 29551, 29569, 29572, 29599, 29620, 29633, 29650, 29655, 29665, 29666, 29708, 29727, 29733, 29738, 29739, 29751, 29753, 29754, 29755, 29756, 29760, 29773, 29789, 29795, 29804, 29806, 29819, 29835, 29843, 29844, 29852, 29858, 29864, 29876, 29877, 29878, 29880, 29896, 29909, 29937, 29941, 29944, 29946, 29949, 29971, 30009, 30010, 30044, 30063, 30072, 30073, 30089, 30099, 30102, 30108, 30109, 30112, 30124, 30129, 30153, 30165, 30166, 30169, 30190, 30197, 30225, 30254, 30256, 30286, 30287, 30299, 30305, 30320, 30332, 30340, 30341, 30342, 30343, 30345, 30350, 30356, 30358, 30363, 30364, 30371, 30375, 30378, 30381, 30385, 30416, 30417, 30419, 30428, 30476, 30477, 30492, 30493, 30509, 30510, 30517, 30519, 30553, 30554, 30555, 30559, 30560, 30598, 30602, 30616, 30617, 30618, 30620, 30626, 30629, 30656, 30657, 30670, 30678, 30692, 30713, 30720, 30727, 30748, 30758, 30790, 30815, 30830, 30832, 30867, 30872, 30896, 30901, 30906, 30928, 30941, 30944, 30967, 31007, 31008, 31010, 31015, 31025, 31032, 31037, 31044, 31050, 31056, 31074, 31075, 31078, 31080, 31088, 31091, 31122, 31124, 31136, 31175, 31185, 31190, 31200, 31208, 31209, 31212, 31227, 31243, 31250, 31251, 31267, 31269, 31271, 31274, 31277, 31278, 31288, 31313, 31314, 31337, 31345, 31346, 31349, 31360, 31361, 31362, 31363, 31368, 31375, 31387, 31396, 31397, 31400, 31414, 31415, 31416, 31421, 31427, 31439, 31443, 31462, 31464, 31466, 31473, 31475, 31478, 31490, 31492, 31504, 31505, 31506, 31517, 31520, 31525, 31527, 31532, 31534, 31553, 31556, 31558, 31560, 31580, 31581, 31585, 31586, 31587, 31588, 31589, 31613, 31617, 31619, 31621, 31624, 31654, 31657, 31662, 31664, 31665, 31666, 31667, 31674, 31701, 31727, 31730, 31731, 31733, 31767, 31768, 31769, 31770, 31772, 31774, 31775, 31776, 31777, 31778, 31779, 31781, 31784, 31791, 31802, 31807, 31815, 31822, 31828, 31832, 31833, 31840, 31852, 31858, 31860, 31867, 31868, 31892, 31909, 31918, 31921, 31933, 31946, 31947, 31960, 31965, 31966, 31968, 31982, 31983, 31998, 31999, 32000, 32001, 32002, 32004, 32027, 32030, 32039, 32041, 32042, 32068, 32070, 32075, 32083, 32090, 32104, 32120, 32122, 32140, 32145, 32147, 32155, 32157, 32218, 32225, 32230, 32245, 32265, 32276, 32281, 32282, 32285, 32286, 32288, 32297, 32306, 32310, 32317, 32320, 32329, 32341, 32346, 32354, 32361, 32373, 32395, 32402, 32405, 32422, 32438, 32460, 32482, 32488, 32498, 32499, 32513, 32515, 32521, 32530, 32541, 32548, 32567, 32576, 32577, 32578, 32585, 32605, 32607, 32643, 32644, 32654, 32657, 32678, 32686, 32698, 32738, 32751, 32753, 32754, 32755, 32804, 32807, 32814, 32815, 32831, 32838, 32872, 32881, 32884, 32885, 32915, 32928, 32948, 32961, 32977, 32983, 33016, 33028, 33029, 33030, 33040, 33044, 33045, 33086, 33095, 33100, 33103, 33116, 33136, 33138, 33143, 33151, 33161, 33166, 33172, 33180, 33181, 33190, 33195, 33241, 33258, 33272, 33279, 33280, 33287, 33295, 33337, 33344, 33384, 33397, 33402, 33411, 33424, 33431, 33432, 33437, 33447, 33455, 33458, 33466, 33467, 33476, 33480, 33481, 33489, 33496, 33501, 33502, 33512, 33523, 33527, 33528, 33530, 33531, 33532, 33555, 33570, 33575, 33578, 33582, 33585, 33588, 33606, 33611, 33622, 33624, 33627, 33630, 33639, 33644, 33649, 33694, 33753, 33761, 33834, 33855, 33861, 33880, 33914, 33922, 33923, 33942, 33960, 33962, 33963, 33970, 33996, 34005, 34007, 34012, 34013, 34016, 34161, 34178, 34180, 34184, 34192, 34194, 34198, 34199, 34205, 34218, 34227, 34228, 34230, 34234, 34244, 34245, 34260, 34261, 34270, 34272, 34273, 34279, 34280, 34285, 34286, 34288, 34289, 34290, 34297, 34314, 34327, 34329, 34335, 34340, 34341, 34349, 34352, 34353, 34355, 34362, 34363, 34375, 34377, 34382, 34408, 34409, 34412, 34417, 34420, 34421, 34422, 34424, 34426, 34429, 34430, 34432, 34440, 34450, 34451, 34461, 34462, 34475, 34481, 34491, 34503, 34513, 34518, 34540, 34543, 34544, 34550, 34552, 34557, 34569, 34570, 34590, 34598, 34599, 34602, 34604, 34613, 34619, 34631, 34633, 34634, 34636, 34652, 34665, 34698, 34699, 34700, 34702, 34725, 34729, 34731, 34737, 34742, 34746, 34774, 34775, 34784, 34785, 34800, 34809, 34833, 34844, 34858, 34868, 34871, 34872, 34874, 34887, 34903, 34908, 34915, 34935, 34936, 34939, 34944, 34985, 34986, 34994, 35004, 35027, 35035, 35061, 35067, 35069, 35076, 35116, 35140, 35146, 35152, 35154, 35162, 35178, 35187, 35194, 35204, 35234, 35250, 35251, 35263, 35277, 35283, 35285, 35294, 35303, 35306, 35313, 35317, 35326, 35332, 35335, 35336, 35339, 35342, 35346, 35348, 35351, 35361, 35369, 35381, 35393, 35400, 35401, 35408, 35414, 35444, 35450, 35451, 35453, 35457, 35466, 35477, 35479, 35481, 35491, 35493, 35500, 35503, 35514, 35519, 35537, 35540, 35541, 35559, 35575, 35576, 35578, 35603, 35617, 35630, 35643, 35646, 35652, 35654, 35669, 35695, 35707, 35742, 35753, 35757, 35773, 35787, 35793, 35813, 35823, 35828, 35829, 35848, 35849, 35852, 35859, 35863, 35864, 35866, 35874, 35876, 35880, 35897, 35900, 35901, 35908, 35909, 35916, 35935, 35951, 35956, 35962, 35979, 35981, 35993, 36017, 36020, 36023, 36034, 36036, 36044, 36060, 36062, 36074, 36092, 36093, 36097, 36100, 36101, 36105, 36120, 36123, 36124, 36127, 36150, 36155, 36162, 36164, 36176, 36183, 36188, 36193, 36195, 36201, 36203, 36207, 36208, 36209, 36212, 36215, 36238, 36250, 36268, 36282, 36283, 36295, 36314, 36322, 36341, 36353, 36360, 36367, 36388, 36391, 36402, 36404, 36421, 36430, 36435, 36460, 36462, 36464, 36465, 36467, 36469, 36470, 36472, 36478, 36484, 36487, 36498, 36504, 36505, 36513, 36519, 36522, 36523, 36524, 36525, 36528, 36529, 36530, 36532, 36533, 36534, 36538, 36540, 36546, 36550, 36552, 36556, 36557, 36558, 36562, 36565, 36566, 36567, 36569, 36572, 36573, 36575, 36577, 36579, 36583, 36585, 36586, 36593, 36594, 36595, 36596, 36612, 36613, 36615, 36616, 36618, 36619, 36620, 36621, 36625, 36634, 36644, 36654, 36658, 36661, 36664, 36669, 36677, 36680, 36684, 36718, 36727, 36729, 36732, 36737, 36738, 36750, 36753, 36754, 36759, 36767, 36777, 36792, 36812, 36817, 36820, 36822, 36824, 36826, 36833, 36838, 36839, 36840, 36843, 36857, 36873, 36888, 36894, 36896, 36897, 36898, 36899, 36907, 36909, 36911, 36918, 36920, 36921, 36941, 36944, 36952, 36955, 36959, 36962, 36972, 36992, 37001, 37004, 37005, 37012, 37013, 37028, 37032, 37039, 37040, 37050, 37060, 37071, 37079, 37086, 37090, 37119, 37126, 37138, 37143, 37156, 37157, 37164, 37165, 37174, 37185, 37192, 37201, 37209, 37212, 37223, 37224, 37230, 37234, 37238, 37239, 37241, 37246, 37260, 37264, 37273, 37274, 37287, 37289, 37297, 37303, 37310, 37311, 37316, 37325, 37327, 37344, 37345, 37347, 37349, 37350, 37360, 37375, 37379, 37384, 37388, 37394, 37395, 37397, 37398, 37399, 37412, 37413, 37415, 37418, 37426, 37427, 37428, 37430, 37439, 37441, 37442, 37446, 37456, 37465, 37468, 37469, 37470, 37471, 37475, 37487, 37490, 37543, 37544, 37552, 37554, 37557, 37579, 37580, 37588, 37592, 37593, 37601, 37602, 37615, 37617, 37624, 37625, 37631, 37633, 37634, 37636, 37640, 37641, 37643, 37645, 37648, 37657, 37664, 37666, 37680, 37705, 37706, 37707, 37709, 37713, 37718, 37722, 37732, 37740, 37747, 37748, 37754, 37758, 37783, 37789, 37794, 37797, 37799, 37800, 37826, 37843, 37845, 37852, 37862, 37871, 37873, 37894, 37901, 37910, 37911, 37912, 37914, 37915, 37918, 37919, 37928, 37929, 37944, 37958, 37963, 37965, 37979, 37985, 37986, 37988, 37992, 38011, 38013, 38017, 38031, 38052, 38053, 38054, 38055, 38056, 38057, 38058, 38070, 38076, 38077, 38086, 38090, 38094, 38099, 38105, 38106, 38110, 38115, 38117, 38155, 38156, 38161, 38168, 38178, 38183, 38187, 38194, 38201, 38203, 38204, 38225, 38227, 38235, 38240, 38248, 38250, 38266, 38277, 38278, 38280, 38286, 38290, 38312, 38329, 38347, 38353, 38359, 38361, 38362, 38365, 38366, 38375, 38377, 38390, 38396, 38398, 38399, 38403, 38404, 38411, 38414, 38415, 38416, 38436, 38437, 38438, 38442, 38445, 38448, 38449, 38457, 38463, 38465, 38468, 38470, 38475, 38483, 38484, 38513, 38527, 38535, 38539, 38542, 38544, 38546, 38553, 38586, 38587, 38593, 38618, 38663, 38665, 38666, 38671, 38677, 38678, 38690, 38696, 38701, 38705, 38707, 38710, 38713, 38726, 38728, 38755, 38764, 38779, 38811, 38816, 38829, 38832, 38848, 38860, 38865, 38866, 38867, 38868, 38870, 38872, 38874, 38875, 38876, 38886, 38888, 38893, 38906, 38910, 38914, 38933, 38960, 38969, 38974, 38989, 38990, 38991, 38995, 38997, 39017, 39019, 39025, 39031, 39036, 39062, 39095, 39108, 39113, 39115, 39130, 39139, 39140, 39147, 39154, 39156, 39173, 39221, 39240, 39265, 39270, 39283, 39290, 39293, 39302, 39303, 39311, 39320, 39325, 39339, 39344, 39366, 39387, 39390, 39415, 39422, 39442, 39443, 39455, 39465, 39469, 39470, 39471, 39472, 39474, 39489, 39503, 39514, 39516, 39520, 39525, 39526, 39538, 39540, 39541, 39547, 39555, 39572, 39583, 39604, 39616, 39622, 39623, 39632, 39642, 39645, 39656, 39691, 39692, 39702, 39707, 39711, 39712, 39713, 39717, 39720, 39722, 39725, 39726, 39727, 39732, 39733, 39734, 39736, 39738, 39739, 39740, 39741, 39744, 39745, 39770, 39776, 39784, 39809, 39818, 39840, 39841, 39860, 39865, 39866, 39896, 39904, 39918, 39919, 39934, 39936, 39939, 39940, 39947, 39954, 39957, 39958, 39959, 39965, 39970, 39971, 39979, 39981, 39992, 39993, 40011, 40013, 40066, 40071, 40080, 40082, 40088, 40093, 40097, 40099, 40102, 40116, 40119, 40130, 40131, 40141, 40142, 40143, 40146, 40148, 40152, 40156, 40160, 40162, 40173, 40181, 40197, 40203, 40204, 40206, 40209, 40210, 40218, 40220, 40225, 40238, 40266, 40271, 40273, 40278, 40283, 40287, 40288, 40304, 40320, 40326, 40336, 40342, 40353, 40360, 40388, 40400, 40405, 40413, 40415, 40420, 40426, 40430, 40490, 40493, 40513, 40515, 40526, 40533, 40536, 40546, 40549, 40551, 40558, 40560, 40563, 40576, 40592, 40597, 40621, 40644, 40663, 40703, 40706, 40713, 40714, 40723, 40725, 40732, 40759, 40767, 40769, 40777, 40778, 40784, 40800, 40821, 40828, 40832, 40863, 40869, 40883, 40884, 40935, 40945, 40948, 40971, 40975, 40978, 40980, 40982, 40988, 40991, 41014, 41029, 41037, 41042, 41043, 41066, 41069, 41073, 41075, 41076, 41078, 41104, 41107, 41110, 41114, 41115, 41126, 41138, 41146, 41153, 41156, 41157, 41175, 41189, 41193, 41194, 41206, 41208, 41232, 41260, 41262, 41299, 41308, 41340, 41343, 41351, 41352, 41358, 41359, 41375, 41388, 41399, 41406, 41427, 41432, 41449, 41480, 41498, 41499, 41531, 41533, 41548, 41552, 41555, 41560, 41561, 41563, 41576, 41577, 41594, 41600, 41618, 41622, 41623, 41624, 41625, 41626, 41629, 41634, 41658, 41660, 41661, 41662, 41682, 41685, 41692, 41695, 41698, 41714, 41718, 41721, 41722, 41723, 41730, 41731, 41757, 41760, 41770, 41792, 41794, 41797, 41804, 41808, 41837, 41845, 41846, 41849, 41861, 41868, 41869, 41879, 41881, 41883, 41887, 41895, 41896, 41899, 41900, 41904, 41921, 41923, 41937, 41939, 41959, 41970, 41974, 41980, 41993, 42004, 42006, 42029, 42037, 42043, 42044, 42045, 42049, 42050, 42062, 42080, 42092, 42093, 42127, 42129, 42137, 42141, 42145, 42152, 42159, 42172, 42178, 42190, 42197, 42208, 42212, 42213, 42225, 42229, 42241, 42244, 42251, 42257, 42263, 42272, 42274, 42275, 42276, 42277, 42278, 42279, 42280, 42281, 42290, 42297, 42298, 42303, 42307, 42333, 42364, 42370, 42371, 42373, 42374, 42386, 42398, 42407, 42408, 42415, 42416, 42418, 42419, 42423, 42428, 42429, 42430, 42437, 42440, 42448, 42458, 42459, 42461, 42476, 42497, 42504, 42554, 42568, 42569, 42573, 42579, 42587, 42597, 42600, 42621, 42636, 42643, 42647, 42650, 42656, 42660, 42665, 42682, 42699, 42700, 42716, 42722, 42726, 42748, 42752, 42758, 42759, 42770, 42780, 42788, 42790, 42799, 42800, 42840, 42851, 42854, 42859, 42867, 42874, 42883, 42892, 42898, 42899, 42915, 42924, 42925, 42930, 42932, 42934, 42941, 42946, 42960, 42968, 42969, 42983, 43014, 43020, 43021, 43022, 43023, 43024, 43025, 43031, 43051, 43056, 43068, 43078, 43083, 43085, 43087, 43091, 43096, 43097, 43102, 43115, 43120, 43133, 43137, 43169, 43174, 43195, 43209, 43211, 43243, 43247, 43248, 43251, 43254, 43305, 43310, 43314, 43334, 43356, 43361, 43392, 43398, 43421, 43427, 43429, 43432, 43439, 43453, 43467, 43468, 43469, 43485, 43486, 43489, 43491, 43492, 43500, 43503, 43523, 43535, 43540, 43549, 43557, 43568, 43578, 43579, 43582, 43605, 43606, 43615, 43640, 43663, 43673, 43681, 43693, 43701, 43706, 43708, 43724, 43737, 43748, 43749, 43764, 43765, 43770, 43782, 43789, 43799, 43835, 43841, 43842, 43845, 43847, 43855, 43864, 43865, 43880, 43881, 43884, 43890, 43893, 43900, 43913, 43921, 43923, 43946, 43949, 43962, 43971, 43974, 43978, 43984, 43985, 43995, 44014, 44016, 44030, 44041, 44049, 44055, 44060, 44072, 44091, 44097, 44098, 44107, 44123, 44134, 44137, 44162, 44163, 44167, 44168, 44176, 44190, 44197, 44202, 44234, 44237, 44296, 44299, 44304, 44307, 44308, 44331, 44333, 44339, 44341, 44343, 44358, 44360, 44377, 44378, 44381, 44382, 44388, 44394, 44402, 44404, 44409, 44416, 44451, 44467, 44517, 44528, 44530, 44556, 44558, 44581, 44593, 44607, 44616, 44634, 44636, 44637, 44638, 44652, 44659, 44665, 44673, 44688, 44690, 44692, 44697, 44698, 44699, 44701, 44702, 44703, 44704, 44705, 44706, 44707, 44708, 44715, 44716, 44717, 44724, 44728, 44729, 44732, 44736, 44743, 44749, 44751, 44752, 44753, 44758, 44776, 44780, 44781, 44783, 44808, 44815, 44816, 44831, 44833, 44858, 44865, 44880, 44893, 44898, 44899, 44906, 44918, 44919, 44944, 44945, 44961, 44964, 44971, 44973, 44975, 44978, 44997, 44998, 44999, 45005, 45015, 45027, 45045, 45066, 45067, 45069, 45070, 45076, 45084, 45086, 45114, 45131, 45137, 45148, 45154, 45157, 45160, 45163, 45166, 45176, 45183, 45185, 45189, 45198, 45215, 45226, 45234, 45260, 45262, 45263, 45274, 45294, 45296, 45310, 45311, 45313, 45323, 45326, 45327, 45338, 45359, 45360, 45385, 45386, 45387, 45408, 45410, 45430, 45442, 45443, 45446, 45447, 45448, 45464]\n"
          ]
        }
      ],
      "source": [
        "# Checking columns data type consistency ([{......}]) \n",
        "\n",
        "#This function checks if each field has list data type and its content has dict data type. Also checks if list is empty\n",
        "def checking_fields (x):\n",
        "    if (isinstance(x, list)):\n",
        "        if(len(x) == 0):\n",
        "            return False\n",
        "        elif (isinstance(x[0], dict)):\n",
        "            return True\n",
        "        else:\n",
        "            return False\n",
        "    else:\n",
        "        return False\n",
        "\n",
        "#Checking if every field in each column has list data type and contains a dict data type \n",
        "#Based upon these rules it stores True or False binary states in is_listdict? variables\n",
        "is_listdict1 = df_movies['belongs_to_collection'].progress_apply(lambda x: checking_fields(x))\n",
        "is_listdict2 = df_movies['genres'].progress_apply(lambda x: checking_fields(x))\n",
        "is_listdict3 = df_movies['production_countries'].progress_apply(lambda x: checking_fields(x))\n",
        "is_listdict4 = df_movies['production_companies'].progress_apply(lambda x: checking_fields(x))\n",
        "is_listdict5 = df_movies['spoken_languages'].progress_apply(lambda x: checking_fields(x))\n",
        "\n",
        "# Setting up wrong data type ocurrence counters\n",
        "count1 = 0\n",
        "count2 = 0\n",
        "count3 = 0\n",
        "count4 = 0\n",
        "count5 = 0\n",
        "\n",
        "#Setting up record indexes list where a wrong data type ocurrence has ocurred\n",
        "index1 = []\n",
        "index2 = []\n",
        "index3 = []\n",
        "index4 = []\n",
        "index5 = []\n",
        "\n",
        "#Looping into is_listdict? variables and filling the count and index variables according its state\n",
        "for n in range(len(df_movies)):\n",
        "    if (is_listdict1[n] == False):\n",
        "       count1 +=1\n",
        "       index1.append(n)\n",
        "    if (is_listdict2[n] == False):\n",
        "        count2 +=1\n",
        "        index2.append(n)\n",
        "    if (is_listdict3[n] == False):\n",
        "        count3 +=1\n",
        "        index3.append(n)\n",
        "    if(is_listdict4[n] == False):\n",
        "        count4 +=1\n",
        "        index4.append(n)\n",
        "    if(is_listdict5[n] == False):\n",
        "        count5 +=1\n",
        "        index5.append(n)\n",
        "\n",
        "#Displaying the results for exploration purposes\n",
        "print(count1, count2, count3, count4, count5)\n",
        "print(\"INDEX1: \", index1)\n",
        "print(\"INDEX2: \", index2)\n",
        "print(\"INDEX3: \", index3)\n",
        "print(\"INDEX4: \", index4)\n",
        "print(\"INDEX5: \", index5)"
      ]
    },
    {
      "cell_type": "code",
      "execution_count": 10,
      "metadata": {},
      "outputs": [],
      "source": [
        "# Replacing empty lists with void data dictionaries\n",
        "\n",
        "#Void data dictionaries definition\n",
        "nulldict = \"{'id':0,'name':'N/A','poster_path':'N/A', 'backdrop_path':'N/A'}\"\n",
        "nulldict_genres = \"[{'id':0,'name':'N/A'}]\"\n",
        "nulldict_prodcompanies = \"[{'name':'N/A','id':0}]\"\n",
        "nulldict_prodcountries = \"[{'iso_3166_1':'N/A','name':'N/A'}]\"\n",
        "nulldict_spokenlanguages = \"[{'iso_639_1':'N/A','name':'N/A'}]\"\n",
        "\n",
        "# Replacing fields where its index is in the index? list with the corresponding void data dictionary\n",
        "for index in index1:\n",
        "    df_movies.loc[index, 'belongs_to_collection'] = [eval(nulldict)]\n",
        "for index in index2:\n",
        "    df_movies.loc[index, 'genres'] = eval(nulldict_genres)\n",
        "for index in index3:\n",
        "    df_movies.loc[index, 'production_companies'] = eval(nulldict_prodcompanies)\n",
        "for index in index4:\n",
        "    df_movies.loc[index, 'production_countries'] = eval(nulldict_prodcountries)\n",
        "for index in index5:\n",
        "    df_movies.loc[index, 'spoken_languages'] = eval(nulldict_spokenlanguages)"
      ]
    },
    {
      "cell_type": "code",
      "execution_count": 11,
      "metadata": {},
      "outputs": [
        {
          "data": {
            "application/vnd.jupyter.widget-view+json": {
              "model_id": "8f90ef303b7e42f3909231222a8540d7",
              "version_major": 2,
              "version_minor": 0
            },
            "text/plain": [
              "  0%|          | 0/45466 [00:00<?, ?it/s]"
            ]
          },
          "metadata": {},
          "output_type": "display_data"
        },
        {
          "data": {
            "application/vnd.jupyter.widget-view+json": {
              "model_id": "cb7956edeab14a61ad6a030db8bf1f2c",
              "version_major": 2,
              "version_minor": 0
            },
            "text/plain": [
              "  0%|          | 0/45466 [00:00<?, ?it/s]"
            ]
          },
          "metadata": {},
          "output_type": "display_data"
        },
        {
          "data": {
            "application/vnd.jupyter.widget-view+json": {
              "model_id": "3f5af7ae4dc244c3b11595fdef2cf896",
              "version_major": 2,
              "version_minor": 0
            },
            "text/plain": [
              "  0%|          | 0/45466 [00:00<?, ?it/s]"
            ]
          },
          "metadata": {},
          "output_type": "display_data"
        },
        {
          "data": {
            "application/vnd.jupyter.widget-view+json": {
              "model_id": "58596aae70f24711a1082be401841c97",
              "version_major": 2,
              "version_minor": 0
            },
            "text/plain": [
              "  0%|          | 0/45466 [00:00<?, ?it/s]"
            ]
          },
          "metadata": {},
          "output_type": "display_data"
        },
        {
          "name": "stdout",
          "output_type": "stream",
          "text": [
            "0         [10194]\n",
            "1             [0]\n",
            "2        [119050]\n",
            "3             [0]\n",
            "4         [96871]\n",
            "           ...   \n",
            "45461         [0]\n",
            "45462         [0]\n",
            "45463         [0]\n",
            "45464         [0]\n",
            "45465         [0]\n",
            "Name: belongs_to_collection, Length: 45466, dtype: object\n",
            "0                  [Toy Story Collection]\n",
            "1                                   [N/A]\n",
            "2             [Grumpy Old Men Collection]\n",
            "3                                   [N/A]\n",
            "4        [Father of the Bride Collection]\n",
            "                       ...               \n",
            "45461                               [N/A]\n",
            "45462                               [N/A]\n",
            "45463                               [N/A]\n",
            "45464                               [N/A]\n",
            "45465                               [N/A]\n",
            "Name: belongs_to_collection, Length: 45466, dtype: object\n",
            "0        [/7G9915LfUQ2lVfwMEEhDsn3kT4B.jpg]\n",
            "1                                     [N/A]\n",
            "2        [/nLvUdqgPgm3F85NMCii9gVFUcet.jpg]\n",
            "3                                     [N/A]\n",
            "4        [/nts4iOmNnq7GNicycMJ9pSAn204.jpg]\n",
            "                        ...                \n",
            "45461                                 [N/A]\n",
            "45462                                 [N/A]\n",
            "45463                                 [N/A]\n",
            "45464                                 [N/A]\n",
            "45465                                 [N/A]\n",
            "Name: belongs_to_collection, Length: 45466, dtype: object\n",
            "0        [/9FBwqcd9IRruEDUrTdcaafOMKUq.jpg]\n",
            "1                                     [N/A]\n",
            "2        [/hypTnLot2z8wpFS7qwsQHW1uV8u.jpg]\n",
            "3                                     [N/A]\n",
            "4        [/7qwE57OVZmMJChBpLEbJEmzUydk.jpg]\n",
            "                        ...                \n",
            "45461                                 [N/A]\n",
            "45462                                 [N/A]\n",
            "45463                                 [N/A]\n",
            "45464                                 [N/A]\n",
            "45465                                 [N/A]\n",
            "Name: belongs_to_collection, Length: 45466, dtype: object\n"
          ]
        }
      ],
      "source": [
        "# 'BELONGS_TO_COLLECTION' COLUMN TRANSFORMATION\n",
        "\n",
        "#Extracting dictionary values according to their keys \n",
        "b2c_ids = df_movies['belongs_to_collection'].progress_apply(lambda x: [d.get('id') for d in x])\n",
        "b2c_names = df_movies['belongs_to_collection'].progress_apply(lambda x: [d.get('name') for d in x])\n",
        "b2c_poster_paths = df_movies['belongs_to_collection'].progress_apply(lambda x: [d.get('poster_path') for d in x])\n",
        "b2c_backdrop_paths = df_movies['belongs_to_collection'].progress_apply(lambda x: [d.get('backdrop_path') for d in x])\n",
        "# Displaying Panda Series results\n",
        "print(b2c_ids)\n",
        "print(b2c_names)\n",
        "print(b2c_poster_paths)\n",
        "print(b2c_backdrop_paths)"
      ]
    },
    {
      "cell_type": "code",
      "execution_count": 12,
      "metadata": {},
      "outputs": [
        {
          "data": {
            "text/html": [
              "<div>\n",
              "<style scoped>\n",
              "    .dataframe tbody tr th:only-of-type {\n",
              "        vertical-align: middle;\n",
              "    }\n",
              "\n",
              "    .dataframe tbody tr th {\n",
              "        vertical-align: top;\n",
              "    }\n",
              "\n",
              "    .dataframe thead th {\n",
              "        text-align: right;\n",
              "    }\n",
              "</style>\n",
              "<table border=\"1\" class=\"dataframe\">\n",
              "  <thead>\n",
              "    <tr style=\"text-align: right;\">\n",
              "      <th></th>\n",
              "      <th>belongs_to_collection</th>\n",
              "    </tr>\n",
              "  </thead>\n",
              "  <tbody>\n",
              "    <tr>\n",
              "      <th>0</th>\n",
              "      <td>[Toy Story Collection]</td>\n",
              "    </tr>\n",
              "    <tr>\n",
              "      <th>1</th>\n",
              "      <td>[N/A]</td>\n",
              "    </tr>\n",
              "    <tr>\n",
              "      <th>2</th>\n",
              "      <td>[Grumpy Old Men Collection]</td>\n",
              "    </tr>\n",
              "    <tr>\n",
              "      <th>3</th>\n",
              "      <td>[N/A]</td>\n",
              "    </tr>\n",
              "    <tr>\n",
              "      <th>4</th>\n",
              "      <td>[Father of the Bride Collection]</td>\n",
              "    </tr>\n",
              "  </tbody>\n",
              "</table>\n",
              "</div>"
            ],
            "text/plain": [
              "              belongs_to_collection\n",
              "0            [Toy Story Collection]\n",
              "1                             [N/A]\n",
              "2       [Grumpy Old Men Collection]\n",
              "3                             [N/A]\n",
              "4  [Father of the Bride Collection]"
            ]
          },
          "execution_count": 12,
          "metadata": {},
          "output_type": "execute_result"
        }
      ],
      "source": [
        "# Converting Panda Series in a dataframe and assign a column name\n",
        "b2c_names = b2c_names.to_frame()\n",
        "b2c_names.columns = ['belongs_to_collection']\n",
        "#Displaying the results\n",
        "b2c_names.head()"
      ]
    },
    {
      "cell_type": "code",
      "execution_count": 13,
      "metadata": {},
      "outputs": [
        {
          "data": {
            "text/plain": [
              "belongs_to_collection    0\n",
              "dtype: int64"
            ]
          },
          "execution_count": 13,
          "metadata": {},
          "output_type": "execute_result"
        }
      ],
      "source": [
        "b2c_names.isna().sum()"
      ]
    },
    {
      "cell_type": "code",
      "execution_count": 14,
      "metadata": {},
      "outputs": [
        {
          "data": {
            "application/vnd.jupyter.widget-view+json": {
              "model_id": "403a90f4319e48c5bb6d958aebe9f000",
              "version_major": 2,
              "version_minor": 0
            },
            "text/plain": [
              "  0%|          | 0/45466 [00:00<?, ?it/s]"
            ]
          },
          "metadata": {},
          "output_type": "display_data"
        },
        {
          "data": {
            "application/vnd.jupyter.widget-view+json": {
              "model_id": "63126b6b1c20467c9655ba4867dfdf59",
              "version_major": 2,
              "version_minor": 0
            },
            "text/plain": [
              "  0%|          | 0/45466 [00:00<?, ?it/s]"
            ]
          },
          "metadata": {},
          "output_type": "display_data"
        },
        {
          "name": "stdout",
          "output_type": "stream",
          "text": [
            "0        [16, 35, 10751]\n",
            "1        [12, 14, 10751]\n",
            "2            [10749, 35]\n",
            "3        [35, 18, 10749]\n",
            "4                   [35]\n",
            "              ...       \n",
            "45461        [18, 10751]\n",
            "45462               [18]\n",
            "45463       [28, 18, 53]\n",
            "45464                [0]\n",
            "45465                [0]\n",
            "Name: genres, Length: 45466, dtype: object\n",
            "0         [Animation, Comedy, Family]\n",
            "1        [Adventure, Fantasy, Family]\n",
            "2                   [Romance, Comedy]\n",
            "3            [Comedy, Drama, Romance]\n",
            "4                            [Comedy]\n",
            "                     ...             \n",
            "45461                 [Drama, Family]\n",
            "45462                         [Drama]\n",
            "45463       [Action, Drama, Thriller]\n",
            "45464                           [N/A]\n",
            "45465                           [N/A]\n",
            "Name: genres, Length: 45466, dtype: object\n"
          ]
        }
      ],
      "source": [
        "# 'GENRES' COLUMN TRANSFORMATION\n",
        "\n",
        "#Extracting dictionary values according to their keys \n",
        "genres_ids = df_movies['genres'].progress_apply(lambda x: [d.get('id') for d in x])\n",
        "genres_names = df_movies['genres'].progress_apply(lambda x: [d.get('name') for d in x])\n",
        "# Displaying Panda Series results\n",
        "print(genres_ids)\n",
        "print(genres_names)"
      ]
    },
    {
      "cell_type": "code",
      "execution_count": 15,
      "metadata": {},
      "outputs": [
        {
          "data": {
            "text/html": [
              "<div>\n",
              "<style scoped>\n",
              "    .dataframe tbody tr th:only-of-type {\n",
              "        vertical-align: middle;\n",
              "    }\n",
              "\n",
              "    .dataframe tbody tr th {\n",
              "        vertical-align: top;\n",
              "    }\n",
              "\n",
              "    .dataframe thead th {\n",
              "        text-align: right;\n",
              "    }\n",
              "</style>\n",
              "<table border=\"1\" class=\"dataframe\">\n",
              "  <thead>\n",
              "    <tr style=\"text-align: right;\">\n",
              "      <th></th>\n",
              "      <th>genres</th>\n",
              "    </tr>\n",
              "  </thead>\n",
              "  <tbody>\n",
              "    <tr>\n",
              "      <th>0</th>\n",
              "      <td>[Animation, Comedy, Family]</td>\n",
              "    </tr>\n",
              "    <tr>\n",
              "      <th>1</th>\n",
              "      <td>[Adventure, Fantasy, Family]</td>\n",
              "    </tr>\n",
              "    <tr>\n",
              "      <th>2</th>\n",
              "      <td>[Romance, Comedy]</td>\n",
              "    </tr>\n",
              "    <tr>\n",
              "      <th>3</th>\n",
              "      <td>[Comedy, Drama, Romance]</td>\n",
              "    </tr>\n",
              "    <tr>\n",
              "      <th>4</th>\n",
              "      <td>[Comedy]</td>\n",
              "    </tr>\n",
              "  </tbody>\n",
              "</table>\n",
              "</div>"
            ],
            "text/plain": [
              "                         genres\n",
              "0   [Animation, Comedy, Family]\n",
              "1  [Adventure, Fantasy, Family]\n",
              "2             [Romance, Comedy]\n",
              "3      [Comedy, Drama, Romance]\n",
              "4                      [Comedy]"
            ]
          },
          "execution_count": 15,
          "metadata": {},
          "output_type": "execute_result"
        }
      ],
      "source": [
        "# Converting Panda Series in a dataframe and assign a column name\n",
        "genres_names = genres_names.to_frame()\n",
        "genres_names.columns = ['genres']\n",
        "#Displaying the results\n",
        "genres_names.head()"
      ]
    },
    {
      "cell_type": "code",
      "execution_count": 16,
      "metadata": {},
      "outputs": [
        {
          "data": {
            "text/plain": [
              "genres    0\n",
              "dtype: int64"
            ]
          },
          "execution_count": 16,
          "metadata": {},
          "output_type": "execute_result"
        }
      ],
      "source": [
        "genres_names.isna().sum()"
      ]
    },
    {
      "cell_type": "code",
      "execution_count": 17,
      "metadata": {},
      "outputs": [
        {
          "data": {
            "application/vnd.jupyter.widget-view+json": {
              "model_id": "1d542b276a8c40faa7697b994d50b0c8",
              "version_major": 2,
              "version_minor": 0
            },
            "text/plain": [
              "  0%|          | 0/45466 [00:00<?, ?it/s]"
            ]
          },
          "metadata": {},
          "output_type": "display_data"
        },
        {
          "data": {
            "application/vnd.jupyter.widget-view+json": {
              "model_id": "c61b4be4a16948128644249730b8a860",
              "version_major": 2,
              "version_minor": 0
            },
            "text/plain": [
              "  0%|          | 0/45466 [00:00<?, ?it/s]"
            ]
          },
          "metadata": {},
          "output_type": "display_data"
        },
        {
          "name": "stdout",
          "output_type": "stream",
          "text": [
            "0                       [3]\n",
            "1        [559, 2550, 10201]\n",
            "2             [6194, 19464]\n",
            "3                     [306]\n",
            "4              [5842, 9195]\n",
            "                ...        \n",
            "45461                    []\n",
            "45462               [19653]\n",
            "45463                [6165]\n",
            "45464               [88753]\n",
            "45465                    []\n",
            "Name: production_companies, Length: 45466, dtype: object\n",
            "0                                [Pixar Animation Studios]\n",
            "1        [TriStar Pictures, Teitler Film, Interscope Co...\n",
            "2                           [Warner Bros., Lancaster Gate]\n",
            "3                 [Twentieth Century Fox Film Corporation]\n",
            "4             [Sandollar Productions, Touchstone Pictures]\n",
            "                               ...                        \n",
            "45461                                                   []\n",
            "45462                                        [Sine Olivia]\n",
            "45463                            [American World Pictures]\n",
            "45464                                          [Yermoliev]\n",
            "45465                                                   []\n",
            "Name: production_companies, Length: 45466, dtype: object\n"
          ]
        }
      ],
      "source": [
        "# 'PRODUCTION_COMPANIES' COLUMN TRANSFORMATION\n",
        "\n",
        "#Extracting dictionary values according to their keys  \n",
        "companies_ids = df_movies['production_companies'].progress_apply(lambda x: [d.get('id') for d in x])\n",
        "companies_names = df_movies['production_companies'].progress_apply(lambda x: [d.get('name') for d in x])\n",
        "# Displaying Panda Series results\n",
        "print(companies_ids)\n",
        "print(companies_names)"
      ]
    },
    {
      "cell_type": "code",
      "execution_count": 18,
      "metadata": {},
      "outputs": [
        {
          "data": {
            "text/html": [
              "<div>\n",
              "<style scoped>\n",
              "    .dataframe tbody tr th:only-of-type {\n",
              "        vertical-align: middle;\n",
              "    }\n",
              "\n",
              "    .dataframe tbody tr th {\n",
              "        vertical-align: top;\n",
              "    }\n",
              "\n",
              "    .dataframe thead th {\n",
              "        text-align: right;\n",
              "    }\n",
              "</style>\n",
              "<table border=\"1\" class=\"dataframe\">\n",
              "  <thead>\n",
              "    <tr style=\"text-align: right;\">\n",
              "      <th></th>\n",
              "      <th>production_companies</th>\n",
              "    </tr>\n",
              "  </thead>\n",
              "  <tbody>\n",
              "    <tr>\n",
              "      <th>0</th>\n",
              "      <td>[Pixar Animation Studios]</td>\n",
              "    </tr>\n",
              "    <tr>\n",
              "      <th>1</th>\n",
              "      <td>[TriStar Pictures, Teitler Film, Interscope Co...</td>\n",
              "    </tr>\n",
              "    <tr>\n",
              "      <th>2</th>\n",
              "      <td>[Warner Bros., Lancaster Gate]</td>\n",
              "    </tr>\n",
              "    <tr>\n",
              "      <th>3</th>\n",
              "      <td>[Twentieth Century Fox Film Corporation]</td>\n",
              "    </tr>\n",
              "    <tr>\n",
              "      <th>4</th>\n",
              "      <td>[Sandollar Productions, Touchstone Pictures]</td>\n",
              "    </tr>\n",
              "  </tbody>\n",
              "</table>\n",
              "</div>"
            ],
            "text/plain": [
              "                                production_companies\n",
              "0                          [Pixar Animation Studios]\n",
              "1  [TriStar Pictures, Teitler Film, Interscope Co...\n",
              "2                     [Warner Bros., Lancaster Gate]\n",
              "3           [Twentieth Century Fox Film Corporation]\n",
              "4       [Sandollar Productions, Touchstone Pictures]"
            ]
          },
          "execution_count": 18,
          "metadata": {},
          "output_type": "execute_result"
        }
      ],
      "source": [
        "# Converting Panda Series in a dataframe and assign a column name\n",
        "companies_names = companies_names.to_frame()\n",
        "companies_names.columns = ['production_companies']\n",
        "#Displaying the results\n",
        "companies_names.head()"
      ]
    },
    {
      "cell_type": "code",
      "execution_count": 19,
      "metadata": {},
      "outputs": [
        {
          "data": {
            "text/plain": [
              "0"
            ]
          },
          "execution_count": 19,
          "metadata": {},
          "output_type": "execute_result"
        }
      ],
      "source": [
        "companies_names['production_companies'].isnull().sum()"
      ]
    },
    {
      "cell_type": "code",
      "execution_count": 20,
      "metadata": {},
      "outputs": [
        {
          "data": {
            "application/vnd.jupyter.widget-view+json": {
              "model_id": "30673b5eb2e446e995f5e3b712d4d277",
              "version_major": 2,
              "version_minor": 0
            },
            "text/plain": [
              "  0%|          | 0/45466 [00:00<?, ?it/s]"
            ]
          },
          "metadata": {},
          "output_type": "display_data"
        },
        {
          "data": {
            "application/vnd.jupyter.widget-view+json": {
              "model_id": "5ea40ab04fb443ee96b797ac7906b5fa",
              "version_major": 2,
              "version_minor": 0
            },
            "text/plain": [
              "  0%|          | 0/45466 [00:00<?, ?it/s]"
            ]
          },
          "metadata": {},
          "output_type": "display_data"
        },
        {
          "name": "stdout",
          "output_type": "stream",
          "text": [
            "0         [US]\n",
            "1         [US]\n",
            "2         [US]\n",
            "3         [US]\n",
            "4         [US]\n",
            "         ...  \n",
            "45461    [N/A]\n",
            "45462     [PH]\n",
            "45463     [US]\n",
            "45464     [RU]\n",
            "45465    [N/A]\n",
            "Name: production_countries, Length: 45466, dtype: object\n",
            "0        [United States of America]\n",
            "1        [United States of America]\n",
            "2        [United States of America]\n",
            "3        [United States of America]\n",
            "4        [United States of America]\n",
            "                    ...            \n",
            "45461                         [N/A]\n",
            "45462                 [Philippines]\n",
            "45463    [United States of America]\n",
            "45464                      [Russia]\n",
            "45465                         [N/A]\n",
            "Name: production_countries, Length: 45466, dtype: object\n"
          ]
        }
      ],
      "source": [
        "# 'PRODUCTION_COUNTRIES' COLUMN TRANSFORMATION\n",
        "\n",
        "#Extracting dictionary values according to their keys  \n",
        "countries_ids = df_movies['production_countries'].progress_apply(lambda x: [d.get('iso_3166_1') for d in x])\n",
        "countries_names = df_movies['production_countries'].progress_apply(lambda x: [d.get('name') for d in x])\n",
        "# Displaying Panda Series results\n",
        "print(countries_ids)\n",
        "print(countries_names)"
      ]
    },
    {
      "cell_type": "code",
      "execution_count": 21,
      "metadata": {},
      "outputs": [
        {
          "data": {
            "text/html": [
              "<div>\n",
              "<style scoped>\n",
              "    .dataframe tbody tr th:only-of-type {\n",
              "        vertical-align: middle;\n",
              "    }\n",
              "\n",
              "    .dataframe tbody tr th {\n",
              "        vertical-align: top;\n",
              "    }\n",
              "\n",
              "    .dataframe thead th {\n",
              "        text-align: right;\n",
              "    }\n",
              "</style>\n",
              "<table border=\"1\" class=\"dataframe\">\n",
              "  <thead>\n",
              "    <tr style=\"text-align: right;\">\n",
              "      <th></th>\n",
              "      <th>production_countries</th>\n",
              "    </tr>\n",
              "  </thead>\n",
              "  <tbody>\n",
              "    <tr>\n",
              "      <th>0</th>\n",
              "      <td>[United States of America]</td>\n",
              "    </tr>\n",
              "    <tr>\n",
              "      <th>1</th>\n",
              "      <td>[United States of America]</td>\n",
              "    </tr>\n",
              "    <tr>\n",
              "      <th>2</th>\n",
              "      <td>[United States of America]</td>\n",
              "    </tr>\n",
              "    <tr>\n",
              "      <th>3</th>\n",
              "      <td>[United States of America]</td>\n",
              "    </tr>\n",
              "    <tr>\n",
              "      <th>4</th>\n",
              "      <td>[United States of America]</td>\n",
              "    </tr>\n",
              "  </tbody>\n",
              "</table>\n",
              "</div>"
            ],
            "text/plain": [
              "         production_countries\n",
              "0  [United States of America]\n",
              "1  [United States of America]\n",
              "2  [United States of America]\n",
              "3  [United States of America]\n",
              "4  [United States of America]"
            ]
          },
          "execution_count": 21,
          "metadata": {},
          "output_type": "execute_result"
        }
      ],
      "source": [
        "# Converting Panda Series in a dataframe and assign a column name\n",
        "countries_names = countries_names.to_frame()\n",
        "countries_names.columns = ['production_countries']\n",
        "#Displaying the results\n",
        "countries_names.head()"
      ]
    },
    {
      "cell_type": "code",
      "execution_count": 22,
      "metadata": {},
      "outputs": [
        {
          "data": {
            "text/plain": [
              "0"
            ]
          },
          "execution_count": 22,
          "metadata": {},
          "output_type": "execute_result"
        }
      ],
      "source": [
        "countries_names['production_countries'].isnull().sum()"
      ]
    },
    {
      "cell_type": "code",
      "execution_count": 23,
      "metadata": {},
      "outputs": [
        {
          "data": {
            "application/vnd.jupyter.widget-view+json": {
              "model_id": "ef24290b061045e1984f367df5f7c012",
              "version_major": 2,
              "version_minor": 0
            },
            "text/plain": [
              "  0%|          | 0/45466 [00:00<?, ?it/s]"
            ]
          },
          "metadata": {},
          "output_type": "display_data"
        },
        {
          "data": {
            "application/vnd.jupyter.widget-view+json": {
              "model_id": "d18f166e3abf4b7ba9c8c3d50b7a4bcd",
              "version_major": 2,
              "version_minor": 0
            },
            "text/plain": [
              "  0%|          | 0/45466 [00:00<?, ?it/s]"
            ]
          },
          "metadata": {},
          "output_type": "display_data"
        },
        {
          "name": "stdout",
          "output_type": "stream",
          "text": [
            "0            [en]\n",
            "1        [en, fr]\n",
            "2            [en]\n",
            "3            [en]\n",
            "4            [en]\n",
            "           ...   \n",
            "45461        [fa]\n",
            "45462        [tl]\n",
            "45463        [en]\n",
            "45464       [N/A]\n",
            "45465        [en]\n",
            "Name: spoken_languages, Length: 45466, dtype: object\n",
            "0                   [English]\n",
            "1        [English, FranÃ§ais]\n",
            "2                   [English]\n",
            "3                   [English]\n",
            "4                   [English]\n",
            "                 ...         \n",
            "45461            [ÙØ§Ø±Ø³Û]\n",
            "45462                      []\n",
            "45463               [English]\n",
            "45464                   [N/A]\n",
            "45465               [English]\n",
            "Name: spoken_languages, Length: 45466, dtype: object\n"
          ]
        }
      ],
      "source": [
        "# 'SPOKEN _LANGUAGES' COLUMN TRANSFORMATION\n",
        "\n",
        "#Extracting dictionary values according to their keys  \n",
        "languages_ids = df_movies['spoken_languages'].progress_apply(lambda x: [d.get('iso_639_1') for d in x])\n",
        "languages_names = df_movies['spoken_languages'].progress_apply(lambda x: [d.get('name') for d in x])\n",
        "# Displaying Panda Series results\n",
        "print(languages_ids)\n",
        "print(languages_names)"
      ]
    },
    {
      "cell_type": "code",
      "execution_count": 24,
      "metadata": {},
      "outputs": [
        {
          "data": {
            "text/html": [
              "<div>\n",
              "<style scoped>\n",
              "    .dataframe tbody tr th:only-of-type {\n",
              "        vertical-align: middle;\n",
              "    }\n",
              "\n",
              "    .dataframe tbody tr th {\n",
              "        vertical-align: top;\n",
              "    }\n",
              "\n",
              "    .dataframe thead th {\n",
              "        text-align: right;\n",
              "    }\n",
              "</style>\n",
              "<table border=\"1\" class=\"dataframe\">\n",
              "  <thead>\n",
              "    <tr style=\"text-align: right;\">\n",
              "      <th></th>\n",
              "      <th>spoken_languages</th>\n",
              "    </tr>\n",
              "  </thead>\n",
              "  <tbody>\n",
              "    <tr>\n",
              "      <th>0</th>\n",
              "      <td>[English]</td>\n",
              "    </tr>\n",
              "    <tr>\n",
              "      <th>1</th>\n",
              "      <td>[English, FranÃ§ais]</td>\n",
              "    </tr>\n",
              "    <tr>\n",
              "      <th>2</th>\n",
              "      <td>[English]</td>\n",
              "    </tr>\n",
              "    <tr>\n",
              "      <th>3</th>\n",
              "      <td>[English]</td>\n",
              "    </tr>\n",
              "    <tr>\n",
              "      <th>4</th>\n",
              "      <td>[English]</td>\n",
              "    </tr>\n",
              "  </tbody>\n",
              "</table>\n",
              "</div>"
            ],
            "text/plain": [
              "       spoken_languages\n",
              "0             [English]\n",
              "1  [English, FranÃ§ais]\n",
              "2             [English]\n",
              "3             [English]\n",
              "4             [English]"
            ]
          },
          "execution_count": 24,
          "metadata": {},
          "output_type": "execute_result"
        }
      ],
      "source": [
        "# Converting Panda Series in a dataframe and assign a column name\n",
        "languages_names = languages_names.to_frame()\n",
        "languages_names.columns = ['spoken_languages']\n",
        "#Displaying the results\n",
        "languages_names.head()"
      ]
    },
    {
      "cell_type": "code",
      "execution_count": 25,
      "metadata": {},
      "outputs": [
        {
          "data": {
            "text/plain": [
              "0"
            ]
          },
          "execution_count": 25,
          "metadata": {},
          "output_type": "execute_result"
        }
      ],
      "source": [
        "languages_names['spoken_languages'].isna().sum()"
      ]
    },
    {
      "cell_type": "code",
      "execution_count": 26,
      "metadata": {},
      "outputs": [
        {
          "data": {
            "text/plain": [
              "0"
            ]
          },
          "execution_count": 26,
          "metadata": {},
          "output_type": "execute_result"
        }
      ],
      "source": [
        "df_movies['production_countries'].isnull().sum()"
      ]
    },
    {
      "cell_type": "code",
      "execution_count": 27,
      "metadata": {},
      "outputs": [
        {
          "name": "stdout",
          "output_type": "stream",
          "text": [
            "[{'iso_639_1': 'tl', 'name': ''}]\n",
            "<class 'list'>\n"
          ]
        },
        {
          "data": {
            "text/plain": [
              "0"
            ]
          },
          "execution_count": 27,
          "metadata": {},
          "output_type": "execute_result"
        }
      ],
      "source": [
        "print(df_movies['spoken_languages'][45462])\n",
        "print(type(df_movies['spoken_languages'][45462]))\n",
        "\n",
        "df_movies['spoken_languages'].isnull().sum()"
      ]
    },
    {
      "attachments": {},
      "cell_type": "markdown",
      "metadata": {},
      "source": [
        "# DATASET CREDITS"
      ]
    },
    {
      "cell_type": "code",
      "execution_count": 28,
      "metadata": {},
      "outputs": [],
      "source": [
        "#Loading raw dataset\n",
        "df_credits = pd.read_csv('../Repositorio_de_datos/credits.csv', encoding='latin-1', sep=',')"
      ]
    },
    {
      "cell_type": "code",
      "execution_count": 29,
      "metadata": {},
      "outputs": [
        {
          "name": "stdout",
          "output_type": "stream",
          "text": [
            "[{'credit_id': '52fe4284c3a36847f8024f49', 'department': 'Directing', 'gender': 2, 'id': 7879, 'job': 'Director', 'name': 'John Lasseter', 'profile_path': '/7EdqiNbr4FRjIhKHyPPdFfEEEFG.jpg'}, {'credit_id': '52fe4284c3a36847f8024f4f', 'department': 'Writing', 'gender': 2, 'id': 12891, 'job': 'Screenplay', 'name': 'Joss Whedon', 'profile_path': '/dTiVsuaTVTeGmvkhcyJvKp2A5kr.jpg'}, {'credit_id': '52fe4284c3a36847f8024f55', 'department': 'Writing', 'gender': 2, 'id': 7, 'job': 'Screenplay', 'name': 'Andrew Stanton', 'profile_path': '/pvQWsu0qc8JFQhMVJkTHuexUAa1.jpg'}, {'credit_id': '52fe4284c3a36847f8024f5b', 'department': 'Writing', 'gender': 2, 'id': 12892, 'job': 'Screenplay', 'name': 'Joel Cohen', 'profile_path': '/dAubAiZcvKFbboWlj7oXOkZnTSu.jpg'}, {'credit_id': '52fe4284c3a36847f8024f61', 'department': 'Writing', 'gender': 0, 'id': 12893, 'job': 'Screenplay', 'name': 'Alec Sokolow', 'profile_path': '/v79vlRYi94BZUQnkkyznbGUZLjT.jpg'}, {'credit_id': '52fe4284c3a36847f8024f67', 'department': 'Production', 'gender': 1, 'id': 12894, 'job': 'Producer', 'name': 'Bonnie Arnold', 'profile_path': None}, {'credit_id': '52fe4284c3a36847f8024f6d', 'department': 'Production', 'gender': 0, 'id': 12895, 'job': 'Executive Producer', 'name': 'Ed Catmull', 'profile_path': None}, {'credit_id': '52fe4284c3a36847f8024f73', 'department': 'Production', 'gender': 2, 'id': 12896, 'job': 'Producer', 'name': 'Ralph Guggenheim', 'profile_path': None}, {'credit_id': '52fe4284c3a36847f8024f79', 'department': 'Production', 'gender': 2, 'id': 12897, 'job': 'Executive Producer', 'name': 'Steve Jobs', 'profile_path': '/mOMP3SwD5qWQSR0ldCIByd3guTV.jpg'}, {'credit_id': '52fe4284c3a36847f8024f8b', 'department': 'Editing', 'gender': 2, 'id': 8, 'job': 'Editor', 'name': 'Lee Unkrich', 'profile_path': '/bdTCCXjgOV3YyaNmLGYGOxFQMOc.jpg'}, {'credit_id': '52fe4284c3a36847f8024f91', 'department': 'Art', 'gender': 2, 'id': 7883, 'job': 'Art Direction', 'name': 'Ralph Eggleston', 'profile_path': '/uUfcGKDsKO1aROMpXRs67Hn6RvR.jpg'}, {'credit_id': '598331bf925141421201044b', 'department': 'Editing', 'gender': 2, 'id': 1168870, 'job': 'Editor', 'name': 'Robert Gordon', 'profile_path': None}, {'credit_id': '5892168cc3a36809660095f9', 'department': 'Sound', 'gender': 0, 'id': 1552883, 'job': 'Foley Editor', 'name': 'Mary Helen Leasman', 'profile_path': None}, {'credit_id': '5531824d9251415289000945', 'department': 'Visual Effects', 'gender': 0, 'id': 1453514, 'job': 'Animation', 'name': 'Kim Blanchette', 'profile_path': None}, {'credit_id': '589215969251412dcb009bf6', 'department': 'Sound', 'gender': 0, 'id': 1414182, 'job': 'ADR Editor', 'name': 'Marilyn McCoppen', 'profile_path': None}, {'credit_id': '589217099251412dc500a018', 'department': 'Sound', 'gender': 2, 'id': 7885, 'job': 'Orchestrator', 'name': 'Randy Newman', 'profile_path': '/w0JzfoiM25nrnxYOzosPHRq6mlE.jpg'}, {'credit_id': '5693e6b29251417b0e0000e3', 'department': 'Editing', 'gender': 0, 'id': 1429549, 'job': 'Color Timer', 'name': 'Dale E. Grahn', 'profile_path': None}, {'credit_id': '572e2522c3a36869e6001a9c', 'department': 'Visual Effects', 'gender': 0, 'id': 7949, 'job': 'CG Painter', 'name': 'Robin Cooper', 'profile_path': None}, {'credit_id': '574f12309251415ca1000012', 'department': 'Writing', 'gender': 2, 'id': 7879, 'job': 'Original Story', 'name': 'John Lasseter', 'profile_path': '/7EdqiNbr4FRjIhKHyPPdFfEEEFG.jpg'}, {'credit_id': '574f1240c3a3682e7300001c', 'department': 'Writing', 'gender': 2, 'id': 12890, 'job': 'Original Story', 'name': 'Pete Docter', 'profile_path': '/r6ngPgnReA3RHmKjmSoVsc6Awjp.jpg'}, {'credit_id': '574f12519251415c92000015', 'department': 'Writing', 'gender': 0, 'id': 7911, 'job': 'Original Story', 'name': 'Joe Ranft', 'profile_path': '/f1BoWC2JbCcfP1e5hKfGsxkHzVU.jpg'}, {'credit_id': '574f12cec3a3682e82000022', 'department': 'Crew', 'gender': 0, 'id': 1629419, 'job': 'Post Production Supervisor', 'name': 'Patsy Bouge', 'profile_path': None}, {'credit_id': '574f14f19251415ca1000082', 'department': 'Art', 'gender': 0, 'id': 7961, 'job': 'Sculptor', 'name': 'Norm DeCarlo', 'profile_path': None}, {'credit_id': '5751ae4bc3a3683772002b7f', 'department': 'Visual Effects', 'gender': 2, 'id': 12905, 'job': 'Animation Director', 'name': 'Ash Brannon', 'profile_path': '/6ueWgPEEBHvS3De2BHYQnYjRTig.jpg'}, {'credit_id': '5891edbe9251412dc5007cd6', 'department': 'Sound', 'gender': 2, 'id': 7885, 'job': 'Music', 'name': 'Randy Newman', 'profile_path': '/w0JzfoiM25nrnxYOzosPHRq6mlE.jpg'}, {'credit_id': '589213d39251412dc8009832', 'department': 'Directing', 'gender': 0, 'id': 1748707, 'job': 'Layout', 'name': 'Roman Figun', 'profile_path': None}, {'credit_id': '5892173dc3a3680968009351', 'department': 'Sound', 'gender': 2, 'id': 4949, 'job': 'Orchestrator', 'name': 'Don Davis', 'profile_path': None}, {'credit_id': '589217cec3a3686b0a0052ba', 'department': 'Sound', 'gender': 0, 'id': 1372885, 'job': 'Music Editor', 'name': 'James Flamberg', 'profile_path': None}, {'credit_id': '58921831c3a3686348004a64', 'department': 'Editing', 'gender': 0, 'id': 1739962, 'job': 'Negative Cutter', 'name': 'Mary Beth Smith', 'profile_path': None}, {'credit_id': '58921838c3a36809700096c0', 'department': 'Editing', 'gender': 0, 'id': 1748513, 'job': 'Negative Cutter', 'name': 'Rick Mackay', 'profile_path': None}, {'credit_id': '589218429251412dd1009d1b', 'department': 'Art', 'gender': 0, 'id': 1458006, 'job': 'Title Designer', 'name': 'Susan Bradley', 'profile_path': None}, {'credit_id': '5891ed99c3a3680966007670', 'department': 'Crew', 'gender': 0, 'id': 1748557, 'job': 'Supervising Technical Director', 'name': 'William Reeves', 'profile_path': None}, {'credit_id': '5891edcec3a3686b0a002eb2', 'department': 'Sound', 'gender': 2, 'id': 7885, 'job': 'Songs', 'name': 'Randy Newman', 'profile_path': '/w0JzfoiM25nrnxYOzosPHRq6mlE.jpg'}, {'credit_id': '5891edf9c3a36809700075e6', 'department': 'Writing', 'gender': 2, 'id': 7, 'job': 'Original Story', 'name': 'Andrew Stanton', 'profile_path': '/pvQWsu0qc8JFQhMVJkTHuexUAa1.jpg'}, {'credit_id': '58920f0b9251412dd7009104', 'department': 'Crew', 'gender': 2, 'id': 12890, 'job': 'Supervising Animator', 'name': 'Pete Docter', 'profile_path': '/r6ngPgnReA3RHmKjmSoVsc6Awjp.jpg'}, {'credit_id': '58920f1fc3a3680977009021', 'department': 'Sound', 'gender': 2, 'id': 2216, 'job': 'Sound Designer', 'name': 'Gary Rydstrom', 'profile_path': '/jZpr1nVfO7lldWI0YtmP1FGw7Rj.jpg'}, {'credit_id': '58920f389251412dd700912d', 'department': 'Production', 'gender': 0, 'id': 12909, 'job': 'Production Supervisor', 'name': 'Karen Robert Jackson', 'profile_path': None}, {'credit_id': '58920fbd9251412dcb00969c', 'department': 'Crew', 'gender': 0, 'id': 953331, 'job': 'Executive Music Producer', 'name': 'Chris Montan', 'profile_path': None}, {'credit_id': '589210069251412dd7009219', 'department': 'Visual Effects', 'gender': 0, 'id': 7893, 'job': 'Animation Director', 'name': 'Rich Quade', 'profile_path': None}, {'credit_id': '589210329251412dcd00943b', 'department': 'Visual Effects', 'gender': 0, 'id': 8025, 'job': 'Animation', 'name': 'Michael Berenstein', 'profile_path': None}, {'credit_id': '5892103bc3a368096a009180', 'department': 'Visual Effects', 'gender': 0, 'id': 78009, 'job': 'Animation', 'name': 'Colin Brady', 'profile_path': None}, {'credit_id': '5892105dc3a3680968008db2', 'department': 'Visual Effects', 'gender': 0, 'id': 1748682, 'job': 'Animation', 'name': 'Davey Crockett Feiten', 'profile_path': None}, {'credit_id': '589210669251412dcd009466', 'department': 'Visual Effects', 'gender': 0, 'id': 1454030, 'job': 'Animation', 'name': 'Angie Glocka', 'profile_path': None}, {'credit_id': '5892107c9251412dd1009613', 'department': 'Visual Effects', 'gender': 0, 'id': 1748683, 'job': 'Animation', 'name': 'Rex Grignon', 'profile_path': None}, {'credit_id': '5892108ac3a3680973008d3f', 'department': 'Visual Effects', 'gender': 0, 'id': 1748684, 'job': 'Animation', 'name': 'Tom K. Gurney', 'profile_path': None}, {'credit_id': '58921093c3a3686348004477', 'department': 'Visual Effects', 'gender': 2, 'id': 8029, 'job': 'Animation', 'name': 'Jimmy Hayward', 'profile_path': '/lTDRpudEY7BDwTefXbXzMlmb0ui.jpg'}, {'credit_id': '5892109b9251412dcd0094b0', 'department': 'Visual Effects', 'gender': 0, 'id': 1426773, 'job': 'Animation', 'name': 'Hal T. Hickel', 'profile_path': None}, {'credit_id': '589210a29251412dc5009a29', 'department': 'Visual Effects', 'gender': 0, 'id': 8035, 'job': 'Animation', 'name': 'Karen Kiser', 'profile_path': None}, {'credit_id': '589210ccc3a3680977009191', 'department': 'Visual Effects', 'gender': 0, 'id': 1748688, 'job': 'Animation', 'name': 'Anthony B. LaMolinara', 'profile_path': None}, {'credit_id': '589210d7c3a3686b0a004c1f', 'department': 'Visual Effects', 'gender': 0, 'id': 587314, 'job': 'Animation', 'name': 'Guionne Leroy', 'profile_path': None}, {'credit_id': '589210e1c3a36809770091a7', 'department': 'Visual Effects', 'gender': 2, 'id': 7918, 'job': 'Animation', 'name': 'Bud Luckey', 'profile_path': '/pcCh7G19FKMNijmPQg1PMH1btic.jpg'}, {'credit_id': '589210ee9251412dc200978a', 'department': 'Visual Effects', 'gender': 0, 'id': 1748689, 'job': 'Animation', 'name': 'Les Major', 'profile_path': None}, {'credit_id': '589210fa9251412dc8009595', 'department': 'Visual Effects', 'gender': 2, 'id': 7892, 'job': 'Animation', 'name': 'Glenn McQueen', 'profile_path': None}, {'credit_id': '589211029251412dc8009598', 'department': 'Visual Effects', 'gender': 0, 'id': 555795, 'job': 'Animation', 'name': 'Mark Oftedal', 'profile_path': None}, {'credit_id': '5892110b9251412dc800959d', 'department': 'Visual Effects', 'gender': 2, 'id': 7882, 'job': 'Animation', 'name': 'Jeff Pidgeon', 'profile_path': '/yLddkg5HcgbJg00cS13GVBnP0HY.jpg'}, {'credit_id': '58921113c3a36863480044e4', 'department': 'Visual Effects', 'gender': 0, 'id': 8017, 'job': 'Animation', 'name': 'Jeff Pratt', 'profile_path': None}, {'credit_id': '5892111c9251412dcb0097e9', 'department': 'Visual Effects', 'gender': 0, 'id': 1184140, 'job': 'Animation', 'name': 'Steve Rabatich', 'profile_path': None}, {'credit_id': '58921123c3a36809700090f6', 'department': 'Visual Effects', 'gender': 0, 'id': 8049, 'job': 'Animation', 'name': 'Roger Rose', 'profile_path': None}, {'credit_id': '5892112b9251412dcb0097fb', 'department': 'Visual Effects', 'gender': 0, 'id': 1509559, 'job': 'Animation', 'name': 'Steve Segal', 'profile_path': None}, {'credit_id': '589211349251412dc80095c3', 'department': 'Visual Effects', 'gender': 0, 'id': 1748691, 'job': 'Animation', 'name': 'Doug Sheppeck', 'profile_path': None}, {'credit_id': '5892113cc3a3680970009106', 'department': 'Visual Effects', 'gender': 0, 'id': 8050, 'job': 'Animation', 'name': 'Alan Sperling', 'profile_path': None}, {'credit_id': '58921148c3a3686b0a004c99', 'department': 'Visual Effects', 'gender': 0, 'id': 8010, 'job': 'Animation', 'name': 'Doug Sweetland', 'profile_path': None}, {'credit_id': '58921150c3a3680966009125', 'department': 'Visual Effects', 'gender': 0, 'id': 8044, 'job': 'Animation', 'name': 'David Tart', 'profile_path': None}, {'credit_id': '589211629251412dc5009b00', 'department': 'Visual Effects', 'gender': 0, 'id': 1454034, 'job': 'Animation', 'name': 'Ken Willard', 'profile_path': None}, {'credit_id': '589211c1c3a3686b0a004d28', 'department': 'Visual Effects', 'gender': 0, 'id': 7887, 'job': 'Visual Effects Supervisor', 'name': 'Thomas Porter', 'profile_path': None}, {'credit_id': '589211d4c3a3680968008ed9', 'department': 'Visual Effects', 'gender': 0, 'id': 1406878, 'job': 'Visual Effects', 'name': 'Mark Thomas Henne', 'profile_path': None}, {'credit_id': '589211f59251412dd4008e65', 'department': 'Visual Effects', 'gender': 0, 'id': 1748698, 'job': 'Visual Effects', 'name': 'Oren Jacob', 'profile_path': None}, {'credit_id': '58921242c3a368096a00939b', 'department': 'Visual Effects', 'gender': 0, 'id': 1748699, 'job': 'Visual Effects', 'name': 'Darwyn Peachey', 'profile_path': None}, {'credit_id': '5892124b9251412dc5009bd2', 'department': 'Visual Effects', 'gender': 0, 'id': 1748701, 'job': 'Visual Effects', 'name': 'Mitch Prater', 'profile_path': None}, {'credit_id': '58921264c3a3686b0a004dbf', 'department': 'Visual Effects', 'gender': 0, 'id': 1748703, 'job': 'Visual Effects', 'name': 'Brian M. Rosen', 'profile_path': None}, {'credit_id': '589212709251412dcd009676', 'department': 'Lighting', 'gender': 1, 'id': 12912, 'job': 'Lighting Supervisor', 'name': 'Sharon Calahan', 'profile_path': None}, {'credit_id': '5892127fc3a3686b0a004de5', 'department': 'Lighting', 'gender': 0, 'id': 7899, 'job': 'Lighting Supervisor', 'name': 'Galyn Susman', 'profile_path': None}, {'credit_id': '589212cdc3a3680970009268', 'department': 'Visual Effects', 'gender': 0, 'id': 12915, 'job': 'CG Painter', 'name': 'William Cone', 'profile_path': None}, {'credit_id': '5892130f9251412dc8009791', 'department': 'Art', 'gender': 0, 'id': 1748705, 'job': 'Sculptor', 'name': 'Shelley Daniels Lekven', 'profile_path': None}, {'credit_id': '5892131c9251412dd4008f4c', 'department': 'Visual Effects', 'gender': 2, 'id': 7889, 'job': 'Character Designer', 'name': 'Bob Pauley', 'profile_path': None}, {'credit_id': '589213249251412dd100987b', 'department': 'Visual Effects', 'gender': 2, 'id': 7918, 'job': 'Character Designer', 'name': 'Bud Luckey', 'profile_path': '/pcCh7G19FKMNijmPQg1PMH1btic.jpg'}, {'credit_id': '5892132b9251412dc80097b1', 'department': 'Visual Effects', 'gender': 2, 'id': 7, 'job': 'Character Designer', 'name': 'Andrew Stanton', 'profile_path': '/pvQWsu0qc8JFQhMVJkTHuexUAa1.jpg'}, {'credit_id': '58921332c3a368634800467b', 'department': 'Visual Effects', 'gender': 0, 'id': 12915, 'job': 'Character Designer', 'name': 'William Cone', 'profile_path': None}, {'credit_id': '5892135f9251412dd4008f90', 'department': 'Visual Effects', 'gender': 0, 'id': 1748706, 'job': 'Character Designer', 'name': 'Steve Johnson', 'profile_path': None}, {'credit_id': '58921384c3a3680973008fd4', 'department': 'Visual Effects', 'gender': 0, 'id': 1176752, 'job': 'Character Designer', 'name': 'Dan Haskett', 'profile_path': None}, {'credit_id': '5892138e9251412dc20099fc', 'department': 'Visual Effects', 'gender': 0, 'id': 1088034, 'job': 'Character Designer', 'name': 'Tom Holloway', 'profile_path': '/a0r0T2usTBpgMI5aZbRBDW1fTl8.jpg'}, {'credit_id': '58921395c3a368097700942f', 'department': 'Visual Effects', 'gender': 0, 'id': 1447465, 'job': 'Character Designer', 'name': 'Jean Gillmore', 'profile_path': None}, {'credit_id': '589213e2c3a3680973009026', 'department': 'Directing', 'gender': 0, 'id': 1748709, 'job': 'Layout', 'name': 'DesirÃ©e Mourad', 'profile_path': None}, {'credit_id': '589214099251412dc5009d57', 'department': 'Art', 'gender': 0, 'id': 1748710, 'job': 'Set Dresser', 'name': \"Kelly O'Connell\", 'profile_path': None}, {'credit_id': '58921411c3a3686b0a004f70', 'department': 'Art', 'gender': 0, 'id': 1443471, 'job': 'Set Dresser', 'name': 'Sonoko Konishi', 'profile_path': None}, {'credit_id': '58921434c3a368096a00956e', 'department': 'Art', 'gender': 0, 'id': 1748711, 'job': 'Set Dresser', 'name': 'Ann M. Rockwell', 'profile_path': None}, {'credit_id': '5892144ac3a36809680090de', 'department': 'Editing', 'gender': 0, 'id': 1748712, 'job': 'Editorial Manager', 'name': 'Julie M. McDonald', 'profile_path': None}, {'credit_id': '58921479c3a368096800910f', 'department': 'Editing', 'gender': 0, 'id': 1589729, 'job': 'Assistant Editor', 'name': 'Robin Lee', 'profile_path': None}, {'credit_id': '5892148b9251412dd10099cc', 'department': 'Editing', 'gender': 0, 'id': 1748716, 'job': 'Assistant Editor', 'name': 'Tom Freeman', 'profile_path': None}, {'credit_id': '589214959251412dcb009b1f', 'department': 'Editing', 'gender': 0, 'id': 1748717, 'job': 'Assistant Editor', 'name': 'Ada Cochavi', 'profile_path': None}, {'credit_id': '5892149ec3a3686348004798', 'department': 'Editing', 'gender': 0, 'id': 1336438, 'job': 'Assistant Editor', 'name': 'Dana Mulligan', 'profile_path': None}, {'credit_id': '589214adc3a368096a0095db', 'department': 'Editing', 'gender': 0, 'id': 1748718, 'job': 'Editorial Coordinator', 'name': 'Deirdre Morrison', 'profile_path': None}, {'credit_id': '589214c7c3a368097700952b', 'department': 'Production', 'gender': 0, 'id': 1748719, 'job': 'Production Coordinator', 'name': 'Lori Lombardo', 'profile_path': None}, {'credit_id': '589214cec3a368096a009603', 'department': 'Production', 'gender': 0, 'id': 1748720, 'job': 'Production Coordinator', 'name': 'Ellen Devine', 'profile_path': None}, {'credit_id': '589214e39251412dc8009904', 'department': 'Crew', 'gender': 0, 'id': 1468014, 'job': 'Unit Publicist', 'name': 'Lauren Beth Strogoff', 'profile_path': None}, {'credit_id': '58921544c3a3686b0a00507d', 'department': 'Sound', 'gender': 2, 'id': 2216, 'job': 'Sound Re-Recording Mixer', 'name': 'Gary Rydstrom', 'profile_path': '/jZpr1nVfO7lldWI0YtmP1FGw7Rj.jpg'}, {'credit_id': '5892154c9251412dd1009a56', 'department': 'Sound', 'gender': 0, 'id': 1425978, 'job': 'Sound Re-Recording Mixer', 'name': 'Gary Summers', 'profile_path': None}, {'credit_id': '58921555c3a36809680091bd', 'department': 'Sound', 'gender': 2, 'id': 8276, 'job': 'Supervising Sound Editor', 'name': 'Tim Holland', 'profile_path': None}, {'credit_id': '589215c39251412dcb009c12', 'department': 'Sound', 'gender': 0, 'id': 7069, 'job': 'Sound Effects Editor', 'name': 'Pat Jackson', 'profile_path': None}, {'credit_id': '58921698c3a368096a009788', 'department': 'Crew', 'gender': 2, 'id': 15894, 'job': 'Sound Design Assistant', 'name': 'Tom Myers', 'profile_path': None}, {'credit_id': '589216a89251412dc2009ca4', 'department': 'Sound', 'gender': 0, 'id': 1414177, 'job': 'Assistant Sound Editor', 'name': 'J.R. Grubbs', 'profile_path': None}, {'credit_id': '589216c19251412dc2009cb9', 'department': 'Sound', 'gender': 1, 'id': 1748724, 'job': 'Assistant Sound Editor', 'name': 'Susan Sanford', 'profile_path': None}, {'credit_id': '589216ccc3a3680973009274', 'department': 'Sound', 'gender': 0, 'id': 1748725, 'job': 'Assistant Sound Editor', 'name': 'Susan Popovic', 'profile_path': None}, {'credit_id': '589216d79251412dc8009aa0', 'department': 'Sound', 'gender': 0, 'id': 8067, 'job': 'Assistant Sound Editor', 'name': 'Dan Engstrom', 'profile_path': None}, {'credit_id': '589216e49251412dcd009a4f', 'department': 'Production', 'gender': 1, 'id': 7902, 'job': 'Casting Consultant', 'name': 'Ruth Lambert', 'profile_path': None}, {'credit_id': '589216f39251412dc2009cf3', 'department': 'Production', 'gender': 0, 'id': 84493, 'job': 'ADR Voice Casting', 'name': 'Mickie McGowan', 'profile_path': '/k7TjJBfINsg8vLQxJwos6XObAD6.jpg'}]\n"
          ]
        }
      ],
      "source": [
        "print(df_credits['crew'][0])"
      ]
    },
    {
      "cell_type": "code",
      "execution_count": 30,
      "metadata": {},
      "outputs": [
        {
          "name": "stdout",
          "output_type": "stream",
          "text": [
            "[{'cast_id': 14, 'character': 'Woody (voice)', 'credit_id': '52fe4284c3a36847f8024f95', 'gender': 2, 'id': 31, 'name': 'Tom Hanks', 'order': 0, 'profile_path': '/pQFoyx7rp09CJTAb932F2g8Nlho.jpg'}, {'cast_id': 15, 'character': 'Buzz Lightyear (voice)', 'credit_id': '52fe4284c3a36847f8024f99', 'gender': 2, 'id': 12898, 'name': 'Tim Allen', 'order': 1, 'profile_path': '/uX2xVf6pMmPepxnvFWyBtjexzgY.jpg'}, {'cast_id': 16, 'character': 'Mr. Potato Head (voice)', 'credit_id': '52fe4284c3a36847f8024f9d', 'gender': 2, 'id': 7167, 'name': 'Don Rickles', 'order': 2, 'profile_path': '/h5BcaDMPRVLHLDzbQavec4xfSdt.jpg'}, {'cast_id': 17, 'character': 'Slinky Dog (voice)', 'credit_id': '52fe4284c3a36847f8024fa1', 'gender': 2, 'id': 12899, 'name': 'Jim Varney', 'order': 3, 'profile_path': '/eIo2jVVXYgjDtaHoF19Ll9vtW7h.jpg'}, {'cast_id': 18, 'character': 'Rex (voice)', 'credit_id': '52fe4284c3a36847f8024fa5', 'gender': 2, 'id': 12900, 'name': 'Wallace Shawn', 'order': 4, 'profile_path': '/oGE6JqPP2xH4tNORKNqxbNPYi7u.jpg'}, {'cast_id': 19, 'character': 'Hamm (voice)', 'credit_id': '52fe4284c3a36847f8024fa9', 'gender': 2, 'id': 7907, 'name': 'John Ratzenberger', 'order': 5, 'profile_path': '/yGechiKWL6TJDfVE2KPSJYqdMsY.jpg'}, {'cast_id': 20, 'character': 'Bo Peep (voice)', 'credit_id': '52fe4284c3a36847f8024fad', 'gender': 1, 'id': 8873, 'name': 'Annie Potts', 'order': 6, 'profile_path': '/eryXT84RL41jHSJcMy4kS3u9y6w.jpg'}, {'cast_id': 26, 'character': 'Andy (voice)', 'credit_id': '52fe4284c3a36847f8024fc1', 'gender': 0, 'id': 1116442, 'name': 'John Morris', 'order': 7, 'profile_path': '/vYGyvK4LzeaUCoNSHtsuqJUY15M.jpg'}, {'cast_id': 22, 'character': 'Sid (voice)', 'credit_id': '52fe4284c3a36847f8024fb1', 'gender': 2, 'id': 12901, 'name': 'Erik von Detten', 'order': 8, 'profile_path': '/twnF1ZaJ1FUNUuo6xLXwcxjayBE.jpg'}, {'cast_id': 23, 'character': 'Mrs. Davis (voice)', 'credit_id': '52fe4284c3a36847f8024fb5', 'gender': 1, 'id': 12133, 'name': 'Laurie Metcalf', 'order': 9, 'profile_path': '/unMMIT60eoBM2sN2nyR7EZ2BvvD.jpg'}, {'cast_id': 24, 'character': 'Sergeant (voice)', 'credit_id': '52fe4284c3a36847f8024fb9', 'gender': 2, 'id': 8655, 'name': 'R. Lee Ermey', 'order': 10, 'profile_path': '/r8GBqFBjypLUP9VVqDqfZ7wYbSs.jpg'}, {'cast_id': 25, 'character': 'Hannah (voice)', 'credit_id': '52fe4284c3a36847f8024fbd', 'gender': 1, 'id': 12903, 'name': 'Sarah Freeman', 'order': 11, 'profile_path': None}, {'cast_id': 27, 'character': 'TV Announcer (voice)', 'credit_id': '52fe4284c3a36847f8024fc5', 'gender': 2, 'id': 37221, 'name': 'Penn Jillette', 'order': 12, 'profile_path': '/zmAaXUdx12NRsssgHbk1T31j2x9.jpg'}]\n"
          ]
        }
      ],
      "source": [
        "print(df_credits['cast'][0])"
      ]
    },
    {
      "cell_type": "code",
      "execution_count": 31,
      "metadata": {},
      "outputs": [
        {
          "data": {
            "text/plain": [
              "cast    0\n",
              "crew    0\n",
              "id      0\n",
              "dtype: int64"
            ]
          },
          "execution_count": 31,
          "metadata": {},
          "output_type": "execute_result"
        }
      ],
      "source": [
        "df_credits.isnull().sum()"
      ]
    },
    {
      "cell_type": "code",
      "execution_count": 32,
      "metadata": {},
      "outputs": [
        {
          "data": {
            "application/vnd.jupyter.widget-view+json": {
              "model_id": "75cc940b16c6493580e0a59afed785db",
              "version_major": 2,
              "version_minor": 0
            },
            "text/plain": [
              "  0%|          | 0/45476 [00:00<?, ?it/s]"
            ]
          },
          "metadata": {},
          "output_type": "display_data"
        },
        {
          "data": {
            "application/vnd.jupyter.widget-view+json": {
              "model_id": "7093225879974e2a92e2dcfea98871e0",
              "version_major": 2,
              "version_minor": 0
            },
            "text/plain": [
              "  0%|          | 0/45476 [00:00<?, ?it/s]"
            ]
          },
          "metadata": {},
          "output_type": "display_data"
        },
        {
          "name": "stdout",
          "output_type": "stream",
          "text": [
            "0 0\n",
            "INDEX1:  []\n",
            "INDEX2:  []\n"
          ]
        }
      ],
      "source": [
        "## Checking if every field in each column has string data type and storing True or False binary states in credits? variables\n",
        "credits1 = df_credits['cast'].progress_apply(lambda x: isinstance(x, str))\n",
        "credits2 = df_credits['crew'].progress_apply(lambda x: isinstance(x, str))\n",
        "\n",
        "# Setting up wrong data type ocurrence counters\n",
        "count1 = 0\n",
        "count2 = 0\n",
        "\n",
        "#Setting up record indexes list where a wrong data type ocurrence has ocurred\n",
        "index1 = []\n",
        "index2 = []\n",
        "\n",
        "#Looping into is_str? variables and filling the count and index variables according its state\n",
        "for n in range(len(df_credits)):\n",
        "    if (credits1[n] == False):\n",
        "       count1 +=1\n",
        "       index1.append(n)\n",
        "    if (credits2[n] == False):\n",
        "        count2 +=1\n",
        "        index2.append(n)\n",
        "\n",
        "#Displaying the results for exploration purposes\n",
        "print(count1, count2)\n",
        "print(\"INDEX1: \", index1)\n",
        "print(\"INDEX2: \", index2)\n"
      ]
    },
    {
      "cell_type": "code",
      "execution_count": 33,
      "metadata": {},
      "outputs": [
        {
          "data": {
            "application/vnd.jupyter.widget-view+json": {
              "model_id": "2ba4bbfa8bb141c688a28e803030ebd3",
              "version_major": 2,
              "version_minor": 0
            },
            "text/plain": [
              "  0%|          | 0/45476 [00:00<?, ?it/s]"
            ]
          },
          "metadata": {},
          "output_type": "display_data"
        },
        {
          "data": {
            "application/vnd.jupyter.widget-view+json": {
              "model_id": "ffc476d60f6d45798798922ed62c6adf",
              "version_major": 2,
              "version_minor": 0
            },
            "text/plain": [
              "  0%|          | 0/45476 [00:00<?, ?it/s]"
            ]
          },
          "metadata": {},
          "output_type": "display_data"
        }
      ],
      "source": [
        "# Converting strings to dictionaries\n",
        "df_credits['cast'] = df_credits['cast'].progress_apply(lambda x: eval(x))\n",
        "df_credits['crew'] = df_credits['crew'].progress_apply(lambda x: eval(x))\n"
      ]
    },
    {
      "cell_type": "code",
      "execution_count": 34,
      "metadata": {},
      "outputs": [
        {
          "data": {
            "application/vnd.jupyter.widget-view+json": {
              "model_id": "b11140a470314af19d712b3bfaf872b5",
              "version_major": 2,
              "version_minor": 0
            },
            "text/plain": [
              "  0%|          | 0/45476 [00:00<?, ?it/s]"
            ]
          },
          "metadata": {},
          "output_type": "display_data"
        },
        {
          "data": {
            "application/vnd.jupyter.widget-view+json": {
              "model_id": "18e7ce79510545c4a0937d3157a11a40",
              "version_major": 2,
              "version_minor": 0
            },
            "text/plain": [
              "  0%|          | 0/45476 [00:00<?, ?it/s]"
            ]
          },
          "metadata": {},
          "output_type": "display_data"
        },
        {
          "name": "stdout",
          "output_type": "stream",
          "text": [
            "2418 771\n",
            "INDEX1:  [137, 240, 393, 438, 595, 620, 661, 671, 679, 711, 741, 752, 756, 767, 771, 819, 833, 957, 1010, 1102, 1106, 1126, 1272, 1388, 1393, 1405, 1489, 1626, 1628, 1632, 1657, 1685, 1691, 1721, 1768, 1792, 2217, 2371, 2425, 2451, 2629, 2709, 2793, 2878, 2967, 3071, 3108, 3116, 3119, 3160, 3163, 3185, 3309, 3460, 3487, 3503, 3555, 3628, 3735, 3763, 3945, 3949, 4045, 4081, 4103, 4176, 4187, 4326, 4327, 4329, 4582, 4597, 4630, 4649, 4754, 4939, 5006, 5154, 5216, 5402, 5436, 5482, 5506, 5544, 5547, 5602, 5619, 5667, 5673, 5767, 5879, 6008, 6057, 6110, 6115, 6131, 6193, 6198, 6304, 6440, 6518, 6531, 6544, 6609, 6612, 6617, 6626, 6779, 6790, 6794, 6810, 6977, 6992, 7143, 7198, 7273, 7274, 7327, 7365, 7376, 7456, 7593, 7898, 7900, 7903, 7910, 7981, 8026, 8070, 8084, 8233, 8248, 8260, 8292, 8621, 8792, 8807, 8959, 9015, 9066, 9214, 9215, 9227, 9243, 9287, 9293, 9334, 9358, 9409, 9436, 9472, 9487, 9515, 9516, 9725, 9765, 9830, 9886, 9988, 10000, 10093, 10138, 10241, 10451, 10485, 10542, 10583, 10591, 10593, 10609, 10659, 10686, 10833, 10865, 10884, 10886, 11433, 11469, 11528, 11550, 11551, 11638, 11775, 11784, 11819, 11824, 11836, 11868, 11895, 11909, 11973, 12069, 12174, 12207, 12253, 12262, 12349, 12362, 12429, 12458, 12492, 12539, 12564, 12612, 12650, 12651, 12716, 12753, 12820, 12877, 12931, 12969, 12988, 13074, 13085, 13125, 13156, 13169, 13209, 13223, 13230, 13235, 13256, 13269, 13292, 13304, 13309, 13323, 13353, 13373, 13464, 13488, 13505, 13514, 13564, 13592, 13609, 13623, 13642, 13671, 13678, 13695, 13698, 13759, 13802, 13871, 13897, 13913, 13920, 13945, 13955, 13999, 14034, 14067, 14096, 14219, 14224, 14254, 14260, 14275, 14277, 14298, 14342, 14343, 14354, 14396, 14402, 14409, 14455, 14457, 14464, 14468, 14471, 14477, 14486, 14504, 14528, 14534, 14539, 14545, 14602, 14615, 14628, 14656, 14691, 14695, 14725, 14728, 14733, 14751, 14801, 14868, 14887, 14890, 14970, 15037, 15045, 15221, 15249, 15258, 15263, 15268, 15316, 15326, 15339, 15376, 15404, 15412, 15417, 15433, 15436, 15536, 15619, 15645, 15650, 15710, 15727, 15728, 15739, 15791, 15800, 15818, 15825, 15850, 15854, 15857, 15891, 15942, 15952, 15956, 15970, 16006, 16011, 16030, 16039, 16095, 16140, 16152, 16169, 16172, 16195, 16233, 16269, 16287, 16300, 16348, 16385, 16398, 16413, 16415, 16417, 16423, 16429, 16488, 16497, 16608, 16648, 16661, 16662, 16721, 16748, 16754, 16778, 16792, 16836, 16837, 16868, 16883, 16901, 16923, 16925, 16927, 16953, 16959, 16960, 17013, 17018, 17025, 17026, 17059, 17070, 17071, 17096, 17110, 17134, 17162, 17243, 17247, 17252, 17253, 17256, 17257, 17261, 17270, 17281, 17320, 17325, 17332, 17334, 17339, 17350, 17375, 17382, 17408, 17423, 17458, 17462, 17468, 17499, 17502, 17543, 17558, 17574, 17577, 17600, 17644, 17658, 17659, 17665, 17685, 17694, 17695, 17711, 17767, 17797, 17798, 17806, 17837, 17846, 17863, 17879, 17882, 17892, 17894, 17906, 17907, 17925, 17926, 17951, 17952, 17958, 17967, 17974, 18014, 18036, 18038, 18074, 18087, 18098, 18099, 18114, 18119, 18162, 18171, 18176, 18182, 18186, 18262, 18290, 18300, 18316, 18318, 18345, 18347, 18362, 18368, 18387, 18419, 18421, 18429, 18431, 18440, 18460, 18495, 18496, 18503, 18515, 18543, 18546, 18547, 18564, 18572, 18579, 18604, 18612, 18616, 18618, 18643, 18672, 18686, 18700, 18706, 18748, 18750, 18767, 18769, 18792, 18805, 18843, 18855, 18868, 18879, 18899, 18904, 18922, 18926, 18960, 18961, 18974, 18976, 18997, 19093, 19106, 19107, 19111, 19113, 19118, 19123, 19165, 19193, 19215, 19227, 19302, 19322, 19351, 19366, 19368, 19391, 19415, 19440, 19458, 19495, 19517, 19540, 19541, 19542, 19544, 19545, 19562, 19563, 19576, 19600, 19611, 19625, 19626, 19644, 19645, 19670, 19672, 19683, 19692, 19702, 19703, 19711, 19712, 19713, 19737, 19740, 19807, 19814, 19839, 19849, 19866, 19867, 19875, 19877, 19889, 19940, 19941, 19951, 19954, 19971, 19972, 19973, 19997, 20009, 20022, 20024, 20102, 20129, 20136, 20137, 20153, 20159, 20160, 20165, 20175, 20187, 20225, 20228, 20229, 20238, 20273, 20300, 20308, 20318, 20319, 20328, 20329, 20336, 20341, 20343, 20349, 20352, 20366, 20369, 20418, 20422, 20432, 20452, 20455, 20458, 20471, 20475, 20483, 20486, 20489, 20492, 20498, 20503, 20508, 20513, 20517, 20519, 20522, 20554, 20555, 20561, 20566, 20586, 20600, 20610, 20611, 20614, 20626, 20630, 20641, 20650, 20742, 20743, 20771, 20773, 20777, 20779, 20821, 20825, 20827, 20862, 20878, 20882, 20913, 20914, 20972, 20973, 20997, 21002, 21011, 21012, 21029, 21050, 21056, 21084, 21085, 21092, 21093, 21101, 21105, 21142, 21146, 21158, 21164, 21169, 21176, 21183, 21205, 21221, 21226, 21229, 21239, 21252, 21270, 21290, 21291, 21299, 21301, 21323, 21326, 21334, 21337, 21353, 21365, 21374, 21390, 21403, 21422, 21447, 21451, 21460, 21462, 21469, 21472, 21499, 21517, 21528, 21578, 21585, 21598, 21635, 21641, 21679, 21689, 21701, 21707, 21736, 21792, 21800, 21852, 21855, 21863, 21887, 21890, 21894, 21919, 21926, 21933, 21951, 21956, 21987, 22069, 22174, 22181, 22224, 22233, 22285, 22339, 22341, 22376, 22386, 22395, 22401, 22408, 22413, 22435, 22490, 22503, 22516, 22529, 22566, 22589, 22627, 22635, 22665, 22689, 22691, 22698, 22737, 22748, 22759, 22769, 22771, 22797, 22805, 22806, 22807, 22825, 22859, 22888, 22895, 22907, 22909, 22910, 22957, 22986, 23000, 23004, 23014, 23031, 23123, 23144, 23146, 23178, 23184, 23195, 23196, 23198, 23241, 23249, 23251, 23287, 23320, 23321, 23325, 23382, 23402, 23403, 23412, 23418, 23463, 23480, 23482, 23500, 23608, 23610, 23611, 23633, 23662, 23680, 23712, 23735, 23745, 23773, 23774, 23868, 23886, 23913, 23920, 23926, 23970, 23979, 23994, 23995, 23997, 23998, 24016, 24017, 24024, 24029, 24038, 24049, 24064, 24073, 24075, 24076, 24098, 24149, 24150, 24153, 24154, 24156, 24187, 24188, 24195, 24219, 24223, 24232, 24233, 24238, 24279, 24312, 24317, 24321, 24322, 24323, 24327, 24334, 24341, 24347, 24359, 24362, 24364, 24383, 24398, 24399, 24400, 24409, 24414, 24435, 24449, 24450, 24451, 24489, 24497, 24504, 24507, 24521, 24523, 24541, 24546, 24611, 24622, 24700, 24721, 24733, 24737, 24738, 24837, 24911, 24926, 24930, 24932, 24933, 24934, 24984, 24999, 25030, 25084, 25181, 25186, 25192, 25194, 25213, 25215, 25220, 25248, 25252, 25275, 25308, 25309, 25322, 25328, 25371, 25380, 25381, 25382, 25414, 25435, 25449, 25473, 25477, 25478, 25479, 25480, 25481, 25482, 25485, 25486, 25489, 25490, 25491, 25492, 25499, 25524, 25528, 25541, 25542, 25543, 25555, 25560, 25572, 25627, 25650, 25688, 25700, 25716, 25722, 25747, 25751, 25752, 25768, 25803, 25828, 25830, 25831, 25862, 25875, 25891, 25892, 25897, 25899, 25901, 25928, 25965, 25966, 25975, 26007, 26176, 26216, 26260, 26309, 26620, 26643, 26891, 26963, 27041, 27076, 27087, 27108, 27113, 27158, 27233, 27234, 27260, 27307, 27319, 27423, 27434, 27441, 27496, 27500, 27501, 27503, 27504, 27512, 27513, 27521, 27539, 27543, 27545, 27546, 27547, 27549, 27557, 27558, 27561, 27562, 27564, 27566, 27567, 27568, 27571, 27577, 27578, 27580, 27602, 27631, 27648, 27649, 27657, 27665, 27668, 27692, 27731, 27740, 27751, 27754, 27759, 27760, 27765, 27767, 27768, 27771, 27783, 27796, 27799, 27804, 27809, 27810, 27811, 27823, 27855, 27858, 27862, 27863, 27865, 27866, 27873, 27912, 27915, 27950, 27953, 27963, 27964, 27965, 27966, 27967, 27970, 28018, 28026, 28029, 28145, 28185, 28209, 28269, 28276, 28292, 28294, 28312, 28331, 28332, 28344, 28363, 28367, 28376, 28381, 28392, 28393, 28430, 28455, 28479, 28481, 28528, 28529, 28537, 28542, 28543, 28553, 28554, 28573, 28593, 28601, 28604, 28629, 28630, 28644, 28669, 28679, 28680, 28683, 28724, 28731, 28734, 28757, 28762, 28775, 28779, 28853, 28876, 28903, 28911, 28938, 28945, 28977, 28979, 28993, 28998, 29020, 29021, 29091, 29122, 29124, 29144, 29204, 29213, 29215, 29224, 29226, 29312, 29318, 29343, 29359, 29368, 29395, 29407, 29408, 29429, 29433, 29446, 29449, 29459, 29481, 29505, 29506, 29519, 29527, 29533, 29551, 29581, 29584, 29611, 29636, 29645, 29718, 29737, 29739, 29751, 29753, 29755, 29758, 29761, 29764, 29765, 29766, 29767, 29768, 29816, 29817, 29828, 29833, 29880, 29956, 29966, 30022, 30046, 30062, 30071, 30075, 30085, 30136, 30233, 30240, 30283, 30311, 30353, 30354, 30362, 30363, 30364, 30375, 30383, 30389, 30393, 30396, 30400, 30406, 30428, 30431, 30436, 30437, 30456, 30478, 30482, 30501, 30502, 30504, 30505, 30514, 30521, 30522, 30562, 30566, 30567, 30570, 30572, 30589, 30621, 30638, 30694, 30707, 30848, 30911, 30953, 30981, 31022, 31068, 31103, 31234, 31238, 31239, 31248, 31255, 31307, 31326, 31327, 31328, 31329, 31330, 31357, 31373, 31381, 31392, 31439, 31453, 31454, 31474, 31487, 31502, 31504, 31505, 31555, 31666, 31686, 31688, 31698, 31726, 31739, 31743, 31759, 31762, 31779, 31781, 31782, 31783, 31784, 31786, 31789, 31793, 31796, 31799, 31822, 31826, 31834, 31872, 31942, 31947, 31953, 31959, 31992, 31995, 32010, 32012, 32051, 32054, 32116, 32147, 32149, 32152, 32165, 32177, 32178, 32179, 32209, 32212, 32238, 32273, 32294, 32300, 32318, 32324, 32326, 32327, 32328, 32329, 32332, 32340, 32357, 32372, 32406, 32480, 32494, 32503, 32511, 32528, 32597, 32619, 32633, 32649, 32656, 32658, 32666, 32669, 32680, 32684, 32690, 32698, 32750, 32802, 32818, 32824, 32827, 32844, 32860, 32887, 32889, 32923, 32960, 32961, 32973, 33004, 33042, 33065, 33066, 33087, 33098, 33112, 33114, 33115, 33188, 33191, 33192, 33193, 33237, 33248, 33271, 33301, 33340, 33346, 33365, 33369, 33396, 33405, 33418, 33442, 33443, 33444, 33456, 33501, 33513, 33543, 33592, 33624, 33625, 33636, 33652, 33661, 33668, 33843, 33848, 33867, 33900, 33930, 33966, 33968, 33969, 33975, 34002, 34133, 34135, 34137, 34195, 34219, 34246, 34257, 34285, 34287, 34289, 34292, 34297, 34298, 34300, 34301, 34302, 34361, 34374, 34387, 34389, 34394, 34408, 34421, 34433, 34438, 34441, 34444, 34452, 34456, 34458, 34462, 34487, 34494, 34503, 34524, 34590, 34634, 34635, 34643, 34668, 34669, 34672, 34673, 34687, 34749, 34751, 34786, 34872, 34880, 34882, 34893, 34898, 34943, 34945, 34950, 34951, 34952, 34957, 35016, 35041, 35058, 35087, 35088, 35152, 35158, 35166, 35170, 35189, 35190, 35191, 35198, 35199, 35202, 35209, 35212, 35227, 35248, 35274, 35325, 35334, 35338, 35350, 35354, 35367, 35368, 35371, 35376, 35405, 35420, 35426, 35462, 35465, 35499, 35518, 35526, 35588, 35600, 35641, 35665, 35681, 35692, 35711, 35739, 35743, 35753, 35764, 35788, 35794, 35819, 35821, 35826, 35834, 35839, 35844, 35860, 35863, 35870, 35873, 35877, 35885, 35887, 35890, 35893, 35908, 35912, 35967, 35996, 36004, 36005, 36019, 36020, 36023, 36042, 36045, 36051, 36080, 36085, 36091, 36104, 36112, 36122, 36131, 36136, 36161, 36162, 36166, 36187, 36204, 36218, 36219, 36237, 36272, 36307, 36332, 36364, 36378, 36386, 36399, 36401, 36413, 36432, 36446, 36475, 36476, 36480, 36481, 36483, 36490, 36495, 36500, 36516, 36518, 36535, 36540, 36541, 36543, 36552, 36563, 36573, 36578, 36584, 36585, 36586, 36587, 36588, 36589, 36590, 36591, 36592, 36593, 36594, 36595, 36596, 36597, 36604, 36623, 36624, 36627, 36630, 36632, 36636, 36638, 36644, 36652, 36654, 36655, 36656, 36658, 36659, 36665, 36668, 36670, 36672, 36673, 36689, 36691, 36696, 36698, 36700, 36716, 36738, 36740, 36748, 36749, 36753, 36761, 36764, 36776, 36778, 36787, 36791, 36794, 36796, 36804, 36806, 36822, 36823, 36826, 36839, 36844, 36845, 36849, 36850, 36851, 36853, 36875, 36890, 36900, 36909, 36916, 36918, 36920, 36922, 36931, 36933, 36935, 36948, 36950, 36952, 36955, 36959, 36961, 36963, 36966, 36973, 36975, 36982, 37002, 37003, 37019, 37022, 37024, 37036, 37037, 37071, 37086, 37090, 37101, 37129, 37140, 37149, 37157, 37163, 37168, 37175, 37176, 37178, 37182, 37186, 37190, 37203, 37209, 37211, 37216, 37225, 37242, 37300, 37312, 37329, 37336, 37346, 37350, 37352, 37353, 37354, 37355, 37358, 37360, 37361, 37363, 37396, 37399, 37405, 37406, 37408, 37409, 37410, 37413, 37418, 37423, 37424, 37429, 37430, 37436, 37437, 37438, 37439, 37440, 37442, 37443, 37444, 37445, 37446, 37447, 37448, 37449, 37450, 37451, 37452, 37454, 37455, 37467, 37469, 37472, 37501, 37503, 37505, 37532, 37554, 37560, 37563, 37565, 37581, 37594, 37599, 37602, 37612, 37637, 37645, 37654, 37656, 37659, 37668, 37675, 37676, 37722, 37750, 37751, 37754, 37755, 37765, 37794, 37805, 37808, 37809, 37812, 37821, 37822, 37829, 37873, 37882, 37915, 37917, 37918, 37919, 37920, 37925, 37926, 37929, 37930, 37955, 37958, 37975, 37981, 38007, 38022, 38031, 38032, 38043, 38056, 38057, 38067, 38078, 38085, 38088, 38095, 38126, 38128, 38164, 38194, 38198, 38212, 38214, 38215, 38236, 38261, 38277, 38288, 38289, 38323, 38326, 38336, 38340, 38341, 38342, 38346, 38348, 38349, 38350, 38351, 38352, 38358, 38360, 38364, 38378, 38379, 38381, 38383, 38384, 38388, 38402, 38403, 38407, 38409, 38415, 38424, 38437, 38438, 38447, 38448, 38449, 38450, 38452, 38459, 38460, 38465, 38478, 38479, 38481, 38486, 38487, 38499, 38524, 38525, 38529, 38555, 38580, 38585, 38598, 38631, 38671, 38674, 38707, 38708, 38712, 38713, 38718, 38719, 38721, 38723, 38724, 38736, 38747, 38862, 38863, 38871, 38876, 38877, 38881, 38883, 38887, 38888, 38894, 38897, 38915, 38917, 38933, 38938, 38997, 38998, 39000, 39001, 39028, 39042, 39089, 39106, 39115, 39165, 39232, 39270, 39273, 39276, 39287, 39316, 39331, 39334, 39354, 39355, 39381, 39387, 39397, 39399, 39442, 39453, 39454, 39466, 39513, 39525, 39531, 39536, 39537, 39551, 39552, 39566, 39577, 39583, 39615, 39617, 39633, 39640, 39641, 39688, 39712, 39727, 39738, 39742, 39743, 39744, 39747, 39748, 39749, 39751, 39752, 39756, 39758, 39759, 39760, 39787, 39788, 39812, 39820, 39876, 39877, 39912, 39915, 39953, 39990, 40022, 40024, 40028, 40042, 40077, 40084, 40091, 40093, 40106, 40108, 40135, 40141, 40143, 40191, 40192, 40199, 40208, 40214, 40215, 40226, 40258, 40263, 40330, 40364, 40371, 40374, 40380, 40405, 40406, 40423, 40435, 40436, 40441, 40442, 40445, 40465, 40467, 40472, 40478, 40516, 40521, 40527, 40533, 40537, 40538, 40546, 40557, 40558, 40560, 40574, 40588, 40615, 40627, 40629, 40700, 40717, 40751, 40752, 40753, 40758, 40778, 40780, 40784, 40788, 40899, 40932, 40949, 40959, 40982, 40983, 40991, 40993, 41023, 41058, 41063, 41080, 41115, 41125, 41137, 41162, 41182, 41195, 41196, 41199, 41204, 41205, 41240, 41249, 41251, 41267, 41293, 41319, 41347, 41370, 41399, 41410, 41414, 41437, 41438, 41439, 41448, 41453, 41460, 41470, 41519, 41537, 41538, 41559, 41561, 41570, 41587, 41598, 41611, 41613, 41629, 41630, 41633, 41636, 41637, 41640, 41654, 41655, 41667, 41671, 41672, 41673, 41693, 41729, 41730, 41732, 41733, 41734, 41741, 41742, 41756, 41768, 41771, 41781, 41803, 41808, 41815, 41848, 41850, 41856, 41857, 41860, 41862, 41872, 41875, 41877, 41879, 41880, 41884, 41885, 41888, 41889, 41890, 41892, 41893, 41904, 41906, 41908, 41916, 41971, 41985, 41990, 41991, 41995, 41997, 42015, 42040, 42043, 42055, 42058, 42073, 42110, 42111, 42122, 42172, 42174, 42188, 42201, 42208, 42219, 42224, 42274, 42275, 42279, 42285, 42286, 42303, 42309, 42318, 42344, 42345, 42368, 42374, 42375, 42382, 42385, 42409, 42419, 42429, 42448, 42449, 42463, 42470, 42486, 42500, 42508, 42509, 42518, 42579, 42580, 42584, 42599, 42603, 42667, 42696, 42703, 42710, 42711, 42719, 42769, 42785, 42825, 42841, 42867, 42870, 42878, 42898, 42906, 42909, 42921, 42923, 42925, 42946, 42951, 42967, 42969, 42970, 42971, 42996, 42999, 43000, 43001, 43032, 43034, 43056, 43058, 43077, 43078, 43084, 43087, 43088, 43096, 43100, 43107, 43130, 43172, 43198, 43203, 43205, 43221, 43247, 43254, 43262, 43281, 43282, 43310, 43315, 43316, 43324, 43334, 43341, 43351, 43367, 43387, 43426, 43431, 43436, 43437, 43452, 43462, 43510, 43513, 43521, 43533, 43550, 43551, 43552, 43553, 43559, 43592, 43603, 43630, 43660, 43662, 43691, 43703, 43718, 43744, 43758, 43759, 43767, 43779, 43780, 43809, 43875, 43933, 43946, 43949, 43951, 43959, 43972, 43985, 43995, 44005, 44023, 44024, 44036, 44040, 44051, 44058, 44059, 44069, 44108, 44133, 44147, 44161, 44162, 44307, 44317, 44325, 44343, 44359, 44360, 44375, 44380, 44391, 44392, 44400, 44412, 44413, 44423, 44425, 44445, 44505, 44540, 44586, 44593, 44617, 44619, 44623, 44625, 44646, 44657, 44662, 44664, 44665, 44672, 44674, 44675, 44679, 44682, 44693, 44695, 44702, 44707, 44709, 44710, 44711, 44712, 44713, 44714, 44715, 44716, 44717, 44718, 44720, 44723, 44731, 44733, 44734, 44735, 44736, 44738, 44742, 44743, 44745, 44750, 44752, 44754, 44755, 44762, 44763, 44790, 44806, 44809, 44810, 44811, 44827, 44839, 44841, 44843, 44867, 44868, 44916, 44923, 44924, 44962, 44964, 44971, 44981, 44985, 44988, 45010, 45012, 45017, 45019, 45031, 45043, 45048, 45049, 45055, 45067, 45079, 45080, 45096, 45097, 45102, 45107, 45108, 45125, 45126, 45136, 45141, 45145, 45158, 45164, 45169, 45170, 45199, 45218, 45236, 45280, 45292, 45306, 45319, 45321, 45337, 45348, 45369, 45388, 45395, 45396, 45397, 45398, 45429, 45441, 45442, 45447, 45452, 45458, 45462, 45475]\n",
            "INDEX2:  [189, 614, 635, 661, 711, 863, 1107, 1272, 1393, 1405, 1461, 1489, 1626, 1628, 1632, 1634, 1691, 2371, 2425, 2967, 3108, 3460, 3757, 3763, 3945, 4187, 4329, 4333, 4630, 5186, 5485, 5619, 5767, 5879, 6056, 6115, 6588, 6609, 6617, 6790, 6992, 7143, 7198, 7273, 8213, 8233, 8248, 8292, 9167, 9298, 9783, 9830, 10243, 10865, 11288, 11391, 11945, 12253, 12338, 13051, 13169, 13170, 13226, 13235, 13505, 13592, 13599, 13623, 13660, 13756, 13759, 13913, 13945, 14067, 14409, 14454, 14536, 14545, 14615, 14691, 14695, 14751, 14801, 15035, 15037, 15082, 15249, 15263, 15316, 15376, 15442, 15529, 15619, 15772, 15791, 15857, 15877, 15970, 16429, 16605, 16608, 16617, 16662, 16836, 16837, 16841, 16904, 16915, 16953, 17104, 17202, 17226, 17325, 17331, 17382, 17423, 17427, 17458, 17462, 17503, 17574, 17658, 17684, 17685, 17837, 18036, 18038, 18074, 18362, 18440, 18510, 18572, 18580, 18592, 18616, 18633, 18672, 18710, 18747, 18750, 18805, 18868, 18940, 19033, 19107, 19118, 19184, 19193, 19233, 19313, 19322, 19351, 19366, 19368, 19373, 19413, 19415, 19449, 19472, 19517, 19541, 19542, 19545, 19645, 19692, 19702, 19713, 19745, 19839, 20158, 20165, 20175, 20300, 20314, 20349, 20432, 20460, 20483, 20503, 20588, 20626, 20630, 20710, 20742, 20777, 20836, 20892, 21002, 21029, 21092, 21166, 21183, 21239, 21249, 21252, 21390, 21391, 21422, 21447, 21483, 21632, 21635, 21641, 21677, 21707, 21775, 21945, 22018, 22197, 22320, 22341, 22375, 22376, 22395, 22400, 22408, 22423, 22490, 22566, 22684, 22689, 22691, 22797, 23004, 23094, 23127, 23241, 23322, 23365, 23402, 23403, 23428, 23828, 23936, 24017, 24024, 24156, 24327, 24329, 24409, 24602, 24721, 24999, 25035, 25189, 25194, 25215, 25347, 25449, 25523, 25803, 25875, 25996, 26004, 26257, 26337, 26733, 26743, 26808, 26908, 27076, 27260, 27319, 27512, 27546, 27563, 27581, 27602, 27692, 27695, 27804, 27810, 27811, 27899, 27953, 28018, 28145, 28260, 28294, 28312, 28689, 28699, 28734, 28762, 28764, 28853, 28977, 28998, 29021, 29054, 29152, 29213, 29308, 29322, 29326, 29433, 29527, 29584, 29645, 29696, 29716, 29718, 29745, 29751, 29768, 29918, 30022, 30133, 30136, 30212, 30240, 30273, 30355, 30375, 30387, 30406, 30431, 30522, 30566, 30589, 30659, 30694, 30736, 30756, 30767, 30869, 30913, 30953, 31019, 31020, 31033, 31044, 31068, 31091, 31136, 31159, 31239, 31255, 31269, 31279, 31373, 31375, 31439, 31449, 31451, 31474, 31490, 31555, 31616, 31666, 31686, 31713, 31732, 31739, 31743, 31872, 31959, 31995, 32015, 32038, 32053, 32149, 32152, 32209, 32235, 32237, 32273, 32277, 32286, 32294, 32300, 32311, 32335, 32340, 32352, 32406, 32480, 32509, 32690, 32819, 32825, 33112, 33430, 33443, 33620, 33670, 33733, 33765, 33900, 34014, 34133, 34282, 34283, 34284, 34285, 34287, 34291, 34292, 34294, 34297, 34298, 34300, 34301, 34302, 34326, 34331, 34339, 34361, 34364, 34374, 34387, 34389, 34421, 34430, 34432, 34433, 34436, 34438, 34441, 34444, 34452, 34462, 34640, 34677, 34687, 34782, 34786, 34790, 34841, 34886, 34969, 35045, 35081, 35088, 35094, 35127, 35152, 35199, 35200, 35300, 35325, 35326, 35333, 35338, 35356, 35358, 35407, 35465, 35490, 35548, 35549, 35587, 35641, 35669, 35671, 35692, 35739, 35784, 35840, 35885, 35890, 35893, 36016, 36052, 36104, 36112, 36131, 36204, 36206, 36218, 36223, 36232, 36300, 36364, 36378, 36399, 36415, 36432, 36446, 36458, 36480, 36483, 36484, 36490, 36523, 36534, 36535, 36536, 36540, 36541, 36543, 36573, 36578, 36579, 36580, 36583, 36584, 36590, 36592, 36594, 36623, 36624, 36629, 36631, 36695, 36716, 36764, 36793, 36804, 36839, 36844, 36871, 36875, 36889, 36909, 36959, 36966, 36981, 36985, 36997, 37053, 37101, 37116, 37129, 37133, 37162, 37225, 37249, 37252, 37279, 37296, 37300, 37472, 37503, 37565, 37626, 37654, 37668, 37676, 37751, 37765, 37794, 37808, 37870, 38042, 38164, 38172, 38194, 38253, 38340, 38349, 38364, 38381, 38388, 38409, 38447, 38468, 38500, 38528, 38544, 38555, 38571, 38580, 38613, 38674, 38688, 38707, 38758, 38840, 38876, 38883, 38898, 38904, 38921, 38938, 39176, 39292, 39331, 39334, 39350, 39386, 39439, 39525, 39551, 39688, 39702, 39738, 39742, 39743, 39744, 39747, 39751, 39752, 39756, 39758, 39759, 39760, 39881, 39911, 39912, 39982, 40076, 40093, 40135, 40152, 40154, 40159, 40192, 40214, 40215, 40277, 40364, 40405, 40416, 40423, 40435, 40465, 40478, 40484, 40560, 40587, 40628, 40629, 40788, 40804, 40894, 40927, 40991, 41031, 41032, 41086, 41168, 41204, 41217, 41370, 41381, 41410, 41414, 41495, 41523, 41540, 41552, 41563, 41629, 41630, 41636, 41637, 41647, 41729, 41730, 41742, 41771, 41797, 41803, 41816, 41835, 41856, 41857, 41892, 41991, 41997, 42004, 42156, 42189, 42201, 42240, 42269, 42273, 42318, 42335, 42374, 42375, 42381, 42401, 42426, 42429, 42580, 42584, 42603, 42679, 42687, 42693, 42719, 42745, 42766, 42769, 42778, 42794, 42809, 42858, 42865, 42928, 42951, 42969, 42970, 43034, 43084, 43093, 43179, 43246, 43436, 43437, 43439, 43440, 43452, 43492, 43533, 43548, 43551, 43691, 43732, 43753, 43759, 43767, 43779, 43780, 43799, 43809, 43826, 43860, 43875, 43911, 43923, 43931, 43933, 43951, 43959, 43972, 43973, 44040, 44058, 44059, 44101, 44107, 44108, 44161, 44162, 44317, 44341, 44387, 44423, 44426, 44433, 44504, 44585, 44602, 44633, 44702, 44710, 44711, 44718, 44733, 44744, 44763, 44794, 44871, 44981, 44988, 45076, 45077, 45080, 45086, 45096, 45131, 45158, 45170, 45236, 45261, 45277, 45348, 45371]\n"
          ]
        }
      ],
      "source": [
        "# Checking columns data type consistency ([{......}]) \n",
        "\n",
        "#This function checks if each field has list data type and its content has dict data type. Also checks if the list is empty\n",
        "def checking_fields (x):\n",
        "    if (isinstance(x, list)):\n",
        "        if(len(x) == 0):\n",
        "            return False\n",
        "        elif (isinstance(x[0], dict)):\n",
        "            return True\n",
        "        else:\n",
        "            return False\n",
        "    else:\n",
        "        return False\n",
        "\n",
        "credits1 = df_credits['cast'].progress_apply(lambda x: checking_fields(x))\n",
        "credits2 = df_credits['crew'].progress_apply(lambda x: checking_fields(x))\n",
        "\n",
        "#Setting up....\n",
        "count1 = 0\n",
        "count2 = 0\n",
        "#Setting up....\n",
        "index1 = []\n",
        "index2 = []\n",
        "\n",
        "#Looping...\n",
        "for n in range(len(df_credits)):\n",
        "    if (credits1[n] == False):\n",
        "       count1 +=1\n",
        "       index1.append(n)\n",
        "    if (credits2[n] == False):\n",
        "        count2 +=1\n",
        "        index2.append(n)\n",
        "   \n",
        "#Displaying the results for exploration purposes\n",
        "print(count1, count2)\n",
        "print(\"INDEX1: \", index1)\n",
        "print(\"INDEX2: \", index2)\n",
        "\n"
      ]
    },
    {
      "cell_type": "code",
      "execution_count": 35,
      "metadata": {},
      "outputs": [
        {
          "name": "stdout",
          "output_type": "stream",
          "text": [
            "[]\n"
          ]
        }
      ],
      "source": [
        "print(df_credits['crew'][711])"
      ]
    },
    {
      "cell_type": "code",
      "execution_count": 36,
      "metadata": {},
      "outputs": [
        {
          "name": "stdout",
          "output_type": "stream",
          "text": [
            "[]\n"
          ]
        }
      ],
      "source": [
        "print(df_credits['cast'][661])"
      ]
    },
    {
      "cell_type": "code",
      "execution_count": 37,
      "metadata": {},
      "outputs": [],
      "source": [
        "#Void data dictionaries\n",
        "nuldict_cast = \"[{'credit_id': 'N/A', 'department': 'N/A', 'gender': 0, 'id': 0, 'job': 'N/A', 'name': 'N/A', 'profile_path': 'N/A'}]\"\n",
        "nuldict_crew = \"[{'cast_id': 0, 'character': 'N/A', 'credit_id': 'N/A', 'gender': 0, 'id': 0, 'name': 'N/A', 'order': 0, 'profile_path': 'N/A'}]\"\n",
        "\n",
        "# Replacing the ....\n",
        "for index in index1:\n",
        "    df_credits.loc[index, 'cast'] = [eval(nuldict_cast)]\n",
        "for index in index2:\n",
        "    df_credits.loc[index, 'crew'] = eval(nuldict_crew)\n"
      ]
    },
    {
      "cell_type": "code",
      "execution_count": 38,
      "metadata": {},
      "outputs": [
        {
          "data": {
            "application/vnd.jupyter.widget-view+json": {
              "model_id": "87c1cb0000c64d8cbe91c475160548ce",
              "version_major": 2,
              "version_minor": 0
            },
            "text/plain": [
              "  0%|          | 0/45476 [00:00<?, ?it/s]"
            ]
          },
          "metadata": {},
          "output_type": "display_data"
        },
        {
          "name": "stdout",
          "output_type": "stream",
          "text": [
            "0        [Tom Hanks, Tim Allen, Don Rickles, Jim Varney...\n",
            "1        [Robin Williams, Jonathan Hyde, Kirsten Dunst,...\n",
            "2        [Walter Matthau, Jack Lemmon, Ann-Margret, Sop...\n",
            "3        [Whitney Houston, Angela Bassett, Loretta Devi...\n",
            "4        [Steve Martin, Diane Keaton, Martin Short, Kim...\n",
            "                               ...                        \n",
            "45471          [Leila Hatami, Kourosh Tahami, Elham Korda]\n",
            "45472    [Angel Aquino, Perry Dizon, Hazel Orencio, Joe...\n",
            "45473    [Erika Eleniak, Adam Baldwin, Julie du Page, J...\n",
            "45474    [Iwan Mosschuchin, Nathalie Lissenko, Pavel Pa...\n",
            "45475                                                [N/A]\n",
            "Name: cast, Length: 45476, dtype: object\n"
          ]
        }
      ],
      "source": [
        "# 'CAST' COLUMN TRANSFORMATION\n",
        "\n",
        "#Extracting the dictionary values ... \n",
        "#cast_job = df_credits['cast'].progress_apply(lambda x: [d.get('job') for d in x])\n",
        "cast_names = df_credits['cast'].progress_apply(lambda x: [d.get('name') for d in x])\n",
        "#Displaying....\n",
        "print(cast_names)"
      ]
    },
    {
      "cell_type": "code",
      "execution_count": 39,
      "metadata": {},
      "outputs": [
        {
          "data": {
            "text/html": [
              "<div>\n",
              "<style scoped>\n",
              "    .dataframe tbody tr th:only-of-type {\n",
              "        vertical-align: middle;\n",
              "    }\n",
              "\n",
              "    .dataframe tbody tr th {\n",
              "        vertical-align: top;\n",
              "    }\n",
              "\n",
              "    .dataframe thead th {\n",
              "        text-align: right;\n",
              "    }\n",
              "</style>\n",
              "<table border=\"1\" class=\"dataframe\">\n",
              "  <thead>\n",
              "    <tr style=\"text-align: right;\">\n",
              "      <th></th>\n",
              "      <th>actors</th>\n",
              "    </tr>\n",
              "  </thead>\n",
              "  <tbody>\n",
              "    <tr>\n",
              "      <th>0</th>\n",
              "      <td>[Tom Hanks, Tim Allen, Don Rickles, Jim Varney...</td>\n",
              "    </tr>\n",
              "    <tr>\n",
              "      <th>1</th>\n",
              "      <td>[Robin Williams, Jonathan Hyde, Kirsten Dunst,...</td>\n",
              "    </tr>\n",
              "    <tr>\n",
              "      <th>2</th>\n",
              "      <td>[Walter Matthau, Jack Lemmon, Ann-Margret, Sop...</td>\n",
              "    </tr>\n",
              "    <tr>\n",
              "      <th>3</th>\n",
              "      <td>[Whitney Houston, Angela Bassett, Loretta Devi...</td>\n",
              "    </tr>\n",
              "    <tr>\n",
              "      <th>4</th>\n",
              "      <td>[Steve Martin, Diane Keaton, Martin Short, Kim...</td>\n",
              "    </tr>\n",
              "  </tbody>\n",
              "</table>\n",
              "</div>"
            ],
            "text/plain": [
              "                                              actors\n",
              "0  [Tom Hanks, Tim Allen, Don Rickles, Jim Varney...\n",
              "1  [Robin Williams, Jonathan Hyde, Kirsten Dunst,...\n",
              "2  [Walter Matthau, Jack Lemmon, Ann-Margret, Sop...\n",
              "3  [Whitney Houston, Angela Bassett, Loretta Devi...\n",
              "4  [Steve Martin, Diane Keaton, Martin Short, Kim..."
            ]
          },
          "execution_count": 39,
          "metadata": {},
          "output_type": "execute_result"
        }
      ],
      "source": [
        "# Converting Panda Series in a dataframe ....\n",
        "cast_names = cast_names.to_frame()\n",
        "cast_names.columns = ['actors']\n",
        "#Displaying the results\n",
        "cast_names.head()"
      ]
    },
    {
      "cell_type": "code",
      "execution_count": 40,
      "metadata": {},
      "outputs": [
        {
          "data": {
            "application/vnd.jupyter.widget-view+json": {
              "model_id": "ad1397c77fa84f8c87d783dbf46b8742",
              "version_major": 2,
              "version_minor": 0
            },
            "text/plain": [
              "  0%|          | 0/45476 [00:00<?, ?it/s]"
            ]
          },
          "metadata": {},
          "output_type": "display_data"
        },
        {
          "name": "stdout",
          "output_type": "stream",
          "text": [
            "0\n",
            "INDEX:  []\n"
          ]
        }
      ],
      "source": [
        "## Checking if each cell has string datatype\n",
        "is_actor = cast_names['actors'].progress_apply(lambda x: isinstance(x, list))\n",
        "\n",
        "# Setting up wrong data type ocurrence counters\n",
        "count = 0\n",
        "#Setting up record indexes list where a wrong data type ocurrence has ocurred\n",
        "index = []\n",
        "\n",
        "#Looping into  variables and filling the count and index variables according its state\n",
        "for n in range(len(cast_names)):\n",
        "    if (is_actor[n] == False):\n",
        "       count +=1\n",
        "       index.append(n)\n",
        "    \n",
        "#Displaying the results for exploration purposes\n",
        "print(count)\n",
        "print(\"INDEX: \", index)\n"
      ]
    },
    {
      "cell_type": "code",
      "execution_count": 41,
      "metadata": {},
      "outputs": [
        {
          "name": "stdout",
          "output_type": "stream",
          "text": [
            "['Tom Hanks', 'Tim Allen', 'Don Rickles', 'Jim Varney', 'Wallace Shawn', 'John Ratzenberger', 'Annie Potts', 'John Morris', 'Erik von Detten', 'Laurie Metcalf', 'R. Lee Ermey', 'Sarah Freeman', 'Penn Jillette']\n"
          ]
        }
      ],
      "source": [
        "print(cast_names['actors'][0])"
      ]
    },
    {
      "cell_type": "code",
      "execution_count": 42,
      "metadata": {},
      "outputs": [
        {
          "data": {
            "application/vnd.jupyter.widget-view+json": {
              "model_id": "363b11dc820444eeaadd448eeb3a7b61",
              "version_major": 2,
              "version_minor": 0
            },
            "text/plain": [
              "  0%|          | 0/45476 [00:00<?, ?it/s]"
            ]
          },
          "metadata": {},
          "output_type": "display_data"
        },
        {
          "data": {
            "text/plain": [
              "0      John Lasseter\n",
              "1       Joe Johnston\n",
              "2      Howard Deutch\n",
              "3    Forest Whitaker\n",
              "4      Charles Shyer\n",
              "Name: crew, dtype: object"
            ]
          },
          "execution_count": 42,
          "metadata": {},
          "output_type": "execute_result"
        }
      ],
      "source": [
        "# 'CREW' COLUMN TRANSFORMATION\n",
        "# Finding directors based upon the job\n",
        "def get_Directors(x):\n",
        "    for d in x:\n",
        "        if (d.get('job') == 'Director'):\n",
        "            return(d.get('name'))\n",
        "\n",
        "#Extracting dictionary values according....... \n",
        "crew_director = df_credits['crew'].progress_apply(lambda x: get_Directors(x))\n",
        "#Displaying the results\n",
        "crew_director.head()"
      ]
    },
    {
      "cell_type": "code",
      "execution_count": 43,
      "metadata": {},
      "outputs": [
        {
          "data": {
            "text/html": [
              "<div>\n",
              "<style scoped>\n",
              "    .dataframe tbody tr th:only-of-type {\n",
              "        vertical-align: middle;\n",
              "    }\n",
              "\n",
              "    .dataframe tbody tr th {\n",
              "        vertical-align: top;\n",
              "    }\n",
              "\n",
              "    .dataframe thead th {\n",
              "        text-align: right;\n",
              "    }\n",
              "</style>\n",
              "<table border=\"1\" class=\"dataframe\">\n",
              "  <thead>\n",
              "    <tr style=\"text-align: right;\">\n",
              "      <th></th>\n",
              "      <th>director</th>\n",
              "    </tr>\n",
              "  </thead>\n",
              "  <tbody>\n",
              "    <tr>\n",
              "      <th>0</th>\n",
              "      <td>John Lasseter</td>\n",
              "    </tr>\n",
              "    <tr>\n",
              "      <th>1</th>\n",
              "      <td>Joe Johnston</td>\n",
              "    </tr>\n",
              "    <tr>\n",
              "      <th>2</th>\n",
              "      <td>Howard Deutch</td>\n",
              "    </tr>\n",
              "    <tr>\n",
              "      <th>3</th>\n",
              "      <td>Forest Whitaker</td>\n",
              "    </tr>\n",
              "    <tr>\n",
              "      <th>4</th>\n",
              "      <td>Charles Shyer</td>\n",
              "    </tr>\n",
              "  </tbody>\n",
              "</table>\n",
              "</div>"
            ],
            "text/plain": [
              "          director\n",
              "0    John Lasseter\n",
              "1     Joe Johnston\n",
              "2    Howard Deutch\n",
              "3  Forest Whitaker\n",
              "4    Charles Shyer"
            ]
          },
          "execution_count": 43,
          "metadata": {},
          "output_type": "execute_result"
        }
      ],
      "source": [
        "# Converting Panda Series in a dataframe ....\n",
        "crew_director = crew_director.to_frame()\n",
        "crew_director.columns = ['director']\n",
        "#Displaying the results\n",
        "crew_director.head()\n"
      ]
    },
    {
      "cell_type": "code",
      "execution_count": 44,
      "metadata": {},
      "outputs": [
        {
          "data": {
            "application/vnd.jupyter.widget-view+json": {
              "model_id": "85b10602c92c4edcb80e6bbc2f28518a",
              "version_major": 2,
              "version_minor": 0
            },
            "text/plain": [
              "  0%|          | 0/45476 [00:00<?, ?it/s]"
            ]
          },
          "metadata": {},
          "output_type": "display_data"
        },
        {
          "name": "stdout",
          "output_type": "stream",
          "text": [
            "887\n",
            "INDEX:  [189, 614, 635, 661, 711, 863, 1107, 1272, 1393, 1405, 1461, 1489, 1492, 1626, 1628, 1632, 1634, 1691, 2371, 2425, 2967, 3108, 3460, 3757, 3763, 3945, 4187, 4329, 4333, 4630, 5186, 5479, 5485, 5619, 5767, 5879, 6056, 6115, 6588, 6609, 6617, 6790, 6992, 7143, 7198, 7273, 7777, 8213, 8233, 8248, 8292, 9149, 9167, 9298, 9783, 9830, 10243, 10542, 10865, 11288, 11391, 11945, 12253, 12338, 13051, 13169, 13170, 13226, 13235, 13346, 13505, 13592, 13599, 13623, 13660, 13756, 13759, 13871, 13913, 13945, 14067, 14409, 14454, 14536, 14545, 14615, 14691, 14695, 14751, 14801, 15035, 15037, 15082, 15249, 15263, 15316, 15376, 15442, 15529, 15619, 15772, 15791, 15857, 15877, 15954, 15970, 16429, 16605, 16608, 16617, 16662, 16836, 16837, 16841, 16904, 16915, 16953, 17019, 17104, 17202, 17226, 17325, 17331, 17382, 17423, 17427, 17458, 17462, 17503, 17574, 17658, 17684, 17685, 17837, 18036, 18038, 18074, 18107, 18286, 18290, 18362, 18440, 18510, 18572, 18580, 18592, 18616, 18633, 18672, 18710, 18747, 18750, 18805, 18868, 18940, 18960, 19033, 19107, 19115, 19118, 19131, 19184, 19193, 19196, 19201, 19231, 19233, 19242, 19313, 19322, 19351, 19366, 19368, 19373, 19413, 19415, 19417, 19449, 19472, 19517, 19541, 19542, 19545, 19645, 19692, 19702, 19713, 19745, 19839, 19848, 19998, 20158, 20165, 20175, 20180, 20298, 20300, 20314, 20349, 20432, 20460, 20483, 20503, 20588, 20626, 20630, 20710, 20742, 20777, 20836, 20892, 21002, 21029, 21092, 21166, 21183, 21239, 21249, 21252, 21390, 21391, 21422, 21447, 21483, 21632, 21635, 21641, 21677, 21707, 21775, 21796, 21945, 22018, 22197, 22320, 22341, 22375, 22376, 22395, 22400, 22408, 22423, 22490, 22500, 22566, 22684, 22689, 22691, 22797, 22990, 23004, 23094, 23127, 23241, 23322, 23365, 23402, 23403, 23428, 23581, 23585, 23828, 23936, 24017, 24024, 24113, 24156, 24327, 24329, 24399, 24409, 24602, 24721, 24738, 24999, 25035, 25184, 25189, 25194, 25215, 25257, 25347, 25412, 25449, 25510, 25523, 25541, 25803, 25875, 25996, 26004, 26105, 26257, 26337, 26733, 26743, 26808, 26908, 27076, 27232, 27260, 27319, 27497, 27512, 27533, 27546, 27563, 27581, 27602, 27692, 27695, 27804, 27810, 27811, 27899, 27953, 28018, 28145, 28260, 28294, 28312, 28511, 28689, 28699, 28734, 28762, 28764, 28853, 28977, 28998, 29021, 29054, 29152, 29213, 29231, 29232, 29308, 29320, 29322, 29326, 29408, 29428, 29433, 29527, 29584, 29645, 29696, 29698, 29716, 29718, 29744, 29745, 29751, 29768, 29918, 30022, 30133, 30136, 30181, 30212, 30240, 30273, 30355, 30375, 30387, 30406, 30431, 30522, 30566, 30589, 30624, 30659, 30694, 30736, 30756, 30767, 30869, 30913, 30953, 30986, 31019, 31020, 31033, 31044, 31068, 31086, 31091, 31136, 31159, 31239, 31255, 31269, 31279, 31373, 31375, 31439, 31449, 31451, 31474, 31490, 31555, 31616, 31666, 31686, 31713, 31732, 31739, 31743, 31872, 31959, 31995, 32015, 32038, 32053, 32149, 32152, 32209, 32235, 32237, 32273, 32277, 32286, 32294, 32300, 32311, 32335, 32340, 32352, 32406, 32480, 32509, 32690, 32819, 32825, 33112, 33113, 33191, 33430, 33443, 33620, 33670, 33733, 33765, 33900, 33972, 34014, 34032, 34133, 34282, 34283, 34284, 34285, 34287, 34291, 34292, 34294, 34297, 34298, 34300, 34301, 34302, 34326, 34331, 34339, 34361, 34364, 34374, 34387, 34389, 34421, 34423, 34430, 34432, 34433, 34436, 34438, 34441, 34444, 34452, 34462, 34640, 34677, 34687, 34758, 34782, 34786, 34790, 34841, 34886, 34969, 35045, 35081, 35088, 35094, 35103, 35127, 35152, 35199, 35200, 35300, 35325, 35326, 35333, 35338, 35356, 35358, 35363, 35407, 35465, 35490, 35548, 35549, 35550, 35587, 35641, 35669, 35671, 35692, 35735, 35739, 35784, 35840, 35885, 35890, 35893, 36016, 36052, 36084, 36104, 36112, 36131, 36204, 36206, 36218, 36223, 36232, 36300, 36364, 36378, 36399, 36415, 36432, 36446, 36458, 36469, 36479, 36480, 36483, 36484, 36490, 36523, 36534, 36535, 36536, 36540, 36541, 36543, 36561, 36573, 36578, 36579, 36580, 36583, 36584, 36590, 36592, 36593, 36594, 36623, 36624, 36629, 36631, 36695, 36716, 36764, 36793, 36804, 36836, 36839, 36844, 36871, 36875, 36886, 36889, 36909, 36959, 36966, 36981, 36985, 36997, 37053, 37101, 37116, 37129, 37133, 37162, 37220, 37225, 37236, 37249, 37252, 37279, 37296, 37300, 37472, 37503, 37565, 37626, 37642, 37654, 37668, 37676, 37751, 37765, 37794, 37808, 37870, 38042, 38153, 38164, 38172, 38179, 38194, 38253, 38340, 38349, 38364, 38368, 38381, 38388, 38409, 38447, 38468, 38500, 38528, 38544, 38555, 38571, 38580, 38613, 38674, 38688, 38707, 38727, 38752, 38758, 38762, 38840, 38876, 38883, 38898, 38904, 38921, 38938, 39018, 39176, 39292, 39331, 39334, 39350, 39386, 39439, 39501, 39525, 39549, 39551, 39603, 39688, 39702, 39738, 39742, 39743, 39744, 39747, 39751, 39752, 39756, 39758, 39759, 39760, 39871, 39881, 39911, 39912, 39982, 40055, 40076, 40093, 40135, 40152, 40154, 40159, 40192, 40214, 40215, 40277, 40364, 40405, 40416, 40423, 40435, 40465, 40478, 40484, 40560, 40587, 40628, 40629, 40788, 40804, 40880, 40894, 40927, 40977, 40991, 41031, 41032, 41080, 41086, 41149, 41157, 41168, 41204, 41217, 41239, 41259, 41370, 41381, 41410, 41414, 41495, 41523, 41540, 41552, 41563, 41629, 41630, 41636, 41637, 41647, 41729, 41730, 41742, 41771, 41797, 41803, 41816, 41835, 41856, 41857, 41892, 41991, 41997, 42004, 42156, 42189, 42201, 42240, 42269, 42273, 42318, 42335, 42374, 42375, 42381, 42401, 42426, 42429, 42580, 42584, 42603, 42679, 42687, 42693, 42719, 42730, 42740, 42742, 42745, 42759, 42766, 42769, 42778, 42781, 42794, 42809, 42858, 42865, 42870, 42928, 42951, 42969, 42970, 43034, 43084, 43093, 43100, 43179, 43190, 43246, 43330, 43436, 43437, 43439, 43440, 43441, 43452, 43492, 43501, 43533, 43548, 43551, 43598, 43605, 43628, 43691, 43732, 43753, 43759, 43767, 43779, 43780, 43799, 43809, 43826, 43860, 43875, 43911, 43913, 43923, 43931, 43932, 43933, 43951, 43959, 43972, 43973, 44036, 44040, 44058, 44059, 44075, 44101, 44107, 44108, 44161, 44162, 44317, 44341, 44387, 44423, 44426, 44433, 44504, 44585, 44602, 44633, 44674, 44702, 44710, 44711, 44718, 44720, 44733, 44744, 44763, 44794, 44808, 44871, 44981, 44988, 45064, 45076, 45077, 45080, 45086, 45092, 45096, 45131, 45158, 45170, 45209, 45236, 45261, 45277, 45348, 45371]\n"
          ]
        }
      ],
      "source": [
        "## Checking if each cell has string datatype\n",
        "is_director = crew_director['director'].progress_apply(lambda x: isinstance(x, str))\n",
        "\n",
        "# Setting up wrong data type ocurrence counters\n",
        "count = 0\n",
        "#Setting up record indexes list where a wrong data type ocurrence has ocurred\n",
        "index = []\n",
        "\n",
        "#Looping into  variables and filling the count and index variables according its state\n",
        "for n in range(len(crew_director)):\n",
        "    if (is_director[n] == False):\n",
        "       count +=1\n",
        "       index.append(n)\n",
        "    \n",
        "#Displaying the results for exploration purposes\n",
        "print(count)\n",
        "print(\"INDEX: \", index)\n"
      ]
    },
    {
      "cell_type": "code",
      "execution_count": 45,
      "metadata": {},
      "outputs": [
        {
          "name": "stdout",
          "output_type": "stream",
          "text": [
            "None None None\n",
            "<class 'NoneType'>\n"
          ]
        }
      ],
      "source": [
        "#Oops! Checking some cells with ill-behaved content\n",
        "print(crew_director['director'][189],crew_director['director'][614], crew_director['director'][2371] )\n",
        "print(type(crew_director['director'][189]))"
      ]
    },
    {
      "cell_type": "code",
      "execution_count": 46,
      "metadata": {},
      "outputs": [],
      "source": [
        "# Managing nulls from 'overview' column\n",
        "\n"
      ]
    },
    {
      "attachments": {},
      "cell_type": "markdown",
      "metadata": {},
      "source": [
        "# Requirement #2\n",
        "Null values found at 'revenue' & 'budget' columns must be replaced by 0."
      ]
    },
    {
      "cell_type": "code",
      "execution_count": 47,
      "metadata": {},
      "outputs": [],
      "source": [
        "df_movies['revenue'].fillna(0, inplace=True)\n",
        "df_movies['budget'].fillna(0, inplace=True)"
      ]
    },
    {
      "attachments": {},
      "cell_type": "markdown",
      "metadata": {},
      "source": [
        "# Requirement #3\n",
        "Los valores nulos del campo release date deben eliminarse.\n",
        "Null values found at 'release date' column must be cleared."
      ]
    },
    {
      "cell_type": "code",
      "execution_count": 48,
      "metadata": {},
      "outputs": [
        {
          "name": "stdout",
          "output_type": "stream",
          "text": [
            "<class 'float'>\n"
          ]
        },
        {
          "data": {
            "text/html": [
              "<div>\n",
              "<style scoped>\n",
              "    .dataframe tbody tr th:only-of-type {\n",
              "        vertical-align: middle;\n",
              "    }\n",
              "\n",
              "    .dataframe tbody tr th {\n",
              "        vertical-align: top;\n",
              "    }\n",
              "\n",
              "    .dataframe thead th {\n",
              "        text-align: right;\n",
              "    }\n",
              "</style>\n",
              "<table border=\"1\" class=\"dataframe\">\n",
              "  <thead>\n",
              "    <tr style=\"text-align: right;\">\n",
              "      <th></th>\n",
              "      <th>adult</th>\n",
              "      <th>belongs_to_collection</th>\n",
              "      <th>budget</th>\n",
              "      <th>genres</th>\n",
              "      <th>homepage</th>\n",
              "      <th>id</th>\n",
              "      <th>imdb_id</th>\n",
              "      <th>original_language</th>\n",
              "      <th>original_title</th>\n",
              "      <th>overview</th>\n",
              "      <th>popularity</th>\n",
              "      <th>poster_path</th>\n",
              "      <th>production_companies</th>\n",
              "      <th>production_countries</th>\n",
              "      <th>release_date</th>\n",
              "      <th>revenue</th>\n",
              "      <th>runtime</th>\n",
              "      <th>spoken_languages</th>\n",
              "      <th>status</th>\n",
              "      <th>tagline</th>\n",
              "      <th>title</th>\n",
              "      <th>video</th>\n",
              "      <th>vote_average</th>\n",
              "      <th>vote_count</th>\n",
              "    </tr>\n",
              "  </thead>\n",
              "  <tbody>\n",
              "    <tr>\n",
              "      <th>711</th>\n",
              "      <td>False</td>\n",
              "      <td>[{'id': 0, 'name': 'N/A', 'poster_path': 'N/A'...</td>\n",
              "      <td>0</td>\n",
              "      <td>[{'id': 0, 'name': 'N/A'}]</td>\n",
              "      <td>NaN</td>\n",
              "      <td>365371</td>\n",
              "      <td>tt0114894</td>\n",
              "      <td>en</td>\n",
              "      <td>War Stories Our Mother Never Told Us</td>\n",
              "      <td>Seven New Zealand women speak about their live...</td>\n",
              "      <td>0.005625</td>\n",
              "      <td>NaN</td>\n",
              "      <td>[{'name': 'N/A', 'id': 0}]</td>\n",
              "      <td>[{'iso_3166_1': 'N/A', 'name': 'N/A'}]</td>\n",
              "      <td>NaN</td>\n",
              "      <td>0.0</td>\n",
              "      <td>95.0</td>\n",
              "      <td>[{'iso_639_1': 'N/A', 'name': 'N/A'}]</td>\n",
              "      <td>Released</td>\n",
              "      <td>NaN</td>\n",
              "      <td>War Stories Our Mother Never Told Us</td>\n",
              "      <td>False</td>\n",
              "      <td>0.0</td>\n",
              "      <td>0.0</td>\n",
              "    </tr>\n",
              "    <tr>\n",
              "      <th>734</th>\n",
              "      <td>False</td>\n",
              "      <td>[{'id': 0, 'name': 'N/A', 'poster_path': 'N/A'...</td>\n",
              "      <td>0</td>\n",
              "      <td>[{'id': 0, 'name': 'N/A'}]</td>\n",
              "      <td>NaN</td>\n",
              "      <td>215107</td>\n",
              "      <td>tt0105737</td>\n",
              "      <td>en</td>\n",
              "      <td>Vermont Is for Lovers</td>\n",
              "      <td>Vermont is for Lovers is an independently prod...</td>\n",
              "      <td>0.75</td>\n",
              "      <td>NaN</td>\n",
              "      <td>[{'name': 'N/A', 'id': 0}]</td>\n",
              "      <td>[{'iso_3166_1': 'N/A', 'name': 'N/A'}]</td>\n",
              "      <td>NaN</td>\n",
              "      <td>0.0</td>\n",
              "      <td>88.0</td>\n",
              "      <td>[{'iso_639_1': 'N/A', 'name': 'N/A'}]</td>\n",
              "      <td>Released</td>\n",
              "      <td>NaN</td>\n",
              "      <td>Vermont Is for Lovers</td>\n",
              "      <td>False</td>\n",
              "      <td>0.0</td>\n",
              "      <td>0.0</td>\n",
              "    </tr>\n",
              "    <tr>\n",
              "      <th>3460</th>\n",
              "      <td>False</td>\n",
              "      <td>[{'id': 0, 'name': 'N/A', 'poster_path': 'N/A'...</td>\n",
              "      <td>0</td>\n",
              "      <td>[{'id': 18, 'name': 'Drama'}]</td>\n",
              "      <td>NaN</td>\n",
              "      <td>94214</td>\n",
              "      <td>tt0210130</td>\n",
              "      <td>en</td>\n",
              "      <td>Jails, Hospitals &amp; Hip-Hop</td>\n",
              "      <td>Jails, Hospitals &amp;amp; Hip-Hop is a cinematic ...</td>\n",
              "      <td>0.009057</td>\n",
              "      <td>NaN</td>\n",
              "      <td>[{'name': 'N/A', 'id': 0}]</td>\n",
              "      <td>[{'iso_3166_1': 'N/A', 'name': 'N/A'}]</td>\n",
              "      <td>NaN</td>\n",
              "      <td>10.0</td>\n",
              "      <td>90.0</td>\n",
              "      <td>[{'iso_639_1': 'N/A', 'name': 'N/A'}]</td>\n",
              "      <td>NaN</td>\n",
              "      <td>three worlds / two million voices / one genera...</td>\n",
              "      <td>Jails, Hospitals &amp; Hip-Hop</td>\n",
              "      <td>False</td>\n",
              "      <td>0.0</td>\n",
              "      <td>0.0</td>\n",
              "    </tr>\n",
              "    <tr>\n",
              "      <th>3628</th>\n",
              "      <td>False</td>\n",
              "      <td>[{'id': 0, 'name': 'N/A', 'poster_path': 'N/A'...</td>\n",
              "      <td>0</td>\n",
              "      <td>[{'id': 0, 'name': 'N/A'}]</td>\n",
              "      <td>NaN</td>\n",
              "      <td>207731</td>\n",
              "      <td>tt0217287</td>\n",
              "      <td>en</td>\n",
              "      <td>Boricua's Bond</td>\n",
              "      <td>Tommy, a talented Puerto Rican painter living ...</td>\n",
              "      <td>0.035352</td>\n",
              "      <td>NaN</td>\n",
              "      <td>[{'name': 'N/A', 'id': 0}]</td>\n",
              "      <td>[{'iso_3166_1': 'N/A', 'name': 'N/A'}]</td>\n",
              "      <td>NaN</td>\n",
              "      <td>0.0</td>\n",
              "      <td>105.0</td>\n",
              "      <td>[{'iso_639_1': 'N/A', 'name': 'N/A'}]</td>\n",
              "      <td>Released</td>\n",
              "      <td>NaN</td>\n",
              "      <td>Boricua's Bond</td>\n",
              "      <td>False</td>\n",
              "      <td>2.0</td>\n",
              "      <td>1.0</td>\n",
              "    </tr>\n",
              "    <tr>\n",
              "      <th>5879</th>\n",
              "      <td>False</td>\n",
              "      <td>[{'id': 0, 'name': 'N/A', 'poster_path': 'N/A'...</td>\n",
              "      <td>0</td>\n",
              "      <td>[{'id': 18, 'name': 'Drama'}, {'id': 10749, 'n...</td>\n",
              "      <td>NaN</td>\n",
              "      <td>99885</td>\n",
              "      <td>tt0979876</td>\n",
              "      <td>en</td>\n",
              "      <td>Divine Intervention</td>\n",
              "      <td>Four friends fight an insane man's crusade to ...</td>\n",
              "      <td>0.001181</td>\n",
              "      <td>/iXZ6bn4G3nzGChawX9PLLnjMTqI.jpg</td>\n",
              "      <td>[{'name': 'N/A', 'id': 0}]</td>\n",
              "      <td>[{'iso_3166_1': 'N/A', 'name': 'N/A'}]</td>\n",
              "      <td>NaN</td>\n",
              "      <td>0.0</td>\n",
              "      <td>87.0</td>\n",
              "      <td>[{'iso_639_1': 'N/A', 'name': 'N/A'}]</td>\n",
              "      <td>Released</td>\n",
              "      <td>His Judgement Cometh...</td>\n",
              "      <td>Divine Intervention</td>\n",
              "      <td>False</td>\n",
              "      <td>0.0</td>\n",
              "      <td>0.0</td>\n",
              "    </tr>\n",
              "    <tr>\n",
              "      <th>...</th>\n",
              "      <td>...</td>\n",
              "      <td>...</td>\n",
              "      <td>...</td>\n",
              "      <td>...</td>\n",
              "      <td>...</td>\n",
              "      <td>...</td>\n",
              "      <td>...</td>\n",
              "      <td>...</td>\n",
              "      <td>...</td>\n",
              "      <td>...</td>\n",
              "      <td>...</td>\n",
              "      <td>...</td>\n",
              "      <td>...</td>\n",
              "      <td>...</td>\n",
              "      <td>...</td>\n",
              "      <td>...</td>\n",
              "      <td>...</td>\n",
              "      <td>...</td>\n",
              "      <td>...</td>\n",
              "      <td>...</td>\n",
              "      <td>...</td>\n",
              "      <td>...</td>\n",
              "      <td>...</td>\n",
              "      <td>...</td>\n",
              "    </tr>\n",
              "    <tr>\n",
              "      <th>45148</th>\n",
              "      <td>False</td>\n",
              "      <td>[{'id': 0, 'name': 'N/A', 'poster_path': 'N/A'...</td>\n",
              "      <td>0</td>\n",
              "      <td>[{'id': 0, 'name': 'N/A'}]</td>\n",
              "      <td>NaN</td>\n",
              "      <td>438910</td>\n",
              "      <td>tt0810384</td>\n",
              "      <td>ru</td>\n",
              "      <td>Konstruktor krasnogo tsveta -1993</td>\n",
              "      <td>Engineering Red - 1993  Dir: Andrey I. Y. Petr...</td>\n",
              "      <td>0.001586</td>\n",
              "      <td>NaN</td>\n",
              "      <td>[{'name': 'N/A', 'id': 0}]</td>\n",
              "      <td>[{'iso_3166_1': 'N/A', 'name': 'N/A'}]</td>\n",
              "      <td>NaN</td>\n",
              "      <td>0.0</td>\n",
              "      <td>76.0</td>\n",
              "      <td>[{'iso_639_1': 'N/A', 'name': 'N/A'}]</td>\n",
              "      <td>Released</td>\n",
              "      <td>NaN</td>\n",
              "      <td>Engineering Red</td>\n",
              "      <td>False</td>\n",
              "      <td>6.0</td>\n",
              "      <td>2.0</td>\n",
              "    </tr>\n",
              "    <tr>\n",
              "      <th>45203</th>\n",
              "      <td>False</td>\n",
              "      <td>[{'id': 0, 'name': 'N/A', 'poster_path': 'N/A'...</td>\n",
              "      <td>0</td>\n",
              "      <td>[{'id': 9648, 'name': 'Mystery'}, {'id': 878, ...</td>\n",
              "      <td>NaN</td>\n",
              "      <td>433711</td>\n",
              "      <td>tt3158690</td>\n",
              "      <td>en</td>\n",
              "      <td>All Superheroes Must Die 2: The Last Superhero</td>\n",
              "      <td>In a no holds barred documentary, acclaimed jo...</td>\n",
              "      <td>0.00022</td>\n",
              "      <td>/pNYyE030HIwPrENEWI8f4HPIkZo.jpg</td>\n",
              "      <td>[{'name': 'N/A', 'id': 0}]</td>\n",
              "      <td>[{'iso_3166_1': 'N/A', 'name': 'N/A'}]</td>\n",
              "      <td>NaN</td>\n",
              "      <td>0.0</td>\n",
              "      <td>74.0</td>\n",
              "      <td>[{'iso_639_1': 'en', 'name': 'English'}]</td>\n",
              "      <td>Released</td>\n",
              "      <td>NaN</td>\n",
              "      <td>All Superheroes Must Die 2: The Last Superhero</td>\n",
              "      <td>False</td>\n",
              "      <td>4.0</td>\n",
              "      <td>1.0</td>\n",
              "    </tr>\n",
              "    <tr>\n",
              "      <th>45338</th>\n",
              "      <td>False</td>\n",
              "      <td>[{'id': 0, 'name': 'N/A', 'poster_path': 'N/A'...</td>\n",
              "      <td>0</td>\n",
              "      <td>[{'id': 0, 'name': 'N/A'}]</td>\n",
              "      <td>NaN</td>\n",
              "      <td>335251</td>\n",
              "      <td>tt1883368</td>\n",
              "      <td>en</td>\n",
              "      <td>The Land Where the Blues Began</td>\n",
              "      <td>An exploration of the musical and social origi...</td>\n",
              "      <td>0.0</td>\n",
              "      <td>/c7KGfBQrTAwTqvXywnPwkvkaDno.jpg</td>\n",
              "      <td>[{'name': 'N/A', 'id': 0}]</td>\n",
              "      <td>[{'iso_3166_1': 'N/A', 'name': 'N/A'}]</td>\n",
              "      <td>NaN</td>\n",
              "      <td>0.0</td>\n",
              "      <td>0.0</td>\n",
              "      <td>[{'iso_639_1': 'N/A', 'name': 'N/A'}]</td>\n",
              "      <td>Released</td>\n",
              "      <td>NaN</td>\n",
              "      <td>The Land Where the Blues Began</td>\n",
              "      <td>False</td>\n",
              "      <td>0.0</td>\n",
              "      <td>0.0</td>\n",
              "    </tr>\n",
              "    <tr>\n",
              "      <th>45410</th>\n",
              "      <td>False</td>\n",
              "      <td>[{'id': 0, 'name': 'N/A', 'poster_path': 'N/A'...</td>\n",
              "      <td>0</td>\n",
              "      <td>[{'id': 18, 'name': 'Drama'}, {'id': 80, 'name...</td>\n",
              "      <td>NaN</td>\n",
              "      <td>449131</td>\n",
              "      <td>tt0321264</td>\n",
              "      <td>ru</td>\n",
              "      <td>Aprel</td>\n",
              "      <td>NaN</td>\n",
              "      <td>0.008903</td>\n",
              "      <td>NaN</td>\n",
              "      <td>[]</td>\n",
              "      <td>[{'iso_3166_1': 'N/A', 'name': 'N/A'}]</td>\n",
              "      <td>NaN</td>\n",
              "      <td>0.0</td>\n",
              "      <td>NaN</td>\n",
              "      <td>[{'iso_639_1': 'N/A', 'name': 'N/A'}]</td>\n",
              "      <td>Released</td>\n",
              "      <td>NaN</td>\n",
              "      <td>Aprel</td>\n",
              "      <td>False</td>\n",
              "      <td>6.0</td>\n",
              "      <td>1.0</td>\n",
              "    </tr>\n",
              "    <tr>\n",
              "      <th>45461</th>\n",
              "      <td>False</td>\n",
              "      <td>[{'id': 0, 'name': 'N/A', 'poster_path': 'N/A'...</td>\n",
              "      <td>0</td>\n",
              "      <td>[{'id': 18, 'name': 'Drama'}, {'id': 10751, 'n...</td>\n",
              "      <td>http://www.imdb.com/title/tt6209470/</td>\n",
              "      <td>439050</td>\n",
              "      <td>tt6209470</td>\n",
              "      <td>fa</td>\n",
              "      <td>Ø±Ú¯ Ø®ÙØ§Ø¨</td>\n",
              "      <td>Rising and falling between a man and woman.</td>\n",
              "      <td>0.072051</td>\n",
              "      <td>/jldsYflnId4tTWPx8es3uzsB1I8.jpg</td>\n",
              "      <td>[]</td>\n",
              "      <td>[{'iso_3166_1': 'N/A', 'name': 'N/A'}]</td>\n",
              "      <td>NaN</td>\n",
              "      <td>0.0</td>\n",
              "      <td>90.0</td>\n",
              "      <td>[{'iso_639_1': 'fa', 'name': 'ÙØ§Ø±Ø³Û'}]</td>\n",
              "      <td>Released</td>\n",
              "      <td>Rising and falling between a man and woman</td>\n",
              "      <td>Subdue</td>\n",
              "      <td>False</td>\n",
              "      <td>4.0</td>\n",
              "      <td>1.0</td>\n",
              "    </tr>\n",
              "  </tbody>\n",
              "</table>\n",
              "<p>87 rows × 24 columns</p>\n",
              "</div>"
            ],
            "text/plain": [
              "       adult                              belongs_to_collection budget  \\\n",
              "711    False  [{'id': 0, 'name': 'N/A', 'poster_path': 'N/A'...      0   \n",
              "734    False  [{'id': 0, 'name': 'N/A', 'poster_path': 'N/A'...      0   \n",
              "3460   False  [{'id': 0, 'name': 'N/A', 'poster_path': 'N/A'...      0   \n",
              "3628   False  [{'id': 0, 'name': 'N/A', 'poster_path': 'N/A'...      0   \n",
              "5879   False  [{'id': 0, 'name': 'N/A', 'poster_path': 'N/A'...      0   \n",
              "...      ...                                                ...    ...   \n",
              "45148  False  [{'id': 0, 'name': 'N/A', 'poster_path': 'N/A'...      0   \n",
              "45203  False  [{'id': 0, 'name': 'N/A', 'poster_path': 'N/A'...      0   \n",
              "45338  False  [{'id': 0, 'name': 'N/A', 'poster_path': 'N/A'...      0   \n",
              "45410  False  [{'id': 0, 'name': 'N/A', 'poster_path': 'N/A'...      0   \n",
              "45461  False  [{'id': 0, 'name': 'N/A', 'poster_path': 'N/A'...      0   \n",
              "\n",
              "                                                  genres  \\\n",
              "711                           [{'id': 0, 'name': 'N/A'}]   \n",
              "734                           [{'id': 0, 'name': 'N/A'}]   \n",
              "3460                       [{'id': 18, 'name': 'Drama'}]   \n",
              "3628                          [{'id': 0, 'name': 'N/A'}]   \n",
              "5879   [{'id': 18, 'name': 'Drama'}, {'id': 10749, 'n...   \n",
              "...                                                  ...   \n",
              "45148                         [{'id': 0, 'name': 'N/A'}]   \n",
              "45203  [{'id': 9648, 'name': 'Mystery'}, {'id': 878, ...   \n",
              "45338                         [{'id': 0, 'name': 'N/A'}]   \n",
              "45410  [{'id': 18, 'name': 'Drama'}, {'id': 80, 'name...   \n",
              "45461  [{'id': 18, 'name': 'Drama'}, {'id': 10751, 'n...   \n",
              "\n",
              "                                   homepage      id    imdb_id  \\\n",
              "711                                     NaN  365371  tt0114894   \n",
              "734                                     NaN  215107  tt0105737   \n",
              "3460                                    NaN   94214  tt0210130   \n",
              "3628                                    NaN  207731  tt0217287   \n",
              "5879                                    NaN   99885  tt0979876   \n",
              "...                                     ...     ...        ...   \n",
              "45148                                   NaN  438910  tt0810384   \n",
              "45203                                   NaN  433711  tt3158690   \n",
              "45338                                   NaN  335251  tt1883368   \n",
              "45410                                   NaN  449131  tt0321264   \n",
              "45461  http://www.imdb.com/title/tt6209470/  439050  tt6209470   \n",
              "\n",
              "      original_language                                  original_title  \\\n",
              "711                  en            War Stories Our Mother Never Told Us   \n",
              "734                  en                           Vermont Is for Lovers   \n",
              "3460                 en                      Jails, Hospitals & Hip-Hop   \n",
              "3628                 en                                  Boricua's Bond   \n",
              "5879                 en                             Divine Intervention   \n",
              "...                 ...                                             ...   \n",
              "45148                ru               Konstruktor krasnogo tsveta -1993   \n",
              "45203                en  All Superheroes Must Die 2: The Last Superhero   \n",
              "45338                en                  The Land Where the Blues Began   \n",
              "45410                ru                                           Aprel   \n",
              "45461                fa                                   Ø±Ú¯ Ø®ÙØ§Ø¨   \n",
              "\n",
              "                                                overview popularity  \\\n",
              "711    Seven New Zealand women speak about their live...   0.005625   \n",
              "734    Vermont is for Lovers is an independently prod...       0.75   \n",
              "3460   Jails, Hospitals &amp; Hip-Hop is a cinematic ...   0.009057   \n",
              "3628   Tommy, a talented Puerto Rican painter living ...   0.035352   \n",
              "5879   Four friends fight an insane man's crusade to ...   0.001181   \n",
              "...                                                  ...        ...   \n",
              "45148  Engineering Red - 1993  Dir: Andrey I. Y. Petr...   0.001586   \n",
              "45203  In a no holds barred documentary, acclaimed jo...    0.00022   \n",
              "45338  An exploration of the musical and social origi...        0.0   \n",
              "45410                                                NaN   0.008903   \n",
              "45461        Rising and falling between a man and woman.   0.072051   \n",
              "\n",
              "                            poster_path        production_companies  \\\n",
              "711                                 NaN  [{'name': 'N/A', 'id': 0}]   \n",
              "734                                 NaN  [{'name': 'N/A', 'id': 0}]   \n",
              "3460                                NaN  [{'name': 'N/A', 'id': 0}]   \n",
              "3628                                NaN  [{'name': 'N/A', 'id': 0}]   \n",
              "5879   /iXZ6bn4G3nzGChawX9PLLnjMTqI.jpg  [{'name': 'N/A', 'id': 0}]   \n",
              "...                                 ...                         ...   \n",
              "45148                               NaN  [{'name': 'N/A', 'id': 0}]   \n",
              "45203  /pNYyE030HIwPrENEWI8f4HPIkZo.jpg  [{'name': 'N/A', 'id': 0}]   \n",
              "45338  /c7KGfBQrTAwTqvXywnPwkvkaDno.jpg  [{'name': 'N/A', 'id': 0}]   \n",
              "45410                               NaN                          []   \n",
              "45461  /jldsYflnId4tTWPx8es3uzsB1I8.jpg                          []   \n",
              "\n",
              "                         production_countries release_date  revenue  runtime  \\\n",
              "711    [{'iso_3166_1': 'N/A', 'name': 'N/A'}]          NaN      0.0     95.0   \n",
              "734    [{'iso_3166_1': 'N/A', 'name': 'N/A'}]          NaN      0.0     88.0   \n",
              "3460   [{'iso_3166_1': 'N/A', 'name': 'N/A'}]          NaN     10.0     90.0   \n",
              "3628   [{'iso_3166_1': 'N/A', 'name': 'N/A'}]          NaN      0.0    105.0   \n",
              "5879   [{'iso_3166_1': 'N/A', 'name': 'N/A'}]          NaN      0.0     87.0   \n",
              "...                                       ...          ...      ...      ...   \n",
              "45148  [{'iso_3166_1': 'N/A', 'name': 'N/A'}]          NaN      0.0     76.0   \n",
              "45203  [{'iso_3166_1': 'N/A', 'name': 'N/A'}]          NaN      0.0     74.0   \n",
              "45338  [{'iso_3166_1': 'N/A', 'name': 'N/A'}]          NaN      0.0      0.0   \n",
              "45410  [{'iso_3166_1': 'N/A', 'name': 'N/A'}]          NaN      0.0      NaN   \n",
              "45461  [{'iso_3166_1': 'N/A', 'name': 'N/A'}]          NaN      0.0     90.0   \n",
              "\n",
              "                                  spoken_languages    status  \\\n",
              "711          [{'iso_639_1': 'N/A', 'name': 'N/A'}]  Released   \n",
              "734          [{'iso_639_1': 'N/A', 'name': 'N/A'}]  Released   \n",
              "3460         [{'iso_639_1': 'N/A', 'name': 'N/A'}]       NaN   \n",
              "3628         [{'iso_639_1': 'N/A', 'name': 'N/A'}]  Released   \n",
              "5879         [{'iso_639_1': 'N/A', 'name': 'N/A'}]  Released   \n",
              "...                                            ...       ...   \n",
              "45148        [{'iso_639_1': 'N/A', 'name': 'N/A'}]  Released   \n",
              "45203     [{'iso_639_1': 'en', 'name': 'English'}]  Released   \n",
              "45338        [{'iso_639_1': 'N/A', 'name': 'N/A'}]  Released   \n",
              "45410        [{'iso_639_1': 'N/A', 'name': 'N/A'}]  Released   \n",
              "45461  [{'iso_639_1': 'fa', 'name': 'ÙØ§Ø±Ø³Û'}]  Released   \n",
              "\n",
              "                                                 tagline  \\\n",
              "711                                                  NaN   \n",
              "734                                                  NaN   \n",
              "3460   three worlds / two million voices / one genera...   \n",
              "3628                                                 NaN   \n",
              "5879                             His Judgement Cometh...   \n",
              "...                                                  ...   \n",
              "45148                                                NaN   \n",
              "45203                                                NaN   \n",
              "45338                                                NaN   \n",
              "45410                                                NaN   \n",
              "45461         Rising and falling between a man and woman   \n",
              "\n",
              "                                                title  video  vote_average  \\\n",
              "711              War Stories Our Mother Never Told Us  False           0.0   \n",
              "734                             Vermont Is for Lovers  False           0.0   \n",
              "3460                       Jails, Hospitals & Hip-Hop  False           0.0   \n",
              "3628                                   Boricua's Bond  False           2.0   \n",
              "5879                              Divine Intervention  False           0.0   \n",
              "...                                               ...    ...           ...   \n",
              "45148                                 Engineering Red  False           6.0   \n",
              "45203  All Superheroes Must Die 2: The Last Superhero  False           4.0   \n",
              "45338                  The Land Where the Blues Began  False           0.0   \n",
              "45410                                           Aprel  False           6.0   \n",
              "45461                                          Subdue  False           4.0   \n",
              "\n",
              "       vote_count  \n",
              "711           0.0  \n",
              "734           0.0  \n",
              "3460          0.0  \n",
              "3628          1.0  \n",
              "5879          0.0  \n",
              "...           ...  \n",
              "45148         2.0  \n",
              "45203         1.0  \n",
              "45338         0.0  \n",
              "45410         1.0  \n",
              "45461         1.0  \n",
              "\n",
              "[87 rows x 24 columns]"
            ]
          },
          "execution_count": 48,
          "metadata": {},
          "output_type": "execute_result"
        }
      ],
      "source": [
        "# Finding how many Nan values has the release_date column \n",
        "nan_rows = df_movies[df_movies['release_date'].isna()]\n",
        "print(type(df_movies['release_date'][3460]))\n",
        "nan_rows"
      ]
    },
    {
      "cell_type": "code",
      "execution_count": 49,
      "metadata": {},
      "outputs": [
        {
          "data": {
            "text/plain": [
              "adult                        0\n",
              "belongs_to_collection        0\n",
              "budget                       0\n",
              "genres                       0\n",
              "homepage                 37684\n",
              "id                           0\n",
              "imdb_id                     17\n",
              "original_language           11\n",
              "original_title               0\n",
              "overview                   954\n",
              "popularity                   5\n",
              "poster_path                386\n",
              "production_companies         0\n",
              "production_countries         0\n",
              "release_date                 0\n",
              "revenue                      0\n",
              "runtime                    263\n",
              "spoken_languages             0\n",
              "status                      87\n",
              "tagline                  25054\n",
              "title                        6\n",
              "video                        6\n",
              "vote_average                 6\n",
              "vote_count                   6\n",
              "dtype: int64"
            ]
          },
          "execution_count": 49,
          "metadata": {},
          "output_type": "execute_result"
        }
      ],
      "source": [
        "# Replacing these values for the string '1900-01-01'\n",
        "df_movies['release_date'] = df_movies['release_date'].fillna('1900-01-01')\n",
        "# Displaying the results\n",
        "df_movies.isna().sum()\n"
      ]
    },
    {
      "attachments": {},
      "cell_type": "markdown",
      "metadata": {},
      "source": [
        "# Requirement #4\n",
        "Data fields must be YYYY-mm-dd format. Additionally, a new column called 'release_year' shall be created from the release year shall be extracted.\n",
        "\n"
      ]
    },
    {
      "cell_type": "code",
      "execution_count": 50,
      "metadata": {},
      "outputs": [
        {
          "name": "stdout",
          "output_type": "stream",
          "text": [
            "<class 'str'>\n"
          ]
        }
      ],
      "source": [
        "#Transforming 'release_date' column datatype from string to datetime\n",
        "#df_movies['release_date'] = df_movies['release_date'].progress_apply(lambda x: pd.to_datetime(x))\n",
        "print(type(df_movies['release_date'][19730]))\n",
        "\n",
        "\n",
        "\n",
        "#Displaying the results\n",
        "#print(type(df_movies['release_date']))   "
      ]
    },
    {
      "cell_type": "code",
      "execution_count": 51,
      "metadata": {},
      "outputs": [
        {
          "data": {
            "application/vnd.jupyter.widget-view+json": {
              "model_id": "b42799f2845e4c34908805c00ef12b66",
              "version_major": 2,
              "version_minor": 0
            },
            "text/plain": [
              "  0%|          | 0/45466 [00:00<?, ?it/s]"
            ]
          },
          "metadata": {},
          "output_type": "display_data"
        },
        {
          "name": "stdout",
          "output_type": "stream",
          "text": [
            "0\n",
            "INDEX:  []\n",
            "0\n",
            "\n"
          ]
        }
      ],
      "source": [
        "## Checking if every field in each column has string data type and storing True or False binary states in credits? variables\n",
        "is_str = df_movies['release_date'].progress_apply(lambda x: isinstance(x, str))\n",
        "\n",
        "# Setting up wrong data type ocurrence counters\n",
        "count = 0\n",
        "#Setting up record indexes list where a wrong data type ocurrence has ocurred\n",
        "index = []\n",
        "\n",
        "#Looping into is_str? variables and filling the count and index variables according its state\n",
        "for n in range(len(df_movies)):\n",
        "    if (is_str[n] == False):\n",
        "       count +=1\n",
        "       index.append(n)\n",
        "    \n",
        "#Displaying the results for exploration purposes\n",
        "print(count)\n",
        "print(\"INDEX: \", index)\n",
        "print(len(index))\n",
        "print()\n"
      ]
    },
    {
      "cell_type": "code",
      "execution_count": 52,
      "metadata": {},
      "outputs": [
        {
          "data": {
            "application/vnd.jupyter.widget-view+json": {
              "model_id": "3ffe2d1656ee422eafefdaa92f28b590",
              "version_major": 2,
              "version_minor": 0
            },
            "text/plain": [
              "  0%|          | 0/45466 [00:00<?, ?it/s]"
            ]
          },
          "metadata": {},
          "output_type": "display_data"
        },
        {
          "name": "stdout",
          "output_type": "stream",
          "text": [
            "Unexpected exception formatting exception. Falling back to standard exception\n"
          ]
        },
        {
          "name": "stderr",
          "output_type": "stream",
          "text": [
            "Traceback (most recent call last):\n",
            "  File \"pandas\\_libs\\tslib.pyx\", line 605, in pandas._libs.tslib.array_to_datetime\n",
            "  File \"pandas\\_libs\\tslibs\\parsing.pyx\", line 289, in pandas._libs.tslibs.parsing.parse_datetime_string\n",
            "ValueError: Given date string 1 not likely a datetime\n",
            "\n",
            "During handling of the above exception, another exception occurred:\n",
            "\n",
            "Traceback (most recent call last):\n",
            "  File \"pandas\\_libs\\tslib.pyx\", line 616, in pandas._libs.tslib.array_to_datetime\n",
            "TypeError: invalid string coercion to datetime for \"1\" at position 0\n",
            "\n",
            "During handling of the above exception, another exception occurred:\n",
            "\n",
            "Traceback (most recent call last):\n",
            "  File \"C:\\Users\\edmun\\AppData\\Roaming\\Python\\Python310\\site-packages\\IPython\\core\\interactiveshell.py\", line 3460, in run_code\n",
            "    exec(code_obj, self.user_global_ns, self.user_ns)\n",
            "  File \"C:\\Users\\edmun\\AppData\\Local\\Temp\\ipykernel_10524\\1536567959.py\", line 2, in <module>\n",
            "    df_movies['release_date'] = df_movies['release_date'].progress_apply(lambda x: pd.to_datetime(x))\n",
            "  File \"c:\\Python310\\lib\\site-packages\\tqdm\\std.py\", line 805, in inner\n",
            "    return getattr(df, df_function)(wrapper, **kwargs)\n",
            "  File \"c:\\Python310\\lib\\site-packages\\pandas\\core\\series.py\", line 4771, in apply\n",
            "    return SeriesApply(self, func, convert_dtype, args, kwargs).apply()\n",
            "  File \"c:\\Python310\\lib\\site-packages\\pandas\\core\\apply.py\", line 1123, in apply\n",
            "    return self.apply_standard()\n",
            "  File \"c:\\Python310\\lib\\site-packages\\pandas\\core\\apply.py\", line 1174, in apply_standard\n",
            "    mapped = lib.map_infer(\n",
            "  File \"pandas\\_libs\\lib.pyx\", line 2924, in pandas._libs.lib.map_infer\n",
            "  File \"c:\\Python310\\lib\\site-packages\\tqdm\\std.py\", line 800, in wrapper\n",
            "    return func(*args, **kwargs)\n",
            "  File \"C:\\Users\\edmun\\AppData\\Local\\Temp\\ipykernel_10524\\1536567959.py\", line 2, in <lambda>\n",
            "    df_movies['release_date'] = df_movies['release_date'].progress_apply(lambda x: pd.to_datetime(x))\n",
            "  File \"c:\\Python310\\lib\\site-packages\\pandas\\core\\tools\\datetimes.py\", line 1102, in to_datetime\n",
            "    result = convert_listlike(np.array([arg]), format)[0]\n",
            "  File \"c:\\Python310\\lib\\site-packages\\pandas\\core\\tools\\datetimes.py\", line 438, in _convert_listlike_datetimes\n",
            "    result, tz_parsed = objects_to_datetime64ns(\n",
            "  File \"c:\\Python310\\lib\\site-packages\\pandas\\core\\arrays\\datetimes.py\", line 2177, in objects_to_datetime64ns\n",
            "    result, tz_parsed = tslib.array_to_datetime(\n",
            "  File \"pandas\\_libs\\tslib.pyx\", line 427, in pandas._libs.tslib.array_to_datetime\n",
            "  File \"pandas\\_libs\\tslib.pyx\", line 683, in pandas._libs.tslib.array_to_datetime\n",
            "  File \"pandas\\_libs\\tslib.pyx\", line 829, in pandas._libs.tslib._array_to_datetime_object\n",
            "  File \"pandas\\_libs\\tslib.pyx\", line 819, in pandas._libs.tslib._array_to_datetime_object\n",
            "  File \"pandas\\_libs\\tslibs\\parsing.pyx\", line 289, in pandas._libs.tslibs.parsing.parse_datetime_string\n",
            "ValueError: Given date string 1 not likely a datetime present at position 0\n",
            "\n",
            "During handling of the above exception, another exception occurred:\n",
            "\n",
            "Traceback (most recent call last):\n",
            "  File \"C:\\Users\\edmun\\AppData\\Roaming\\Python\\Python310\\site-packages\\IPython\\core\\interactiveshell.py\", line 2057, in showtraceback\n",
            "    stb = self.InteractiveTB.structured_traceback(\n",
            "  File \"C:\\Users\\edmun\\AppData\\Roaming\\Python\\Python310\\site-packages\\IPython\\core\\ultratb.py\", line 1288, in structured_traceback\n",
            "    return FormattedTB.structured_traceback(\n",
            "  File \"C:\\Users\\edmun\\AppData\\Roaming\\Python\\Python310\\site-packages\\IPython\\core\\ultratb.py\", line 1177, in structured_traceback\n",
            "    return VerboseTB.structured_traceback(\n",
            "  File \"C:\\Users\\edmun\\AppData\\Roaming\\Python\\Python310\\site-packages\\IPython\\core\\ultratb.py\", line 1049, in structured_traceback\n",
            "    formatted_exceptions += self.format_exception_as_a_whole(etype, evalue, etb, lines_of_context,\n",
            "  File \"C:\\Users\\edmun\\AppData\\Roaming\\Python\\Python310\\site-packages\\IPython\\core\\ultratb.py\", line 935, in format_exception_as_a_whole\n",
            "    self.get_records(etb, number_of_lines_of_context, tb_offset) if etb else []\n",
            "  File \"C:\\Users\\edmun\\AppData\\Roaming\\Python\\Python310\\site-packages\\IPython\\core\\ultratb.py\", line 1003, in get_records\n",
            "    lines, first = inspect.getsourcelines(etb.tb_frame)\n",
            "  File \"c:\\Python310\\lib\\inspect.py\", line 1129, in getsourcelines\n",
            "    lines, lnum = findsource(object)\n",
            "  File \"c:\\Python310\\lib\\inspect.py\", line 958, in findsource\n",
            "    raise OSError('could not get source code')\n",
            "OSError: could not get source code\n"
          ]
        }
      ],
      "source": [
        "#Transforming 'release_date' column datatype from string to datetime\n",
        "df_movies['release_date'] = df_movies['release_date'].progress_apply(lambda x: pd.to_datetime(x))\n"
      ]
    },
    {
      "cell_type": "code",
      "execution_count": 53,
      "metadata": {},
      "outputs": [
        {
          "name": "stdout",
          "output_type": "stream",
          "text": [
            "1900-01-01 1 2012-09-08\n"
          ]
        }
      ],
      "source": [
        "#Ops! Apparently, one or more cells in the 'release_date' column are ill formated throwing an exception\n",
        "print(df_movies['release_date'][19729],df_movies['release_date'][19730], df_movies['release_date'][19731])"
      ]
    },
    {
      "cell_type": "code",
      "execution_count": 54,
      "metadata": {},
      "outputs": [
        {
          "data": {
            "application/vnd.jupyter.widget-view+json": {
              "model_id": "131d19a9e7c7457abc402acfbf2bf4cc",
              "version_major": 2,
              "version_minor": 0
            },
            "text/plain": [
              "  0%|          | 0/45466 [00:00<?, ?it/s]"
            ]
          },
          "metadata": {},
          "output_type": "display_data"
        },
        {
          "name": "stdout",
          "output_type": "stream",
          "text": [
            "3\n",
            "INDEX:  [19730, 29503, 35587]\n",
            "3\n",
            "\n"
          ]
        }
      ],
      "source": [
        "# Checking cells with ill-behaved content\n",
        "from datetime import datetime\n",
        "\n",
        "#Function checks if the str argument contains a valid date\n",
        "def test_date(x):\n",
        "    try:\n",
        "        datetime.strptime(x, '%Y-%m-%d')\n",
        "        return True\n",
        "    except ValueError:\n",
        "        return False\n",
        "\n",
        "#Looking for ill-behaved cells\n",
        "is_date1 = df_movies['release_date'].progress_apply(lambda x: test_date(x))\n",
        "\n",
        "# Setting up wrong data type ocurrence counters\n",
        "count = 0\n",
        "#Setting up record indexes list where a wrong data type ocurrence has ocurred\n",
        "index = []\n",
        "\n",
        "#Looping into is_date and updating the count and index vars according to its state\n",
        "for n in range(len(df_movies)):\n",
        "    if (is_date1[n] == False):\n",
        "       count +=1\n",
        "       index.append(n)\n",
        "    \n",
        "#Displaying the results for exploration purposes\n",
        "print(count)\n",
        "print(\"INDEX: \", index)\n",
        "print(len(index))\n",
        "print()\n"
      ]
    },
    {
      "cell_type": "code",
      "execution_count": 55,
      "metadata": {},
      "outputs": [
        {
          "name": "stdout",
          "output_type": "stream",
          "text": [
            "1 12 22\n"
          ]
        }
      ],
      "source": [
        "#Looking inside these cells\n",
        "print(df_movies['release_date'][19730],df_movies['release_date'][29503], df_movies['release_date'][35587] )"
      ]
    },
    {
      "cell_type": "code",
      "execution_count": 56,
      "metadata": {},
      "outputs": [],
      "source": [
        "#Transforming these cells as we did before with NaN cells\n",
        "df_movies.loc[[19730, 29503, 35587], 'release_date'] = '1900-01-01'"
      ]
    },
    {
      "cell_type": "code",
      "execution_count": 57,
      "metadata": {},
      "outputs": [
        {
          "data": {
            "application/vnd.jupyter.widget-view+json": {
              "model_id": "b4005ced155e4c7eb3bb2f647b70838c",
              "version_major": 2,
              "version_minor": 0
            },
            "text/plain": [
              "  0%|          | 0/45466 [00:00<?, ?it/s]"
            ]
          },
          "metadata": {},
          "output_type": "display_data"
        }
      ],
      "source": [
        "#Transforming 'release_date' column datatype from string to datetime (second try!)\n",
        "df_movies['release_date'] = df_movies['release_date'].progress_apply(lambda x: pd.to_datetime(x))"
      ]
    },
    {
      "cell_type": "code",
      "execution_count": 58,
      "metadata": {},
      "outputs": [],
      "source": [
        "#Finally, we are creating a new column called 'release_year'\n",
        "df_movies['release_year'] = df_movies['release_date'].dt.year"
      ]
    },
    {
      "cell_type": "code",
      "execution_count": 59,
      "metadata": {},
      "outputs": [
        {
          "data": {
            "text/html": [
              "<div>\n",
              "<style scoped>\n",
              "    .dataframe tbody tr th:only-of-type {\n",
              "        vertical-align: middle;\n",
              "    }\n",
              "\n",
              "    .dataframe tbody tr th {\n",
              "        vertical-align: top;\n",
              "    }\n",
              "\n",
              "    .dataframe thead th {\n",
              "        text-align: right;\n",
              "    }\n",
              "</style>\n",
              "<table border=\"1\" class=\"dataframe\">\n",
              "  <thead>\n",
              "    <tr style=\"text-align: right;\">\n",
              "      <th></th>\n",
              "      <th>adult</th>\n",
              "      <th>belongs_to_collection</th>\n",
              "      <th>budget</th>\n",
              "      <th>genres</th>\n",
              "      <th>homepage</th>\n",
              "      <th>id</th>\n",
              "      <th>imdb_id</th>\n",
              "      <th>original_language</th>\n",
              "      <th>original_title</th>\n",
              "      <th>overview</th>\n",
              "      <th>popularity</th>\n",
              "      <th>poster_path</th>\n",
              "      <th>production_companies</th>\n",
              "      <th>production_countries</th>\n",
              "      <th>release_date</th>\n",
              "      <th>revenue</th>\n",
              "      <th>runtime</th>\n",
              "      <th>spoken_languages</th>\n",
              "      <th>status</th>\n",
              "      <th>tagline</th>\n",
              "      <th>title</th>\n",
              "      <th>video</th>\n",
              "      <th>vote_average</th>\n",
              "      <th>vote_count</th>\n",
              "      <th>release_year</th>\n",
              "    </tr>\n",
              "  </thead>\n",
              "  <tbody>\n",
              "    <tr>\n",
              "      <th>0</th>\n",
              "      <td>False</td>\n",
              "      <td>[{'id': 10194, 'name': 'Toy Story Collection',...</td>\n",
              "      <td>30000000</td>\n",
              "      <td>[{'id': 16, 'name': 'Animation'}, {'id': 35, '...</td>\n",
              "      <td>http://toystory.disney.com/toy-story</td>\n",
              "      <td>862</td>\n",
              "      <td>tt0114709</td>\n",
              "      <td>en</td>\n",
              "      <td>Toy Story</td>\n",
              "      <td>Led by Woody, Andy's toys live happily in his ...</td>\n",
              "      <td>21.946943</td>\n",
              "      <td>/rhIRbceoE9lR4veEXuwCC2wARtG.jpg</td>\n",
              "      <td>[{'name': 'Pixar Animation Studios', 'id': 3}]</td>\n",
              "      <td>[{'iso_3166_1': 'US', 'name': 'United States o...</td>\n",
              "      <td>1995-10-30</td>\n",
              "      <td>373554033.0</td>\n",
              "      <td>81.0</td>\n",
              "      <td>[{'iso_639_1': 'en', 'name': 'English'}]</td>\n",
              "      <td>Released</td>\n",
              "      <td>NaN</td>\n",
              "      <td>Toy Story</td>\n",
              "      <td>False</td>\n",
              "      <td>7.7</td>\n",
              "      <td>5415.0</td>\n",
              "      <td>1995</td>\n",
              "    </tr>\n",
              "    <tr>\n",
              "      <th>1</th>\n",
              "      <td>False</td>\n",
              "      <td>[{'id': 0, 'name': 'N/A', 'poster_path': 'N/A'...</td>\n",
              "      <td>65000000</td>\n",
              "      <td>[{'id': 12, 'name': 'Adventure'}, {'id': 14, '...</td>\n",
              "      <td>NaN</td>\n",
              "      <td>8844</td>\n",
              "      <td>tt0113497</td>\n",
              "      <td>en</td>\n",
              "      <td>Jumanji</td>\n",
              "      <td>When siblings Judy and Peter discover an encha...</td>\n",
              "      <td>17.015539</td>\n",
              "      <td>/vzmL6fP7aPKNKPRTFnZmiUfciyV.jpg</td>\n",
              "      <td>[{'name': 'TriStar Pictures', 'id': 559}, {'na...</td>\n",
              "      <td>[{'iso_3166_1': 'US', 'name': 'United States o...</td>\n",
              "      <td>1995-12-15</td>\n",
              "      <td>262797249.0</td>\n",
              "      <td>104.0</td>\n",
              "      <td>[{'iso_639_1': 'en', 'name': 'English'}, {'iso...</td>\n",
              "      <td>Released</td>\n",
              "      <td>Roll the dice and unleash the excitement!</td>\n",
              "      <td>Jumanji</td>\n",
              "      <td>False</td>\n",
              "      <td>6.9</td>\n",
              "      <td>2413.0</td>\n",
              "      <td>1995</td>\n",
              "    </tr>\n",
              "    <tr>\n",
              "      <th>2</th>\n",
              "      <td>False</td>\n",
              "      <td>[{'id': 119050, 'name': 'Grumpy Old Men Collec...</td>\n",
              "      <td>0</td>\n",
              "      <td>[{'id': 10749, 'name': 'Romance'}, {'id': 35, ...</td>\n",
              "      <td>NaN</td>\n",
              "      <td>15602</td>\n",
              "      <td>tt0113228</td>\n",
              "      <td>en</td>\n",
              "      <td>Grumpier Old Men</td>\n",
              "      <td>A family wedding reignites the ancient feud be...</td>\n",
              "      <td>11.7129</td>\n",
              "      <td>/6ksm1sjKMFLbO7UY2i6G1ju9SML.jpg</td>\n",
              "      <td>[{'name': 'Warner Bros.', 'id': 6194}, {'name'...</td>\n",
              "      <td>[{'iso_3166_1': 'US', 'name': 'United States o...</td>\n",
              "      <td>1995-12-22</td>\n",
              "      <td>0.0</td>\n",
              "      <td>101.0</td>\n",
              "      <td>[{'iso_639_1': 'en', 'name': 'English'}]</td>\n",
              "      <td>Released</td>\n",
              "      <td>Still Yelling. Still Fighting. Still Ready for...</td>\n",
              "      <td>Grumpier Old Men</td>\n",
              "      <td>False</td>\n",
              "      <td>6.5</td>\n",
              "      <td>92.0</td>\n",
              "      <td>1995</td>\n",
              "    </tr>\n",
              "    <tr>\n",
              "      <th>3</th>\n",
              "      <td>False</td>\n",
              "      <td>[{'id': 0, 'name': 'N/A', 'poster_path': 'N/A'...</td>\n",
              "      <td>16000000</td>\n",
              "      <td>[{'id': 35, 'name': 'Comedy'}, {'id': 18, 'nam...</td>\n",
              "      <td>NaN</td>\n",
              "      <td>31357</td>\n",
              "      <td>tt0114885</td>\n",
              "      <td>en</td>\n",
              "      <td>Waiting to Exhale</td>\n",
              "      <td>Cheated on, mistreated and stepped on, the wom...</td>\n",
              "      <td>3.859495</td>\n",
              "      <td>/16XOMpEaLWkrcPqSQqhTmeJuqQl.jpg</td>\n",
              "      <td>[{'name': 'Twentieth Century Fox Film Corporat...</td>\n",
              "      <td>[{'iso_3166_1': 'US', 'name': 'United States o...</td>\n",
              "      <td>1995-12-22</td>\n",
              "      <td>81452156.0</td>\n",
              "      <td>127.0</td>\n",
              "      <td>[{'iso_639_1': 'en', 'name': 'English'}]</td>\n",
              "      <td>Released</td>\n",
              "      <td>Friends are the people who let you be yourself...</td>\n",
              "      <td>Waiting to Exhale</td>\n",
              "      <td>False</td>\n",
              "      <td>6.1</td>\n",
              "      <td>34.0</td>\n",
              "      <td>1995</td>\n",
              "    </tr>\n",
              "    <tr>\n",
              "      <th>4</th>\n",
              "      <td>False</td>\n",
              "      <td>[{'id': 96871, 'name': 'Father of the Bride Co...</td>\n",
              "      <td>0</td>\n",
              "      <td>[{'id': 35, 'name': 'Comedy'}]</td>\n",
              "      <td>NaN</td>\n",
              "      <td>11862</td>\n",
              "      <td>tt0113041</td>\n",
              "      <td>en</td>\n",
              "      <td>Father of the Bride Part II</td>\n",
              "      <td>Just when George Banks has recovered from his ...</td>\n",
              "      <td>8.387519</td>\n",
              "      <td>/e64sOI48hQXyru7naBFyssKFxVd.jpg</td>\n",
              "      <td>[{'name': 'Sandollar Productions', 'id': 5842}...</td>\n",
              "      <td>[{'iso_3166_1': 'US', 'name': 'United States o...</td>\n",
              "      <td>1995-02-10</td>\n",
              "      <td>76578911.0</td>\n",
              "      <td>106.0</td>\n",
              "      <td>[{'iso_639_1': 'en', 'name': 'English'}]</td>\n",
              "      <td>Released</td>\n",
              "      <td>Just When His World Is Back To Normal... He's ...</td>\n",
              "      <td>Father of the Bride Part II</td>\n",
              "      <td>False</td>\n",
              "      <td>5.7</td>\n",
              "      <td>173.0</td>\n",
              "      <td>1995</td>\n",
              "    </tr>\n",
              "  </tbody>\n",
              "</table>\n",
              "</div>"
            ],
            "text/plain": [
              "   adult                              belongs_to_collection    budget  \\\n",
              "0  False  [{'id': 10194, 'name': 'Toy Story Collection',...  30000000   \n",
              "1  False  [{'id': 0, 'name': 'N/A', 'poster_path': 'N/A'...  65000000   \n",
              "2  False  [{'id': 119050, 'name': 'Grumpy Old Men Collec...         0   \n",
              "3  False  [{'id': 0, 'name': 'N/A', 'poster_path': 'N/A'...  16000000   \n",
              "4  False  [{'id': 96871, 'name': 'Father of the Bride Co...         0   \n",
              "\n",
              "                                              genres  \\\n",
              "0  [{'id': 16, 'name': 'Animation'}, {'id': 35, '...   \n",
              "1  [{'id': 12, 'name': 'Adventure'}, {'id': 14, '...   \n",
              "2  [{'id': 10749, 'name': 'Romance'}, {'id': 35, ...   \n",
              "3  [{'id': 35, 'name': 'Comedy'}, {'id': 18, 'nam...   \n",
              "4                     [{'id': 35, 'name': 'Comedy'}]   \n",
              "\n",
              "                               homepage     id    imdb_id original_language  \\\n",
              "0  http://toystory.disney.com/toy-story    862  tt0114709                en   \n",
              "1                                   NaN   8844  tt0113497                en   \n",
              "2                                   NaN  15602  tt0113228                en   \n",
              "3                                   NaN  31357  tt0114885                en   \n",
              "4                                   NaN  11862  tt0113041                en   \n",
              "\n",
              "                original_title  \\\n",
              "0                    Toy Story   \n",
              "1                      Jumanji   \n",
              "2             Grumpier Old Men   \n",
              "3            Waiting to Exhale   \n",
              "4  Father of the Bride Part II   \n",
              "\n",
              "                                            overview popularity  \\\n",
              "0  Led by Woody, Andy's toys live happily in his ...  21.946943   \n",
              "1  When siblings Judy and Peter discover an encha...  17.015539   \n",
              "2  A family wedding reignites the ancient feud be...    11.7129   \n",
              "3  Cheated on, mistreated and stepped on, the wom...   3.859495   \n",
              "4  Just when George Banks has recovered from his ...   8.387519   \n",
              "\n",
              "                        poster_path  \\\n",
              "0  /rhIRbceoE9lR4veEXuwCC2wARtG.jpg   \n",
              "1  /vzmL6fP7aPKNKPRTFnZmiUfciyV.jpg   \n",
              "2  /6ksm1sjKMFLbO7UY2i6G1ju9SML.jpg   \n",
              "3  /16XOMpEaLWkrcPqSQqhTmeJuqQl.jpg   \n",
              "4  /e64sOI48hQXyru7naBFyssKFxVd.jpg   \n",
              "\n",
              "                                production_companies  \\\n",
              "0     [{'name': 'Pixar Animation Studios', 'id': 3}]   \n",
              "1  [{'name': 'TriStar Pictures', 'id': 559}, {'na...   \n",
              "2  [{'name': 'Warner Bros.', 'id': 6194}, {'name'...   \n",
              "3  [{'name': 'Twentieth Century Fox Film Corporat...   \n",
              "4  [{'name': 'Sandollar Productions', 'id': 5842}...   \n",
              "\n",
              "                                production_countries release_date  \\\n",
              "0  [{'iso_3166_1': 'US', 'name': 'United States o...   1995-10-30   \n",
              "1  [{'iso_3166_1': 'US', 'name': 'United States o...   1995-12-15   \n",
              "2  [{'iso_3166_1': 'US', 'name': 'United States o...   1995-12-22   \n",
              "3  [{'iso_3166_1': 'US', 'name': 'United States o...   1995-12-22   \n",
              "4  [{'iso_3166_1': 'US', 'name': 'United States o...   1995-02-10   \n",
              "\n",
              "       revenue  runtime                                   spoken_languages  \\\n",
              "0  373554033.0     81.0           [{'iso_639_1': 'en', 'name': 'English'}]   \n",
              "1  262797249.0    104.0  [{'iso_639_1': 'en', 'name': 'English'}, {'iso...   \n",
              "2          0.0    101.0           [{'iso_639_1': 'en', 'name': 'English'}]   \n",
              "3   81452156.0    127.0           [{'iso_639_1': 'en', 'name': 'English'}]   \n",
              "4   76578911.0    106.0           [{'iso_639_1': 'en', 'name': 'English'}]   \n",
              "\n",
              "     status                                            tagline  \\\n",
              "0  Released                                                NaN   \n",
              "1  Released          Roll the dice and unleash the excitement!   \n",
              "2  Released  Still Yelling. Still Fighting. Still Ready for...   \n",
              "3  Released  Friends are the people who let you be yourself...   \n",
              "4  Released  Just When His World Is Back To Normal... He's ...   \n",
              "\n",
              "                         title  video  vote_average  vote_count  release_year  \n",
              "0                    Toy Story  False           7.7      5415.0          1995  \n",
              "1                      Jumanji  False           6.9      2413.0          1995  \n",
              "2             Grumpier Old Men  False           6.5        92.0          1995  \n",
              "3            Waiting to Exhale  False           6.1        34.0          1995  \n",
              "4  Father of the Bride Part II  False           5.7       173.0          1995  "
            ]
          },
          "execution_count": 59,
          "metadata": {},
          "output_type": "execute_result"
        }
      ],
      "source": [
        "#Displaying the dataset with the latest changes\n",
        "df_movies.head()"
      ]
    },
    {
      "attachments": {},
      "cell_type": "markdown",
      "metadata": {},
      "source": [
        "# Requirements #5\n",
        "Create a column called 'ROI' (return of investment) based upon the 'revenue' and 'budget' columns. Calculate ROI value according with the following formulae:\n",
        "\n",
        "ROI = Revenue / Budget\n",
        "\n",
        "If Revenue and/or Budget are 0, ROI  must be 0."
      ]
    },
    {
      "cell_type": "code",
      "execution_count": 60,
      "metadata": {},
      "outputs": [
        {
          "name": "stdout",
          "output_type": "stream",
          "text": [
            "/ff9qCepilowshEtG2GYWwzt2bs4.jpg\n"
          ]
        }
      ],
      "source": [
        "# A nasty discovery: not every string in budget column can be converted to a float number!\n",
        "print(df_movies['budget'][19730])"
      ]
    },
    {
      "cell_type": "code",
      "execution_count": 61,
      "metadata": {},
      "outputs": [
        {
          "data": {
            "application/vnd.jupyter.widget-view+json": {
              "model_id": "9368b2751ec34117b8f88cf6a35b0af1",
              "version_major": 2,
              "version_minor": 0
            },
            "text/plain": [
              "  0%|          | 0/45466 [00:00<?, ?it/s]"
            ]
          },
          "metadata": {},
          "output_type": "display_data"
        },
        {
          "data": {
            "application/vnd.jupyter.widget-view+json": {
              "model_id": "8acf674bed4c4c11854c5b0eb31f2671",
              "version_major": 2,
              "version_minor": 0
            },
            "text/plain": [
              "  0%|          | 0/45466 [00:00<?, ?it/s]"
            ]
          },
          "metadata": {},
          "output_type": "display_data"
        },
        {
          "data": {
            "text/html": [
              "<div>\n",
              "<style scoped>\n",
              "    .dataframe tbody tr th:only-of-type {\n",
              "        vertical-align: middle;\n",
              "    }\n",
              "\n",
              "    .dataframe tbody tr th {\n",
              "        vertical-align: top;\n",
              "    }\n",
              "\n",
              "    .dataframe thead th {\n",
              "        text-align: right;\n",
              "    }\n",
              "</style>\n",
              "<table border=\"1\" class=\"dataframe\">\n",
              "  <thead>\n",
              "    <tr style=\"text-align: right;\">\n",
              "      <th></th>\n",
              "      <th>adult</th>\n",
              "      <th>belongs_to_collection</th>\n",
              "      <th>budget</th>\n",
              "      <th>genres</th>\n",
              "      <th>homepage</th>\n",
              "      <th>id</th>\n",
              "      <th>imdb_id</th>\n",
              "      <th>original_language</th>\n",
              "      <th>original_title</th>\n",
              "      <th>overview</th>\n",
              "      <th>popularity</th>\n",
              "      <th>poster_path</th>\n",
              "      <th>production_companies</th>\n",
              "      <th>production_countries</th>\n",
              "      <th>release_date</th>\n",
              "      <th>revenue</th>\n",
              "      <th>runtime</th>\n",
              "      <th>spoken_languages</th>\n",
              "      <th>status</th>\n",
              "      <th>tagline</th>\n",
              "      <th>title</th>\n",
              "      <th>video</th>\n",
              "      <th>vote_average</th>\n",
              "      <th>vote_count</th>\n",
              "      <th>release_year</th>\n",
              "      <th>ROI</th>\n",
              "    </tr>\n",
              "  </thead>\n",
              "  <tbody>\n",
              "    <tr>\n",
              "      <th>0</th>\n",
              "      <td>False</td>\n",
              "      <td>[{'id': 10194, 'name': 'Toy Story Collection',...</td>\n",
              "      <td>30000000.0</td>\n",
              "      <td>[{'id': 16, 'name': 'Animation'}, {'id': 35, '...</td>\n",
              "      <td>http://toystory.disney.com/toy-story</td>\n",
              "      <td>862</td>\n",
              "      <td>tt0114709</td>\n",
              "      <td>en</td>\n",
              "      <td>Toy Story</td>\n",
              "      <td>Led by Woody, Andy's toys live happily in his ...</td>\n",
              "      <td>21.946943</td>\n",
              "      <td>/rhIRbceoE9lR4veEXuwCC2wARtG.jpg</td>\n",
              "      <td>[{'name': 'Pixar Animation Studios', 'id': 3}]</td>\n",
              "      <td>[{'iso_3166_1': 'US', 'name': 'United States o...</td>\n",
              "      <td>1995-10-30</td>\n",
              "      <td>373554033.0</td>\n",
              "      <td>81.0</td>\n",
              "      <td>[{'iso_639_1': 'en', 'name': 'English'}]</td>\n",
              "      <td>Released</td>\n",
              "      <td>NaN</td>\n",
              "      <td>Toy Story</td>\n",
              "      <td>False</td>\n",
              "      <td>7.7</td>\n",
              "      <td>5415.0</td>\n",
              "      <td>1995</td>\n",
              "      <td>12.45</td>\n",
              "    </tr>\n",
              "    <tr>\n",
              "      <th>1</th>\n",
              "      <td>False</td>\n",
              "      <td>[{'id': 0, 'name': 'N/A', 'poster_path': 'N/A'...</td>\n",
              "      <td>65000000.0</td>\n",
              "      <td>[{'id': 12, 'name': 'Adventure'}, {'id': 14, '...</td>\n",
              "      <td>NaN</td>\n",
              "      <td>8844</td>\n",
              "      <td>tt0113497</td>\n",
              "      <td>en</td>\n",
              "      <td>Jumanji</td>\n",
              "      <td>When siblings Judy and Peter discover an encha...</td>\n",
              "      <td>17.015539</td>\n",
              "      <td>/vzmL6fP7aPKNKPRTFnZmiUfciyV.jpg</td>\n",
              "      <td>[{'name': 'TriStar Pictures', 'id': 559}, {'na...</td>\n",
              "      <td>[{'iso_3166_1': 'US', 'name': 'United States o...</td>\n",
              "      <td>1995-12-15</td>\n",
              "      <td>262797249.0</td>\n",
              "      <td>104.0</td>\n",
              "      <td>[{'iso_639_1': 'en', 'name': 'English'}, {'iso...</td>\n",
              "      <td>Released</td>\n",
              "      <td>Roll the dice and unleash the excitement!</td>\n",
              "      <td>Jumanji</td>\n",
              "      <td>False</td>\n",
              "      <td>6.9</td>\n",
              "      <td>2413.0</td>\n",
              "      <td>1995</td>\n",
              "      <td>4.04</td>\n",
              "    </tr>\n",
              "    <tr>\n",
              "      <th>2</th>\n",
              "      <td>False</td>\n",
              "      <td>[{'id': 119050, 'name': 'Grumpy Old Men Collec...</td>\n",
              "      <td>0.0</td>\n",
              "      <td>[{'id': 10749, 'name': 'Romance'}, {'id': 35, ...</td>\n",
              "      <td>NaN</td>\n",
              "      <td>15602</td>\n",
              "      <td>tt0113228</td>\n",
              "      <td>en</td>\n",
              "      <td>Grumpier Old Men</td>\n",
              "      <td>A family wedding reignites the ancient feud be...</td>\n",
              "      <td>11.7129</td>\n",
              "      <td>/6ksm1sjKMFLbO7UY2i6G1ju9SML.jpg</td>\n",
              "      <td>[{'name': 'Warner Bros.', 'id': 6194}, {'name'...</td>\n",
              "      <td>[{'iso_3166_1': 'US', 'name': 'United States o...</td>\n",
              "      <td>1995-12-22</td>\n",
              "      <td>0.0</td>\n",
              "      <td>101.0</td>\n",
              "      <td>[{'iso_639_1': 'en', 'name': 'English'}]</td>\n",
              "      <td>Released</td>\n",
              "      <td>Still Yelling. Still Fighting. Still Ready for...</td>\n",
              "      <td>Grumpier Old Men</td>\n",
              "      <td>False</td>\n",
              "      <td>6.5</td>\n",
              "      <td>92.0</td>\n",
              "      <td>1995</td>\n",
              "      <td>0.00</td>\n",
              "    </tr>\n",
              "    <tr>\n",
              "      <th>3</th>\n",
              "      <td>False</td>\n",
              "      <td>[{'id': 0, 'name': 'N/A', 'poster_path': 'N/A'...</td>\n",
              "      <td>16000000.0</td>\n",
              "      <td>[{'id': 35, 'name': 'Comedy'}, {'id': 18, 'nam...</td>\n",
              "      <td>NaN</td>\n",
              "      <td>31357</td>\n",
              "      <td>tt0114885</td>\n",
              "      <td>en</td>\n",
              "      <td>Waiting to Exhale</td>\n",
              "      <td>Cheated on, mistreated and stepped on, the wom...</td>\n",
              "      <td>3.859495</td>\n",
              "      <td>/16XOMpEaLWkrcPqSQqhTmeJuqQl.jpg</td>\n",
              "      <td>[{'name': 'Twentieth Century Fox Film Corporat...</td>\n",
              "      <td>[{'iso_3166_1': 'US', 'name': 'United States o...</td>\n",
              "      <td>1995-12-22</td>\n",
              "      <td>81452156.0</td>\n",
              "      <td>127.0</td>\n",
              "      <td>[{'iso_639_1': 'en', 'name': 'English'}]</td>\n",
              "      <td>Released</td>\n",
              "      <td>Friends are the people who let you be yourself...</td>\n",
              "      <td>Waiting to Exhale</td>\n",
              "      <td>False</td>\n",
              "      <td>6.1</td>\n",
              "      <td>34.0</td>\n",
              "      <td>1995</td>\n",
              "      <td>5.09</td>\n",
              "    </tr>\n",
              "    <tr>\n",
              "      <th>4</th>\n",
              "      <td>False</td>\n",
              "      <td>[{'id': 96871, 'name': 'Father of the Bride Co...</td>\n",
              "      <td>0.0</td>\n",
              "      <td>[{'id': 35, 'name': 'Comedy'}]</td>\n",
              "      <td>NaN</td>\n",
              "      <td>11862</td>\n",
              "      <td>tt0113041</td>\n",
              "      <td>en</td>\n",
              "      <td>Father of the Bride Part II</td>\n",
              "      <td>Just when George Banks has recovered from his ...</td>\n",
              "      <td>8.387519</td>\n",
              "      <td>/e64sOI48hQXyru7naBFyssKFxVd.jpg</td>\n",
              "      <td>[{'name': 'Sandollar Productions', 'id': 5842}...</td>\n",
              "      <td>[{'iso_3166_1': 'US', 'name': 'United States o...</td>\n",
              "      <td>1995-02-10</td>\n",
              "      <td>76578911.0</td>\n",
              "      <td>106.0</td>\n",
              "      <td>[{'iso_639_1': 'en', 'name': 'English'}]</td>\n",
              "      <td>Released</td>\n",
              "      <td>Just When His World Is Back To Normal... He's ...</td>\n",
              "      <td>Father of the Bride Part II</td>\n",
              "      <td>False</td>\n",
              "      <td>5.7</td>\n",
              "      <td>173.0</td>\n",
              "      <td>1995</td>\n",
              "      <td>0.00</td>\n",
              "    </tr>\n",
              "  </tbody>\n",
              "</table>\n",
              "</div>"
            ],
            "text/plain": [
              "   adult                              belongs_to_collection      budget  \\\n",
              "0  False  [{'id': 10194, 'name': 'Toy Story Collection',...  30000000.0   \n",
              "1  False  [{'id': 0, 'name': 'N/A', 'poster_path': 'N/A'...  65000000.0   \n",
              "2  False  [{'id': 119050, 'name': 'Grumpy Old Men Collec...         0.0   \n",
              "3  False  [{'id': 0, 'name': 'N/A', 'poster_path': 'N/A'...  16000000.0   \n",
              "4  False  [{'id': 96871, 'name': 'Father of the Bride Co...         0.0   \n",
              "\n",
              "                                              genres  \\\n",
              "0  [{'id': 16, 'name': 'Animation'}, {'id': 35, '...   \n",
              "1  [{'id': 12, 'name': 'Adventure'}, {'id': 14, '...   \n",
              "2  [{'id': 10749, 'name': 'Romance'}, {'id': 35, ...   \n",
              "3  [{'id': 35, 'name': 'Comedy'}, {'id': 18, 'nam...   \n",
              "4                     [{'id': 35, 'name': 'Comedy'}]   \n",
              "\n",
              "                               homepage     id    imdb_id original_language  \\\n",
              "0  http://toystory.disney.com/toy-story    862  tt0114709                en   \n",
              "1                                   NaN   8844  tt0113497                en   \n",
              "2                                   NaN  15602  tt0113228                en   \n",
              "3                                   NaN  31357  tt0114885                en   \n",
              "4                                   NaN  11862  tt0113041                en   \n",
              "\n",
              "                original_title  \\\n",
              "0                    Toy Story   \n",
              "1                      Jumanji   \n",
              "2             Grumpier Old Men   \n",
              "3            Waiting to Exhale   \n",
              "4  Father of the Bride Part II   \n",
              "\n",
              "                                            overview popularity  \\\n",
              "0  Led by Woody, Andy's toys live happily in his ...  21.946943   \n",
              "1  When siblings Judy and Peter discover an encha...  17.015539   \n",
              "2  A family wedding reignites the ancient feud be...    11.7129   \n",
              "3  Cheated on, mistreated and stepped on, the wom...   3.859495   \n",
              "4  Just when George Banks has recovered from his ...   8.387519   \n",
              "\n",
              "                        poster_path  \\\n",
              "0  /rhIRbceoE9lR4veEXuwCC2wARtG.jpg   \n",
              "1  /vzmL6fP7aPKNKPRTFnZmiUfciyV.jpg   \n",
              "2  /6ksm1sjKMFLbO7UY2i6G1ju9SML.jpg   \n",
              "3  /16XOMpEaLWkrcPqSQqhTmeJuqQl.jpg   \n",
              "4  /e64sOI48hQXyru7naBFyssKFxVd.jpg   \n",
              "\n",
              "                                production_companies  \\\n",
              "0     [{'name': 'Pixar Animation Studios', 'id': 3}]   \n",
              "1  [{'name': 'TriStar Pictures', 'id': 559}, {'na...   \n",
              "2  [{'name': 'Warner Bros.', 'id': 6194}, {'name'...   \n",
              "3  [{'name': 'Twentieth Century Fox Film Corporat...   \n",
              "4  [{'name': 'Sandollar Productions', 'id': 5842}...   \n",
              "\n",
              "                                production_countries release_date  \\\n",
              "0  [{'iso_3166_1': 'US', 'name': 'United States o...   1995-10-30   \n",
              "1  [{'iso_3166_1': 'US', 'name': 'United States o...   1995-12-15   \n",
              "2  [{'iso_3166_1': 'US', 'name': 'United States o...   1995-12-22   \n",
              "3  [{'iso_3166_1': 'US', 'name': 'United States o...   1995-12-22   \n",
              "4  [{'iso_3166_1': 'US', 'name': 'United States o...   1995-02-10   \n",
              "\n",
              "       revenue  runtime                                   spoken_languages  \\\n",
              "0  373554033.0     81.0           [{'iso_639_1': 'en', 'name': 'English'}]   \n",
              "1  262797249.0    104.0  [{'iso_639_1': 'en', 'name': 'English'}, {'iso...   \n",
              "2          0.0    101.0           [{'iso_639_1': 'en', 'name': 'English'}]   \n",
              "3   81452156.0    127.0           [{'iso_639_1': 'en', 'name': 'English'}]   \n",
              "4   76578911.0    106.0           [{'iso_639_1': 'en', 'name': 'English'}]   \n",
              "\n",
              "     status                                            tagline  \\\n",
              "0  Released                                                NaN   \n",
              "1  Released          Roll the dice and unleash the excitement!   \n",
              "2  Released  Still Yelling. Still Fighting. Still Ready for...   \n",
              "3  Released  Friends are the people who let you be yourself...   \n",
              "4  Released  Just When His World Is Back To Normal... He's ...   \n",
              "\n",
              "                         title  video  vote_average  vote_count  release_year  \\\n",
              "0                    Toy Story  False           7.7      5415.0          1995   \n",
              "1                      Jumanji  False           6.9      2413.0          1995   \n",
              "2             Grumpier Old Men  False           6.5        92.0          1995   \n",
              "3            Waiting to Exhale  False           6.1        34.0          1995   \n",
              "4  Father of the Bride Part II  False           5.7       173.0          1995   \n",
              "\n",
              "     ROI  \n",
              "0  12.45  \n",
              "1   4.04  \n",
              "2   0.00  \n",
              "3   5.09  \n",
              "4   0.00  "
            ]
          },
          "execution_count": 61,
          "metadata": {},
          "output_type": "execute_result"
        }
      ],
      "source": [
        "# Function to convert str to float and manage exception errors triggered by situations exposed in the previous cell\n",
        "from tqdm import tqdm\n",
        "\n",
        "def convert_to_float(x):\n",
        "    try:\n",
        "        return float(x)\n",
        "    except (ValueError, TypeError):\n",
        "        return 0.0\n",
        "\n",
        "# Checking data types & converting data type just in case\n",
        "df_movies['budget'] = df_movies['budget'].progress_apply(lambda x: convert_to_float(x))\n",
        "df_movies['revenue'] = df_movies['revenue'].progress_apply(lambda x: convert_to_float(x))\n",
        "\n",
        "# Finally, creating 'ROI' column and applying the rule\n",
        "df_movies['ROI'] = df_movies.apply(lambda row: round(row['revenue'] / row['budget'],2) if row['budget'] != 0 else 0, axis=1)\n",
        "df_movies.head()"
      ]
    },
    {
      "cell_type": "code",
      "execution_count": 62,
      "metadata": {},
      "outputs": [
        {
          "name": "stdout",
          "output_type": "stream",
          "text": [
            "0.0\n"
          ]
        }
      ],
      "source": [
        "print(df_movies['budget'][19730])"
      ]
    },
    {
      "attachments": {},
      "cell_type": "markdown",
      "metadata": {},
      "source": [
        "# Requirement #6\n",
        "Drop the following unused columns: video, imdb_id, adult, original_title, poster_path & homepage. "
      ]
    },
    {
      "cell_type": "code",
      "execution_count": 63,
      "metadata": {},
      "outputs": [],
      "source": [
        "# Dropping columns\n",
        "df_movies = df_movies.drop(['video','imdb_id','adult','original_title','poster_path', 'homepage'], axis=1)"
      ]
    },
    {
      "cell_type": "code",
      "execution_count": 64,
      "metadata": {},
      "outputs": [
        {
          "data": {
            "text/html": [
              "<div>\n",
              "<style scoped>\n",
              "    .dataframe tbody tr th:only-of-type {\n",
              "        vertical-align: middle;\n",
              "    }\n",
              "\n",
              "    .dataframe tbody tr th {\n",
              "        vertical-align: top;\n",
              "    }\n",
              "\n",
              "    .dataframe thead th {\n",
              "        text-align: right;\n",
              "    }\n",
              "</style>\n",
              "<table border=\"1\" class=\"dataframe\">\n",
              "  <thead>\n",
              "    <tr style=\"text-align: right;\">\n",
              "      <th></th>\n",
              "      <th>belongs_to_collection</th>\n",
              "      <th>budget</th>\n",
              "      <th>genres</th>\n",
              "      <th>id</th>\n",
              "      <th>original_language</th>\n",
              "      <th>overview</th>\n",
              "      <th>popularity</th>\n",
              "      <th>production_companies</th>\n",
              "      <th>production_countries</th>\n",
              "      <th>release_date</th>\n",
              "      <th>revenue</th>\n",
              "      <th>runtime</th>\n",
              "      <th>spoken_languages</th>\n",
              "      <th>status</th>\n",
              "      <th>tagline</th>\n",
              "      <th>title</th>\n",
              "      <th>vote_average</th>\n",
              "      <th>vote_count</th>\n",
              "      <th>release_year</th>\n",
              "      <th>ROI</th>\n",
              "    </tr>\n",
              "  </thead>\n",
              "  <tbody>\n",
              "    <tr>\n",
              "      <th>0</th>\n",
              "      <td>[{'id': 10194, 'name': 'Toy Story Collection',...</td>\n",
              "      <td>30000000.0</td>\n",
              "      <td>[{'id': 16, 'name': 'Animation'}, {'id': 35, '...</td>\n",
              "      <td>862</td>\n",
              "      <td>en</td>\n",
              "      <td>Led by Woody, Andy's toys live happily in his ...</td>\n",
              "      <td>21.946943</td>\n",
              "      <td>[{'name': 'Pixar Animation Studios', 'id': 3}]</td>\n",
              "      <td>[{'iso_3166_1': 'US', 'name': 'United States o...</td>\n",
              "      <td>1995-10-30</td>\n",
              "      <td>373554033.0</td>\n",
              "      <td>81.0</td>\n",
              "      <td>[{'iso_639_1': 'en', 'name': 'English'}]</td>\n",
              "      <td>Released</td>\n",
              "      <td>NaN</td>\n",
              "      <td>Toy Story</td>\n",
              "      <td>7.7</td>\n",
              "      <td>5415.0</td>\n",
              "      <td>1995</td>\n",
              "      <td>12.45</td>\n",
              "    </tr>\n",
              "    <tr>\n",
              "      <th>1</th>\n",
              "      <td>[{'id': 0, 'name': 'N/A', 'poster_path': 'N/A'...</td>\n",
              "      <td>65000000.0</td>\n",
              "      <td>[{'id': 12, 'name': 'Adventure'}, {'id': 14, '...</td>\n",
              "      <td>8844</td>\n",
              "      <td>en</td>\n",
              "      <td>When siblings Judy and Peter discover an encha...</td>\n",
              "      <td>17.015539</td>\n",
              "      <td>[{'name': 'TriStar Pictures', 'id': 559}, {'na...</td>\n",
              "      <td>[{'iso_3166_1': 'US', 'name': 'United States o...</td>\n",
              "      <td>1995-12-15</td>\n",
              "      <td>262797249.0</td>\n",
              "      <td>104.0</td>\n",
              "      <td>[{'iso_639_1': 'en', 'name': 'English'}, {'iso...</td>\n",
              "      <td>Released</td>\n",
              "      <td>Roll the dice and unleash the excitement!</td>\n",
              "      <td>Jumanji</td>\n",
              "      <td>6.9</td>\n",
              "      <td>2413.0</td>\n",
              "      <td>1995</td>\n",
              "      <td>4.04</td>\n",
              "    </tr>\n",
              "    <tr>\n",
              "      <th>2</th>\n",
              "      <td>[{'id': 119050, 'name': 'Grumpy Old Men Collec...</td>\n",
              "      <td>0.0</td>\n",
              "      <td>[{'id': 10749, 'name': 'Romance'}, {'id': 35, ...</td>\n",
              "      <td>15602</td>\n",
              "      <td>en</td>\n",
              "      <td>A family wedding reignites the ancient feud be...</td>\n",
              "      <td>11.7129</td>\n",
              "      <td>[{'name': 'Warner Bros.', 'id': 6194}, {'name'...</td>\n",
              "      <td>[{'iso_3166_1': 'US', 'name': 'United States o...</td>\n",
              "      <td>1995-12-22</td>\n",
              "      <td>0.0</td>\n",
              "      <td>101.0</td>\n",
              "      <td>[{'iso_639_1': 'en', 'name': 'English'}]</td>\n",
              "      <td>Released</td>\n",
              "      <td>Still Yelling. Still Fighting. Still Ready for...</td>\n",
              "      <td>Grumpier Old Men</td>\n",
              "      <td>6.5</td>\n",
              "      <td>92.0</td>\n",
              "      <td>1995</td>\n",
              "      <td>0.00</td>\n",
              "    </tr>\n",
              "    <tr>\n",
              "      <th>3</th>\n",
              "      <td>[{'id': 0, 'name': 'N/A', 'poster_path': 'N/A'...</td>\n",
              "      <td>16000000.0</td>\n",
              "      <td>[{'id': 35, 'name': 'Comedy'}, {'id': 18, 'nam...</td>\n",
              "      <td>31357</td>\n",
              "      <td>en</td>\n",
              "      <td>Cheated on, mistreated and stepped on, the wom...</td>\n",
              "      <td>3.859495</td>\n",
              "      <td>[{'name': 'Twentieth Century Fox Film Corporat...</td>\n",
              "      <td>[{'iso_3166_1': 'US', 'name': 'United States o...</td>\n",
              "      <td>1995-12-22</td>\n",
              "      <td>81452156.0</td>\n",
              "      <td>127.0</td>\n",
              "      <td>[{'iso_639_1': 'en', 'name': 'English'}]</td>\n",
              "      <td>Released</td>\n",
              "      <td>Friends are the people who let you be yourself...</td>\n",
              "      <td>Waiting to Exhale</td>\n",
              "      <td>6.1</td>\n",
              "      <td>34.0</td>\n",
              "      <td>1995</td>\n",
              "      <td>5.09</td>\n",
              "    </tr>\n",
              "    <tr>\n",
              "      <th>4</th>\n",
              "      <td>[{'id': 96871, 'name': 'Father of the Bride Co...</td>\n",
              "      <td>0.0</td>\n",
              "      <td>[{'id': 35, 'name': 'Comedy'}]</td>\n",
              "      <td>11862</td>\n",
              "      <td>en</td>\n",
              "      <td>Just when George Banks has recovered from his ...</td>\n",
              "      <td>8.387519</td>\n",
              "      <td>[{'name': 'Sandollar Productions', 'id': 5842}...</td>\n",
              "      <td>[{'iso_3166_1': 'US', 'name': 'United States o...</td>\n",
              "      <td>1995-02-10</td>\n",
              "      <td>76578911.0</td>\n",
              "      <td>106.0</td>\n",
              "      <td>[{'iso_639_1': 'en', 'name': 'English'}]</td>\n",
              "      <td>Released</td>\n",
              "      <td>Just When His World Is Back To Normal... He's ...</td>\n",
              "      <td>Father of the Bride Part II</td>\n",
              "      <td>5.7</td>\n",
              "      <td>173.0</td>\n",
              "      <td>1995</td>\n",
              "      <td>0.00</td>\n",
              "    </tr>\n",
              "  </tbody>\n",
              "</table>\n",
              "</div>"
            ],
            "text/plain": [
              "                               belongs_to_collection      budget  \\\n",
              "0  [{'id': 10194, 'name': 'Toy Story Collection',...  30000000.0   \n",
              "1  [{'id': 0, 'name': 'N/A', 'poster_path': 'N/A'...  65000000.0   \n",
              "2  [{'id': 119050, 'name': 'Grumpy Old Men Collec...         0.0   \n",
              "3  [{'id': 0, 'name': 'N/A', 'poster_path': 'N/A'...  16000000.0   \n",
              "4  [{'id': 96871, 'name': 'Father of the Bride Co...         0.0   \n",
              "\n",
              "                                              genres     id original_language  \\\n",
              "0  [{'id': 16, 'name': 'Animation'}, {'id': 35, '...    862                en   \n",
              "1  [{'id': 12, 'name': 'Adventure'}, {'id': 14, '...   8844                en   \n",
              "2  [{'id': 10749, 'name': 'Romance'}, {'id': 35, ...  15602                en   \n",
              "3  [{'id': 35, 'name': 'Comedy'}, {'id': 18, 'nam...  31357                en   \n",
              "4                     [{'id': 35, 'name': 'Comedy'}]  11862                en   \n",
              "\n",
              "                                            overview popularity  \\\n",
              "0  Led by Woody, Andy's toys live happily in his ...  21.946943   \n",
              "1  When siblings Judy and Peter discover an encha...  17.015539   \n",
              "2  A family wedding reignites the ancient feud be...    11.7129   \n",
              "3  Cheated on, mistreated and stepped on, the wom...   3.859495   \n",
              "4  Just when George Banks has recovered from his ...   8.387519   \n",
              "\n",
              "                                production_companies  \\\n",
              "0     [{'name': 'Pixar Animation Studios', 'id': 3}]   \n",
              "1  [{'name': 'TriStar Pictures', 'id': 559}, {'na...   \n",
              "2  [{'name': 'Warner Bros.', 'id': 6194}, {'name'...   \n",
              "3  [{'name': 'Twentieth Century Fox Film Corporat...   \n",
              "4  [{'name': 'Sandollar Productions', 'id': 5842}...   \n",
              "\n",
              "                                production_countries release_date  \\\n",
              "0  [{'iso_3166_1': 'US', 'name': 'United States o...   1995-10-30   \n",
              "1  [{'iso_3166_1': 'US', 'name': 'United States o...   1995-12-15   \n",
              "2  [{'iso_3166_1': 'US', 'name': 'United States o...   1995-12-22   \n",
              "3  [{'iso_3166_1': 'US', 'name': 'United States o...   1995-12-22   \n",
              "4  [{'iso_3166_1': 'US', 'name': 'United States o...   1995-02-10   \n",
              "\n",
              "       revenue  runtime                                   spoken_languages  \\\n",
              "0  373554033.0     81.0           [{'iso_639_1': 'en', 'name': 'English'}]   \n",
              "1  262797249.0    104.0  [{'iso_639_1': 'en', 'name': 'English'}, {'iso...   \n",
              "2          0.0    101.0           [{'iso_639_1': 'en', 'name': 'English'}]   \n",
              "3   81452156.0    127.0           [{'iso_639_1': 'en', 'name': 'English'}]   \n",
              "4   76578911.0    106.0           [{'iso_639_1': 'en', 'name': 'English'}]   \n",
              "\n",
              "     status                                            tagline  \\\n",
              "0  Released                                                NaN   \n",
              "1  Released          Roll the dice and unleash the excitement!   \n",
              "2  Released  Still Yelling. Still Fighting. Still Ready for...   \n",
              "3  Released  Friends are the people who let you be yourself...   \n",
              "4  Released  Just When His World Is Back To Normal... He's ...   \n",
              "\n",
              "                         title  vote_average  vote_count  release_year    ROI  \n",
              "0                    Toy Story           7.7      5415.0          1995  12.45  \n",
              "1                      Jumanji           6.9      2413.0          1995   4.04  \n",
              "2             Grumpier Old Men           6.5        92.0          1995   0.00  \n",
              "3            Waiting to Exhale           6.1        34.0          1995   5.09  \n",
              "4  Father of the Bride Part II           5.7       173.0          1995   0.00  "
            ]
          },
          "execution_count": 64,
          "metadata": {},
          "output_type": "execute_result"
        }
      ],
      "source": [
        "#Looking how the dataframe looks now\n",
        "df_movies.head()"
      ]
    },
    {
      "attachments": {},
      "cell_type": "markdown",
      "metadata": {},
      "source": [
        "# Joining the pieces!\n",
        "Now it's time to build the \"final\" production dataframe. Let's go!"
      ]
    },
    {
      "cell_type": "code",
      "execution_count": 65,
      "metadata": {},
      "outputs": [
        {
          "name": "stdout",
          "output_type": "stream",
          "text": [
            "0\n",
            "2\n",
            "7\n",
            "8\n",
            "12\n"
          ]
        }
      ],
      "source": [
        "#Calculating columns position for dataframes insertion\n",
        "column_position = df_movies.columns.get_loc('belongs_to_collection')\n",
        "print(column_position)\n",
        "column_position = df_movies.columns.get_loc('genres')\n",
        "print(column_position)\n",
        "column_position = df_movies.columns.get_loc('production_companies')\n",
        "print(column_position)\n",
        "column_position = df_movies.columns.get_loc('production_countries')\n",
        "print(column_position)\n",
        "column_position = df_movies.columns.get_loc('spoken_languages')\n",
        "print(column_position)\n"
      ]
    },
    {
      "cell_type": "code",
      "execution_count": 66,
      "metadata": {},
      "outputs": [],
      "source": [
        "# Firstly, we are going to drop the following columns (they will be replaced by the new ones we have built earlier):\n",
        "# 'belongs_to_collection' , 'genre', 'production_companies', 'production_countries' & 'spoken_languages'\n",
        "df_movies = df_movies.drop(['belongs_to_collection','genres','production_companies','production_countries','spoken_languages'], axis=1)\n",
        "\n",
        "# And now, we wil be joining the following dataframes:\n",
        "# b2c_names, genres_names, companies_names, countries_names, languages_names\n",
        "df_movies.insert(0, 'belongs_to_collection', b2c_names)\n",
        "df_movies.insert(2, 'genres', genres_names)\n",
        "df_movies.insert(7, 'production_companies', companies_names)\n",
        "df_movies.insert(8, 'production_countries', countries_names)\n",
        "df_movies.insert(12, 'spoken_languages', languages_names)\n",
        "#Finally, we will be joining cast_names & crew_director dataframes from the credits dataset\n",
        "df_movies = pd.concat([df_movies, cast_names], axis=1)\n",
        "df_movies = pd.concat([df_movies, crew_director], axis=1)\n"
      ]
    },
    {
      "cell_type": "code",
      "execution_count": 67,
      "metadata": {},
      "outputs": [
        {
          "data": {
            "text/plain": [
              "belongs_to_collection       10\n",
              "budget                      10\n",
              "genres                      10\n",
              "id                          10\n",
              "original_language           21\n",
              "overview                   964\n",
              "popularity                  15\n",
              "production_companies        10\n",
              "production_countries        10\n",
              "release_date                10\n",
              "revenue                     10\n",
              "runtime                    273\n",
              "spoken_languages            10\n",
              "status                      97\n",
              "tagline                  25064\n",
              "title                       16\n",
              "vote_average                16\n",
              "vote_count                  16\n",
              "release_year                10\n",
              "ROI                         10\n",
              "actors                       0\n",
              "director                   887\n",
              "dtype: int64"
            ]
          },
          "execution_count": 67,
          "metadata": {},
          "output_type": "execute_result"
        }
      ],
      "source": [
        "# Looking how many NaN values still are in our dataset\n",
        "df_movies.isna().sum()"
      ]
    },
    {
      "cell_type": "code",
      "execution_count": 68,
      "metadata": {},
      "outputs": [
        {
          "data": {
            "text/html": [
              "<div>\n",
              "<style scoped>\n",
              "    .dataframe tbody tr th:only-of-type {\n",
              "        vertical-align: middle;\n",
              "    }\n",
              "\n",
              "    .dataframe tbody tr th {\n",
              "        vertical-align: top;\n",
              "    }\n",
              "\n",
              "    .dataframe thead th {\n",
              "        text-align: right;\n",
              "    }\n",
              "</style>\n",
              "<table border=\"1\" class=\"dataframe\">\n",
              "  <thead>\n",
              "    <tr style=\"text-align: right;\">\n",
              "      <th></th>\n",
              "      <th>belongs_to_collection</th>\n",
              "      <th>budget</th>\n",
              "      <th>genres</th>\n",
              "      <th>id</th>\n",
              "      <th>original_language</th>\n",
              "      <th>overview</th>\n",
              "      <th>popularity</th>\n",
              "      <th>production_companies</th>\n",
              "      <th>production_countries</th>\n",
              "      <th>release_date</th>\n",
              "      <th>revenue</th>\n",
              "      <th>runtime</th>\n",
              "      <th>spoken_languages</th>\n",
              "      <th>status</th>\n",
              "      <th>tagline</th>\n",
              "      <th>title</th>\n",
              "      <th>vote_average</th>\n",
              "      <th>vote_count</th>\n",
              "      <th>release_year</th>\n",
              "      <th>ROI</th>\n",
              "      <th>actors</th>\n",
              "      <th>director</th>\n",
              "    </tr>\n",
              "  </thead>\n",
              "  <tbody>\n",
              "    <tr>\n",
              "      <th>45471</th>\n",
              "      <td>NaN</td>\n",
              "      <td>NaN</td>\n",
              "      <td>NaN</td>\n",
              "      <td>NaN</td>\n",
              "      <td>NaN</td>\n",
              "      <td>NaN</td>\n",
              "      <td>NaN</td>\n",
              "      <td>NaN</td>\n",
              "      <td>NaN</td>\n",
              "      <td>NaT</td>\n",
              "      <td>NaN</td>\n",
              "      <td>NaN</td>\n",
              "      <td>NaN</td>\n",
              "      <td>NaN</td>\n",
              "      <td>NaN</td>\n",
              "      <td>NaN</td>\n",
              "      <td>NaN</td>\n",
              "      <td>NaN</td>\n",
              "      <td>NaN</td>\n",
              "      <td>NaN</td>\n",
              "      <td>[Leila Hatami, Kourosh Tahami, Elham Korda]</td>\n",
              "      <td>Hamid Nematollah</td>\n",
              "    </tr>\n",
              "    <tr>\n",
              "      <th>45472</th>\n",
              "      <td>NaN</td>\n",
              "      <td>NaN</td>\n",
              "      <td>NaN</td>\n",
              "      <td>NaN</td>\n",
              "      <td>NaN</td>\n",
              "      <td>NaN</td>\n",
              "      <td>NaN</td>\n",
              "      <td>NaN</td>\n",
              "      <td>NaN</td>\n",
              "      <td>NaT</td>\n",
              "      <td>NaN</td>\n",
              "      <td>NaN</td>\n",
              "      <td>NaN</td>\n",
              "      <td>NaN</td>\n",
              "      <td>NaN</td>\n",
              "      <td>NaN</td>\n",
              "      <td>NaN</td>\n",
              "      <td>NaN</td>\n",
              "      <td>NaN</td>\n",
              "      <td>NaN</td>\n",
              "      <td>[Angel Aquino, Perry Dizon, Hazel Orencio, Joe...</td>\n",
              "      <td>Lav Diaz</td>\n",
              "    </tr>\n",
              "    <tr>\n",
              "      <th>45473</th>\n",
              "      <td>NaN</td>\n",
              "      <td>NaN</td>\n",
              "      <td>NaN</td>\n",
              "      <td>NaN</td>\n",
              "      <td>NaN</td>\n",
              "      <td>NaN</td>\n",
              "      <td>NaN</td>\n",
              "      <td>NaN</td>\n",
              "      <td>NaN</td>\n",
              "      <td>NaT</td>\n",
              "      <td>NaN</td>\n",
              "      <td>NaN</td>\n",
              "      <td>NaN</td>\n",
              "      <td>NaN</td>\n",
              "      <td>NaN</td>\n",
              "      <td>NaN</td>\n",
              "      <td>NaN</td>\n",
              "      <td>NaN</td>\n",
              "      <td>NaN</td>\n",
              "      <td>NaN</td>\n",
              "      <td>[Erika Eleniak, Adam Baldwin, Julie du Page, J...</td>\n",
              "      <td>Mark L. Lester</td>\n",
              "    </tr>\n",
              "    <tr>\n",
              "      <th>45474</th>\n",
              "      <td>NaN</td>\n",
              "      <td>NaN</td>\n",
              "      <td>NaN</td>\n",
              "      <td>NaN</td>\n",
              "      <td>NaN</td>\n",
              "      <td>NaN</td>\n",
              "      <td>NaN</td>\n",
              "      <td>NaN</td>\n",
              "      <td>NaN</td>\n",
              "      <td>NaT</td>\n",
              "      <td>NaN</td>\n",
              "      <td>NaN</td>\n",
              "      <td>NaN</td>\n",
              "      <td>NaN</td>\n",
              "      <td>NaN</td>\n",
              "      <td>NaN</td>\n",
              "      <td>NaN</td>\n",
              "      <td>NaN</td>\n",
              "      <td>NaN</td>\n",
              "      <td>NaN</td>\n",
              "      <td>[Iwan Mosschuchin, Nathalie Lissenko, Pavel Pa...</td>\n",
              "      <td>Yakov Protazanov</td>\n",
              "    </tr>\n",
              "    <tr>\n",
              "      <th>45475</th>\n",
              "      <td>NaN</td>\n",
              "      <td>NaN</td>\n",
              "      <td>NaN</td>\n",
              "      <td>NaN</td>\n",
              "      <td>NaN</td>\n",
              "      <td>NaN</td>\n",
              "      <td>NaN</td>\n",
              "      <td>NaN</td>\n",
              "      <td>NaN</td>\n",
              "      <td>NaT</td>\n",
              "      <td>NaN</td>\n",
              "      <td>NaN</td>\n",
              "      <td>NaN</td>\n",
              "      <td>NaN</td>\n",
              "      <td>NaN</td>\n",
              "      <td>NaN</td>\n",
              "      <td>NaN</td>\n",
              "      <td>NaN</td>\n",
              "      <td>NaN</td>\n",
              "      <td>NaN</td>\n",
              "      <td>[N/A]</td>\n",
              "      <td>Daisy Asquith</td>\n",
              "    </tr>\n",
              "  </tbody>\n",
              "</table>\n",
              "</div>"
            ],
            "text/plain": [
              "      belongs_to_collection  budget genres   id original_language overview  \\\n",
              "45471                   NaN     NaN    NaN  NaN               NaN      NaN   \n",
              "45472                   NaN     NaN    NaN  NaN               NaN      NaN   \n",
              "45473                   NaN     NaN    NaN  NaN               NaN      NaN   \n",
              "45474                   NaN     NaN    NaN  NaN               NaN      NaN   \n",
              "45475                   NaN     NaN    NaN  NaN               NaN      NaN   \n",
              "\n",
              "      popularity production_companies production_countries release_date  \\\n",
              "45471        NaN                  NaN                  NaN          NaT   \n",
              "45472        NaN                  NaN                  NaN          NaT   \n",
              "45473        NaN                  NaN                  NaN          NaT   \n",
              "45474        NaN                  NaN                  NaN          NaT   \n",
              "45475        NaN                  NaN                  NaN          NaT   \n",
              "\n",
              "       revenue  runtime spoken_languages status tagline title  vote_average  \\\n",
              "45471      NaN      NaN              NaN    NaN     NaN   NaN           NaN   \n",
              "45472      NaN      NaN              NaN    NaN     NaN   NaN           NaN   \n",
              "45473      NaN      NaN              NaN    NaN     NaN   NaN           NaN   \n",
              "45474      NaN      NaN              NaN    NaN     NaN   NaN           NaN   \n",
              "45475      NaN      NaN              NaN    NaN     NaN   NaN           NaN   \n",
              "\n",
              "       vote_count  release_year  ROI  \\\n",
              "45471         NaN           NaN  NaN   \n",
              "45472         NaN           NaN  NaN   \n",
              "45473         NaN           NaN  NaN   \n",
              "45474         NaN           NaN  NaN   \n",
              "45475         NaN           NaN  NaN   \n",
              "\n",
              "                                                  actors          director  \n",
              "45471        [Leila Hatami, Kourosh Tahami, Elham Korda]  Hamid Nematollah  \n",
              "45472  [Angel Aquino, Perry Dizon, Hazel Orencio, Joe...          Lav Diaz  \n",
              "45473  [Erika Eleniak, Adam Baldwin, Julie du Page, J...    Mark L. Lester  \n",
              "45474  [Iwan Mosschuchin, Nathalie Lissenko, Pavel Pa...  Yakov Protazanov  \n",
              "45475                                              [N/A]     Daisy Asquith  "
            ]
          },
          "execution_count": 68,
          "metadata": {},
          "output_type": "execute_result"
        }
      ],
      "source": [
        "# Taking a look to the last 20 rows\n",
        "df_movies.tail()"
      ]
    },
    {
      "cell_type": "code",
      "execution_count": 69,
      "metadata": {},
      "outputs": [
        {
          "data": {
            "application/vnd.jupyter.widget-view+json": {
              "model_id": "26b95e1a831d445fa7d85b1404ecd18b",
              "version_major": 2,
              "version_minor": 0
            },
            "text/plain": [
              "  0%|          | 0/45466 [00:00<?, ?it/s]"
            ]
          },
          "metadata": {},
          "output_type": "display_data"
        },
        {
          "data": {
            "application/vnd.jupyter.widget-view+json": {
              "model_id": "17b20ebec60941348f858e0197c30a54",
              "version_major": 2,
              "version_minor": 0
            },
            "text/plain": [
              "  0%|          | 0/45466 [00:00<?, ?it/s]"
            ]
          },
          "metadata": {},
          "output_type": "display_data"
        },
        {
          "data": {
            "application/vnd.jupyter.widget-view+json": {
              "model_id": "d4b52ac605124eb891fef29ee3934d21",
              "version_major": 2,
              "version_minor": 0
            },
            "text/plain": [
              "  0%|          | 0/45466 [00:00<?, ?it/s]"
            ]
          },
          "metadata": {},
          "output_type": "display_data"
        },
        {
          "data": {
            "application/vnd.jupyter.widget-view+json": {
              "model_id": "80b200366fdc442eae1aa50cf451f658",
              "version_major": 2,
              "version_minor": 0
            },
            "text/plain": [
              "  0%|          | 0/45466 [00:00<?, ?it/s]"
            ]
          },
          "metadata": {},
          "output_type": "display_data"
        }
      ],
      "source": [
        "#Dropping the last 10 row with NaN values from original movie.csv(the second dataset added these lines)\n",
        "df_movies.drop(df_movies.index[45466:45475+1], axis=0, inplace=True)\n",
        "#Replacing NaN values: N/A for columns with strings and 0s for columns with numbers\n",
        "df_movies['title'] = df_movies['title'].progress_apply(lambda x: list(['N/A']) if pd.isna(x) else x)\n",
        "df_movies['vote_average'].fillna(value=0, inplace=True)\n",
        "df_movies['vote_count'].fillna(value=0, inplace=True)\n",
        "df_movies['director'] = df_movies['director'].progress_apply(lambda x: list(['N/A']) if pd.isna(x) else x)\n",
        "df_movies['popularity'].fillna(value=0, inplace=True)\n",
        "df_movies['overview'] = df_movies['overview'].progress_apply(lambda x: list(['N/A']) if pd.isna(x) else x)\n",
        "df_movies['original_language'] = df_movies['original_language'].progress_apply(lambda x: list(['N/A']) if pd.isna(x) else x)\n",
        "\n"
      ]
    },
    {
      "cell_type": "code",
      "execution_count": 70,
      "metadata": {},
      "outputs": [
        {
          "data": {
            "text/plain": [
              "belongs_to_collection        0\n",
              "budget                       0\n",
              "genres                       0\n",
              "id                           0\n",
              "original_language            0\n",
              "overview                     0\n",
              "popularity                   0\n",
              "production_companies         0\n",
              "production_countries         0\n",
              "release_date                 0\n",
              "revenue                      0\n",
              "runtime                    263\n",
              "spoken_languages             0\n",
              "status                      87\n",
              "tagline                  25054\n",
              "title                        0\n",
              "vote_average                 0\n",
              "vote_count                   0\n",
              "release_year                 0\n",
              "ROI                          0\n",
              "actors                       0\n",
              "director                     0\n",
              "dtype: int64"
            ]
          },
          "execution_count": 70,
          "metadata": {},
          "output_type": "execute_result"
        }
      ],
      "source": [
        "# Looking the changes\n",
        "df_movies.reset_index(drop=True, inplace=True)\n",
        "df_movies.isna().sum()"
      ]
    },
    {
      "attachments": {},
      "cell_type": "markdown",
      "metadata": {},
      "source": [
        "# Magic search\n",
        "Now, we will be looking for ways to find data"
      ]
    },
    {
      "cell_type": "code",
      "execution_count": 71,
      "metadata": {},
      "outputs": [
        {
          "name": "stdout",
          "output_type": "stream",
          "text": [
            "[10, 221, 1019, 1060, 1551, 1783, 2292, 2293, 2574, 2779, 2899, 2904, 2984, 3199, 3864, 3882, 3909, 4139, 4443, 4552, 4684, 4984, 6186, 6207, 6229, 7375, 8831, 9011, 10937, 11009, 11049, 12158, 12901, 13843, 14569, 15409, 15829, 18395, 20996, 22010, 23723, 26042, 26575, 27328, 29458, 43531]\n"
          ]
        }
      ],
      "source": [
        "# This function finds an element in the given column\n",
        "from tqdm import tqdm\n",
        "\n",
        "def get_indexes(dataframe, column, element):\n",
        "    index = []\n",
        "    for n, row in dataframe.iterrows():\n",
        "        if element in row[column]:\n",
        "          index.append(n)\n",
        "    return index\n",
        "\n",
        "ilist = get_indexes(df_movies, 'actors', 'Michael Douglas')\n",
        "print(ilist)\n"
      ]
    },
    {
      "attachments": {},
      "cell_type": "markdown",
      "metadata": {},
      "source": [
        "# API PRELIMINARY TESTING"
      ]
    },
    {
      "cell_type": "code",
      "execution_count": 72,
      "metadata": {},
      "outputs": [],
      "source": [
        "# End point functions\n",
        "\n",
        "#@app.get(\"/api/v1/shoots_per_month/{month}\")\n",
        "def shoots_per_month(month: int):\n",
        "    df1= df_movies[df_movies[\"release_date\"].dt.month == month]\n",
        "    count = df1.shape[0]\n",
        "    return count\n",
        "\n",
        "#@app.get(\"/api/v1/shoots_per_day/{day}\")\n",
        "def shoots_per_day(day: int):\n",
        "    df1 = df_movies[df_movies[\"release_date\"].dt.day == day]\n",
        "    count = df1.shape[0]\n",
        "    return count\n",
        "\n",
        "#@app.get(\"/api/v1/score_title/{title}\")\n",
        "def title_score(title: str):\n",
        "    df1 = df_movies[df_movies['title'] == title]\n",
        "    response = df1[['title', 'release_year', 'vote_average']].to_dict(orient='records')\n",
        "\n",
        "    return response\n",
        "\n",
        "#@app.get(\"/api/v1/title_votes/{title}\")\n",
        "def title_votes(title: str):\n",
        "    df1 = df_movies[(df_movies['title'] == title) & (df_movies['vote_count'] >= 2000)]\n",
        "    response = df1[['title', 'vote_count', 'vote_average']].to_dict(orient='records')\n",
        "    return response\n",
        "\n",
        "#@app.get(\"/api/v1/actor/{actor}\")\n",
        "def get_actor(actor: str):\n",
        "    #df1 = df_movies[df_movies['actors'].list.contains(actor)]\n",
        "    df1 = df_movies[df_movies['actors'].apply(lambda actors_list: actor in actors_list)]\n",
        "    movies_count = df1.shape[0]\n",
        "    revenue = df1['revenue'].sum()\n",
        "    avg_revenue = revenue / movies_count\n",
        "    response = [actor, movies_count, int(revenue), int(avg_revenue)]\n",
        "    return response\n",
        "\n",
        "#@app.get(\"/api/v1/director/{director}\")\n",
        "def get_director(director: str):\n",
        "    df1 = df_movies[df_movies['director'].apply(lambda director_list: director in director_list)]\n",
        "    revenue = df1['revenue'].sum()\n",
        "    response = df1[['title', 'release_date', 'ROI', 'budget', 'revenue']].to_dict(orient='records')\n",
        "    return [director, revenue, response]"
      ]
    },
    {
      "attachments": {},
      "cell_type": "markdown",
      "metadata": {},
      "source": [
        "def cantidad_filmaciones_mes( Mes ): Se ingresa un mes en idioma Español. Debe devolver la cantidad de películas que fueron estrenadas en el mes consultado en la totalidad del dataset.\n",
        "#Ejemplo de retorno: X cantidad de películas fueron estrenadas en el mes de X\n",
        "Shoots per Month Qty: Input variable is a month (Spanish). It must return the number movies released in this month.\n",
        "Example: X movies where released at month X"
      ]
    },
    {
      "cell_type": "code",
      "execution_count": 73,
      "metadata": {},
      "outputs": [
        {
          "name": "stdout",
          "output_type": "stream",
          "text": [
            "2640\n"
          ]
        }
      ],
      "source": [
        "print(shoots_per_month(7))"
      ]
    },
    {
      "attachments": {},
      "cell_type": "markdown",
      "metadata": {},
      "source": [
        "def cantidad_filmaciones_dia( Dia ): Se ingresa un día en idioma Español. Debe devolver la cantidad de películas que fueron estrenadas en día consultado en la totalidad del dataset.\n",
        "Ejemplo de retorno: X cantidad de películas fueron estrenadas en los días X"
      ]
    },
    {
      "cell_type": "code",
      "execution_count": 74,
      "metadata": {},
      "outputs": [
        {
          "name": "stdout",
          "output_type": "stream",
          "text": [
            "1289\n"
          ]
        }
      ],
      "source": [
        "print(shoots_per_day(5))"
      ]
    },
    {
      "attachments": {},
      "cell_type": "markdown",
      "metadata": {},
      "source": [
        "def score_titulo( titulo_de_la_filmación ): Se ingresa el título de una filmación esperando como respuesta el título, el año de estreno y el score.\n",
        "Ejemplo de retorno: La película X fue estrenada en el año X con un score/popularidad de X"
      ]
    },
    {
      "cell_type": "code",
      "execution_count": 75,
      "metadata": {},
      "outputs": [
        {
          "data": {
            "text/plain": [
              "[{'title': 'Toy Story', 'release_year': 1995.0, 'vote_average': 7.7}]"
            ]
          },
          "execution_count": 75,
          "metadata": {},
          "output_type": "execute_result"
        }
      ],
      "source": [
        "title_score('Toy Story')"
      ]
    },
    {
      "attachments": {},
      "cell_type": "markdown",
      "metadata": {},
      "source": []
    },
    {
      "cell_type": "code",
      "execution_count": 76,
      "metadata": {},
      "outputs": [
        {
          "data": {
            "text/plain": [
              "[{'title': 'Toy Story', 'vote_count': 5415.0, 'vote_average': 7.7}]"
            ]
          },
          "execution_count": 76,
          "metadata": {},
          "output_type": "execute_result"
        }
      ],
      "source": [
        "title_votes('Toy Story')"
      ]
    },
    {
      "attachments": {},
      "cell_type": "markdown",
      "metadata": {},
      "source": [
        "def get_actor( nombre_actor ): Se ingresa el nombre de un actor que se encuentre dentro de un dataset debiendo devolver el éxito del mismo medido a través del retorno. Además, la cantidad de películas que en las que ha participado y el promedio de retorno. La definición no deberá considerar directores.\n",
        "\n",
        "Ejemplo de retorno: El actor X ha participado de X cantidad de filmaciones, el mismo ha conseguido un retorno de X con un promedio de X por filmación"
      ]
    },
    {
      "cell_type": "code",
      "execution_count": 77,
      "metadata": {},
      "outputs": [
        {
          "name": "stdout",
          "output_type": "stream",
          "text": [
            "['Tom Hanks', 71, 9188393214, 129413988]\n"
          ]
        }
      ],
      "source": [
        "print(get_actor('Tom Hanks'))"
      ]
    },
    {
      "attachments": {},
      "cell_type": "markdown",
      "metadata": {},
      "source": [
        "def get_director( nombre_director ): Se ingresa el nombre de un director que se encuentre dentro de un dataset debiendo devolver el éxito del mismo medido a través del retorno. Además, deberá devolver el nombre de cada película con la fecha de lanzamiento, retorno individual, costo y ganancia de la misma."
      ]
    },
    {
      "cell_type": "code",
      "execution_count": 78,
      "metadata": {},
      "outputs": [
        {
          "data": {
            "text/plain": [
              "['Alfred Hitchcock',\n",
              " 250107584.0,\n",
              " [{'title': 'Vertigo',\n",
              "   'release_date': Timestamp('1958-05-09 00:00:00'),\n",
              "   'ROI': 11.29,\n",
              "   'budget': 2479000.0,\n",
              "   'revenue': 28000000.0},\n",
              "  {'title': 'Rear Window',\n",
              "   'release_date': Timestamp('1954-08-01 00:00:00'),\n",
              "   'ROI': 36.76,\n",
              "   'budget': 1000000.0,\n",
              "   'revenue': 36764313.0},\n",
              "  {'title': 'North by Northwest',\n",
              "   'release_date': Timestamp('1959-07-07 00:00:00'),\n",
              "   'ROI': 3.32,\n",
              "   'budget': 4000000.0,\n",
              "   'revenue': 13275000.0},\n",
              "  {'title': 'Rebecca',\n",
              "   'release_date': Timestamp('1940-04-12 00:00:00'),\n",
              "   'ROI': 4.66,\n",
              "   'budget': 1288000.0,\n",
              "   'revenue': 6000000.0},\n",
              "  {'title': 'Foreign Correspondent',\n",
              "   'release_date': Timestamp('1940-08-16 00:00:00'),\n",
              "   'ROI': 0.0,\n",
              "   'budget': 0.0,\n",
              "   'revenue': 0.0},\n",
              "  {'title': 'Notorious',\n",
              "   'release_date': Timestamp('1946-08-15 00:00:00'),\n",
              "   'ROI': 12.23,\n",
              "   'budget': 2000000.0,\n",
              "   'revenue': 24464742.0},\n",
              "  {'title': 'Spellbound',\n",
              "   'release_date': Timestamp('1945-12-28 00:00:00'),\n",
              "   'ROI': 4.67,\n",
              "   'budget': 1500000.0,\n",
              "   'revenue': 7000000.0},\n",
              "  {'title': 'To Catch a Thief',\n",
              "   'release_date': Timestamp('1955-08-03 00:00:00'),\n",
              "   'ROI': 3.5,\n",
              "   'budget': 2500000.0,\n",
              "   'revenue': 8750000.0},\n",
              "  {'title': 'The 39 Steps',\n",
              "   'release_date': Timestamp('1935-06-01 00:00:00'),\n",
              "   'ROI': 0.0,\n",
              "   'budget': 0.0,\n",
              "   'revenue': 0.0},\n",
              "  {'title': 'Dial M for Murder',\n",
              "   'release_date': Timestamp('1954-05-29 00:00:00'),\n",
              "   'ROI': 2.14,\n",
              "   'budget': 1400000.0,\n",
              "   'revenue': 3000000.0},\n",
              "  {'title': 'Psycho',\n",
              "   'release_date': Timestamp('1960-06-16 00:00:00'),\n",
              "   'ROI': 39.66,\n",
              "   'budget': 806948.0,\n",
              "   'revenue': 32000000.0},\n",
              "  {'title': 'The Birds',\n",
              "   'release_date': Timestamp('1963-03-28 00:00:00'),\n",
              "   'ROI': 4.56,\n",
              "   'budget': 2500000.0,\n",
              "   'revenue': 11403529.0},\n",
              "  {'title': 'Rope',\n",
              "   'release_date': Timestamp('1948-08-23 00:00:00'),\n",
              "   'ROI': 1.47,\n",
              "   'budget': 1500000.0,\n",
              "   'revenue': 2200000.0},\n",
              "  {'title': 'Family Plot',\n",
              "   'release_date': Timestamp('1976-04-09 00:00:00'),\n",
              "   'ROI': 3.95,\n",
              "   'budget': 2000000.0,\n",
              "   'revenue': 7900000.0},\n",
              "  {'title': 'Frenzy',\n",
              "   'release_date': Timestamp('1972-05-25 00:00:00'),\n",
              "   'ROI': 3.6,\n",
              "   'budget': 3500000.0,\n",
              "   'revenue': 12600000.0},\n",
              "  {'title': 'Topaz',\n",
              "   'release_date': Timestamp('1969-12-18 00:00:00'),\n",
              "   'ROI': 1.5,\n",
              "   'budget': 4000000.0,\n",
              "   'revenue': 6000000.0},\n",
              "  {'title': 'Torn Curtain',\n",
              "   'release_date': Timestamp('1966-07-13 00:00:00'),\n",
              "   'ROI': 4.33,\n",
              "   'budget': 3000000.0,\n",
              "   'revenue': 13000000.0},\n",
              "  {'title': 'Marnie',\n",
              "   'release_date': Timestamp('1964-07-09 00:00:00'),\n",
              "   'ROI': 3.28,\n",
              "   'budget': 2135161.0,\n",
              "   'revenue': 7000000.0},\n",
              "  {'title': 'The Wrong Man',\n",
              "   'release_date': Timestamp('1956-12-22 00:00:00'),\n",
              "   'ROI': 1.67,\n",
              "   'budget': 1200000.0,\n",
              "   'revenue': 2000000.0},\n",
              "  {'title': 'The Man Who Knew Too Much',\n",
              "   'release_date': Timestamp('1956-06-01 00:00:00'),\n",
              "   'ROI': 4.1,\n",
              "   'budget': 2500000.0,\n",
              "   'revenue': 10250000.0},\n",
              "  {'title': 'The Trouble with Harry',\n",
              "   'release_date': Timestamp('1955-10-03 00:00:00'),\n",
              "   'ROI': 5.83,\n",
              "   'budget': 1200000.0,\n",
              "   'revenue': 7000000.0},\n",
              "  {'title': 'I Confess',\n",
              "   'release_date': Timestamp('1953-02-28 00:00:00'),\n",
              "   'ROI': 0.0,\n",
              "   'budget': 0.0,\n",
              "   'revenue': 0.0},\n",
              "  {'title': 'Strangers on a Train',\n",
              "   'release_date': Timestamp('1951-06-18 00:00:00'),\n",
              "   'ROI': 5.83,\n",
              "   'budget': 1200000.0,\n",
              "   'revenue': 7000000.0},\n",
              "  {'title': 'Stage Fright',\n",
              "   'release_date': Timestamp('1950-02-23 00:00:00'),\n",
              "   'ROI': 0.0,\n",
              "   'budget': 0.0,\n",
              "   'revenue': 0.0},\n",
              "  {'title': 'Under Capricorn',\n",
              "   'release_date': Timestamp('1949-09-08 00:00:00'),\n",
              "   'ROI': 0.0,\n",
              "   'budget': 0.0,\n",
              "   'revenue': 0.0},\n",
              "  {'title': 'The Paradine Case',\n",
              "   'release_date': Timestamp('1947-12-31 00:00:00'),\n",
              "   'ROI': 0.0,\n",
              "   'budget': 4258000.0,\n",
              "   'revenue': 0.0},\n",
              "  {'title': 'Lifeboat',\n",
              "   'release_date': Timestamp('1944-01-11 00:00:00'),\n",
              "   'ROI': 0.0,\n",
              "   'budget': 1590000.0,\n",
              "   'revenue': 0.0},\n",
              "  {'title': 'Shadow of a Doubt',\n",
              "   'release_date': Timestamp('1943-01-16 00:00:00'),\n",
              "   'ROI': 0.0,\n",
              "   'budget': 0.0,\n",
              "   'revenue': 0.0},\n",
              "  {'title': 'Saboteur',\n",
              "   'release_date': Timestamp('1942-04-24 00:00:00'),\n",
              "   'ROI': 0.0,\n",
              "   'budget': 0.0,\n",
              "   'revenue': 0.0},\n",
              "  {'title': 'Mr. & Mrs. Smith',\n",
              "   'release_date': Timestamp('1941-01-30 00:00:00'),\n",
              "   'ROI': 0.0,\n",
              "   'budget': 0.0,\n",
              "   'revenue': 0.0},\n",
              "  {'title': 'Suspicion',\n",
              "   'release_date': Timestamp('1941-11-14 00:00:00'),\n",
              "   'ROI': 4.08,\n",
              "   'budget': 1103000.0,\n",
              "   'revenue': 4500000.0},\n",
              "  {'title': 'Jamaica Inn',\n",
              "   'release_date': Timestamp('1939-05-11 00:00:00'),\n",
              "   'ROI': 0.0,\n",
              "   'budget': 0.0,\n",
              "   'revenue': 0.0},\n",
              "  {'title': 'The Lady Vanishes',\n",
              "   'release_date': Timestamp('1938-07-26 00:00:00'),\n",
              "   'ROI': 0.0,\n",
              "   'budget': 0.0,\n",
              "   'revenue': 0.0},\n",
              "  {'title': 'Young and Innocent',\n",
              "   'release_date': Timestamp('1937-11-01 00:00:00'),\n",
              "   'ROI': 0.0,\n",
              "   'budget': 0.0,\n",
              "   'revenue': 0.0},\n",
              "  {'title': 'Sabotage',\n",
              "   'release_date': Timestamp('1936-12-02 00:00:00'),\n",
              "   'ROI': 0.0,\n",
              "   'budget': 0.0,\n",
              "   'revenue': 0.0},\n",
              "  {'title': 'Secret Agent',\n",
              "   'release_date': Timestamp('1936-06-12 00:00:00'),\n",
              "   'ROI': 0.0,\n",
              "   'budget': 0.0,\n",
              "   'revenue': 0.0},\n",
              "  {'title': 'The Man Who Knew Too Much',\n",
              "   'release_date': Timestamp('1934-11-30 00:00:00'),\n",
              "   'ROI': 0.0,\n",
              "   'budget': 0.0,\n",
              "   'revenue': 0.0},\n",
              "  {'title': 'Waltzes from Vienna',\n",
              "   'release_date': Timestamp('1934-01-31 00:00:00'),\n",
              "   'ROI': 0.0,\n",
              "   'budget': 0.0,\n",
              "   'revenue': 0.0},\n",
              "  {'title': 'Number Seventeen',\n",
              "   'release_date': Timestamp('1932-07-18 00:00:00'),\n",
              "   'ROI': 0.0,\n",
              "   'budget': 0.0,\n",
              "   'revenue': 0.0},\n",
              "  {'title': 'Rich and Strange',\n",
              "   'release_date': Timestamp('1931-12-10 00:00:00'),\n",
              "   'ROI': 0.0,\n",
              "   'budget': 0.0,\n",
              "   'revenue': 0.0},\n",
              "  {'title': 'The Skin Game',\n",
              "   'release_date': Timestamp('1931-02-26 00:00:00'),\n",
              "   'ROI': 0.0,\n",
              "   'budget': 0.0,\n",
              "   'revenue': 0.0},\n",
              "  {'title': 'Elstree Calling',\n",
              "   'release_date': Timestamp('1930-02-01 00:00:00'),\n",
              "   'ROI': 0.0,\n",
              "   'budget': 0.0,\n",
              "   'revenue': 0.0},\n",
              "  {'title': 'Juno and the Paycock',\n",
              "   'release_date': Timestamp('1930-06-29 00:00:00'),\n",
              "   'ROI': 0.0,\n",
              "   'budget': 0.0,\n",
              "   'revenue': 0.0},\n",
              "  {'title': 'Murder!',\n",
              "   'release_date': Timestamp('1930-07-31 00:00:00'),\n",
              "   'ROI': 0.0,\n",
              "   'budget': 0.0,\n",
              "   'revenue': 0.0},\n",
              "  {'title': 'The Manxman',\n",
              "   'release_date': Timestamp('1929-01-21 00:00:00'),\n",
              "   'ROI': 0.0,\n",
              "   'budget': 0.0,\n",
              "   'revenue': 0.0},\n",
              "  {'title': 'Blackmail',\n",
              "   'release_date': Timestamp('1929-06-30 00:00:00'),\n",
              "   'ROI': 0.0,\n",
              "   'budget': 0.0,\n",
              "   'revenue': 0.0},\n",
              "  {'title': 'Champagne',\n",
              "   'release_date': Timestamp('1928-08-19 00:00:00'),\n",
              "   'ROI': 0.0,\n",
              "   'budget': 0.0,\n",
              "   'revenue': 0.0},\n",
              "  {'title': 'Downhill',\n",
              "   'release_date': Timestamp('1927-10-24 00:00:00'),\n",
              "   'ROI': 0.0,\n",
              "   'budget': 0.0,\n",
              "   'revenue': 0.0},\n",
              "  {'title': 'Easy Virtue',\n",
              "   'release_date': Timestamp('1928-03-05 00:00:00'),\n",
              "   'ROI': 0.0,\n",
              "   'budget': 0.0,\n",
              "   'revenue': 0.0},\n",
              "  {'title': 'The Ring',\n",
              "   'release_date': Timestamp('1927-10-01 00:00:00'),\n",
              "   'ROI': 0.0,\n",
              "   'budget': 0.0,\n",
              "   'revenue': 0.0},\n",
              "  {'title': 'The Lodger: A Story of the London Fog',\n",
              "   'release_date': Timestamp('1927-02-14 00:00:00'),\n",
              "   'ROI': 0.0,\n",
              "   'budget': 12000.0,\n",
              "   'revenue': 0.0},\n",
              "  {'title': 'The Pleasure Garden',\n",
              "   'release_date': Timestamp('1925-11-03 00:00:00'),\n",
              "   'ROI': 0.0,\n",
              "   'budget': 0.0,\n",
              "   'revenue': 0.0},\n",
              "  {'title': 'All Nighter',\n",
              "   'release_date': Timestamp('2017-03-10 00:00:00'),\n",
              "   'ROI': 0.0,\n",
              "   'budget': 0.0,\n",
              "   'revenue': 0.0}]]"
            ]
          },
          "execution_count": 78,
          "metadata": {},
          "output_type": "execute_result"
        }
      ],
      "source": [
        "get_director('Alfred Hitchcock')"
      ]
    },
    {
      "cell_type": "code",
      "execution_count": 79,
      "metadata": {},
      "outputs": [
        {
          "name": "stdout",
          "output_type": "stream",
          "text": [
            "<class 'pandas.core.frame.DataFrame'>\n",
            "RangeIndex: 45466 entries, 0 to 45465\n",
            "Data columns (total 22 columns):\n",
            " #   Column                 Non-Null Count  Dtype         \n",
            "---  ------                 --------------  -----         \n",
            " 0   belongs_to_collection  45466 non-null  object        \n",
            " 1   budget                 45466 non-null  float64       \n",
            " 2   genres                 45466 non-null  object        \n",
            " 3   id                     45466 non-null  object        \n",
            " 4   original_language      45466 non-null  object        \n",
            " 5   overview               45466 non-null  object        \n",
            " 6   popularity             45466 non-null  object        \n",
            " 7   production_companies   45466 non-null  object        \n",
            " 8   production_countries   45466 non-null  object        \n",
            " 9   release_date           45466 non-null  datetime64[ns]\n",
            " 10  revenue                45466 non-null  float64       \n",
            " 11  runtime                45203 non-null  float64       \n",
            " 12  spoken_languages       45466 non-null  object        \n",
            " 13  status                 45379 non-null  object        \n",
            " 14  tagline                20412 non-null  object        \n",
            " 15  title                  45466 non-null  object        \n",
            " 16  vote_average           45466 non-null  float64       \n",
            " 17  vote_count             45466 non-null  float64       \n",
            " 18  release_year           45466 non-null  float64       \n",
            " 19  ROI                    45466 non-null  float64       \n",
            " 20  actors                 45466 non-null  object        \n",
            " 21  director               45466 non-null  object        \n",
            "dtypes: datetime64[ns](1), float64(7), object(14)\n",
            "memory usage: 7.6+ MB\n"
          ]
        }
      ],
      "source": [
        "df_movies.info()\n"
      ]
    },
    {
      "attachments": {},
      "cell_type": "markdown",
      "metadata": {},
      "source": [
        "# BEGIN THE JOURNEY"
      ]
    },
    {
      "cell_type": "code",
      "execution_count": 80,
      "metadata": {},
      "outputs": [],
      "source": [
        "df_movies.to_csv('movies_finalversion.csv')"
      ]
    },
    {
      "cell_type": "code",
      "execution_count": 82,
      "metadata": {},
      "outputs": [
        {
          "name": "stdout",
          "output_type": "stream",
          "text": [
            "<class 'pandas._libs.tslibs.timestamps.Timestamp'>\n"
          ]
        }
      ],
      "source": [
        "print(type(df_movies['release_date'][0]))"
      ]
    }
  ],
  "metadata": {
    "colab": {
      "provenance": []
    },
    "kernelspec": {
      "display_name": "Python 3",
      "name": "python3"
    },
    "language_info": {
      "codemirror_mode": {
        "name": "ipython",
        "version": 3
      },
      "file_extension": ".py",
      "mimetype": "text/x-python",
      "name": "python",
      "nbconvert_exporter": "python",
      "pygments_lexer": "ipython3",
      "version": "3.10.2"
    }
  },
  "nbformat": 4,
  "nbformat_minor": 0
}
